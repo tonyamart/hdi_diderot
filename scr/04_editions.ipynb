{
 "cells": [
  {
   "cell_type": "markdown",
   "id": "f68f79cb",
   "metadata": {},
   "source": [
    "## Testing fragments from different editions"
   ]
  },
  {
   "cell_type": "code",
   "execution_count": 92,
   "id": "d4e9ddb9",
   "metadata": {},
   "outputs": [],
   "source": [
    "import pandas as pd\n",
    "import numpy as np\n",
    "\n",
    "import re\n",
    "\n",
    "from sklearn.preprocessing import StandardScaler\n",
    "\n",
    "import logging\n",
    "\n",
    "logging.basicConfig(level=\"INFO\")\n",
    "logger = logging.getLogger(\"ruzicka\")\n",
    "\n",
    "from ruzicka.BDIVerifier import BDIVerifier"
   ]
  },
  {
   "cell_type": "code",
   "execution_count": 119,
   "id": "e76dc2f5",
   "metadata": {},
   "outputs": [
    {
     "data": {
      "text/html": [
       "<div>\n",
       "<style scoped>\n",
       "    .dataframe tbody tr th:only-of-type {\n",
       "        vertical-align: middle;\n",
       "    }\n",
       "\n",
       "    .dataframe tbody tr th {\n",
       "        vertical-align: top;\n",
       "    }\n",
       "\n",
       "    .dataframe thead th {\n",
       "        text-align: right;\n",
       "    }\n",
       "</style>\n",
       "<table border=\"1\" class=\"dataframe\">\n",
       "  <thead>\n",
       "    <tr style=\"text-align: right;\">\n",
       "      <th></th>\n",
       "      <th>work</th>\n",
       "      <th>author</th>\n",
       "      <th>chunk_num</th>\n",
       "      <th>tag</th>\n",
       "      <th>de</th>\n",
       "      <th>des</th>\n",
       "      <th>et</th>\n",
       "      <th>la</th>\n",
       "      <th>les</th>\n",
       "      <th>vous</th>\n",
       "      <th>...</th>\n",
       "      <th>voit</th>\n",
       "      <th>rendre</th>\n",
       "      <th>beaucoup</th>\n",
       "      <th>seul</th>\n",
       "      <th>ici</th>\n",
       "      <th>mieux</th>\n",
       "      <th>donner</th>\n",
       "      <th>enfin</th>\n",
       "      <th>voir</th>\n",
       "      <th>cependant</th>\n",
       "    </tr>\n",
       "  </thead>\n",
       "  <tbody>\n",
       "    <tr>\n",
       "      <th>0</th>\n",
       "      <td>Avis</td>\n",
       "      <td>Baudeau</td>\n",
       "      <td>0</td>\n",
       "      <td>0__Baudeau_Avis</td>\n",
       "      <td>3.45</td>\n",
       "      <td>2.20</td>\n",
       "      <td>2.50</td>\n",
       "      <td>1.40</td>\n",
       "      <td>2.35</td>\n",
       "      <td>0.65</td>\n",
       "      <td>...</td>\n",
       "      <td>0.05</td>\n",
       "      <td>0.00</td>\n",
       "      <td>0.05</td>\n",
       "      <td>0.05</td>\n",
       "      <td>0.05</td>\n",
       "      <td>0.00</td>\n",
       "      <td>0.05</td>\n",
       "      <td>0.20</td>\n",
       "      <td>0.00</td>\n",
       "      <td>0.00</td>\n",
       "    </tr>\n",
       "    <tr>\n",
       "      <th>1</th>\n",
       "      <td>Eclaircissemens</td>\n",
       "      <td>Baudeau</td>\n",
       "      <td>0</td>\n",
       "      <td>0__Baudeau_Eclaircissemens</td>\n",
       "      <td>4.40</td>\n",
       "      <td>2.85</td>\n",
       "      <td>2.80</td>\n",
       "      <td>2.60</td>\n",
       "      <td>2.40</td>\n",
       "      <td>1.65</td>\n",
       "      <td>...</td>\n",
       "      <td>0.05</td>\n",
       "      <td>0.00</td>\n",
       "      <td>0.00</td>\n",
       "      <td>0.05</td>\n",
       "      <td>0.00</td>\n",
       "      <td>0.00</td>\n",
       "      <td>0.05</td>\n",
       "      <td>0.00</td>\n",
       "      <td>0.00</td>\n",
       "      <td>0.00</td>\n",
       "    </tr>\n",
       "    <tr>\n",
       "      <th>2</th>\n",
       "      <td>Explication</td>\n",
       "      <td>Baudeau</td>\n",
       "      <td>0</td>\n",
       "      <td>0__Baudeau_Explication</td>\n",
       "      <td>4.90</td>\n",
       "      <td>2.60</td>\n",
       "      <td>3.80</td>\n",
       "      <td>3.10</td>\n",
       "      <td>4.65</td>\n",
       "      <td>0.95</td>\n",
       "      <td>...</td>\n",
       "      <td>0.00</td>\n",
       "      <td>0.00</td>\n",
       "      <td>0.05</td>\n",
       "      <td>0.10</td>\n",
       "      <td>0.10</td>\n",
       "      <td>0.00</td>\n",
       "      <td>0.05</td>\n",
       "      <td>0.05</td>\n",
       "      <td>0.05</td>\n",
       "      <td>0.00</td>\n",
       "    </tr>\n",
       "    <tr>\n",
       "      <th>3</th>\n",
       "      <td>Idees sur l-administration</td>\n",
       "      <td>Baudeau</td>\n",
       "      <td>0</td>\n",
       "      <td>0__Baudeau_Idees sur l-administration</td>\n",
       "      <td>5.60</td>\n",
       "      <td>1.90</td>\n",
       "      <td>2.20</td>\n",
       "      <td>3.65</td>\n",
       "      <td>1.85</td>\n",
       "      <td>0.10</td>\n",
       "      <td>...</td>\n",
       "      <td>0.00</td>\n",
       "      <td>0.00</td>\n",
       "      <td>0.10</td>\n",
       "      <td>0.10</td>\n",
       "      <td>0.00</td>\n",
       "      <td>0.05</td>\n",
       "      <td>0.05</td>\n",
       "      <td>0.10</td>\n",
       "      <td>0.00</td>\n",
       "      <td>0.05</td>\n",
       "    </tr>\n",
       "    <tr>\n",
       "      <th>4</th>\n",
       "      <td>Idees sur la puissance</td>\n",
       "      <td>Baudeau</td>\n",
       "      <td>0</td>\n",
       "      <td>0__Baudeau_Idees sur la puissance</td>\n",
       "      <td>4.90</td>\n",
       "      <td>1.85</td>\n",
       "      <td>2.50</td>\n",
       "      <td>2.35</td>\n",
       "      <td>2.75</td>\n",
       "      <td>0.10</td>\n",
       "      <td>...</td>\n",
       "      <td>0.00</td>\n",
       "      <td>0.10</td>\n",
       "      <td>0.05</td>\n",
       "      <td>0.00</td>\n",
       "      <td>0.00</td>\n",
       "      <td>0.10</td>\n",
       "      <td>0.00</td>\n",
       "      <td>0.10</td>\n",
       "      <td>0.05</td>\n",
       "      <td>0.00</td>\n",
       "    </tr>\n",
       "    <tr>\n",
       "      <th>...</th>\n",
       "      <td>...</td>\n",
       "      <td>...</td>\n",
       "      <td>...</td>\n",
       "      <td>...</td>\n",
       "      <td>...</td>\n",
       "      <td>...</td>\n",
       "      <td>...</td>\n",
       "      <td>...</td>\n",
       "      <td>...</td>\n",
       "      <td>...</td>\n",
       "      <td>...</td>\n",
       "      <td>...</td>\n",
       "      <td>...</td>\n",
       "      <td>...</td>\n",
       "      <td>...</td>\n",
       "      <td>...</td>\n",
       "      <td>...</td>\n",
       "      <td>...</td>\n",
       "      <td>...</td>\n",
       "      <td>...</td>\n",
       "      <td>...</td>\n",
       "    </tr>\n",
       "    <tr>\n",
       "      <th>4469</th>\n",
       "      <td>elements T3</td>\n",
       "      <td>Marmontel</td>\n",
       "      <td>96</td>\n",
       "      <td>96__Marmontel_elements T3</td>\n",
       "      <td>4.15</td>\n",
       "      <td>1.20</td>\n",
       "      <td>3.35</td>\n",
       "      <td>3.00</td>\n",
       "      <td>1.15</td>\n",
       "      <td>0.00</td>\n",
       "      <td>...</td>\n",
       "      <td>0.05</td>\n",
       "      <td>0.10</td>\n",
       "      <td>0.00</td>\n",
       "      <td>0.25</td>\n",
       "      <td>0.00</td>\n",
       "      <td>0.05</td>\n",
       "      <td>0.05</td>\n",
       "      <td>0.05</td>\n",
       "      <td>0.00</td>\n",
       "      <td>0.00</td>\n",
       "    </tr>\n",
       "    <tr>\n",
       "      <th>4470</th>\n",
       "      <td>Histoire Generale T19</td>\n",
       "      <td>Deleyre</td>\n",
       "      <td>97</td>\n",
       "      <td>97__Deleyre_Histoire Generale T19</td>\n",
       "      <td>5.25</td>\n",
       "      <td>1.85</td>\n",
       "      <td>0.75</td>\n",
       "      <td>3.75</td>\n",
       "      <td>2.65</td>\n",
       "      <td>0.00</td>\n",
       "      <td>...</td>\n",
       "      <td>0.00</td>\n",
       "      <td>0.05</td>\n",
       "      <td>0.05</td>\n",
       "      <td>0.00</td>\n",
       "      <td>0.00</td>\n",
       "      <td>0.00</td>\n",
       "      <td>0.00</td>\n",
       "      <td>0.00</td>\n",
       "      <td>0.00</td>\n",
       "      <td>0.00</td>\n",
       "    </tr>\n",
       "    <tr>\n",
       "      <th>4471</th>\n",
       "      <td>elements T3</td>\n",
       "      <td>Marmontel</td>\n",
       "      <td>97</td>\n",
       "      <td>97__Marmontel_elements T3</td>\n",
       "      <td>4.60</td>\n",
       "      <td>0.95</td>\n",
       "      <td>3.10</td>\n",
       "      <td>3.40</td>\n",
       "      <td>1.55</td>\n",
       "      <td>0.00</td>\n",
       "      <td>...</td>\n",
       "      <td>0.00</td>\n",
       "      <td>0.10</td>\n",
       "      <td>0.00</td>\n",
       "      <td>0.00</td>\n",
       "      <td>0.00</td>\n",
       "      <td>0.00</td>\n",
       "      <td>0.05</td>\n",
       "      <td>0.00</td>\n",
       "      <td>0.00</td>\n",
       "      <td>0.00</td>\n",
       "    </tr>\n",
       "    <tr>\n",
       "      <th>4472</th>\n",
       "      <td>Histoire Generale T19</td>\n",
       "      <td>Deleyre</td>\n",
       "      <td>98</td>\n",
       "      <td>98__Deleyre_Histoire Generale T19</td>\n",
       "      <td>4.90</td>\n",
       "      <td>2.95</td>\n",
       "      <td>0.75</td>\n",
       "      <td>3.25</td>\n",
       "      <td>3.20</td>\n",
       "      <td>0.05</td>\n",
       "      <td>...</td>\n",
       "      <td>0.05</td>\n",
       "      <td>0.00</td>\n",
       "      <td>0.20</td>\n",
       "      <td>0.00</td>\n",
       "      <td>0.00</td>\n",
       "      <td>0.05</td>\n",
       "      <td>0.00</td>\n",
       "      <td>0.00</td>\n",
       "      <td>0.05</td>\n",
       "      <td>0.05</td>\n",
       "    </tr>\n",
       "    <tr>\n",
       "      <th>4473</th>\n",
       "      <td>Histoire Generale T19</td>\n",
       "      <td>Deleyre</td>\n",
       "      <td>99</td>\n",
       "      <td>99__Deleyre_Histoire Generale T19</td>\n",
       "      <td>5.55</td>\n",
       "      <td>2.45</td>\n",
       "      <td>0.30</td>\n",
       "      <td>2.70</td>\n",
       "      <td>3.40</td>\n",
       "      <td>0.00</td>\n",
       "      <td>...</td>\n",
       "      <td>0.05</td>\n",
       "      <td>0.00</td>\n",
       "      <td>0.00</td>\n",
       "      <td>0.00</td>\n",
       "      <td>0.00</td>\n",
       "      <td>0.00</td>\n",
       "      <td>0.00</td>\n",
       "      <td>0.15</td>\n",
       "      <td>0.00</td>\n",
       "      <td>0.10</td>\n",
       "    </tr>\n",
       "  </tbody>\n",
       "</table>\n",
       "<p>4474 rows × 204 columns</p>\n",
       "</div>"
      ],
      "text/plain": [
       "                            work     author  chunk_num  \\\n",
       "0                          Avis     Baudeau          0   \n",
       "1                Eclaircissemens    Baudeau          0   \n",
       "2                    Explication    Baudeau          0   \n",
       "3     Idees sur l-administration    Baudeau          0   \n",
       "4         Idees sur la puissance    Baudeau          0   \n",
       "...                          ...        ...        ...   \n",
       "4469                 elements T3  Marmontel         96   \n",
       "4470       Histoire Generale T19    Deleyre         97   \n",
       "4471                 elements T3  Marmontel         97   \n",
       "4472       Histoire Generale T19    Deleyre         98   \n",
       "4473       Histoire Generale T19    Deleyre         99   \n",
       "\n",
       "                                        tag    de   des    et    la   les  \\\n",
       "0                          0__Baudeau_Avis   3.45  2.20  2.50  1.40  2.35   \n",
       "1                0__Baudeau_Eclaircissemens  4.40  2.85  2.80  2.60  2.40   \n",
       "2                    0__Baudeau_Explication  4.90  2.60  3.80  3.10  4.65   \n",
       "3     0__Baudeau_Idees sur l-administration  5.60  1.90  2.20  3.65  1.85   \n",
       "4         0__Baudeau_Idees sur la puissance  4.90  1.85  2.50  2.35  2.75   \n",
       "...                                     ...   ...   ...   ...   ...   ...   \n",
       "4469              96__Marmontel_elements T3  4.15  1.20  3.35  3.00  1.15   \n",
       "4470      97__Deleyre_Histoire Generale T19  5.25  1.85  0.75  3.75  2.65   \n",
       "4471              97__Marmontel_elements T3  4.60  0.95  3.10  3.40  1.55   \n",
       "4472      98__Deleyre_Histoire Generale T19  4.90  2.95  0.75  3.25  3.20   \n",
       "4473      99__Deleyre_Histoire Generale T19  5.55  2.45  0.30  2.70  3.40   \n",
       "\n",
       "      vous  ...  voit  rendre  beaucoup  seul   ici  mieux  donner  enfin  \\\n",
       "0     0.65  ...  0.05    0.00      0.05  0.05  0.05   0.00    0.05   0.20   \n",
       "1     1.65  ...  0.05    0.00      0.00  0.05  0.00   0.00    0.05   0.00   \n",
       "2     0.95  ...  0.00    0.00      0.05  0.10  0.10   0.00    0.05   0.05   \n",
       "3     0.10  ...  0.00    0.00      0.10  0.10  0.00   0.05    0.05   0.10   \n",
       "4     0.10  ...  0.00    0.10      0.05  0.00  0.00   0.10    0.00   0.10   \n",
       "...    ...  ...   ...     ...       ...   ...   ...    ...     ...    ...   \n",
       "4469  0.00  ...  0.05    0.10      0.00  0.25  0.00   0.05    0.05   0.05   \n",
       "4470  0.00  ...  0.00    0.05      0.05  0.00  0.00   0.00    0.00   0.00   \n",
       "4471  0.00  ...  0.00    0.10      0.00  0.00  0.00   0.00    0.05   0.00   \n",
       "4472  0.05  ...  0.05    0.00      0.20  0.00  0.00   0.05    0.00   0.00   \n",
       "4473  0.00  ...  0.05    0.00      0.00  0.00  0.00   0.00    0.00   0.15   \n",
       "\n",
       "      voir  cependant  \n",
       "0     0.00       0.00  \n",
       "1     0.00       0.00  \n",
       "2     0.05       0.00  \n",
       "3     0.00       0.05  \n",
       "4     0.05       0.00  \n",
       "...    ...        ...  \n",
       "4469  0.00       0.00  \n",
       "4470  0.00       0.00  \n",
       "4471  0.00       0.00  \n",
       "4472  0.05       0.05  \n",
       "4473  0.00       0.10  \n",
       "\n",
       "[4474 rows x 204 columns]"
      ]
     },
     "execution_count": 119,
     "metadata": {},
     "output_type": "execute_result"
    }
   ],
   "source": [
    "# load preprocessed data\n",
    "\n",
    "corpus = pd.read_csv('04_tests/ed1780_2k_200mfw_rfreq.csv') # rel freq\n",
    "\n",
    "corpus"
   ]
  },
  {
   "cell_type": "code",
   "execution_count": 120,
   "id": "11d0c627",
   "metadata": {},
   "outputs": [
    {
     "data": {
      "text/html": [
       "<div>\n",
       "<style scoped>\n",
       "    .dataframe tbody tr th:only-of-type {\n",
       "        vertical-align: middle;\n",
       "    }\n",
       "\n",
       "    .dataframe tbody tr th {\n",
       "        vertical-align: top;\n",
       "    }\n",
       "\n",
       "    .dataframe thead th {\n",
       "        text-align: right;\n",
       "    }\n",
       "</style>\n",
       "<table border=\"1\" class=\"dataframe\">\n",
       "  <thead>\n",
       "    <tr style=\"text-align: right;\">\n",
       "      <th></th>\n",
       "      <th>work</th>\n",
       "      <th>author</th>\n",
       "      <th>chunk_num</th>\n",
       "      <th>tag</th>\n",
       "    </tr>\n",
       "  </thead>\n",
       "  <tbody>\n",
       "    <tr>\n",
       "      <th>0</th>\n",
       "      <td>Avis</td>\n",
       "      <td>Baudeau</td>\n",
       "      <td>0</td>\n",
       "      <td>0__Baudeau_Avis</td>\n",
       "    </tr>\n",
       "    <tr>\n",
       "      <th>1</th>\n",
       "      <td>Eclaircissemens</td>\n",
       "      <td>Baudeau</td>\n",
       "      <td>0</td>\n",
       "      <td>0__Baudeau_Eclaircissemens</td>\n",
       "    </tr>\n",
       "    <tr>\n",
       "      <th>2</th>\n",
       "      <td>Explication</td>\n",
       "      <td>Baudeau</td>\n",
       "      <td>0</td>\n",
       "      <td>0__Baudeau_Explication</td>\n",
       "    </tr>\n",
       "    <tr>\n",
       "      <th>3</th>\n",
       "      <td>Idees sur l-administration</td>\n",
       "      <td>Baudeau</td>\n",
       "      <td>0</td>\n",
       "      <td>0__Baudeau_Idees sur l-administration</td>\n",
       "    </tr>\n",
       "    <tr>\n",
       "      <th>4</th>\n",
       "      <td>Idees sur la puissance</td>\n",
       "      <td>Baudeau</td>\n",
       "      <td>0</td>\n",
       "      <td>0__Baudeau_Idees sur la puissance</td>\n",
       "    </tr>\n",
       "    <tr>\n",
       "      <th>...</th>\n",
       "      <td>...</td>\n",
       "      <td>...</td>\n",
       "      <td>...</td>\n",
       "      <td>...</td>\n",
       "    </tr>\n",
       "    <tr>\n",
       "      <th>4469</th>\n",
       "      <td>elements T3</td>\n",
       "      <td>Marmontel</td>\n",
       "      <td>96</td>\n",
       "      <td>96__Marmontel_elements T3</td>\n",
       "    </tr>\n",
       "    <tr>\n",
       "      <th>4470</th>\n",
       "      <td>Histoire Generale T19</td>\n",
       "      <td>Deleyre</td>\n",
       "      <td>97</td>\n",
       "      <td>97__Deleyre_Histoire Generale T19</td>\n",
       "    </tr>\n",
       "    <tr>\n",
       "      <th>4471</th>\n",
       "      <td>elements T3</td>\n",
       "      <td>Marmontel</td>\n",
       "      <td>97</td>\n",
       "      <td>97__Marmontel_elements T3</td>\n",
       "    </tr>\n",
       "    <tr>\n",
       "      <th>4472</th>\n",
       "      <td>Histoire Generale T19</td>\n",
       "      <td>Deleyre</td>\n",
       "      <td>98</td>\n",
       "      <td>98__Deleyre_Histoire Generale T19</td>\n",
       "    </tr>\n",
       "    <tr>\n",
       "      <th>4473</th>\n",
       "      <td>Histoire Generale T19</td>\n",
       "      <td>Deleyre</td>\n",
       "      <td>99</td>\n",
       "      <td>99__Deleyre_Histoire Generale T19</td>\n",
       "    </tr>\n",
       "  </tbody>\n",
       "</table>\n",
       "<p>4474 rows × 4 columns</p>\n",
       "</div>"
      ],
      "text/plain": [
       "                            work     author  chunk_num  \\\n",
       "0                          Avis     Baudeau          0   \n",
       "1                Eclaircissemens    Baudeau          0   \n",
       "2                    Explication    Baudeau          0   \n",
       "3     Idees sur l-administration    Baudeau          0   \n",
       "4         Idees sur la puissance    Baudeau          0   \n",
       "...                          ...        ...        ...   \n",
       "4469                 elements T3  Marmontel         96   \n",
       "4470       Histoire Generale T19    Deleyre         97   \n",
       "4471                 elements T3  Marmontel         97   \n",
       "4472       Histoire Generale T19    Deleyre         98   \n",
       "4473       Histoire Generale T19    Deleyre         99   \n",
       "\n",
       "                                        tag  \n",
       "0                          0__Baudeau_Avis   \n",
       "1                0__Baudeau_Eclaircissemens  \n",
       "2                    0__Baudeau_Explication  \n",
       "3     0__Baudeau_Idees sur l-administration  \n",
       "4         0__Baudeau_Idees sur la puissance  \n",
       "...                                     ...  \n",
       "4469              96__Marmontel_elements T3  \n",
       "4470      97__Deleyre_Histoire Generale T19  \n",
       "4471              97__Marmontel_elements T3  \n",
       "4472      98__Deleyre_Histoire Generale T19  \n",
       "4473      99__Deleyre_Histoire Generale T19  \n",
       "\n",
       "[4474 rows x 4 columns]"
      ]
     },
     "execution_count": 120,
     "metadata": {},
     "output_type": "execute_result"
    }
   ],
   "source": [
    "raw_df = corpus.iloc[:, :4] # leaves metadata\n",
    "X = corpus.iloc[:, 4:] # leaves only word columns\n",
    "\n",
    "raw_df"
   ]
  },
  {
   "cell_type": "code",
   "execution_count": 121,
   "id": "cc4412d3",
   "metadata": {},
   "outputs": [
    {
     "data": {
      "text/plain": [
       "(4474, 200)"
      ]
     },
     "execution_count": 121,
     "metadata": {},
     "output_type": "execute_result"
    }
   ],
   "source": [
    "# numer of rows and columns in the X (word frequencies subset)\n",
    "X.shape"
   ]
  },
  {
   "cell_type": "code",
   "execution_count": 122,
   "id": "192d560e",
   "metadata": {
    "scrolled": false
   },
   "outputs": [
    {
     "data": {
      "text/html": [
       "<div>\n",
       "<style scoped>\n",
       "    .dataframe tbody tr th:only-of-type {\n",
       "        vertical-align: middle;\n",
       "    }\n",
       "\n",
       "    .dataframe tbody tr th {\n",
       "        vertical-align: top;\n",
       "    }\n",
       "\n",
       "    .dataframe thead th {\n",
       "        text-align: right;\n",
       "    }\n",
       "</style>\n",
       "<table border=\"1\" class=\"dataframe\">\n",
       "  <thead>\n",
       "    <tr style=\"text-align: right;\">\n",
       "      <th></th>\n",
       "      <th>work</th>\n",
       "      <th>author_label</th>\n",
       "      <th>author</th>\n",
       "      <th>chunk_num</th>\n",
       "      <th>tag</th>\n",
       "    </tr>\n",
       "  </thead>\n",
       "  <tbody>\n",
       "    <tr>\n",
       "      <th>0</th>\n",
       "      <td>Avis</td>\n",
       "      <td>0</td>\n",
       "      <td>Baudeau</td>\n",
       "      <td>0</td>\n",
       "      <td>0__Baudeau_Avis</td>\n",
       "    </tr>\n",
       "    <tr>\n",
       "      <th>1</th>\n",
       "      <td>Eclaircissemens</td>\n",
       "      <td>0</td>\n",
       "      <td>Baudeau</td>\n",
       "      <td>0</td>\n",
       "      <td>0__Baudeau_Eclaircissemens</td>\n",
       "    </tr>\n",
       "    <tr>\n",
       "      <th>2</th>\n",
       "      <td>Explication</td>\n",
       "      <td>0</td>\n",
       "      <td>Baudeau</td>\n",
       "      <td>0</td>\n",
       "      <td>0__Baudeau_Explication</td>\n",
       "    </tr>\n",
       "    <tr>\n",
       "      <th>3</th>\n",
       "      <td>Idees sur l-administration</td>\n",
       "      <td>0</td>\n",
       "      <td>Baudeau</td>\n",
       "      <td>0</td>\n",
       "      <td>0__Baudeau_Idees sur l-administration</td>\n",
       "    </tr>\n",
       "    <tr>\n",
       "      <th>4</th>\n",
       "      <td>Idees sur la puissance</td>\n",
       "      <td>0</td>\n",
       "      <td>Baudeau</td>\n",
       "      <td>0</td>\n",
       "      <td>0__Baudeau_Idees sur la puissance</td>\n",
       "    </tr>\n",
       "    <tr>\n",
       "      <th>...</th>\n",
       "      <td>...</td>\n",
       "      <td>...</td>\n",
       "      <td>...</td>\n",
       "      <td>...</td>\n",
       "      <td>...</td>\n",
       "    </tr>\n",
       "    <tr>\n",
       "      <th>4469</th>\n",
       "      <td>elements T3</td>\n",
       "      <td>11</td>\n",
       "      <td>Marmontel</td>\n",
       "      <td>96</td>\n",
       "      <td>96__Marmontel_elements T3</td>\n",
       "    </tr>\n",
       "    <tr>\n",
       "      <th>4470</th>\n",
       "      <td>Histoire Generale T19</td>\n",
       "      <td>3</td>\n",
       "      <td>Deleyre</td>\n",
       "      <td>97</td>\n",
       "      <td>97__Deleyre_Histoire Generale T19</td>\n",
       "    </tr>\n",
       "    <tr>\n",
       "      <th>4471</th>\n",
       "      <td>elements T3</td>\n",
       "      <td>11</td>\n",
       "      <td>Marmontel</td>\n",
       "      <td>97</td>\n",
       "      <td>97__Marmontel_elements T3</td>\n",
       "    </tr>\n",
       "    <tr>\n",
       "      <th>4472</th>\n",
       "      <td>Histoire Generale T19</td>\n",
       "      <td>3</td>\n",
       "      <td>Deleyre</td>\n",
       "      <td>98</td>\n",
       "      <td>98__Deleyre_Histoire Generale T19</td>\n",
       "    </tr>\n",
       "    <tr>\n",
       "      <th>4473</th>\n",
       "      <td>Histoire Generale T19</td>\n",
       "      <td>3</td>\n",
       "      <td>Deleyre</td>\n",
       "      <td>99</td>\n",
       "      <td>99__Deleyre_Histoire Generale T19</td>\n",
       "    </tr>\n",
       "  </tbody>\n",
       "</table>\n",
       "<p>4474 rows × 5 columns</p>\n",
       "</div>"
      ],
      "text/plain": [
       "                            work  author_label     author  chunk_num  \\\n",
       "0                          Avis              0    Baudeau          0   \n",
       "1                Eclaircissemens             0    Baudeau          0   \n",
       "2                    Explication             0    Baudeau          0   \n",
       "3     Idees sur l-administration             0    Baudeau          0   \n",
       "4         Idees sur la puissance             0    Baudeau          0   \n",
       "...                          ...           ...        ...        ...   \n",
       "4469                 elements T3            11  Marmontel         96   \n",
       "4470       Histoire Generale T19             3    Deleyre         97   \n",
       "4471                 elements T3            11  Marmontel         97   \n",
       "4472       Histoire Generale T19             3    Deleyre         98   \n",
       "4473       Histoire Generale T19             3    Deleyre         99   \n",
       "\n",
       "                                        tag  \n",
       "0                          0__Baudeau_Avis   \n",
       "1                0__Baudeau_Eclaircissemens  \n",
       "2                    0__Baudeau_Explication  \n",
       "3     0__Baudeau_Idees sur l-administration  \n",
       "4         0__Baudeau_Idees sur la puissance  \n",
       "...                                     ...  \n",
       "4469              96__Marmontel_elements T3  \n",
       "4470      97__Deleyre_Histoire Generale T19  \n",
       "4471              97__Marmontel_elements T3  \n",
       "4472      98__Deleyre_Histoire Generale T19  \n",
       "4473      99__Deleyre_Histoire Generale T19  \n",
       "\n",
       "[4474 rows x 5 columns]"
      ]
     },
     "execution_count": 122,
     "metadata": {},
     "output_type": "execute_result"
    }
   ],
   "source": [
    "# create numeric author labels\n",
    "labels, label_uniques = raw_df.author.factorize()\n",
    "raw_df.insert(1, \"author_label\", labels)\n",
    "raw_df"
   ]
  },
  {
   "cell_type": "markdown",
   "id": "18f7ee2b",
   "metadata": {},
   "source": [
    "### NB CHANGE THE LABEL"
   ]
  },
  {
   "cell_type": "code",
   "execution_count": 123,
   "id": "2ee00fe0",
   "metadata": {},
   "outputs": [
    {
     "data": {
      "text/html": [
       "<div>\n",
       "<style scoped>\n",
       "    .dataframe tbody tr th:only-of-type {\n",
       "        vertical-align: middle;\n",
       "    }\n",
       "\n",
       "    .dataframe tbody tr th {\n",
       "        vertical-align: top;\n",
       "    }\n",
       "\n",
       "    .dataframe thead th {\n",
       "        text-align: right;\n",
       "    }\n",
       "</style>\n",
       "<table border=\"1\" class=\"dataframe\">\n",
       "  <thead>\n",
       "    <tr style=\"text-align: right;\">\n",
       "      <th></th>\n",
       "      <th>work</th>\n",
       "      <th>author_label</th>\n",
       "      <th>author</th>\n",
       "      <th>chunk_num</th>\n",
       "      <th>tag</th>\n",
       "    </tr>\n",
       "  </thead>\n",
       "  <tbody>\n",
       "    <tr>\n",
       "      <th>0</th>\n",
       "      <td>ed1780</td>\n",
       "      <td>7</td>\n",
       "      <td>HDI</td>\n",
       "      <td>0</td>\n",
       "      <td>0__HDI_ed1780</td>\n",
       "    </tr>\n",
       "    <tr>\n",
       "      <th>1</th>\n",
       "      <td>ed1780</td>\n",
       "      <td>7</td>\n",
       "      <td>HDI</td>\n",
       "      <td>1</td>\n",
       "      <td>1__HDI_ed1780</td>\n",
       "    </tr>\n",
       "    <tr>\n",
       "      <th>2</th>\n",
       "      <td>ed1780</td>\n",
       "      <td>7</td>\n",
       "      <td>HDI</td>\n",
       "      <td>10</td>\n",
       "      <td>10__HDI_ed1780</td>\n",
       "    </tr>\n",
       "    <tr>\n",
       "      <th>3</th>\n",
       "      <td>ed1780</td>\n",
       "      <td>7</td>\n",
       "      <td>HDI</td>\n",
       "      <td>11</td>\n",
       "      <td>11__HDI_ed1780</td>\n",
       "    </tr>\n",
       "    <tr>\n",
       "      <th>4</th>\n",
       "      <td>ed1780</td>\n",
       "      <td>7</td>\n",
       "      <td>HDI</td>\n",
       "      <td>12</td>\n",
       "      <td>12__HDI_ed1780</td>\n",
       "    </tr>\n",
       "    <tr>\n",
       "      <th>5</th>\n",
       "      <td>ed1780</td>\n",
       "      <td>7</td>\n",
       "      <td>HDI</td>\n",
       "      <td>13</td>\n",
       "      <td>13__HDI_ed1780</td>\n",
       "    </tr>\n",
       "    <tr>\n",
       "      <th>6</th>\n",
       "      <td>ed1780</td>\n",
       "      <td>7</td>\n",
       "      <td>HDI</td>\n",
       "      <td>14</td>\n",
       "      <td>14__HDI_ed1780</td>\n",
       "    </tr>\n",
       "    <tr>\n",
       "      <th>7</th>\n",
       "      <td>ed1780</td>\n",
       "      <td>7</td>\n",
       "      <td>HDI</td>\n",
       "      <td>15</td>\n",
       "      <td>15__HDI_ed1780</td>\n",
       "    </tr>\n",
       "    <tr>\n",
       "      <th>8</th>\n",
       "      <td>ed1780</td>\n",
       "      <td>7</td>\n",
       "      <td>HDI</td>\n",
       "      <td>16</td>\n",
       "      <td>16__HDI_ed1780</td>\n",
       "    </tr>\n",
       "    <tr>\n",
       "      <th>9</th>\n",
       "      <td>ed1780</td>\n",
       "      <td>7</td>\n",
       "      <td>HDI</td>\n",
       "      <td>17</td>\n",
       "      <td>17__HDI_ed1780</td>\n",
       "    </tr>\n",
       "    <tr>\n",
       "      <th>10</th>\n",
       "      <td>ed1780</td>\n",
       "      <td>7</td>\n",
       "      <td>HDI</td>\n",
       "      <td>18</td>\n",
       "      <td>18__HDI_ed1780</td>\n",
       "    </tr>\n",
       "    <tr>\n",
       "      <th>11</th>\n",
       "      <td>ed1780</td>\n",
       "      <td>7</td>\n",
       "      <td>HDI</td>\n",
       "      <td>19</td>\n",
       "      <td>19__HDI_ed1780</td>\n",
       "    </tr>\n",
       "    <tr>\n",
       "      <th>12</th>\n",
       "      <td>ed1780</td>\n",
       "      <td>7</td>\n",
       "      <td>HDI</td>\n",
       "      <td>2</td>\n",
       "      <td>2__HDI_ed1780</td>\n",
       "    </tr>\n",
       "    <tr>\n",
       "      <th>13</th>\n",
       "      <td>ed1780</td>\n",
       "      <td>7</td>\n",
       "      <td>HDI</td>\n",
       "      <td>20</td>\n",
       "      <td>20__HDI_ed1780</td>\n",
       "    </tr>\n",
       "    <tr>\n",
       "      <th>14</th>\n",
       "      <td>ed1780</td>\n",
       "      <td>7</td>\n",
       "      <td>HDI</td>\n",
       "      <td>21</td>\n",
       "      <td>21__HDI_ed1780</td>\n",
       "    </tr>\n",
       "    <tr>\n",
       "      <th>15</th>\n",
       "      <td>ed1780</td>\n",
       "      <td>7</td>\n",
       "      <td>HDI</td>\n",
       "      <td>22</td>\n",
       "      <td>22__HDI_ed1780</td>\n",
       "    </tr>\n",
       "    <tr>\n",
       "      <th>16</th>\n",
       "      <td>ed1780</td>\n",
       "      <td>7</td>\n",
       "      <td>HDI</td>\n",
       "      <td>23</td>\n",
       "      <td>23__HDI_ed1780</td>\n",
       "    </tr>\n",
       "    <tr>\n",
       "      <th>17</th>\n",
       "      <td>ed1780</td>\n",
       "      <td>7</td>\n",
       "      <td>HDI</td>\n",
       "      <td>24</td>\n",
       "      <td>24__HDI_ed1780</td>\n",
       "    </tr>\n",
       "    <tr>\n",
       "      <th>18</th>\n",
       "      <td>ed1780</td>\n",
       "      <td>7</td>\n",
       "      <td>HDI</td>\n",
       "      <td>25</td>\n",
       "      <td>25__HDI_ed1780</td>\n",
       "    </tr>\n",
       "    <tr>\n",
       "      <th>19</th>\n",
       "      <td>ed1780</td>\n",
       "      <td>7</td>\n",
       "      <td>HDI</td>\n",
       "      <td>26</td>\n",
       "      <td>26__HDI_ed1780</td>\n",
       "    </tr>\n",
       "    <tr>\n",
       "      <th>20</th>\n",
       "      <td>ed1780</td>\n",
       "      <td>7</td>\n",
       "      <td>HDI</td>\n",
       "      <td>27</td>\n",
       "      <td>27__HDI_ed1780</td>\n",
       "    </tr>\n",
       "    <tr>\n",
       "      <th>21</th>\n",
       "      <td>ed1780</td>\n",
       "      <td>7</td>\n",
       "      <td>HDI</td>\n",
       "      <td>28</td>\n",
       "      <td>28__HDI_ed1780</td>\n",
       "    </tr>\n",
       "    <tr>\n",
       "      <th>22</th>\n",
       "      <td>ed1780</td>\n",
       "      <td>7</td>\n",
       "      <td>HDI</td>\n",
       "      <td>29</td>\n",
       "      <td>29__HDI_ed1780</td>\n",
       "    </tr>\n",
       "    <tr>\n",
       "      <th>23</th>\n",
       "      <td>ed1780</td>\n",
       "      <td>7</td>\n",
       "      <td>HDI</td>\n",
       "      <td>3</td>\n",
       "      <td>3__HDI_ed1780</td>\n",
       "    </tr>\n",
       "    <tr>\n",
       "      <th>24</th>\n",
       "      <td>ed1780</td>\n",
       "      <td>7</td>\n",
       "      <td>HDI</td>\n",
       "      <td>30</td>\n",
       "      <td>30__HDI_ed1780</td>\n",
       "    </tr>\n",
       "    <tr>\n",
       "      <th>25</th>\n",
       "      <td>ed1780</td>\n",
       "      <td>7</td>\n",
       "      <td>HDI</td>\n",
       "      <td>31</td>\n",
       "      <td>31__HDI_ed1780</td>\n",
       "    </tr>\n",
       "    <tr>\n",
       "      <th>26</th>\n",
       "      <td>ed1780</td>\n",
       "      <td>7</td>\n",
       "      <td>HDI</td>\n",
       "      <td>32</td>\n",
       "      <td>32__HDI_ed1780</td>\n",
       "    </tr>\n",
       "    <tr>\n",
       "      <th>27</th>\n",
       "      <td>ed1780</td>\n",
       "      <td>7</td>\n",
       "      <td>HDI</td>\n",
       "      <td>33</td>\n",
       "      <td>33__HDI_ed1780</td>\n",
       "    </tr>\n",
       "    <tr>\n",
       "      <th>28</th>\n",
       "      <td>ed1780</td>\n",
       "      <td>7</td>\n",
       "      <td>HDI</td>\n",
       "      <td>34</td>\n",
       "      <td>34__HDI_ed1780</td>\n",
       "    </tr>\n",
       "    <tr>\n",
       "      <th>29</th>\n",
       "      <td>ed1780</td>\n",
       "      <td>7</td>\n",
       "      <td>HDI</td>\n",
       "      <td>35</td>\n",
       "      <td>35__HDI_ed1780</td>\n",
       "    </tr>\n",
       "    <tr>\n",
       "      <th>30</th>\n",
       "      <td>ed1780</td>\n",
       "      <td>7</td>\n",
       "      <td>HDI</td>\n",
       "      <td>36</td>\n",
       "      <td>36__HDI_ed1780</td>\n",
       "    </tr>\n",
       "    <tr>\n",
       "      <th>31</th>\n",
       "      <td>ed1780</td>\n",
       "      <td>7</td>\n",
       "      <td>HDI</td>\n",
       "      <td>37</td>\n",
       "      <td>37__HDI_ed1780</td>\n",
       "    </tr>\n",
       "    <tr>\n",
       "      <th>32</th>\n",
       "      <td>ed1780</td>\n",
       "      <td>7</td>\n",
       "      <td>HDI</td>\n",
       "      <td>38</td>\n",
       "      <td>38__HDI_ed1780</td>\n",
       "    </tr>\n",
       "    <tr>\n",
       "      <th>33</th>\n",
       "      <td>ed1780</td>\n",
       "      <td>7</td>\n",
       "      <td>HDI</td>\n",
       "      <td>39</td>\n",
       "      <td>39__HDI_ed1780</td>\n",
       "    </tr>\n",
       "    <tr>\n",
       "      <th>34</th>\n",
       "      <td>ed1780</td>\n",
       "      <td>7</td>\n",
       "      <td>HDI</td>\n",
       "      <td>4</td>\n",
       "      <td>4__HDI_ed1780</td>\n",
       "    </tr>\n",
       "    <tr>\n",
       "      <th>35</th>\n",
       "      <td>ed1780</td>\n",
       "      <td>7</td>\n",
       "      <td>HDI</td>\n",
       "      <td>40</td>\n",
       "      <td>40__HDI_ed1780</td>\n",
       "    </tr>\n",
       "    <tr>\n",
       "      <th>36</th>\n",
       "      <td>ed1780</td>\n",
       "      <td>7</td>\n",
       "      <td>HDI</td>\n",
       "      <td>41</td>\n",
       "      <td>41__HDI_ed1780</td>\n",
       "    </tr>\n",
       "    <tr>\n",
       "      <th>37</th>\n",
       "      <td>ed1780</td>\n",
       "      <td>7</td>\n",
       "      <td>HDI</td>\n",
       "      <td>42</td>\n",
       "      <td>42__HDI_ed1780</td>\n",
       "    </tr>\n",
       "    <tr>\n",
       "      <th>38</th>\n",
       "      <td>ed1780</td>\n",
       "      <td>7</td>\n",
       "      <td>HDI</td>\n",
       "      <td>5</td>\n",
       "      <td>5__HDI_ed1780</td>\n",
       "    </tr>\n",
       "    <tr>\n",
       "      <th>39</th>\n",
       "      <td>ed1780</td>\n",
       "      <td>7</td>\n",
       "      <td>HDI</td>\n",
       "      <td>6</td>\n",
       "      <td>6__HDI_ed1780</td>\n",
       "    </tr>\n",
       "    <tr>\n",
       "      <th>40</th>\n",
       "      <td>ed1780</td>\n",
       "      <td>7</td>\n",
       "      <td>HDI</td>\n",
       "      <td>7</td>\n",
       "      <td>7__HDI_ed1780</td>\n",
       "    </tr>\n",
       "    <tr>\n",
       "      <th>41</th>\n",
       "      <td>ed1780</td>\n",
       "      <td>7</td>\n",
       "      <td>HDI</td>\n",
       "      <td>8</td>\n",
       "      <td>8__HDI_ed1780</td>\n",
       "    </tr>\n",
       "    <tr>\n",
       "      <th>42</th>\n",
       "      <td>ed1780</td>\n",
       "      <td>7</td>\n",
       "      <td>HDI</td>\n",
       "      <td>9</td>\n",
       "      <td>9__HDI_ed1780</td>\n",
       "    </tr>\n",
       "  </tbody>\n",
       "</table>\n",
       "</div>"
      ],
      "text/plain": [
       "      work  author_label author  chunk_num             tag\n",
       "0   ed1780             7    HDI          0   0__HDI_ed1780\n",
       "1   ed1780             7    HDI          1   1__HDI_ed1780\n",
       "2   ed1780             7    HDI         10  10__HDI_ed1780\n",
       "3   ed1780             7    HDI         11  11__HDI_ed1780\n",
       "4   ed1780             7    HDI         12  12__HDI_ed1780\n",
       "5   ed1780             7    HDI         13  13__HDI_ed1780\n",
       "6   ed1780             7    HDI         14  14__HDI_ed1780\n",
       "7   ed1780             7    HDI         15  15__HDI_ed1780\n",
       "8   ed1780             7    HDI         16  16__HDI_ed1780\n",
       "9   ed1780             7    HDI         17  17__HDI_ed1780\n",
       "10  ed1780             7    HDI         18  18__HDI_ed1780\n",
       "11  ed1780             7    HDI         19  19__HDI_ed1780\n",
       "12  ed1780             7    HDI          2   2__HDI_ed1780\n",
       "13  ed1780             7    HDI         20  20__HDI_ed1780\n",
       "14  ed1780             7    HDI         21  21__HDI_ed1780\n",
       "15  ed1780             7    HDI         22  22__HDI_ed1780\n",
       "16  ed1780             7    HDI         23  23__HDI_ed1780\n",
       "17  ed1780             7    HDI         24  24__HDI_ed1780\n",
       "18  ed1780             7    HDI         25  25__HDI_ed1780\n",
       "19  ed1780             7    HDI         26  26__HDI_ed1780\n",
       "20  ed1780             7    HDI         27  27__HDI_ed1780\n",
       "21  ed1780             7    HDI         28  28__HDI_ed1780\n",
       "22  ed1780             7    HDI         29  29__HDI_ed1780\n",
       "23  ed1780             7    HDI          3   3__HDI_ed1780\n",
       "24  ed1780             7    HDI         30  30__HDI_ed1780\n",
       "25  ed1780             7    HDI         31  31__HDI_ed1780\n",
       "26  ed1780             7    HDI         32  32__HDI_ed1780\n",
       "27  ed1780             7    HDI         33  33__HDI_ed1780\n",
       "28  ed1780             7    HDI         34  34__HDI_ed1780\n",
       "29  ed1780             7    HDI         35  35__HDI_ed1780\n",
       "30  ed1780             7    HDI         36  36__HDI_ed1780\n",
       "31  ed1780             7    HDI         37  37__HDI_ed1780\n",
       "32  ed1780             7    HDI         38  38__HDI_ed1780\n",
       "33  ed1780             7    HDI         39  39__HDI_ed1780\n",
       "34  ed1780             7    HDI          4   4__HDI_ed1780\n",
       "35  ed1780             7    HDI         40  40__HDI_ed1780\n",
       "36  ed1780             7    HDI         41  41__HDI_ed1780\n",
       "37  ed1780             7    HDI         42  42__HDI_ed1780\n",
       "38  ed1780             7    HDI          5   5__HDI_ed1780\n",
       "39  ed1780             7    HDI          6   6__HDI_ed1780\n",
       "40  ed1780             7    HDI          7   7__HDI_ed1780\n",
       "41  ed1780             7    HDI          8   8__HDI_ed1780\n",
       "42  ed1780             7    HDI          9   9__HDI_ed1780"
      ]
     },
     "execution_count": 123,
     "metadata": {},
     "output_type": "execute_result"
    }
   ],
   "source": [
    "# select an \"unknown\" work\n",
    "# ed1770-CH1774-CH1780\n",
    "# ed1774-CH1780\n",
    "\n",
    "problems = raw_df[raw_df.work == \"ed1780\"].reset_index(drop=True).copy()\n",
    "problems_X = X[raw_df.work == \"ed1780\"].reset_index(drop=True).copy()\n",
    "problems"
   ]
  },
  {
   "cell_type": "code",
   "execution_count": 124,
   "id": "c235c984",
   "metadata": {},
   "outputs": [
    {
     "data": {
      "text/html": [
       "<div>\n",
       "<style scoped>\n",
       "    .dataframe tbody tr th:only-of-type {\n",
       "        vertical-align: middle;\n",
       "    }\n",
       "\n",
       "    .dataframe tbody tr th {\n",
       "        vertical-align: top;\n",
       "    }\n",
       "\n",
       "    .dataframe thead th {\n",
       "        text-align: right;\n",
       "    }\n",
       "</style>\n",
       "<table border=\"1\" class=\"dataframe\">\n",
       "  <thead>\n",
       "    <tr style=\"text-align: right;\">\n",
       "      <th></th>\n",
       "      <th>work</th>\n",
       "      <th>author_label</th>\n",
       "      <th>author</th>\n",
       "      <th>chunk_num</th>\n",
       "      <th>tag</th>\n",
       "    </tr>\n",
       "  </thead>\n",
       "  <tbody>\n",
       "    <tr>\n",
       "      <th>0</th>\n",
       "      <td>Avis</td>\n",
       "      <td>0</td>\n",
       "      <td>Baudeau</td>\n",
       "      <td>0</td>\n",
       "      <td>0__Baudeau_Avis</td>\n",
       "    </tr>\n",
       "    <tr>\n",
       "      <th>1</th>\n",
       "      <td>Eclaircissemens</td>\n",
       "      <td>0</td>\n",
       "      <td>Baudeau</td>\n",
       "      <td>0</td>\n",
       "      <td>0__Baudeau_Eclaircissemens</td>\n",
       "    </tr>\n",
       "    <tr>\n",
       "      <th>2</th>\n",
       "      <td>Explication</td>\n",
       "      <td>0</td>\n",
       "      <td>Baudeau</td>\n",
       "      <td>0</td>\n",
       "      <td>0__Baudeau_Explication</td>\n",
       "    </tr>\n",
       "    <tr>\n",
       "      <th>3</th>\n",
       "      <td>Idees sur l-administration</td>\n",
       "      <td>0</td>\n",
       "      <td>Baudeau</td>\n",
       "      <td>0</td>\n",
       "      <td>0__Baudeau_Idees sur l-administration</td>\n",
       "    </tr>\n",
       "    <tr>\n",
       "      <th>4</th>\n",
       "      <td>Idees sur la puissance</td>\n",
       "      <td>0</td>\n",
       "      <td>Baudeau</td>\n",
       "      <td>0</td>\n",
       "      <td>0__Baudeau_Idees sur la puissance</td>\n",
       "    </tr>\n",
       "    <tr>\n",
       "      <th>...</th>\n",
       "      <td>...</td>\n",
       "      <td>...</td>\n",
       "      <td>...</td>\n",
       "      <td>...</td>\n",
       "      <td>...</td>\n",
       "    </tr>\n",
       "    <tr>\n",
       "      <th>4426</th>\n",
       "      <td>elements T3</td>\n",
       "      <td>11</td>\n",
       "      <td>Marmontel</td>\n",
       "      <td>96</td>\n",
       "      <td>96__Marmontel_elements T3</td>\n",
       "    </tr>\n",
       "    <tr>\n",
       "      <th>4427</th>\n",
       "      <td>Histoire Generale T19</td>\n",
       "      <td>3</td>\n",
       "      <td>Deleyre</td>\n",
       "      <td>97</td>\n",
       "      <td>97__Deleyre_Histoire Generale T19</td>\n",
       "    </tr>\n",
       "    <tr>\n",
       "      <th>4428</th>\n",
       "      <td>elements T3</td>\n",
       "      <td>11</td>\n",
       "      <td>Marmontel</td>\n",
       "      <td>97</td>\n",
       "      <td>97__Marmontel_elements T3</td>\n",
       "    </tr>\n",
       "    <tr>\n",
       "      <th>4429</th>\n",
       "      <td>Histoire Generale T19</td>\n",
       "      <td>3</td>\n",
       "      <td>Deleyre</td>\n",
       "      <td>98</td>\n",
       "      <td>98__Deleyre_Histoire Generale T19</td>\n",
       "    </tr>\n",
       "    <tr>\n",
       "      <th>4430</th>\n",
       "      <td>Histoire Generale T19</td>\n",
       "      <td>3</td>\n",
       "      <td>Deleyre</td>\n",
       "      <td>99</td>\n",
       "      <td>99__Deleyre_Histoire Generale T19</td>\n",
       "    </tr>\n",
       "  </tbody>\n",
       "</table>\n",
       "<p>4431 rows × 5 columns</p>\n",
       "</div>"
      ],
      "text/plain": [
       "                            work  author_label     author  chunk_num  \\\n",
       "0                          Avis              0    Baudeau          0   \n",
       "1                Eclaircissemens             0    Baudeau          0   \n",
       "2                    Explication             0    Baudeau          0   \n",
       "3     Idees sur l-administration             0    Baudeau          0   \n",
       "4         Idees sur la puissance             0    Baudeau          0   \n",
       "...                          ...           ...        ...        ...   \n",
       "4426                 elements T3            11  Marmontel         96   \n",
       "4427       Histoire Generale T19             3    Deleyre         97   \n",
       "4428                 elements T3            11  Marmontel         97   \n",
       "4429       Histoire Generale T19             3    Deleyre         98   \n",
       "4430       Histoire Generale T19             3    Deleyre         99   \n",
       "\n",
       "                                        tag  \n",
       "0                          0__Baudeau_Avis   \n",
       "1                0__Baudeau_Eclaircissemens  \n",
       "2                    0__Baudeau_Explication  \n",
       "3     0__Baudeau_Idees sur l-administration  \n",
       "4         0__Baudeau_Idees sur la puissance  \n",
       "...                                     ...  \n",
       "4426              96__Marmontel_elements T3  \n",
       "4427      97__Deleyre_Histoire Generale T19  \n",
       "4428              97__Marmontel_elements T3  \n",
       "4429      98__Deleyre_Histoire Generale T19  \n",
       "4430      99__Deleyre_Histoire Generale T19  \n",
       "\n",
       "[4431 rows x 5 columns]"
      ]
     },
     "execution_count": 124,
     "metadata": {},
     "output_type": "execute_result"
    }
   ],
   "source": [
    "# extract the rest of the corpus\n",
    "\n",
    "rest = raw_df[raw_df.work != \"ed1780\"].reset_index(drop=True).copy()\n",
    "rest_X = X[raw_df.work != \"ed1780\"].reset_index(drop = True).copy()\n",
    "rest"
   ]
  },
  {
   "cell_type": "markdown",
   "id": "6e647a30",
   "metadata": {},
   "source": [
    "**Scaling**"
   ]
  },
  {
   "cell_type": "code",
   "execution_count": 125,
   "id": "9993ff15",
   "metadata": {},
   "outputs": [],
   "source": [
    "sts = StandardScaler(with_mean=False).fit(rest_X)\n",
    "rest_scaled_X = sts.transform(rest_X)\n",
    "problems_scaled_X = sts.transform(problems_X)"
   ]
  },
  {
   "cell_type": "markdown",
   "id": "fbcdbf62",
   "metadata": {},
   "source": [
    "**Verification**"
   ]
  },
  {
   "cell_type": "code",
   "execution_count": 126,
   "id": "c6063a0a",
   "metadata": {},
   "outputs": [
    {
     "data": {
      "text/plain": [
       "array(['Baudeau', 'Chastellux', 'Condorcet', 'Deleyre', 'dHolbach',\n",
       "       'Diderot', 'Guibert', 'HDI', 'Jaucourt', 'Jussieu', 'La Grange',\n",
       "       'Marmontel', 'Meister', 'Morellet', 'Naigeon', 'Pechmeja',\n",
       "       'Raynal', 'Rivière', 'Saint-Lambert'], dtype=object)"
      ]
     },
     "execution_count": 126,
     "metadata": {},
     "output_type": "execute_result"
    }
   ],
   "source": [
    "# check unique authors\n",
    "label_uniques.values"
   ]
  },
  {
   "cell_type": "code",
   "execution_count": 127,
   "id": "cc2d6b5f",
   "metadata": {},
   "outputs": [],
   "source": [
    "# set verifier\n",
    "rng = np.random.default_rng(42)\n",
    "\n",
    "bdi_mm = BDIVerifier(\n",
    "    metric='minmax', nb_bootstrap_iter=1000, rnd_prop=0.35, random_state=rng\n",
    ")"
   ]
  },
  {
   "cell_type": "code",
   "execution_count": 128,
   "id": "82f54398",
   "metadata": {},
   "outputs": [
    {
     "name": "stderr",
     "output_type": "stream",
     "text": [
      "01/22/2025 04:09:33 [ruzicka:INFO] Fitting on 4431 documents...\n"
     ]
    }
   ],
   "source": [
    "# fit \n",
    "bdi_mm.fit(rest_scaled_X, rest.author_label)"
   ]
  },
  {
   "cell_type": "code",
   "execution_count": 129,
   "id": "645a0a62",
   "metadata": {
    "scrolled": true
   },
   "outputs": [
    {
     "name": "stderr",
     "output_type": "stream",
     "text": [
      "01/22/2025 04:09:39 [ruzicka:INFO] Predicting on 43 documents\n"
     ]
    },
    {
     "name": "stdout",
     "output_type": "stream",
     "text": [
      "Testing against Baudeau\n"
     ]
    },
    {
     "name": "stderr",
     "output_type": "stream",
     "text": [
      "01/22/2025 04:09:48 [ruzicka:INFO] Predicting on 43 documents\n"
     ]
    },
    {
     "name": "stdout",
     "output_type": "stream",
     "text": [
      "Bootstrap Match Strength (one per chunk, 0-1.0): [0.736 0.896 0.686 0.712 0.538 0.878 0.606 0.787 0.902 0.67  0.827 0.864\n",
      " 0.633 0.613 0.642 0.816 0.894 0.564 0.694 0.792 0.88  0.865 0.844 0.622\n",
      " 0.805 0.373 0.484 0.664 0.933 0.92  0.668 0.857 0.851 0.847 0.685 0.713\n",
      " 0.744 0.534 0.858 0.611 0.838 0.67  0.863]\n",
      "Testing against Chastellux\n"
     ]
    },
    {
     "name": "stderr",
     "output_type": "stream",
     "text": [
      "01/22/2025 04:09:58 [ruzicka:INFO] Predicting on 43 documents\n"
     ]
    },
    {
     "name": "stdout",
     "output_type": "stream",
     "text": [
      "Bootstrap Match Strength (one per chunk, 0-1.0): [0.964 0.879 0.928 0.943 0.95  0.96  0.924 0.972 0.886 0.786 0.943 0.801\n",
      " 0.922 0.937 0.831 0.884 0.847 0.781 0.78  0.923 0.983 0.968 0.989 0.979\n",
      " 0.93  0.944 0.921 0.924 0.841 0.751 0.896 0.955 0.95  0.925 0.859 0.876\n",
      " 0.872 0.827 0.963 0.938 0.906 0.935 0.963]\n",
      "Testing against Condorcet\n"
     ]
    },
    {
     "name": "stderr",
     "output_type": "stream",
     "text": [
      "01/22/2025 04:10:30 [ruzicka:INFO] Predicting on 43 documents\n"
     ]
    },
    {
     "name": "stdout",
     "output_type": "stream",
     "text": [
      "Bootstrap Match Strength (one per chunk, 0-1.0): [0.959 0.991 0.989 0.98  0.955 0.955 0.972 0.995 0.981 0.976 0.972 0.987\n",
      " 0.888 0.947 0.986 0.993 0.964 0.981 0.996 0.977 0.997 0.993 0.984 0.958\n",
      " 0.994 0.979 0.991 0.979 0.946 0.97  0.977 0.98  0.984 0.989 0.988 0.842\n",
      " 0.992 0.987 0.943 0.979 0.924 0.96  0.958]\n",
      "Testing against Deleyre\n"
     ]
    },
    {
     "name": "stderr",
     "output_type": "stream",
     "text": [
      "01/22/2025 04:10:44 [ruzicka:INFO] Predicting on 43 documents\n"
     ]
    },
    {
     "name": "stdout",
     "output_type": "stream",
     "text": [
      "Bootstrap Match Strength (one per chunk, 0-1.0): [0.967 0.824 0.913 0.921 0.94  0.96  0.895 0.935 0.915 0.882 0.907 0.825\n",
      " 0.886 0.951 0.948 0.949 0.96  0.848 0.773 0.967 0.968 0.884 0.914 0.94\n",
      " 0.958 0.992 0.96  0.931 0.987 0.979 0.945 0.99  0.999 0.919 0.795 0.871\n",
      " 0.874 0.901 0.946 0.931 0.981 0.966 0.996]\n",
      "Testing against dHolbach\n"
     ]
    },
    {
     "name": "stderr",
     "output_type": "stream",
     "text": [
      "01/22/2025 04:11:12 [ruzicka:INFO] Predicting on 43 documents\n"
     ]
    },
    {
     "name": "stdout",
     "output_type": "stream",
     "text": [
      "Bootstrap Match Strength (one per chunk, 0-1.0): [0.975 0.919 0.959 0.986 0.99  0.945 0.906 0.951 0.951 0.984 0.964 0.927\n",
      " 0.768 0.863 0.998 0.965 0.997 0.985 0.952 0.959 0.942 0.965 0.968 0.597\n",
      " 0.945 0.971 0.947 0.96  0.924 0.915 0.971 0.925 0.965 0.958 0.978 0.47\n",
      " 0.81  0.942 0.921 0.919 0.902 0.979 0.919]\n",
      "Testing against Diderot\n"
     ]
    },
    {
     "name": "stderr",
     "output_type": "stream",
     "text": [
      "01/22/2025 04:11:34 [ruzicka:INFO] Predicting on 43 documents\n"
     ]
    },
    {
     "name": "stdout",
     "output_type": "stream",
     "text": [
      "Bootstrap Match Strength (one per chunk, 0-1.0): [0.958 0.992 0.987 0.977 0.975 0.99  0.991 0.988 0.992 0.992 0.993 1.\n",
      " 0.998 1.    0.912 0.991 0.971 0.998 0.982 0.983 0.882 0.913 0.809 0.997\n",
      " 0.961 0.961 0.984 0.994 0.929 0.984 0.979 0.888 0.947 0.932 0.998 0.999\n",
      " 0.996 0.998 0.999 0.974 0.993 0.987 0.992]\n",
      "Testing against Guibert\n"
     ]
    },
    {
     "name": "stderr",
     "output_type": "stream",
     "text": [
      "01/22/2025 04:11:45 [ruzicka:INFO] Predicting on 43 documents\n"
     ]
    },
    {
     "name": "stdout",
     "output_type": "stream",
     "text": [
      "Bootstrap Match Strength (one per chunk, 0-1.0): [0.791 0.843 0.728 0.597 0.737 0.762 0.818 0.658 0.86  0.953 0.815 0.727\n",
      " 0.838 0.732 0.623 0.818 0.675 0.704 0.473 0.682 0.871 0.816 0.875 0.893\n",
      " 0.857 0.757 0.738 0.886 0.788 0.671 0.901 0.856 0.802 0.823 0.785 0.933\n",
      " 0.95  0.853 0.569 0.778 0.762 0.869 0.827]\n",
      "Testing against HDI\n"
     ]
    },
    {
     "name": "stderr",
     "output_type": "stream",
     "text": [
      "01/22/2025 04:11:48 [ruzicka:INFO] Predicting on 43 documents\n"
     ]
    },
    {
     "name": "stdout",
     "output_type": "stream",
     "text": [
      "Bootstrap Match Strength (one per chunk, 0-1.0): [0.901 0.948 0.882 0.992 0.835 0.908 0.988 0.948 0.806 0.804 0.95  0.73\n",
      " 0.672 0.968 0.819 0.782 0.838 0.903 0.801 0.906 0.894 0.84  0.939 0.867\n",
      " 0.88  0.664 0.94  0.921 0.856 0.922 0.798 0.827 0.973 0.983 0.733 0.257\n",
      " 0.547 0.715 0.86  0.801 0.809 0.871 0.718]\n",
      "Testing against Jaucourt\n"
     ]
    },
    {
     "name": "stderr",
     "output_type": "stream",
     "text": [
      "01/22/2025 04:11:58 [ruzicka:INFO] Predicting on 43 documents\n"
     ]
    },
    {
     "name": "stdout",
     "output_type": "stream",
     "text": [
      "Bootstrap Match Strength (one per chunk, 0-1.0): [0.966 0.56  0.81  0.849 0.722 0.875 0.77  0.625 0.915 0.67  0.731 0.651\n",
      " 0.699 0.798 0.742 0.826 0.802 0.796 0.58  0.761 0.745 0.605 0.597 0.713\n",
      " 0.884 0.94  0.884 0.708 0.983 0.931 0.699 0.858 0.644 0.656 0.72  0.763\n",
      " 0.889 0.75  0.818 0.968 0.901 0.796 0.845]\n",
      "Testing against Jussieu\n"
     ]
    },
    {
     "name": "stderr",
     "output_type": "stream",
     "text": [
      "01/22/2025 04:12:06 [ruzicka:INFO] Predicting on 43 documents\n"
     ]
    },
    {
     "name": "stdout",
     "output_type": "stream",
     "text": [
      "Bootstrap Match Strength (one per chunk, 0-1.0): [0.788 0.213 0.304 0.293 0.346 0.22  0.192 0.476 0.266 0.262 0.372 0.268\n",
      " 0.082 0.289 0.217 0.495 0.158 0.106 0.117 0.136 0.353 0.193 0.101 0.263\n",
      " 0.37  0.21  0.401 0.164 0.834 0.271 0.395 0.497 0.405 0.317 0.104 0.427\n",
      " 0.367 0.341 0.491 0.455 0.313 0.603 0.881]\n",
      "Testing against La Grange\n"
     ]
    },
    {
     "name": "stderr",
     "output_type": "stream",
     "text": [
      "01/22/2025 04:12:12 [ruzicka:INFO] Predicting on 43 documents\n"
     ]
    },
    {
     "name": "stdout",
     "output_type": "stream",
     "text": [
      "Bootstrap Match Strength (one per chunk, 0-1.0): [0.152 0.097 0.069 0.118 0.212 0.095 0.041 0.116 0.058 0.036 0.156 0.086\n",
      " 0.046 0.107 0.043 0.241 0.044 0.052 0.086 0.079 0.256 0.063 0.045 0.186\n",
      " 0.135 0.105 0.036 0.077 0.271 0.252 0.096 0.113 0.102 0.043 0.069 0.143\n",
      " 0.054 0.073 0.082 0.062 0.127 0.18  0.57 ]\n",
      "Testing against Marmontel\n"
     ]
    },
    {
     "name": "stderr",
     "output_type": "stream",
     "text": [
      "01/22/2025 04:12:31 [ruzicka:INFO] Predicting on 43 documents\n"
     ]
    },
    {
     "name": "stdout",
     "output_type": "stream",
     "text": [
      "Bootstrap Match Strength (one per chunk, 0-1.0): [0.834 0.94  0.917 0.85  0.91  0.939 0.873 0.862 0.985 0.887 0.809 0.972\n",
      " 0.991 0.976 0.821 0.879 0.763 0.939 0.887 0.914 0.716 0.867 0.799 0.972\n",
      " 0.888 0.904 0.916 0.95  0.776 0.949 0.851 0.698 0.776 0.931 0.955 0.938\n",
      " 0.894 0.972 0.961 0.966 0.935 0.93  0.807]\n",
      "Testing against Meister\n"
     ]
    },
    {
     "name": "stderr",
     "output_type": "stream",
     "text": [
      "01/22/2025 04:12:35 [ruzicka:INFO] Predicting on 43 documents\n"
     ]
    },
    {
     "name": "stdout",
     "output_type": "stream",
     "text": [
      "Bootstrap Match Strength (one per chunk, 0-1.0): [0.145 0.328 0.246 0.09  0.261 0.119 0.278 0.476 0.365 0.238 0.36  0.407\n",
      " 0.349 0.065 0.093 0.347 0.108 0.465 0.241 0.227 0.088 0.549 0.202 0.366\n",
      " 0.068 0.207 0.049 0.125 0.004 0.107 0.036 0.061 0.102 0.154 0.312 0.091\n",
      " 0.392 0.411 0.358 0.12  0.484 0.227 0.146]\n",
      "Testing against Morellet\n"
     ]
    },
    {
     "name": "stderr",
     "output_type": "stream",
     "text": [
      "01/22/2025 04:12:42 [ruzicka:INFO] Predicting on 43 documents\n"
     ]
    },
    {
     "name": "stdout",
     "output_type": "stream",
     "text": [
      "Bootstrap Match Strength (one per chunk, 0-1.0): [0.84  0.929 0.87  0.672 0.76  0.759 0.727 0.718 0.727 0.848 0.888 0.827\n",
      " 0.84  0.844 0.789 0.723 0.697 0.681 0.896 0.896 0.791 0.867 0.747 0.932\n",
      " 0.729 0.701 0.901 0.839 0.596 0.79  0.915 0.693 0.768 0.865 0.855 0.931\n",
      " 0.942 0.752 0.737 0.834 0.655 0.592 0.639]\n",
      "Testing against Naigeon\n"
     ]
    },
    {
     "name": "stderr",
     "output_type": "stream",
     "text": [
      "01/22/2025 04:12:48 [ruzicka:INFO] Predicting on 43 documents\n"
     ]
    },
    {
     "name": "stdout",
     "output_type": "stream",
     "text": [
      "Bootstrap Match Strength (one per chunk, 0-1.0): [0.473 0.893 0.825 0.654 0.661 0.864 0.613 0.533 0.544 0.741 0.731 0.696\n",
      " 0.709 0.559 0.756 0.716 0.731 0.906 0.864 0.862 0.375 0.6   0.273 0.754\n",
      " 0.385 0.612 0.523 0.557 0.312 0.701 0.404 0.244 0.534 0.668 0.761 0.799\n",
      " 0.751 0.725 0.675 0.485 0.773 0.589 0.349]\n",
      "Testing against Pechmeja\n"
     ]
    },
    {
     "name": "stderr",
     "output_type": "stream",
     "text": [
      "01/22/2025 04:12:53 [ruzicka:INFO] Predicting on 43 documents\n"
     ]
    },
    {
     "name": "stdout",
     "output_type": "stream",
     "text": [
      "Bootstrap Match Strength (one per chunk, 0-1.0): [0.368 0.633 0.671 0.648 0.505 0.759 0.327 0.333 0.473 0.508 0.263 0.163\n",
      " 0.576 0.276 0.289 0.288 0.293 0.326 0.181 0.53  0.551 0.412 0.465 0.747\n",
      " 0.419 0.401 0.28  0.224 0.415 0.223 0.503 0.38  0.236 0.406 0.584 0.189\n",
      " 0.607 0.477 0.215 0.305 0.279 0.18  0.428]\n",
      "Testing against Raynal\n"
     ]
    },
    {
     "name": "stderr",
     "output_type": "stream",
     "text": [
      "01/22/2025 04:13:07 [ruzicka:INFO] Predicting on 43 documents\n"
     ]
    },
    {
     "name": "stdout",
     "output_type": "stream",
     "text": [
      "Bootstrap Match Strength (one per chunk, 0-1.0): [0.946 0.414 0.628 0.953 0.728 0.843 0.962 0.749 0.585 0.813 0.694 0.717\n",
      " 0.829 0.791 0.838 0.851 0.848 0.507 0.535 0.764 0.646 0.627 0.966 0.821\n",
      " 0.708 0.941 0.95  0.928 0.966 0.739 0.949 0.983 0.834 0.877 0.8   0.485\n",
      " 0.822 0.826 0.834 0.961 0.861 0.885 0.809]\n",
      "Testing against Rivière\n"
     ]
    },
    {
     "name": "stderr",
     "output_type": "stream",
     "text": [
      "01/22/2025 04:13:15 [ruzicka:INFO] Predicting on 43 documents\n"
     ]
    },
    {
     "name": "stdout",
     "output_type": "stream",
     "text": [
      "Bootstrap Match Strength (one per chunk, 0-1.0): [0.349 0.838 0.619 0.344 0.559 0.618 0.511 0.159 0.619 0.706 0.778 0.669\n",
      " 0.31  0.405 0.588 0.542 0.518 0.866 0.91  0.823 0.806 0.932 0.669 0.283\n",
      " 0.739 0.28  0.474 0.478 0.216 0.511 0.366 0.404 0.697 0.734 0.772 0.552\n",
      " 0.676 0.609 0.431 0.461 0.295 0.625 0.593]\n",
      "Testing against Saint-Lambert\n",
      "Bootstrap Match Strength (one per chunk, 0-1.0): [0.835 0.896 0.967 0.933 0.98  0.885 0.934 0.895 0.897 0.83  0.863 0.818\n",
      " 0.912 0.751 0.867 0.783 0.748 0.855 0.876 0.973 0.93  0.924 0.944 0.916\n",
      " 0.655 0.851 0.868 0.939 0.777 0.753 0.952 0.917 0.845 0.905 0.861 0.767\n",
      " 0.803 0.945 0.693 0.848 0.926 0.879 0.884]\n"
     ]
    }
   ],
   "source": [
    "for label in label_uniques.values:\n",
    "    print(f\"Testing against {label}\")\n",
    "    code = label_uniques.get_loc(label)\n",
    "    print(\n",
    "        f\"Bootstrap Match Strength (one per chunk, 0-1.0): {bdi_mm.predict_proba(problems_scaled_X, [code] * problems_scaled_X.shape[0])}\"\n",
    "    )"
   ]
  },
  {
   "cell_type": "markdown",
   "id": "5cc389a3",
   "metadata": {},
   "source": [
    "### NB CHANGE PATH FOR NEW TESTS"
   ]
  },
  {
   "cell_type": "code",
   "execution_count": 130,
   "id": "588b7544",
   "metadata": {},
   "outputs": [
    {
     "name": "stderr",
     "output_type": "stream",
     "text": [
      "01/22/2025 04:13:36 [ruzicka:INFO] Predicting on 43 documents\n"
     ]
    },
    {
     "name": "stdout",
     "output_type": "stream",
     "text": [
      "Baudeau\n"
     ]
    },
    {
     "name": "stderr",
     "output_type": "stream",
     "text": [
      "01/22/2025 04:13:45 [ruzicka:INFO] Predicting on 43 documents\n"
     ]
    },
    {
     "name": "stdout",
     "output_type": "stream",
     "text": [
      "Chastellux\n"
     ]
    },
    {
     "name": "stderr",
     "output_type": "stream",
     "text": [
      "01/22/2025 04:13:55 [ruzicka:INFO] Predicting on 43 documents\n"
     ]
    },
    {
     "name": "stdout",
     "output_type": "stream",
     "text": [
      "Condorcet\n"
     ]
    },
    {
     "name": "stderr",
     "output_type": "stream",
     "text": [
      "01/22/2025 04:14:29 [ruzicka:INFO] Predicting on 43 documents\n"
     ]
    },
    {
     "name": "stdout",
     "output_type": "stream",
     "text": [
      "Deleyre\n"
     ]
    },
    {
     "name": "stderr",
     "output_type": "stream",
     "text": [
      "01/22/2025 04:14:43 [ruzicka:INFO] Predicting on 43 documents\n"
     ]
    },
    {
     "name": "stdout",
     "output_type": "stream",
     "text": [
      "dHolbach\n"
     ]
    },
    {
     "name": "stderr",
     "output_type": "stream",
     "text": [
      "01/22/2025 04:15:11 [ruzicka:INFO] Predicting on 43 documents\n"
     ]
    },
    {
     "name": "stdout",
     "output_type": "stream",
     "text": [
      "Diderot\n"
     ]
    },
    {
     "name": "stderr",
     "output_type": "stream",
     "text": [
      "01/22/2025 04:15:33 [ruzicka:INFO] Predicting on 43 documents\n"
     ]
    },
    {
     "name": "stdout",
     "output_type": "stream",
     "text": [
      "Guibert\n"
     ]
    },
    {
     "name": "stderr",
     "output_type": "stream",
     "text": [
      "01/22/2025 04:15:44 [ruzicka:INFO] Predicting on 43 documents\n"
     ]
    },
    {
     "name": "stdout",
     "output_type": "stream",
     "text": [
      "HDI\n"
     ]
    },
    {
     "name": "stderr",
     "output_type": "stream",
     "text": [
      "01/22/2025 04:15:47 [ruzicka:INFO] Predicting on 43 documents\n"
     ]
    },
    {
     "name": "stdout",
     "output_type": "stream",
     "text": [
      "Jaucourt\n"
     ]
    },
    {
     "name": "stderr",
     "output_type": "stream",
     "text": [
      "01/22/2025 04:15:57 [ruzicka:INFO] Predicting on 43 documents\n"
     ]
    },
    {
     "name": "stdout",
     "output_type": "stream",
     "text": [
      "Jussieu\n"
     ]
    },
    {
     "name": "stderr",
     "output_type": "stream",
     "text": [
      "01/22/2025 04:16:05 [ruzicka:INFO] Predicting on 43 documents\n"
     ]
    },
    {
     "name": "stdout",
     "output_type": "stream",
     "text": [
      "La Grange\n"
     ]
    },
    {
     "name": "stderr",
     "output_type": "stream",
     "text": [
      "01/22/2025 04:16:11 [ruzicka:INFO] Predicting on 43 documents\n"
     ]
    },
    {
     "name": "stdout",
     "output_type": "stream",
     "text": [
      "Marmontel\n"
     ]
    },
    {
     "name": "stderr",
     "output_type": "stream",
     "text": [
      "01/22/2025 04:16:31 [ruzicka:INFO] Predicting on 43 documents\n"
     ]
    },
    {
     "name": "stdout",
     "output_type": "stream",
     "text": [
      "Meister\n"
     ]
    },
    {
     "name": "stderr",
     "output_type": "stream",
     "text": [
      "01/22/2025 04:16:34 [ruzicka:INFO] Predicting on 43 documents\n"
     ]
    },
    {
     "name": "stdout",
     "output_type": "stream",
     "text": [
      "Morellet\n"
     ]
    },
    {
     "name": "stderr",
     "output_type": "stream",
     "text": [
      "01/22/2025 04:16:41 [ruzicka:INFO] Predicting on 43 documents\n"
     ]
    },
    {
     "name": "stdout",
     "output_type": "stream",
     "text": [
      "Naigeon\n"
     ]
    },
    {
     "name": "stderr",
     "output_type": "stream",
     "text": [
      "01/22/2025 04:16:48 [ruzicka:INFO] Predicting on 43 documents\n"
     ]
    },
    {
     "name": "stdout",
     "output_type": "stream",
     "text": [
      "Pechmeja\n"
     ]
    },
    {
     "name": "stderr",
     "output_type": "stream",
     "text": [
      "01/22/2025 04:16:52 [ruzicka:INFO] Predicting on 43 documents\n"
     ]
    },
    {
     "name": "stdout",
     "output_type": "stream",
     "text": [
      "Raynal\n"
     ]
    },
    {
     "name": "stderr",
     "output_type": "stream",
     "text": [
      "01/22/2025 04:17:06 [ruzicka:INFO] Predicting on 43 documents\n"
     ]
    },
    {
     "name": "stdout",
     "output_type": "stream",
     "text": [
      "Rivière\n"
     ]
    },
    {
     "name": "stderr",
     "output_type": "stream",
     "text": [
      "01/22/2025 04:17:14 [ruzicka:INFO] Predicting on 43 documents\n"
     ]
    },
    {
     "name": "stdout",
     "output_type": "stream",
     "text": [
      "Saint-Lambert\n"
     ]
    }
   ],
   "source": [
    "authors = label_uniques.values\n",
    "\n",
    "fh = ''\n",
    "\n",
    "for a in authors:\n",
    "\n",
    "    print(a)\n",
    "    \n",
    "    bdi_mm.predict_proba(\n",
    "        problems_scaled_X, [label_uniques.get_loc(a)] * problems_scaled_X.shape[0]\n",
    "    )\n",
    "\n",
    "    \n",
    "    x = pd.DataFrame(dict(zip(problems.tag, bdi_mm._dist_arrays)))\n",
    "    \n",
    "    fh = '04_tests/tests/ed1780_vs_' + a + '.csv'\n",
    "\n",
    "    x.to_csv(fh)"
   ]
  },
  {
   "cell_type": "code",
   "execution_count": null,
   "id": "bc52201d",
   "metadata": {},
   "outputs": [],
   "source": []
  },
  {
   "cell_type": "code",
   "execution_count": null,
   "id": "c3f60d60",
   "metadata": {},
   "outputs": [],
   "source": []
  }
 ],
 "metadata": {
  "kernelspec": {
   "display_name": "Python 3 (ipykernel)",
   "language": "python",
   "name": "python3"
  },
  "language_info": {
   "codemirror_mode": {
    "name": "ipython",
    "version": 3
   },
   "file_extension": ".py",
   "mimetype": "text/x-python",
   "name": "python",
   "nbconvert_exporter": "python",
   "pygments_lexer": "ipython3",
   "version": "3.9.16"
  }
 },
 "nbformat": 4,
 "nbformat_minor": 5
}
