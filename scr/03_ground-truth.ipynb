{
 "cells": [
  {
   "cell_type": "markdown",
   "id": "014fb233",
   "metadata": {},
   "source": [
    "## Corpus testing\n",
    "\n",
    "This notebook takes works with known labels and looks how good it is attributed to its author. "
   ]
  },
  {
   "cell_type": "code",
   "execution_count": 1,
   "id": "fa1c3dcb",
   "metadata": {},
   "outputs": [],
   "source": [
    "import pandas as pd\n",
    "import numpy as np\n",
    "\n",
    "import re\n",
    "\n",
    "from sklearn.preprocessing import StandardScaler\n",
    "\n",
    "import logging\n",
    "\n",
    "logging.basicConfig(level=\"INFO\")\n",
    "logger = logging.getLogger(\"ruzicka\")\n",
    "\n",
    "from ruzicka.BDIVerifier import BDIVerifier"
   ]
  },
  {
   "cell_type": "code",
   "execution_count": 13,
   "id": "01a73312",
   "metadata": {},
   "outputs": [
    {
     "data": {
      "text/html": [
       "<div>\n",
       "<style scoped>\n",
       "    .dataframe tbody tr th:only-of-type {\n",
       "        vertical-align: middle;\n",
       "    }\n",
       "\n",
       "    .dataframe tbody tr th {\n",
       "        vertical-align: top;\n",
       "    }\n",
       "\n",
       "    .dataframe thead th {\n",
       "        text-align: right;\n",
       "    }\n",
       "</style>\n",
       "<table border=\"1\" class=\"dataframe\">\n",
       "  <thead>\n",
       "    <tr style=\"text-align: right;\">\n",
       "      <th></th>\n",
       "      <th>work</th>\n",
       "      <th>author</th>\n",
       "      <th>chunk_num</th>\n",
       "      <th>tag</th>\n",
       "      <th>de</th>\n",
       "      <th>la</th>\n",
       "      <th>et</th>\n",
       "      <th>les</th>\n",
       "      <th>vous</th>\n",
       "      <th>le</th>\n",
       "      <th>...</th>\n",
       "      <th>cela</th>\n",
       "      <th>beaucoup</th>\n",
       "      <th>voir</th>\n",
       "      <th>alors</th>\n",
       "      <th>ici</th>\n",
       "      <th>enfin</th>\n",
       "      <th>voit</th>\n",
       "      <th>rendre</th>\n",
       "      <th>cependant</th>\n",
       "      <th>seulement</th>\n",
       "    </tr>\n",
       "  </thead>\n",
       "  <tbody>\n",
       "    <tr>\n",
       "      <th>0</th>\n",
       "      <td>Avis</td>\n",
       "      <td>Baudeau</td>\n",
       "      <td>0</td>\n",
       "      <td>0__Baudeau_Avis</td>\n",
       "      <td>3.7</td>\n",
       "      <td>1.7</td>\n",
       "      <td>2.9</td>\n",
       "      <td>2.7</td>\n",
       "      <td>0.2</td>\n",
       "      <td>2.0</td>\n",
       "      <td>...</td>\n",
       "      <td>0.2</td>\n",
       "      <td>0.1</td>\n",
       "      <td>0.0</td>\n",
       "      <td>0.0</td>\n",
       "      <td>0.0</td>\n",
       "      <td>0.3</td>\n",
       "      <td>0.0</td>\n",
       "      <td>0.0</td>\n",
       "      <td>0.0</td>\n",
       "      <td>0.0</td>\n",
       "    </tr>\n",
       "    <tr>\n",
       "      <th>1</th>\n",
       "      <td>Explication</td>\n",
       "      <td>Baudeau</td>\n",
       "      <td>0</td>\n",
       "      <td>0__Baudeau_Explication</td>\n",
       "      <td>4.8</td>\n",
       "      <td>3.9</td>\n",
       "      <td>3.1</td>\n",
       "      <td>3.9</td>\n",
       "      <td>0.9</td>\n",
       "      <td>1.0</td>\n",
       "      <td>...</td>\n",
       "      <td>0.0</td>\n",
       "      <td>0.0</td>\n",
       "      <td>0.1</td>\n",
       "      <td>0.0</td>\n",
       "      <td>0.1</td>\n",
       "      <td>0.1</td>\n",
       "      <td>0.0</td>\n",
       "      <td>0.0</td>\n",
       "      <td>0.0</td>\n",
       "      <td>0.0</td>\n",
       "    </tr>\n",
       "    <tr>\n",
       "      <th>2</th>\n",
       "      <td>Idees sur l-administration</td>\n",
       "      <td>Baudeau</td>\n",
       "      <td>0</td>\n",
       "      <td>0__Baudeau_Idees sur l-administration</td>\n",
       "      <td>5.6</td>\n",
       "      <td>2.5</td>\n",
       "      <td>1.7</td>\n",
       "      <td>1.4</td>\n",
       "      <td>0.0</td>\n",
       "      <td>2.3</td>\n",
       "      <td>...</td>\n",
       "      <td>0.0</td>\n",
       "      <td>0.2</td>\n",
       "      <td>0.0</td>\n",
       "      <td>0.0</td>\n",
       "      <td>0.0</td>\n",
       "      <td>0.1</td>\n",
       "      <td>0.0</td>\n",
       "      <td>0.0</td>\n",
       "      <td>0.1</td>\n",
       "      <td>0.1</td>\n",
       "    </tr>\n",
       "    <tr>\n",
       "      <th>3</th>\n",
       "      <td>Idees sur les besoins 1</td>\n",
       "      <td>Baudeau</td>\n",
       "      <td>0</td>\n",
       "      <td>0__Baudeau_Idees sur les besoins 1</td>\n",
       "      <td>4.1</td>\n",
       "      <td>2.5</td>\n",
       "      <td>1.8</td>\n",
       "      <td>2.7</td>\n",
       "      <td>0.2</td>\n",
       "      <td>2.6</td>\n",
       "      <td>...</td>\n",
       "      <td>0.0</td>\n",
       "      <td>0.0</td>\n",
       "      <td>0.1</td>\n",
       "      <td>0.0</td>\n",
       "      <td>0.2</td>\n",
       "      <td>0.0</td>\n",
       "      <td>0.0</td>\n",
       "      <td>0.0</td>\n",
       "      <td>0.0</td>\n",
       "      <td>0.0</td>\n",
       "    </tr>\n",
       "    <tr>\n",
       "      <th>4</th>\n",
       "      <td>Idees sur les besoins 2</td>\n",
       "      <td>Baudeau</td>\n",
       "      <td>0</td>\n",
       "      <td>0__Baudeau_Idees sur les besoins 2</td>\n",
       "      <td>4.0</td>\n",
       "      <td>2.5</td>\n",
       "      <td>2.3</td>\n",
       "      <td>3.0</td>\n",
       "      <td>0.1</td>\n",
       "      <td>2.5</td>\n",
       "      <td>...</td>\n",
       "      <td>0.0</td>\n",
       "      <td>0.0</td>\n",
       "      <td>0.1</td>\n",
       "      <td>0.0</td>\n",
       "      <td>0.2</td>\n",
       "      <td>0.0</td>\n",
       "      <td>0.0</td>\n",
       "      <td>0.0</td>\n",
       "      <td>0.0</td>\n",
       "      <td>0.0</td>\n",
       "    </tr>\n",
       "    <tr>\n",
       "      <th>...</th>\n",
       "      <td>...</td>\n",
       "      <td>...</td>\n",
       "      <td>...</td>\n",
       "      <td>...</td>\n",
       "      <td>...</td>\n",
       "      <td>...</td>\n",
       "      <td>...</td>\n",
       "      <td>...</td>\n",
       "      <td>...</td>\n",
       "      <td>...</td>\n",
       "      <td>...</td>\n",
       "      <td>...</td>\n",
       "      <td>...</td>\n",
       "      <td>...</td>\n",
       "      <td>...</td>\n",
       "      <td>...</td>\n",
       "      <td>...</td>\n",
       "      <td>...</td>\n",
       "      <td>...</td>\n",
       "      <td>...</td>\n",
       "      <td>...</td>\n",
       "    </tr>\n",
       "    <tr>\n",
       "      <th>5403</th>\n",
       "      <td>elements T1</td>\n",
       "      <td>Marmontel</td>\n",
       "      <td>99</td>\n",
       "      <td>99__Marmontel_elements T1</td>\n",
       "      <td>6.4</td>\n",
       "      <td>3.2</td>\n",
       "      <td>3.1</td>\n",
       "      <td>2.1</td>\n",
       "      <td>0.1</td>\n",
       "      <td>1.8</td>\n",
       "      <td>...</td>\n",
       "      <td>0.2</td>\n",
       "      <td>0.0</td>\n",
       "      <td>0.0</td>\n",
       "      <td>0.0</td>\n",
       "      <td>0.1</td>\n",
       "      <td>0.0</td>\n",
       "      <td>0.1</td>\n",
       "      <td>0.1</td>\n",
       "      <td>0.0</td>\n",
       "      <td>0.1</td>\n",
       "    </tr>\n",
       "    <tr>\n",
       "      <th>5404</th>\n",
       "      <td>elements T2</td>\n",
       "      <td>Marmontel</td>\n",
       "      <td>99</td>\n",
       "      <td>99__Marmontel_elements T2</td>\n",
       "      <td>4.9</td>\n",
       "      <td>3.4</td>\n",
       "      <td>3.8</td>\n",
       "      <td>2.3</td>\n",
       "      <td>0.0</td>\n",
       "      <td>1.7</td>\n",
       "      <td>...</td>\n",
       "      <td>0.1</td>\n",
       "      <td>0.0</td>\n",
       "      <td>0.0</td>\n",
       "      <td>0.0</td>\n",
       "      <td>0.0</td>\n",
       "      <td>0.0</td>\n",
       "      <td>0.0</td>\n",
       "      <td>0.2</td>\n",
       "      <td>0.0</td>\n",
       "      <td>0.3</td>\n",
       "    </tr>\n",
       "    <tr>\n",
       "      <th>5405</th>\n",
       "      <td>elements T3</td>\n",
       "      <td>Marmontel</td>\n",
       "      <td>99</td>\n",
       "      <td>99__Marmontel_elements T3</td>\n",
       "      <td>5.3</td>\n",
       "      <td>2.8</td>\n",
       "      <td>4.2</td>\n",
       "      <td>0.4</td>\n",
       "      <td>0.0</td>\n",
       "      <td>2.7</td>\n",
       "      <td>...</td>\n",
       "      <td>0.0</td>\n",
       "      <td>0.0</td>\n",
       "      <td>0.0</td>\n",
       "      <td>0.2</td>\n",
       "      <td>0.0</td>\n",
       "      <td>0.0</td>\n",
       "      <td>0.1</td>\n",
       "      <td>0.0</td>\n",
       "      <td>0.0</td>\n",
       "      <td>0.1</td>\n",
       "    </tr>\n",
       "    <tr>\n",
       "      <th>5406</th>\n",
       "      <td>Manuel d-epictete</td>\n",
       "      <td>Naigeon</td>\n",
       "      <td>99</td>\n",
       "      <td>99__Naigeon_Manuel d-epictete</td>\n",
       "      <td>4.2</td>\n",
       "      <td>3.5</td>\n",
       "      <td>3.0</td>\n",
       "      <td>1.0</td>\n",
       "      <td>0.0</td>\n",
       "      <td>1.8</td>\n",
       "      <td>...</td>\n",
       "      <td>0.1</td>\n",
       "      <td>0.0</td>\n",
       "      <td>0.0</td>\n",
       "      <td>0.1</td>\n",
       "      <td>0.0</td>\n",
       "      <td>0.0</td>\n",
       "      <td>0.0</td>\n",
       "      <td>0.0</td>\n",
       "      <td>0.0</td>\n",
       "      <td>0.1</td>\n",
       "    </tr>\n",
       "    <tr>\n",
       "      <th>5407</th>\n",
       "      <td>L-ordre naturel</td>\n",
       "      <td>Rivière</td>\n",
       "      <td>99</td>\n",
       "      <td>99__Rivière_L-ordre naturel</td>\n",
       "      <td>4.6</td>\n",
       "      <td>2.6</td>\n",
       "      <td>2.2</td>\n",
       "      <td>2.4</td>\n",
       "      <td>0.0</td>\n",
       "      <td>2.0</td>\n",
       "      <td>...</td>\n",
       "      <td>0.0</td>\n",
       "      <td>0.0</td>\n",
       "      <td>0.1</td>\n",
       "      <td>0.0</td>\n",
       "      <td>0.1</td>\n",
       "      <td>0.2</td>\n",
       "      <td>0.0</td>\n",
       "      <td>0.1</td>\n",
       "      <td>0.1</td>\n",
       "      <td>0.1</td>\n",
       "    </tr>\n",
       "  </tbody>\n",
       "</table>\n",
       "<p>5408 rows × 204 columns</p>\n",
       "</div>"
      ],
      "text/plain": [
       "                            work     author  chunk_num  \\\n",
       "0                          Avis     Baudeau          0   \n",
       "1                    Explication    Baudeau          0   \n",
       "2     Idees sur l-administration    Baudeau          0   \n",
       "3        Idees sur les besoins 1    Baudeau          0   \n",
       "4        Idees sur les besoins 2    Baudeau          0   \n",
       "...                          ...        ...        ...   \n",
       "5403                 elements T1  Marmontel         99   \n",
       "5404                 elements T2  Marmontel         99   \n",
       "5405                 elements T3  Marmontel         99   \n",
       "5406           Manuel d-epictete    Naigeon         99   \n",
       "5407             L-ordre naturel   Rivière         99   \n",
       "\n",
       "                                        tag   de   la   et  les  vous   le  \\\n",
       "0                          0__Baudeau_Avis   3.7  1.7  2.9  2.7   0.2  2.0   \n",
       "1                    0__Baudeau_Explication  4.8  3.9  3.1  3.9   0.9  1.0   \n",
       "2     0__Baudeau_Idees sur l-administration  5.6  2.5  1.7  1.4   0.0  2.3   \n",
       "3        0__Baudeau_Idees sur les besoins 1  4.1  2.5  1.8  2.7   0.2  2.6   \n",
       "4        0__Baudeau_Idees sur les besoins 2  4.0  2.5  2.3  3.0   0.1  2.5   \n",
       "...                                     ...  ...  ...  ...  ...   ...  ...   \n",
       "5403              99__Marmontel_elements T1  6.4  3.2  3.1  2.1   0.1  1.8   \n",
       "5404              99__Marmontel_elements T2  4.9  3.4  3.8  2.3   0.0  1.7   \n",
       "5405              99__Marmontel_elements T3  5.3  2.8  4.2  0.4   0.0  2.7   \n",
       "5406          99__Naigeon_Manuel d-epictete  4.2  3.5  3.0  1.0   0.0  1.8   \n",
       "5407           99__Rivière_L-ordre naturel  4.6  2.6  2.2  2.4   0.0  2.0   \n",
       "\n",
       "      ...  cela  beaucoup  voir  alors  ici  enfin  voit  rendre  cependant  \\\n",
       "0     ...   0.2       0.1   0.0    0.0  0.0    0.3   0.0     0.0        0.0   \n",
       "1     ...   0.0       0.0   0.1    0.0  0.1    0.1   0.0     0.0        0.0   \n",
       "2     ...   0.0       0.2   0.0    0.0  0.0    0.1   0.0     0.0        0.1   \n",
       "3     ...   0.0       0.0   0.1    0.0  0.2    0.0   0.0     0.0        0.0   \n",
       "4     ...   0.0       0.0   0.1    0.0  0.2    0.0   0.0     0.0        0.0   \n",
       "...   ...   ...       ...   ...    ...  ...    ...   ...     ...        ...   \n",
       "5403  ...   0.2       0.0   0.0    0.0  0.1    0.0   0.1     0.1        0.0   \n",
       "5404  ...   0.1       0.0   0.0    0.0  0.0    0.0   0.0     0.2        0.0   \n",
       "5405  ...   0.0       0.0   0.0    0.2  0.0    0.0   0.1     0.0        0.0   \n",
       "5406  ...   0.1       0.0   0.0    0.1  0.0    0.0   0.0     0.0        0.0   \n",
       "5407  ...   0.0       0.0   0.1    0.0  0.1    0.2   0.0     0.1        0.1   \n",
       "\n",
       "      seulement  \n",
       "0           0.0  \n",
       "1           0.0  \n",
       "2           0.1  \n",
       "3           0.0  \n",
       "4           0.0  \n",
       "...         ...  \n",
       "5403        0.1  \n",
       "5404        0.3  \n",
       "5405        0.1  \n",
       "5406        0.1  \n",
       "5407        0.1  \n",
       "\n",
       "[5408 rows x 204 columns]"
      ]
     },
     "execution_count": 13,
     "metadata": {},
     "output_type": "execute_result"
    }
   ],
   "source": [
    "# load preprocessed data\n",
    "\n",
    "corpus = pd.read_csv('03_tests/test_1000_200mfw_rfreq.csv') # rel freq\n",
    "\n",
    "corpus"
   ]
  },
  {
   "cell_type": "code",
   "execution_count": 14,
   "id": "168fae86",
   "metadata": {},
   "outputs": [
    {
     "data": {
      "text/html": [
       "<div>\n",
       "<style scoped>\n",
       "    .dataframe tbody tr th:only-of-type {\n",
       "        vertical-align: middle;\n",
       "    }\n",
       "\n",
       "    .dataframe tbody tr th {\n",
       "        vertical-align: top;\n",
       "    }\n",
       "\n",
       "    .dataframe thead th {\n",
       "        text-align: right;\n",
       "    }\n",
       "</style>\n",
       "<table border=\"1\" class=\"dataframe\">\n",
       "  <thead>\n",
       "    <tr style=\"text-align: right;\">\n",
       "      <th></th>\n",
       "      <th>work</th>\n",
       "      <th>author</th>\n",
       "      <th>chunk_num</th>\n",
       "      <th>tag</th>\n",
       "    </tr>\n",
       "  </thead>\n",
       "  <tbody>\n",
       "    <tr>\n",
       "      <th>0</th>\n",
       "      <td>Avis</td>\n",
       "      <td>Baudeau</td>\n",
       "      <td>0</td>\n",
       "      <td>0__Baudeau_Avis</td>\n",
       "    </tr>\n",
       "    <tr>\n",
       "      <th>1</th>\n",
       "      <td>Explication</td>\n",
       "      <td>Baudeau</td>\n",
       "      <td>0</td>\n",
       "      <td>0__Baudeau_Explication</td>\n",
       "    </tr>\n",
       "    <tr>\n",
       "      <th>2</th>\n",
       "      <td>Idees sur l-administration</td>\n",
       "      <td>Baudeau</td>\n",
       "      <td>0</td>\n",
       "      <td>0__Baudeau_Idees sur l-administration</td>\n",
       "    </tr>\n",
       "    <tr>\n",
       "      <th>3</th>\n",
       "      <td>Idees sur les besoins 1</td>\n",
       "      <td>Baudeau</td>\n",
       "      <td>0</td>\n",
       "      <td>0__Baudeau_Idees sur les besoins 1</td>\n",
       "    </tr>\n",
       "    <tr>\n",
       "      <th>4</th>\n",
       "      <td>Idees sur les besoins 2</td>\n",
       "      <td>Baudeau</td>\n",
       "      <td>0</td>\n",
       "      <td>0__Baudeau_Idees sur les besoins 2</td>\n",
       "    </tr>\n",
       "    <tr>\n",
       "      <th>...</th>\n",
       "      <td>...</td>\n",
       "      <td>...</td>\n",
       "      <td>...</td>\n",
       "      <td>...</td>\n",
       "    </tr>\n",
       "    <tr>\n",
       "      <th>5403</th>\n",
       "      <td>elements T1</td>\n",
       "      <td>Marmontel</td>\n",
       "      <td>99</td>\n",
       "      <td>99__Marmontel_elements T1</td>\n",
       "    </tr>\n",
       "    <tr>\n",
       "      <th>5404</th>\n",
       "      <td>elements T2</td>\n",
       "      <td>Marmontel</td>\n",
       "      <td>99</td>\n",
       "      <td>99__Marmontel_elements T2</td>\n",
       "    </tr>\n",
       "    <tr>\n",
       "      <th>5405</th>\n",
       "      <td>elements T3</td>\n",
       "      <td>Marmontel</td>\n",
       "      <td>99</td>\n",
       "      <td>99__Marmontel_elements T3</td>\n",
       "    </tr>\n",
       "    <tr>\n",
       "      <th>5406</th>\n",
       "      <td>Manuel d-epictete</td>\n",
       "      <td>Naigeon</td>\n",
       "      <td>99</td>\n",
       "      <td>99__Naigeon_Manuel d-epictete</td>\n",
       "    </tr>\n",
       "    <tr>\n",
       "      <th>5407</th>\n",
       "      <td>L-ordre naturel</td>\n",
       "      <td>Rivière</td>\n",
       "      <td>99</td>\n",
       "      <td>99__Rivière_L-ordre naturel</td>\n",
       "    </tr>\n",
       "  </tbody>\n",
       "</table>\n",
       "<p>5408 rows × 4 columns</p>\n",
       "</div>"
      ],
      "text/plain": [
       "                            work     author  chunk_num  \\\n",
       "0                          Avis     Baudeau          0   \n",
       "1                    Explication    Baudeau          0   \n",
       "2     Idees sur l-administration    Baudeau          0   \n",
       "3        Idees sur les besoins 1    Baudeau          0   \n",
       "4        Idees sur les besoins 2    Baudeau          0   \n",
       "...                          ...        ...        ...   \n",
       "5403                 elements T1  Marmontel         99   \n",
       "5404                 elements T2  Marmontel         99   \n",
       "5405                 elements T3  Marmontel         99   \n",
       "5406           Manuel d-epictete    Naigeon         99   \n",
       "5407             L-ordre naturel   Rivière         99   \n",
       "\n",
       "                                        tag  \n",
       "0                          0__Baudeau_Avis   \n",
       "1                    0__Baudeau_Explication  \n",
       "2     0__Baudeau_Idees sur l-administration  \n",
       "3        0__Baudeau_Idees sur les besoins 1  \n",
       "4        0__Baudeau_Idees sur les besoins 2  \n",
       "...                                     ...  \n",
       "5403              99__Marmontel_elements T1  \n",
       "5404              99__Marmontel_elements T2  \n",
       "5405              99__Marmontel_elements T3  \n",
       "5406          99__Naigeon_Manuel d-epictete  \n",
       "5407           99__Rivière_L-ordre naturel  \n",
       "\n",
       "[5408 rows x 4 columns]"
      ]
     },
     "execution_count": 14,
     "metadata": {},
     "output_type": "execute_result"
    }
   ],
   "source": [
    "raw_df = corpus.iloc[:, :4] # leaves metadata\n",
    "X = corpus.iloc[:, 4:] # leaves only word columns\n",
    "\n",
    "raw_df"
   ]
  },
  {
   "cell_type": "code",
   "execution_count": 15,
   "id": "c30c7b8a",
   "metadata": {},
   "outputs": [
    {
     "data": {
      "text/plain": [
       "(5408, 200)"
      ]
     },
     "execution_count": 15,
     "metadata": {},
     "output_type": "execute_result"
    }
   ],
   "source": [
    "# numer of rows and columns in the X (word frequencies subset)\n",
    "X.shape"
   ]
  },
  {
   "cell_type": "code",
   "execution_count": 16,
   "id": "f06c3522",
   "metadata": {},
   "outputs": [
    {
     "data": {
      "text/html": [
       "<div>\n",
       "<style scoped>\n",
       "    .dataframe tbody tr th:only-of-type {\n",
       "        vertical-align: middle;\n",
       "    }\n",
       "\n",
       "    .dataframe tbody tr th {\n",
       "        vertical-align: top;\n",
       "    }\n",
       "\n",
       "    .dataframe thead th {\n",
       "        text-align: right;\n",
       "    }\n",
       "</style>\n",
       "<table border=\"1\" class=\"dataframe\">\n",
       "  <thead>\n",
       "    <tr style=\"text-align: right;\">\n",
       "      <th></th>\n",
       "      <th>work</th>\n",
       "      <th>author_label</th>\n",
       "      <th>author</th>\n",
       "      <th>chunk_num</th>\n",
       "      <th>tag</th>\n",
       "    </tr>\n",
       "  </thead>\n",
       "  <tbody>\n",
       "    <tr>\n",
       "      <th>0</th>\n",
       "      <td>Avis</td>\n",
       "      <td>0</td>\n",
       "      <td>Baudeau</td>\n",
       "      <td>0</td>\n",
       "      <td>0__Baudeau_Avis</td>\n",
       "    </tr>\n",
       "    <tr>\n",
       "      <th>1</th>\n",
       "      <td>Explication</td>\n",
       "      <td>0</td>\n",
       "      <td>Baudeau</td>\n",
       "      <td>0</td>\n",
       "      <td>0__Baudeau_Explication</td>\n",
       "    </tr>\n",
       "    <tr>\n",
       "      <th>2</th>\n",
       "      <td>Idees sur l-administration</td>\n",
       "      <td>0</td>\n",
       "      <td>Baudeau</td>\n",
       "      <td>0</td>\n",
       "      <td>0__Baudeau_Idees sur l-administration</td>\n",
       "    </tr>\n",
       "    <tr>\n",
       "      <th>3</th>\n",
       "      <td>Idees sur les besoins 1</td>\n",
       "      <td>0</td>\n",
       "      <td>Baudeau</td>\n",
       "      <td>0</td>\n",
       "      <td>0__Baudeau_Idees sur les besoins 1</td>\n",
       "    </tr>\n",
       "    <tr>\n",
       "      <th>4</th>\n",
       "      <td>Idees sur les besoins 2</td>\n",
       "      <td>0</td>\n",
       "      <td>Baudeau</td>\n",
       "      <td>0</td>\n",
       "      <td>0__Baudeau_Idees sur les besoins 2</td>\n",
       "    </tr>\n",
       "    <tr>\n",
       "      <th>...</th>\n",
       "      <td>...</td>\n",
       "      <td>...</td>\n",
       "      <td>...</td>\n",
       "      <td>...</td>\n",
       "      <td>...</td>\n",
       "    </tr>\n",
       "    <tr>\n",
       "      <th>5403</th>\n",
       "      <td>elements T1</td>\n",
       "      <td>10</td>\n",
       "      <td>Marmontel</td>\n",
       "      <td>99</td>\n",
       "      <td>99__Marmontel_elements T1</td>\n",
       "    </tr>\n",
       "    <tr>\n",
       "      <th>5404</th>\n",
       "      <td>elements T2</td>\n",
       "      <td>10</td>\n",
       "      <td>Marmontel</td>\n",
       "      <td>99</td>\n",
       "      <td>99__Marmontel_elements T2</td>\n",
       "    </tr>\n",
       "    <tr>\n",
       "      <th>5405</th>\n",
       "      <td>elements T3</td>\n",
       "      <td>10</td>\n",
       "      <td>Marmontel</td>\n",
       "      <td>99</td>\n",
       "      <td>99__Marmontel_elements T3</td>\n",
       "    </tr>\n",
       "    <tr>\n",
       "      <th>5406</th>\n",
       "      <td>Manuel d-epictete</td>\n",
       "      <td>13</td>\n",
       "      <td>Naigeon</td>\n",
       "      <td>99</td>\n",
       "      <td>99__Naigeon_Manuel d-epictete</td>\n",
       "    </tr>\n",
       "    <tr>\n",
       "      <th>5407</th>\n",
       "      <td>L-ordre naturel</td>\n",
       "      <td>16</td>\n",
       "      <td>Rivière</td>\n",
       "      <td>99</td>\n",
       "      <td>99__Rivière_L-ordre naturel</td>\n",
       "    </tr>\n",
       "  </tbody>\n",
       "</table>\n",
       "<p>5408 rows × 5 columns</p>\n",
       "</div>"
      ],
      "text/plain": [
       "                            work  author_label     author  chunk_num  \\\n",
       "0                          Avis              0    Baudeau          0   \n",
       "1                    Explication             0    Baudeau          0   \n",
       "2     Idees sur l-administration             0    Baudeau          0   \n",
       "3        Idees sur les besoins 1             0    Baudeau          0   \n",
       "4        Idees sur les besoins 2             0    Baudeau          0   \n",
       "...                          ...           ...        ...        ...   \n",
       "5403                 elements T1            10  Marmontel         99   \n",
       "5404                 elements T2            10  Marmontel         99   \n",
       "5405                 elements T3            10  Marmontel         99   \n",
       "5406           Manuel d-epictete            13    Naigeon         99   \n",
       "5407             L-ordre naturel            16   Rivière         99   \n",
       "\n",
       "                                        tag  \n",
       "0                          0__Baudeau_Avis   \n",
       "1                    0__Baudeau_Explication  \n",
       "2     0__Baudeau_Idees sur l-administration  \n",
       "3        0__Baudeau_Idees sur les besoins 1  \n",
       "4        0__Baudeau_Idees sur les besoins 2  \n",
       "...                                     ...  \n",
       "5403              99__Marmontel_elements T1  \n",
       "5404              99__Marmontel_elements T2  \n",
       "5405              99__Marmontel_elements T3  \n",
       "5406          99__Naigeon_Manuel d-epictete  \n",
       "5407           99__Rivière_L-ordre naturel  \n",
       "\n",
       "[5408 rows x 5 columns]"
      ]
     },
     "execution_count": 16,
     "metadata": {},
     "output_type": "execute_result"
    }
   ],
   "source": [
    "# create numeric author labels\n",
    "labels, label_uniques = raw_df.author.factorize()\n",
    "raw_df.insert(1, \"author_label\", labels)\n",
    "raw_df"
   ]
  },
  {
   "cell_type": "code",
   "execution_count": 17,
   "id": "8f72d845",
   "metadata": {},
   "outputs": [
    {
     "data": {
      "text/plain": [
       "array(['Baudeau', 'Chastellux', 'Condorcet', 'Deleyre', 'dHolbach',\n",
       "       'Diderot', 'Guibert', 'Jaucourt', 'Jussieu', 'La Grange',\n",
       "       'Marmontel', 'Meister', 'Morellet', 'Naigeon', 'Pechmeja',\n",
       "       'Raynal', 'Rivière', 'Saint-Lambert'], dtype=object)"
      ]
     },
     "execution_count": 17,
     "metadata": {},
     "output_type": "execute_result"
    }
   ],
   "source": [
    "# check unique authors\n",
    "label_uniques.values"
   ]
  },
  {
   "cell_type": "code",
   "execution_count": 18,
   "id": "d8d2de85",
   "metadata": {},
   "outputs": [],
   "source": [
    "# set verifier\n",
    "rng = np.random.default_rng(42)\n",
    "\n",
    "bdi_mm = BDIVerifier(\n",
    "    metric='minmax', nb_bootstrap_iter=1000, rnd_prop=0.35, random_state=rng\n",
    ")"
   ]
  },
  {
   "cell_type": "code",
   "execution_count": 80,
   "id": "414d8434",
   "metadata": {},
   "outputs": [
    {
     "name": "stderr",
     "output_type": "stream",
     "text": [
      "12/19/2024 05:21:18 [ruzicka:INFO] Fitting on 5358 documents...\n",
      "12/19/2024 05:21:18 [ruzicka:INFO] Predicting on 50 documents\n"
     ]
    },
    {
     "name": "stdout",
     "output_type": "stream",
     "text": [
      "\n",
      "\n",
      "#######################\n",
      "Baudeau: Avis \n",
      "\n",
      "    work  author_label   author  chunk_num               tag\n",
      "1  Avis              0  Baudeau          1  1__Baudeau_Avis \n"
     ]
    },
    {
     "name": "stderr",
     "output_type": "stream",
     "text": [
      "12/19/2024 05:21:31 [ruzicka:INFO] Fitting on 5386 documents...\n",
      "12/19/2024 05:21:31 [ruzicka:INFO] Predicting on 22 documents\n"
     ]
    },
    {
     "name": "stdout",
     "output_type": "stream",
     "text": [
      "Results written in: 03_tests/tests/ch1000/mfw200/Baudeau_Avis .csv\n",
      "\n",
      "\n",
      "#######################\n",
      "Baudeau: Explication\n",
      "\n",
      "          work  author_label   author  chunk_num                     tag\n",
      "1  Explication             0  Baudeau          1  1__Baudeau_Explication\n"
     ]
    },
    {
     "name": "stderr",
     "output_type": "stream",
     "text": [
      "12/19/2024 05:21:38 [ruzicka:INFO] Fitting on 5390 documents...\n",
      "12/19/2024 05:21:38 [ruzicka:INFO] Predicting on 18 documents\n"
     ]
    },
    {
     "name": "stdout",
     "output_type": "stream",
     "text": [
      "Results written in: 03_tests/tests/ch1000/mfw200/Baudeau_Explication.csv\n",
      "\n",
      "\n",
      "#######################\n",
      "Baudeau: Idees sur l-administration\n",
      "\n",
      "                         work  author_label   author  chunk_num  \\\n",
      "1  Idees sur l-administration             0  Baudeau          1   \n",
      "\n",
      "                                     tag  \n",
      "1  1__Baudeau_Idees sur l-administration  \n"
     ]
    },
    {
     "name": "stderr",
     "output_type": "stream",
     "text": [
      "12/19/2024 05:21:44 [ruzicka:INFO] Fitting on 5336 documents...\n",
      "12/19/2024 05:21:44 [ruzicka:INFO] Predicting on 72 documents\n"
     ]
    },
    {
     "name": "stdout",
     "output_type": "stream",
     "text": [
      "Results written in: 03_tests/tests/ch1000/mfw200/Baudeau_Idees sur l-administration.csv\n",
      "\n",
      "\n",
      "#######################\n",
      "Baudeau: Idees sur les besoins 1\n",
      "\n",
      "                      work  author_label   author  chunk_num  \\\n",
      "1  Idees sur les besoins 1             0  Baudeau          1   \n",
      "\n",
      "                                  tag  \n",
      "1  1__Baudeau_Idees sur les besoins 1  \n"
     ]
    },
    {
     "name": "stderr",
     "output_type": "stream",
     "text": [
      "12/19/2024 05:22:02 [ruzicka:INFO] Fitting on 5336 documents...\n",
      "12/19/2024 05:22:02 [ruzicka:INFO] Predicting on 72 documents\n"
     ]
    },
    {
     "name": "stdout",
     "output_type": "stream",
     "text": [
      "Results written in: 03_tests/tests/ch1000/mfw200/Baudeau_Idees sur les besoins 1.csv\n",
      "\n",
      "\n",
      "#######################\n",
      "Baudeau: Idees sur les besoins 2\n",
      "\n",
      "                      work  author_label   author  chunk_num  \\\n",
      "1  Idees sur les besoins 2             0  Baudeau          1   \n",
      "\n",
      "                                  tag  \n",
      "1  1__Baudeau_Idees sur les besoins 2  \n"
     ]
    },
    {
     "name": "stderr",
     "output_type": "stream",
     "text": [
      "12/19/2024 05:22:20 [ruzicka:INFO] Fitting on 5406 documents...\n",
      "12/19/2024 05:22:20 [ruzicka:INFO] Predicting on 2 documents\n"
     ]
    },
    {
     "name": "stdout",
     "output_type": "stream",
     "text": [
      "Results written in: 03_tests/tests/ch1000/mfw200/Baudeau_Idees sur les besoins 2.csv\n",
      "\n",
      "\n",
      "#######################\n",
      "Baudeau: Lettre du fermier\n",
      "\n",
      "                work  author_label   author  chunk_num  \\\n",
      "1  Lettre du fermier             0  Baudeau          1   \n",
      "\n",
      "                            tag  \n",
      "1  1__Baudeau_Lettre du fermier  \n"
     ]
    },
    {
     "name": "stderr",
     "output_type": "stream",
     "text": [
      "12/19/2024 05:22:21 [ruzicka:INFO] Fitting on 5380 documents...\n",
      "12/19/2024 05:22:21 [ruzicka:INFO] Predicting on 28 documents\n"
     ]
    },
    {
     "name": "stdout",
     "output_type": "stream",
     "text": [
      "Results written in: 03_tests/tests/ch1000/mfw200/Baudeau_Lettre du fermier.csv\n",
      "\n",
      "\n",
      "#######################\n",
      "Baudeau: Lettres  a un magistraTtxt\n",
      "\n",
      "                         work  author_label   author  chunk_num  \\\n",
      "1  Lettres  a un magistraTtxt             0  Baudeau          1   \n",
      "\n",
      "                                     tag  \n",
      "1  1__Baudeau_Lettres  a un magistraTtxt  \n"
     ]
    },
    {
     "name": "stderr",
     "output_type": "stream",
     "text": [
      "12/19/2024 05:22:29 [ruzicka:INFO] Fitting on 5402 documents...\n",
      "12/19/2024 05:22:29 [ruzicka:INFO] Predicting on 6 documents\n"
     ]
    },
    {
     "name": "stdout",
     "output_type": "stream",
     "text": [
      "Results written in: 03_tests/tests/ch1000/mfw200/Baudeau_Lettres  a un magistraTtxt.csv\n",
      "\n",
      "\n",
      "#######################\n",
      "Baudeau: Resultats\n",
      "\n",
      "        work  author_label   author  chunk_num                   tag\n",
      "1  Resultats             0  Baudeau          1  1__Baudeau_Resultats\n"
     ]
    },
    {
     "name": "stderr",
     "output_type": "stream",
     "text": [
      "12/19/2024 05:22:31 [ruzicka:INFO] Fitting on 5271 documents...\n",
      "12/19/2024 05:22:31 [ruzicka:INFO] Predicting on 137 documents\n"
     ]
    },
    {
     "name": "stdout",
     "output_type": "stream",
     "text": [
      "Results written in: 03_tests/tests/ch1000/mfw200/Baudeau_Resultats.csv\n",
      "\n",
      "\n",
      "#######################\n",
      "Chastellux: De la felicite\n",
      "\n",
      "             work  author_label      author  chunk_num  \\\n",
      "1  De la felicite             1  Chastellux          1   \n",
      "\n",
      "                            tag  \n",
      "1  1__Chastellux_De la felicite  \n"
     ]
    },
    {
     "name": "stderr",
     "output_type": "stream",
     "text": [
      "12/19/2024 05:23:10 [ruzicka:INFO] Fitting on 5372 documents...\n",
      "12/19/2024 05:23:10 [ruzicka:INFO] Predicting on 36 documents\n"
     ]
    },
    {
     "name": "stdout",
     "output_type": "stream",
     "text": [
      "Results written in: 03_tests/tests/ch1000/mfw200/Chastellux_De la felicite.csv\n",
      "\n",
      "\n",
      "#######################\n",
      "Chastellux: eloge\n",
      "\n",
      "    work  author_label    author  chunk_num                tag\n",
      "1  eloge            14  Pechmeja          0  0__Pechmeja_eloge\n"
     ]
    },
    {
     "name": "stderr",
     "output_type": "stream",
     "text": [
      "12/19/2024 05:23:25 [ruzicka:INFO] Fitting on 5331 documents...\n",
      "12/19/2024 05:23:25 [ruzicka:INFO] Predicting on 77 documents\n"
     ]
    },
    {
     "name": "stdout",
     "output_type": "stream",
     "text": [
      "Results written in: 03_tests/tests/ch1000/mfw200/Chastellux_eloge.csv\n",
      "\n",
      "\n",
      "#######################\n",
      "Chastellux: Voyage de Newport\n",
      "\n",
      "                work  author_label      author  chunk_num  \\\n",
      "1  Voyage de Newport             1  Chastellux          1   \n",
      "\n",
      "                               tag  \n",
      "1  1__Chastellux_Voyage de Newport  \n"
     ]
    },
    {
     "name": "stderr",
     "output_type": "stream",
     "text": [
      "12/19/2024 05:23:50 [ruzicka:INFO] Fitting on 5326 documents...\n",
      "12/19/2024 05:23:50 [ruzicka:INFO] Predicting on 82 documents\n"
     ]
    },
    {
     "name": "stdout",
     "output_type": "stream",
     "text": [
      "Results written in: 03_tests/tests/ch1000/mfw200/Chastellux_Voyage de Newport.csv\n",
      "\n",
      "\n",
      "#######################\n",
      "Chastellux: Voyages T1\n",
      "\n",
      "         work  author_label      author  chunk_num                       tag\n",
      "1  Voyages T1             1  Chastellux          1  1__Chastellux_Voyages T1\n"
     ]
    },
    {
     "name": "stderr",
     "output_type": "stream",
     "text": [
      "12/19/2024 05:24:18 [ruzicka:INFO] Fitting on 5333 documents...\n",
      "12/19/2024 05:24:18 [ruzicka:INFO] Predicting on 75 documents\n"
     ]
    },
    {
     "name": "stdout",
     "output_type": "stream",
     "text": [
      "Results written in: 03_tests/tests/ch1000/mfw200/Chastellux_Voyages T1.csv\n",
      "\n",
      "\n",
      "#######################\n",
      "Chastellux: Voyages T2\n",
      "\n",
      "         work  author_label      author  chunk_num                       tag\n",
      "1  Voyages T2             1  Chastellux          1  1__Chastellux_Voyages T2\n"
     ]
    },
    {
     "name": "stderr",
     "output_type": "stream",
     "text": [
      "12/19/2024 05:24:43 [ruzicka:INFO] Fitting on 5336 documents...\n",
      "12/19/2024 05:24:43 [ruzicka:INFO] Predicting on 72 documents\n"
     ]
    },
    {
     "name": "stdout",
     "output_type": "stream",
     "text": [
      "Results written in: 03_tests/tests/ch1000/mfw200/Chastellux_Voyages T2.csv\n",
      "\n",
      "\n",
      "#######################\n",
      "Condorcet: 11\n",
      "\n",
      "  work  author_label     author  chunk_num              tag\n",
      "1   11             2  Condorcet          1  1__Condorcet_11\n"
     ]
    },
    {
     "name": "stderr",
     "output_type": "stream",
     "text": [
      "12/19/2024 05:25:15 [ruzicka:INFO] Fitting on 5340 documents...\n",
      "12/19/2024 05:25:15 [ruzicka:INFO] Predicting on 68 documents\n"
     ]
    },
    {
     "name": "stdout",
     "output_type": "stream",
     "text": [
      "Results written in: 03_tests/tests/ch1000/mfw200/Condorcet_11.csv\n",
      "\n",
      "\n",
      "#######################\n",
      "Condorcet: 12\n",
      "\n",
      "  work  author_label     author  chunk_num              tag\n",
      "1   12             2  Condorcet          1  1__Condorcet_12\n"
     ]
    },
    {
     "name": "stderr",
     "output_type": "stream",
     "text": [
      "12/19/2024 05:25:46 [ruzicka:INFO] Fitting on 5352 documents...\n",
      "12/19/2024 05:25:46 [ruzicka:INFO] Predicting on 56 documents\n"
     ]
    },
    {
     "name": "stdout",
     "output_type": "stream",
     "text": [
      "Results written in: 03_tests/tests/ch1000/mfw200/Condorcet_12.csv\n",
      "\n",
      "\n",
      "#######################\n",
      "Condorcet: 13\n",
      "\n",
      "  work  author_label     author  chunk_num              tag\n",
      "1   13             2  Condorcet          1  1__Condorcet_13\n"
     ]
    },
    {
     "name": "stderr",
     "output_type": "stream",
     "text": [
      "12/19/2024 05:26:12 [ruzicka:INFO] Fitting on 5350 documents...\n",
      "12/19/2024 05:26:12 [ruzicka:INFO] Predicting on 58 documents\n"
     ]
    },
    {
     "name": "stdout",
     "output_type": "stream",
     "text": [
      "Results written in: 03_tests/tests/ch1000/mfw200/Condorcet_13.csv\n",
      "\n",
      "\n",
      "#######################\n",
      "Condorcet: 15\n",
      "\n",
      "  work  author_label     author  chunk_num              tag\n",
      "1   15             2  Condorcet          1  1__Condorcet_15\n"
     ]
    },
    {
     "name": "stderr",
     "output_type": "stream",
     "text": [
      "12/19/2024 05:26:39 [ruzicka:INFO] Fitting on 5338 documents...\n",
      "12/19/2024 05:26:39 [ruzicka:INFO] Predicting on 70 documents\n"
     ]
    },
    {
     "name": "stdout",
     "output_type": "stream",
     "text": [
      "Results written in: 03_tests/tests/ch1000/mfw200/Condorcet_15.csv\n",
      "\n",
      "\n",
      "#######################\n",
      "Condorcet: 17\n",
      "\n",
      "  work  author_label     author  chunk_num              tag\n",
      "1   17             2  Condorcet          1  1__Condorcet_17\n"
     ]
    },
    {
     "name": "stderr",
     "output_type": "stream",
     "text": [
      "12/19/2024 05:27:11 [ruzicka:INFO] Fitting on 5339 documents...\n",
      "12/19/2024 05:27:11 [ruzicka:INFO] Predicting on 69 documents\n"
     ]
    },
    {
     "name": "stdout",
     "output_type": "stream",
     "text": [
      "Results written in: 03_tests/tests/ch1000/mfw200/Condorcet_17.csv\n",
      "\n",
      "\n",
      "#######################\n",
      "Condorcet: 19\n",
      "\n",
      "  work  author_label     author  chunk_num              tag\n",
      "1   19             2  Condorcet          1  1__Condorcet_19\n"
     ]
    },
    {
     "name": "stderr",
     "output_type": "stream",
     "text": [
      "12/19/2024 05:27:42 [ruzicka:INFO] Fitting on 5338 documents...\n",
      "12/19/2024 05:27:42 [ruzicka:INFO] Predicting on 70 documents\n"
     ]
    },
    {
     "name": "stdout",
     "output_type": "stream",
     "text": [
      "Results written in: 03_tests/tests/ch1000/mfw200/Condorcet_19.csv\n",
      "\n",
      "\n",
      "#######################\n",
      "Condorcet: 20\n",
      "\n",
      "  work  author_label     author  chunk_num              tag\n",
      "1   20             2  Condorcet          1  1__Condorcet_20\n"
     ]
    },
    {
     "name": "stderr",
     "output_type": "stream",
     "text": [
      "12/19/2024 05:28:13 [ruzicka:INFO] Fitting on 5362 documents...\n",
      "12/19/2024 05:28:13 [ruzicka:INFO] Predicting on 46 documents\n"
     ]
    },
    {
     "name": "stdout",
     "output_type": "stream",
     "text": [
      "Results written in: 03_tests/tests/ch1000/mfw200/Condorcet_20.csv\n",
      "\n",
      "\n",
      "#######################\n",
      "Condorcet: 21\n",
      "\n",
      "  work  author_label     author  chunk_num              tag\n",
      "1   21             2  Condorcet          1  1__Condorcet_21\n"
     ]
    },
    {
     "name": "stderr",
     "output_type": "stream",
     "text": [
      "12/19/2024 05:28:35 [ruzicka:INFO] Fitting on 5361 documents...\n",
      "12/19/2024 05:28:35 [ruzicka:INFO] Predicting on 47 documents\n"
     ]
    },
    {
     "name": "stdout",
     "output_type": "stream",
     "text": [
      "Results written in: 03_tests/tests/ch1000/mfw200/Condorcet_21.csv\n",
      "\n",
      "\n",
      "#######################\n",
      "Deleyre: Analyse de la philosophie\n",
      "\n",
      "                        work  author_label   author  chunk_num  \\\n",
      "1  Analyse de la philosophie             3  Deleyre          1   \n",
      "\n",
      "                                    tag  \n",
      "1  1__Deleyre_Analyse de la philosophie  \n"
     ]
    },
    {
     "name": "stderr",
     "output_type": "stream",
     "text": [
      "12/19/2024 05:28:45 [ruzicka:INFO] Fitting on 5396 documents...\n",
      "12/19/2024 05:28:45 [ruzicka:INFO] Predicting on 12 documents\n"
     ]
    },
    {
     "name": "stdout",
     "output_type": "stream",
     "text": [
      "Results written in: 03_tests/tests/ch1000/mfw200/Deleyre_Analyse de la philosophie.csv\n",
      "\n",
      "\n",
      "#######################\n",
      "Deleyre: eloge de M Roux\n",
      "\n",
      "              work  author_label   author  chunk_num  \\\n",
      "1  eloge de M Roux             3  Deleyre          1   \n",
      "\n",
      "                          tag  \n",
      "1  1__Deleyre_eloge de M Roux  \n"
     ]
    },
    {
     "name": "stderr",
     "output_type": "stream",
     "text": [
      "12/19/2024 05:28:48 [ruzicka:INFO] Fitting on 5343 documents...\n",
      "12/19/2024 05:28:48 [ruzicka:INFO] Predicting on 65 documents\n"
     ]
    },
    {
     "name": "stdout",
     "output_type": "stream",
     "text": [
      "Results written in: 03_tests/tests/ch1000/mfw200/Deleyre_eloge de M Roux.csv\n",
      "\n",
      "\n",
      "#######################\n",
      "Deleyre: Essai sur la vie\n",
      "\n",
      "               work  author_label   author  chunk_num  \\\n",
      "1  Essai sur la vie             3  Deleyre          1   \n",
      "\n",
      "                           tag  \n",
      "1  1__Deleyre_Essai sur la vie  \n"
     ]
    },
    {
     "name": "stderr",
     "output_type": "stream",
     "text": [
      "12/19/2024 05:29:01 [ruzicka:INFO] Fitting on 5397 documents...\n",
      "12/19/2024 05:29:01 [ruzicka:INFO] Predicting on 11 documents\n"
     ]
    },
    {
     "name": "stdout",
     "output_type": "stream",
     "text": [
      "Results written in: 03_tests/tests/ch1000/mfw200/Deleyre_Essai sur la vie.csv\n",
      "\n",
      "\n",
      "#######################\n",
      "Deleyre: Fanatisme\n",
      "\n",
      "        work  author_label   author  chunk_num                   tag\n",
      "1  Fanatisme             3  Deleyre          1  1__Deleyre_Fanatisme\n"
     ]
    },
    {
     "name": "stderr",
     "output_type": "stream",
     "text": [
      "12/19/2024 05:29:03 [ruzicka:INFO] Fitting on 5392 documents...\n",
      "12/19/2024 05:29:03 [ruzicka:INFO] Predicting on 16 documents\n"
     ]
    },
    {
     "name": "stdout",
     "output_type": "stream",
     "text": [
      "Results written in: 03_tests/tests/ch1000/mfw200/Deleyre_Fanatisme.csv\n",
      "\n",
      "\n",
      "#######################\n",
      "Deleyre: Idees sur l-education\n",
      "\n",
      "                    work  author_label   author  chunk_num  \\\n",
      "1  Idees sur l-education             3  Deleyre          1   \n",
      "\n",
      "                                tag  \n",
      "1  1__Deleyre_Idees sur l-education  \n"
     ]
    },
    {
     "name": "stderr",
     "output_type": "stream",
     "text": [
      "12/19/2024 05:29:07 [ruzicka:INFO] Fitting on 5360 documents...\n",
      "12/19/2024 05:29:07 [ruzicka:INFO] Predicting on 48 documents\n"
     ]
    },
    {
     "name": "stdout",
     "output_type": "stream",
     "text": [
      "Results written in: 03_tests/tests/ch1000/mfw200/Deleyre_Idees sur l-education.csv\n",
      "\n",
      "\n",
      "#######################\n",
      "Deleyre: L-esprit de Saint-evremont\n",
      "\n",
      "                         work  author_label   author  chunk_num  \\\n",
      "1  L-esprit de Saint-evremont             3  Deleyre          1   \n",
      "\n",
      "                                     tag  \n",
      "1  1__Deleyre_L-esprit de Saint-evremont  \n"
     ]
    },
    {
     "name": "stderr",
     "output_type": "stream",
     "text": [
      "12/19/2024 05:29:17 [ruzicka:INFO] Fitting on 5405 documents...\n",
      "12/19/2024 05:29:17 [ruzicka:INFO] Predicting on 3 documents\n"
     ]
    },
    {
     "name": "stdout",
     "output_type": "stream",
     "text": [
      "Results written in: 03_tests/tests/ch1000/mfw200/Deleyre_L-esprit de Saint-evremont.csv\n",
      "\n",
      "\n",
      "#######################\n",
      "Deleyre: Rapport pour des Corses expatries\n",
      "\n",
      "                                work  author_label   author  chunk_num  \\\n",
      "1  Rapport pour des Corses expatries             3  Deleyre          1   \n",
      "\n",
      "                                            tag  \n",
      "1  1__Deleyre_Rapport pour des Corses expatries  \n"
     ]
    },
    {
     "name": "stderr",
     "output_type": "stream",
     "text": [
      "12/19/2024 05:29:18 [ruzicka:INFO] Fitting on 5403 documents...\n",
      "12/19/2024 05:29:18 [ruzicka:INFO] Predicting on 5 documents\n"
     ]
    },
    {
     "name": "stdout",
     "output_type": "stream",
     "text": [
      "Results written in: 03_tests/tests/ch1000/mfw200/Deleyre_Rapport pour des Corses expatries.csv\n",
      "\n",
      "\n",
      "#######################\n",
      "Deleyre: Sur la question\n",
      "\n",
      "              work  author_label   author  chunk_num  \\\n",
      "1  Sur la question             3  Deleyre          1   \n",
      "\n",
      "                          tag  \n",
      "1  1__Deleyre_Sur la question  \n"
     ]
    },
    {
     "name": "stderr",
     "output_type": "stream",
     "text": [
      "12/19/2024 05:29:19 [ruzicka:INFO] Fitting on 5345 documents...\n",
      "12/19/2024 05:29:19 [ruzicka:INFO] Predicting on 63 documents\n"
     ]
    },
    {
     "name": "stdout",
     "output_type": "stream",
     "text": [
      "Results written in: 03_tests/tests/ch1000/mfw200/Deleyre_Sur la question.csv\n",
      "\n",
      "\n",
      "#######################\n",
      "dHolbach: ethocratie\n",
      "\n",
      "         work  author_label    author  chunk_num                     tag\n",
      "1  ethocratie             4  dHolbach          1  1__dHolbach_ethocratie\n"
     ]
    },
    {
     "name": "stderr",
     "output_type": "stream",
     "text": [
      "12/19/2024 05:29:40 [ruzicka:INFO] Fitting on 5369 documents...\n",
      "12/19/2024 05:29:40 [ruzicka:INFO] Predicting on 39 documents\n"
     ]
    },
    {
     "name": "stdout",
     "output_type": "stream",
     "text": [
      "Results written in: 03_tests/tests/ch1000/mfw200/dHolbach_ethocratie.csv\n",
      "\n",
      "\n",
      "#######################\n",
      "dHolbach: La contagion 2\n",
      "\n",
      "             work  author_label    author  chunk_num  \\\n",
      "1  La contagion 2             4  dHolbach          1   \n",
      "\n",
      "                          tag  \n",
      "1  1__dHolbach_La contagion 2  \n"
     ]
    },
    {
     "name": "stderr",
     "output_type": "stream",
     "text": [
      "12/19/2024 05:29:54 [ruzicka:INFO] Fitting on 5385 documents...\n",
      "12/19/2024 05:29:54 [ruzicka:INFO] Predicting on 23 documents\n"
     ]
    },
    {
     "name": "stdout",
     "output_type": "stream",
     "text": [
      "Results written in: 03_tests/tests/ch1000/mfw200/dHolbach_La contagion 2.csv\n",
      "\n",
      "\n",
      "#######################\n",
      "dHolbach: La Morale 1\n",
      "\n",
      "          work  author_label    author  chunk_num                      tag\n",
      "1  La Morale 1             4  dHolbach          1  1__dHolbach_La Morale 1\n"
     ]
    },
    {
     "name": "stderr",
     "output_type": "stream",
     "text": [
      "12/19/2024 05:30:03 [ruzicka:INFO] Fitting on 5387 documents...\n",
      "12/19/2024 05:30:03 [ruzicka:INFO] Predicting on 21 documents\n"
     ]
    },
    {
     "name": "stdout",
     "output_type": "stream",
     "text": [
      "Results written in: 03_tests/tests/ch1000/mfw200/dHolbach_La Morale 1.csv\n",
      "\n",
      "\n",
      "#######################\n",
      "dHolbach: La Morale 2\n",
      "\n",
      "          work  author_label    author  chunk_num                      tag\n",
      "1  La Morale 2             4  dHolbach          1  1__dHolbach_La Morale 2\n"
     ]
    },
    {
     "name": "stderr",
     "output_type": "stream",
     "text": [
      "12/19/2024 05:30:10 [ruzicka:INFO] Fitting on 5342 documents...\n",
      "12/19/2024 05:30:10 [ruzicka:INFO] Predicting on 66 documents\n"
     ]
    },
    {
     "name": "stdout",
     "output_type": "stream",
     "text": [
      "Results written in: 03_tests/tests/ch1000/mfw200/dHolbach_La Morale 2.csv\n",
      "\n",
      "\n",
      "#######################\n",
      "dHolbach: La Morale 4\n",
      "\n",
      "          work  author_label    author  chunk_num                      tag\n",
      "1  La Morale 4             4  dHolbach          1  1__dHolbach_La Morale 4\n"
     ]
    },
    {
     "name": "stderr",
     "output_type": "stream",
     "text": [
      "12/19/2024 05:30:32 [ruzicka:INFO] Fitting on 5343 documents...\n",
      "12/19/2024 05:30:32 [ruzicka:INFO] Predicting on 65 documents\n"
     ]
    },
    {
     "name": "stdout",
     "output_type": "stream",
     "text": [
      "Results written in: 03_tests/tests/ch1000/mfw200/dHolbach_La Morale 4.csv\n",
      "\n",
      "\n",
      "#######################\n",
      "dHolbach: Le bon sens\n",
      "\n",
      "          work  author_label    author  chunk_num                      tag\n",
      "1  Le bon sens             4  dHolbach          1  1__dHolbach_Le bon sens\n"
     ]
    },
    {
     "name": "stderr",
     "output_type": "stream",
     "text": [
      "12/19/2024 05:30:54 [ruzicka:INFO] Fitting on 5366 documents...\n",
      "12/19/2024 05:30:54 [ruzicka:INFO] Predicting on 42 documents\n"
     ]
    },
    {
     "name": "stdout",
     "output_type": "stream",
     "text": [
      "Results written in: 03_tests/tests/ch1000/mfw200/dHolbach_Le bon sens.csv\n",
      "\n",
      "\n",
      "#######################\n",
      "dHolbach: Le Christianisme\n",
      "\n",
      "               work  author_label    author  chunk_num  \\\n",
      "1  Le Christianisme             4  dHolbach          1   \n",
      "\n",
      "                            tag  \n",
      "1  1__dHolbach_Le Christianisme  \n"
     ]
    },
    {
     "name": "stderr",
     "output_type": "stream",
     "text": [
      "12/19/2024 05:31:09 [ruzicka:INFO] Fitting on 5360 documents...\n",
      "12/19/2024 05:31:09 [ruzicka:INFO] Predicting on 48 documents\n"
     ]
    },
    {
     "name": "stdout",
     "output_type": "stream",
     "text": [
      "Results written in: 03_tests/tests/ch1000/mfw200/dHolbach_Le Christianisme.csv\n",
      "\n",
      "\n",
      "#######################\n",
      "dHolbach: Système Social 3\n",
      "\n",
      "                work  author_label    author  chunk_num  \\\n",
      "1  Système Social 3             4  dHolbach          1   \n",
      "\n",
      "                             tag  \n",
      "1  1__dHolbach_Système Social 3  \n"
     ]
    },
    {
     "name": "stderr",
     "output_type": "stream",
     "text": [
      "12/19/2024 05:31:26 [ruzicka:INFO] Fitting on 5404 documents...\n",
      "12/19/2024 05:31:26 [ruzicka:INFO] Predicting on 4 documents\n"
     ]
    },
    {
     "name": "stdout",
     "output_type": "stream",
     "text": [
      "Results written in: 03_tests/tests/ch1000/mfw200/dHolbach_Système Social 3.csv\n",
      "\n",
      "\n",
      "#######################\n",
      "Diderot: De la suffisance\n",
      "\n",
      "               work  author_label   author  chunk_num  \\\n",
      "1  De la suffisance             5  Diderot          1   \n",
      "\n",
      "                           tag  \n",
      "1  1__Diderot_De la suffisance  \n"
     ]
    },
    {
     "name": "stderr",
     "output_type": "stream",
     "text": [
      "12/19/2024 05:31:26 [ruzicka:INFO] Fitting on 5402 documents...\n",
      "12/19/2024 05:31:26 [ruzicka:INFO] Predicting on 6 documents\n"
     ]
    },
    {
     "name": "stdout",
     "output_type": "stream",
     "text": [
      "Results written in: 03_tests/tests/ch1000/mfw200/Diderot_De la suffisance.csv\n",
      "\n",
      "\n",
      "#######################\n",
      "Diderot: eloge de Richardson\n",
      "\n",
      "                  work  author_label   author  chunk_num  \\\n",
      "1  eloge de Richardson             5  Diderot          1   \n",
      "\n",
      "                              tag  \n",
      "1  1__Diderot_eloge de Richardson  \n"
     ]
    },
    {
     "name": "stderr",
     "output_type": "stream",
     "text": [
      "12/19/2024 05:31:28 [ruzicka:INFO] Fitting on 5392 documents...\n",
      "12/19/2024 05:31:28 [ruzicka:INFO] Predicting on 16 documents\n"
     ]
    },
    {
     "name": "stdout",
     "output_type": "stream",
     "text": [
      "Results written in: 03_tests/tests/ch1000/mfw200/Diderot_eloge de Richardson.csv\n",
      "\n",
      "\n",
      "#######################\n",
      "Diderot: L-Histoire et le secret de\n",
      "\n",
      "                         work  author_label   author  chunk_num  \\\n",
      "1  L-Histoire et le secret de             5  Diderot          1   \n",
      "\n",
      "                                     tag  \n",
      "1  1__Diderot_L-Histoire et le secret de  \n"
     ]
    },
    {
     "name": "stderr",
     "output_type": "stream",
     "text": [
      "12/19/2024 05:31:30 [ruzicka:INFO] Fitting on 5377 documents...\n",
      "12/19/2024 05:31:30 [ruzicka:INFO] Predicting on 31 documents\n"
     ]
    },
    {
     "name": "stdout",
     "output_type": "stream",
     "text": [
      "Results written in: 03_tests/tests/ch1000/mfw200/Diderot_L-Histoire et le secret de.csv\n",
      "\n",
      "\n",
      "#######################\n",
      "Diderot: Lettre sur les sourds et muets\n",
      "\n",
      "                             work  author_label   author  chunk_num  \\\n",
      "1  Lettre sur les sourds et muets             5  Diderot          1   \n",
      "\n",
      "                                         tag  \n",
      "1  1__Diderot_Lettre sur les sourds et muets  \n"
     ]
    },
    {
     "name": "stderr",
     "output_type": "stream",
     "text": [
      "12/19/2024 05:31:35 [ruzicka:INFO] Fitting on 5378 documents...\n",
      "12/19/2024 05:31:35 [ruzicka:INFO] Predicting on 30 documents\n"
     ]
    },
    {
     "name": "stdout",
     "output_type": "stream",
     "text": [
      "Results written in: 03_tests/tests/ch1000/mfw200/Diderot_Lettre sur les sourds et muets.csv\n",
      "\n",
      "\n",
      "#######################\n",
      "Diderot: Pensees Detachees\n",
      "\n",
      "                work  author_label   author  chunk_num  \\\n",
      "1  Pensees Detachees             5  Diderot          1   \n",
      "\n",
      "                            tag  \n",
      "1  1__Diderot_Pensees Detachees  \n"
     ]
    },
    {
     "name": "stderr",
     "output_type": "stream",
     "text": [
      "12/19/2024 05:31:40 [ruzicka:INFO] Fitting on 5406 documents...\n",
      "12/19/2024 05:31:40 [ruzicka:INFO] Predicting on 2 documents\n"
     ]
    },
    {
     "name": "stdout",
     "output_type": "stream",
     "text": [
      "Results written in: 03_tests/tests/ch1000/mfw200/Diderot_Pensees Detachees.csv\n",
      "\n",
      "\n",
      "#######################\n",
      "Diderot: Principes Philosophiques sur la matière\n",
      "\n",
      "                                       work  author_label   author  chunk_num  \\\n",
      "1  Principes Philosophiques sur la matière             5  Diderot          1   \n",
      "\n",
      "                                                 tag  \n",
      "1  1__Diderot_Principes Philosophiques sur la mat...  \n"
     ]
    },
    {
     "name": "stderr",
     "output_type": "stream",
     "text": [
      "12/19/2024 05:31:41 [ruzicka:INFO] Fitting on 5384 documents...\n",
      "12/19/2024 05:31:41 [ruzicka:INFO] Predicting on 24 documents\n"
     ]
    },
    {
     "name": "stdout",
     "output_type": "stream",
     "text": [
      "Results written in: 03_tests/tests/ch1000/mfw200/Diderot_Principes Philosophiques sur la matière.csv\n",
      "\n",
      "\n",
      "#######################\n",
      "Diderot: Salon 1763\n",
      "\n",
      "         work  author_label   author  chunk_num                    tag\n",
      "1  Salon 1763             5  Diderot          1  1__Diderot_Salon 1763\n"
     ]
    },
    {
     "name": "stderr",
     "output_type": "stream",
     "text": [
      "12/19/2024 05:31:44 [ruzicka:INFO] Fitting on 5387 documents...\n",
      "12/19/2024 05:31:44 [ruzicka:INFO] Predicting on 21 documents\n"
     ]
    },
    {
     "name": "stdout",
     "output_type": "stream",
     "text": [
      "Results written in: 03_tests/tests/ch1000/mfw200/Diderot_Salon 1763.csv\n",
      "\n",
      "\n",
      "#######################\n",
      "Diderot: Suite de l-apologie\n",
      "\n",
      "                  work  author_label   author  chunk_num  \\\n",
      "1  Suite de l-apologie             5  Diderot          1   \n",
      "\n",
      "                              tag  \n",
      "1  1__Diderot_Suite de l-apologie  \n"
     ]
    },
    {
     "name": "stderr",
     "output_type": "stream",
     "text": [
      "12/19/2024 05:31:48 [ruzicka:INFO] Fitting on 5396 documents...\n",
      "12/19/2024 05:31:48 [ruzicka:INFO] Predicting on 12 documents\n"
     ]
    },
    {
     "name": "stdout",
     "output_type": "stream",
     "text": [
      "Results written in: 03_tests/tests/ch1000/mfw200/Diderot_Suite de l-apologie.csv\n",
      "\n",
      "\n",
      "#######################\n",
      "Guibert: Discurs\n",
      "\n",
      "      work  author_label   author  chunk_num                 tag\n",
      "1  Discurs             6  Guibert          1  1__Guibert_Discurs\n"
     ]
    },
    {
     "name": "stderr",
     "output_type": "stream",
     "text": [
      "12/19/2024 05:31:53 [ruzicka:INFO] Fitting on 5370 documents...\n",
      "12/19/2024 05:31:53 [ruzicka:INFO] Predicting on 38 documents\n"
     ]
    },
    {
     "name": "stdout",
     "output_type": "stream",
     "text": [
      "Results written in: 03_tests/tests/ch1000/mfw200/Guibert_Discurs.csv\n",
      "\n",
      "\n",
      "#######################\n",
      "Guibert: Eloge du roi\n",
      "\n",
      "           work  author_label   author  chunk_num                      tag\n",
      "1  Eloge du roi             6  Guibert          1  1__Guibert_Eloge du roi\n"
     ]
    },
    {
     "name": "stderr",
     "output_type": "stream",
     "text": [
      "12/19/2024 05:32:10 [ruzicka:INFO] Fitting on 5303 documents...\n",
      "12/19/2024 05:32:10 [ruzicka:INFO] Predicting on 105 documents\n"
     ]
    },
    {
     "name": "stdout",
     "output_type": "stream",
     "text": [
      "Results written in: 03_tests/tests/ch1000/mfw200/Guibert_Eloge du roi.csv\n",
      "\n",
      "\n",
      "#######################\n",
      "Guibert: Essai generale\n",
      "\n",
      "             work  author_label   author  chunk_num                        tag\n",
      "1  Essai generale             6  Guibert          1  1__Guibert_Essai generale\n"
     ]
    },
    {
     "name": "stderr",
     "output_type": "stream",
     "text": [
      "12/19/2024 05:32:49 [ruzicka:INFO] Fitting on 5302 documents...\n",
      "12/19/2024 05:32:49 [ruzicka:INFO] Predicting on 106 documents\n"
     ]
    },
    {
     "name": "stdout",
     "output_type": "stream",
     "text": [
      "Results written in: 03_tests/tests/ch1000/mfw200/Guibert_Essai generale.csv\n",
      "\n",
      "\n",
      "#######################\n",
      "Guibert: Oeuvres militaires T1\n",
      "\n",
      "                    work  author_label   author  chunk_num  \\\n",
      "1  Oeuvres militaires T1             6  Guibert          1   \n",
      "\n",
      "                                tag  \n",
      "1  1__Guibert_Oeuvres militaires T1  \n"
     ]
    },
    {
     "name": "stderr",
     "output_type": "stream",
     "text": [
      "12/19/2024 05:33:28 [ruzicka:INFO] Fitting on 5341 documents...\n",
      "12/19/2024 05:33:28 [ruzicka:INFO] Predicting on 67 documents\n"
     ]
    },
    {
     "name": "stdout",
     "output_type": "stream",
     "text": [
      "Results written in: 03_tests/tests/ch1000/mfw200/Guibert_Oeuvres militaires T1.csv\n",
      "\n",
      "\n",
      "#######################\n",
      "Guibert: Oeuvres militaires T2\n",
      "\n",
      "                    work  author_label   author  chunk_num  \\\n",
      "1  Oeuvres militaires T2             6  Guibert          1   \n",
      "\n",
      "                                tag  \n",
      "1  1__Guibert_Oeuvres militaires T2  \n"
     ]
    },
    {
     "name": "stderr",
     "output_type": "stream",
     "text": [
      "12/19/2024 05:33:55 [ruzicka:INFO] Fitting on 5347 documents...\n",
      "12/19/2024 05:33:55 [ruzicka:INFO] Predicting on 61 documents\n"
     ]
    },
    {
     "name": "stdout",
     "output_type": "stream",
     "text": [
      "Results written in: 03_tests/tests/ch1000/mfw200/Guibert_Oeuvres militaires T2.csv\n",
      "\n",
      "\n",
      "#######################\n",
      "Guibert: Oeuvres militaires T3\n",
      "\n",
      "                    work  author_label   author  chunk_num  \\\n",
      "1  Oeuvres militaires T3             6  Guibert          1   \n",
      "\n",
      "                                tag  \n",
      "1  1__Guibert_Oeuvres militaires T3  \n"
     ]
    },
    {
     "name": "stderr",
     "output_type": "stream",
     "text": [
      "12/19/2024 05:34:20 [ruzicka:INFO] Fitting on 5347 documents...\n",
      "12/19/2024 05:34:20 [ruzicka:INFO] Predicting on 61 documents\n"
     ]
    },
    {
     "name": "stdout",
     "output_type": "stream",
     "text": [
      "Results written in: 03_tests/tests/ch1000/mfw200/Guibert_Oeuvres militaires T3.csv\n",
      "\n",
      "\n",
      "#######################\n",
      "Guibert: Oeuvres militaires T4\n",
      "\n",
      "                    work  author_label   author  chunk_num  \\\n",
      "1  Oeuvres militaires T4             6  Guibert          1   \n",
      "\n",
      "                                tag  \n",
      "1  1__Guibert_Oeuvres militaires T4  \n"
     ]
    },
    {
     "name": "stderr",
     "output_type": "stream",
     "text": [
      "12/19/2024 05:34:45 [ruzicka:INFO] Fitting on 5368 documents...\n",
      "12/19/2024 05:34:45 [ruzicka:INFO] Predicting on 40 documents\n"
     ]
    },
    {
     "name": "stdout",
     "output_type": "stream",
     "text": [
      "Results written in: 03_tests/tests/ch1000/mfw200/Guibert_Oeuvres militaires T4.csv\n",
      "\n",
      "\n",
      "#######################\n",
      "Jaucourt: Ency 1-7\n",
      "\n",
      "       work  author_label    author  chunk_num                   tag\n",
      "1  Ency 1-7             7  Jaucourt          1  1__Jaucourt_Ency 1-7\n"
     ]
    },
    {
     "name": "stderr",
     "output_type": "stream",
     "text": [
      "12/19/2024 05:35:00 [ruzicka:INFO] Fitting on 5387 documents...\n",
      "12/19/2024 05:35:00 [ruzicka:INFO] Predicting on 21 documents\n"
     ]
    },
    {
     "name": "stdout",
     "output_type": "stream",
     "text": [
      "Results written in: 03_tests/tests/ch1000/mfw200/Jaucourt_Ency 1-7.csv\n",
      "\n",
      "\n",
      "#######################\n",
      "Jaucourt: Ency 10\n",
      "\n",
      "      work  author_label    author  chunk_num                  tag\n",
      "1  Ency 10             7  Jaucourt          1  1__Jaucourt_Ency 10\n"
     ]
    },
    {
     "name": "stderr",
     "output_type": "stream",
     "text": [
      "12/19/2024 05:35:07 [ruzicka:INFO] Fitting on 5391 documents...\n",
      "12/19/2024 05:35:07 [ruzicka:INFO] Predicting on 17 documents\n"
     ]
    },
    {
     "name": "stdout",
     "output_type": "stream",
     "text": [
      "Results written in: 03_tests/tests/ch1000/mfw200/Jaucourt_Ency 10.csv\n",
      "\n",
      "\n",
      "#######################\n",
      "Jaucourt: Ency 11\n",
      "\n",
      "      work  author_label    author  chunk_num                  tag\n",
      "1  Ency 11             7  Jaucourt          1  1__Jaucourt_Ency 11\n"
     ]
    },
    {
     "name": "stderr",
     "output_type": "stream",
     "text": [
      "12/19/2024 05:35:14 [ruzicka:INFO] Fitting on 5391 documents...\n",
      "12/19/2024 05:35:14 [ruzicka:INFO] Predicting on 17 documents\n"
     ]
    },
    {
     "name": "stdout",
     "output_type": "stream",
     "text": [
      "Results written in: 03_tests/tests/ch1000/mfw200/Jaucourt_Ency 11.csv\n",
      "\n",
      "\n",
      "#######################\n",
      "Jaucourt: Ency 12\n",
      "\n",
      "      work  author_label    author  chunk_num                  tag\n",
      "1  Ency 12             7  Jaucourt          1  1__Jaucourt_Ency 12\n"
     ]
    },
    {
     "name": "stderr",
     "output_type": "stream",
     "text": [
      "12/19/2024 05:35:21 [ruzicka:INFO] Fitting on 5390 documents...\n",
      "12/19/2024 05:35:21 [ruzicka:INFO] Predicting on 18 documents\n"
     ]
    },
    {
     "name": "stdout",
     "output_type": "stream",
     "text": [
      "Results written in: 03_tests/tests/ch1000/mfw200/Jaucourt_Ency 12.csv\n",
      "\n",
      "\n",
      "#######################\n",
      "Jaucourt: Ency 8\n",
      "\n",
      "     work  author_label    author  chunk_num                 tag\n",
      "1  Ency 8             7  Jaucourt          1  1__Jaucourt_Ency 8\n"
     ]
    },
    {
     "name": "stderr",
     "output_type": "stream",
     "text": [
      "12/19/2024 05:35:27 [ruzicka:INFO] Fitting on 5386 documents...\n",
      "12/19/2024 05:35:27 [ruzicka:INFO] Predicting on 22 documents\n"
     ]
    },
    {
     "name": "stdout",
     "output_type": "stream",
     "text": [
      "Results written in: 03_tests/tests/ch1000/mfw200/Jaucourt_Ency 8.csv\n",
      "\n",
      "\n",
      "#######################\n",
      "Jaucourt: Ency 9\n",
      "\n",
      "     work  author_label    author  chunk_num                 tag\n",
      "1  Ency 9             7  Jaucourt          1  1__Jaucourt_Ency 9\n"
     ]
    },
    {
     "name": "stderr",
     "output_type": "stream",
     "text": [
      "12/19/2024 05:35:36 [ruzicka:INFO] Fitting on 5288 documents...\n",
      "12/19/2024 05:35:36 [ruzicka:INFO] Predicting on 120 documents\n"
     ]
    },
    {
     "name": "stdout",
     "output_type": "stream",
     "text": [
      "Results written in: 03_tests/tests/ch1000/mfw200/Jaucourt_Ency 9.csv\n",
      "\n",
      "\n",
      "#######################\n",
      "Jaucourt: Essais de teodicee T1\n",
      "\n",
      "                    work  author_label    author  chunk_num  \\\n",
      "1  Essais de teodicee T1             7  Jaucourt          1   \n",
      "\n",
      "                                 tag  \n",
      "1  1__Jaucourt_Essais de teodicee T1  \n"
     ]
    },
    {
     "name": "stderr",
     "output_type": "stream",
     "text": [
      "12/19/2024 05:36:11 [ruzicka:INFO] Fitting on 5287 documents...\n",
      "12/19/2024 05:36:11 [ruzicka:INFO] Predicting on 121 documents\n"
     ]
    },
    {
     "name": "stdout",
     "output_type": "stream",
     "text": [
      "Results written in: 03_tests/tests/ch1000/mfw200/Jaucourt_Essais de teodicee T1.csv\n",
      "\n",
      "\n",
      "#######################\n",
      "Jaucourt: Essais de teodicee T2\n",
      "\n",
      "                    work  author_label    author  chunk_num  \\\n",
      "1  Essais de teodicee T2             7  Jaucourt          1   \n",
      "\n",
      "                                 tag  \n",
      "1  1__Jaucourt_Essais de teodicee T2  \n"
     ]
    },
    {
     "name": "stderr",
     "output_type": "stream",
     "text": [
      "12/19/2024 05:36:46 [ruzicka:INFO] Fitting on 5401 documents...\n",
      "12/19/2024 05:36:46 [ruzicka:INFO] Predicting on 7 documents\n"
     ]
    },
    {
     "name": "stdout",
     "output_type": "stream",
     "text": [
      "Results written in: 03_tests/tests/ch1000/mfw200/Jaucourt_Essais de teodicee T2.csv\n",
      "\n",
      "\n",
      "#######################\n",
      "Jussieu: Exposition d-un nouvel ordre\n",
      "\n",
      "                           work  author_label   author  chunk_num  \\\n",
      "1  Exposition d-un nouvel ordre             8  Jussieu          1   \n",
      "\n",
      "                                       tag  \n",
      "1  1__Jussieu_Exposition d-un nouvel ordre  \n"
     ]
    },
    {
     "name": "stderr",
     "output_type": "stream",
     "text": [
      "12/19/2024 05:36:48 [ruzicka:INFO] Fitting on 5389 documents...\n",
      "12/19/2024 05:36:48 [ruzicka:INFO] Predicting on 19 documents\n"
     ]
    },
    {
     "name": "stdout",
     "output_type": "stream",
     "text": [
      "Results written in: 03_tests/tests/ch1000/mfw200/Jussieu_Exposition d-un nouvel ordre.csv\n",
      "\n",
      "\n",
      "#######################\n",
      "Jussieu: HDI T1-4\n",
      "\n",
      "       work  author_label   author  chunk_num                  tag\n",
      "1  HDI T1-4             8  Jussieu          1  1__Jussieu_HDI T1-4\n"
     ]
    },
    {
     "name": "stderr",
     "output_type": "stream",
     "text": [
      "12/19/2024 05:36:53 [ruzicka:INFO] Fitting on 5346 documents...\n",
      "12/19/2024 05:36:53 [ruzicka:INFO] Predicting on 62 documents\n"
     ]
    },
    {
     "name": "stdout",
     "output_type": "stream",
     "text": [
      "Results written in: 03_tests/tests/ch1000/mfw200/Jussieu_HDI T1-4.csv\n",
      "\n",
      "\n",
      "#######################\n",
      "Jussieu: Memoire caractères 1-14\n",
      "\n",
      "                       work  author_label   author  chunk_num  \\\n",
      "1  Memoire caractères 1-14             8  Jussieu          1   \n",
      "\n",
      "                                   tag  \n",
      "1  1__Jussieu_Memoire caractères 1-14  \n"
     ]
    },
    {
     "name": "stderr",
     "output_type": "stream",
     "text": [
      "12/19/2024 05:37:08 [ruzicka:INFO] Fitting on 5399 documents...\n",
      "12/19/2024 05:37:08 [ruzicka:INFO] Predicting on 9 documents\n"
     ]
    },
    {
     "name": "stdout",
     "output_type": "stream",
     "text": [
      "Results written in: 03_tests/tests/ch1000/mfw200/Jussieu_Memoire caractères 1-14.csv\n",
      "\n",
      "\n",
      "#######################\n",
      "Jussieu: Memoire famille\n",
      "\n",
      "              work  author_label   author  chunk_num  \\\n",
      "1  Memoire famille             8  Jussieu          1   \n",
      "\n",
      "                          tag  \n",
      "1  1__Jussieu_Memoire famille  \n"
     ]
    },
    {
     "name": "stderr",
     "output_type": "stream",
     "text": [
      "12/19/2024 05:37:10 [ruzicka:INFO] Fitting on 5393 documents...\n",
      "12/19/2024 05:37:10 [ruzicka:INFO] Predicting on 15 documents\n"
     ]
    },
    {
     "name": "stdout",
     "output_type": "stream",
     "text": [
      "Results written in: 03_tests/tests/ch1000/mfw200/Jussieu_Memoire famille.csv\n",
      "\n",
      "\n",
      "#######################\n",
      "Jussieu: Methode naturelle\n",
      "\n",
      "                work  author_label   author  chunk_num  \\\n",
      "1  Methode naturelle             8  Jussieu          1   \n",
      "\n",
      "                            tag  \n",
      "1  1__Jussieu_Methode naturelle  \n"
     ]
    },
    {
     "name": "stderr",
     "output_type": "stream",
     "text": [
      "12/19/2024 05:37:14 [ruzicka:INFO] Fitting on 5382 documents...\n",
      "12/19/2024 05:37:14 [ruzicka:INFO] Predicting on 26 documents\n"
     ]
    },
    {
     "name": "stdout",
     "output_type": "stream",
     "text": [
      "Results written in: 03_tests/tests/ch1000/mfw200/Jussieu_Methode naturelle.csv\n",
      "\n",
      "\n",
      "#######################\n",
      "Jussieu: Notice Historique 1-6\n",
      "\n",
      "                    work  author_label   author  chunk_num  \\\n",
      "1  Notice Historique 1-6             8  Jussieu          1   \n",
      "\n",
      "                                tag  \n",
      "1  1__Jussieu_Notice Historique 1-6  \n"
     ]
    },
    {
     "name": "stderr",
     "output_type": "stream",
     "text": [
      "12/19/2024 05:37:21 [ruzicka:INFO] Fitting on 5393 documents...\n",
      "12/19/2024 05:37:21 [ruzicka:INFO] Predicting on 15 documents\n"
     ]
    },
    {
     "name": "stdout",
     "output_type": "stream",
     "text": [
      "Results written in: 03_tests/tests/ch1000/mfw200/Jussieu_Notice Historique 1-6.csv\n",
      "\n",
      "\n",
      "#######################\n",
      "Jussieu: Principes\n",
      "\n",
      "        work  author_label   author  chunk_num                   tag\n",
      "1  Principes             8  Jussieu          1  1__Jussieu_Principes\n"
     ]
    },
    {
     "name": "stderr",
     "output_type": "stream",
     "text": [
      "12/19/2024 05:37:25 [ruzicka:INFO] Fitting on 5396 documents...\n",
      "12/19/2024 05:37:25 [ruzicka:INFO] Predicting on 12 documents\n"
     ]
    },
    {
     "name": "stdout",
     "output_type": "stream",
     "text": [
      "Results written in: 03_tests/tests/ch1000/mfw200/Jussieu_Principes.csv\n",
      "\n",
      "\n",
      "#######################\n",
      "Jussieu: RapporTtxt\n",
      "\n",
      "         work  author_label   author  chunk_num                    tag\n",
      "1  RapporTtxt             8  Jussieu          1  1__Jussieu_RapporTtxt\n"
     ]
    },
    {
     "name": "stderr",
     "output_type": "stream",
     "text": [
      "12/19/2024 05:37:28 [ruzicka:INFO] Fitting on 5325 documents...\n",
      "12/19/2024 05:37:28 [ruzicka:INFO] Predicting on 83 documents\n"
     ]
    },
    {
     "name": "stdout",
     "output_type": "stream",
     "text": [
      "Results written in: 03_tests/tests/ch1000/mfw200/Jussieu_RapporTtxt.csv\n",
      "\n",
      "\n",
      "#######################\n",
      "Jussieu: Traite des vertus\n",
      "\n",
      "                work  author_label   author  chunk_num  \\\n",
      "1  Traite des vertus             8  Jussieu          1   \n",
      "\n",
      "                            tag  \n",
      "1  1__Jussieu_Traite des vertus  \n"
     ]
    },
    {
     "name": "stderr",
     "output_type": "stream",
     "text": [
      "12/19/2024 05:37:46 [ruzicka:INFO] Fitting on 5330 documents...\n",
      "12/19/2024 05:37:46 [ruzicka:INFO] Predicting on 78 documents\n"
     ]
    },
    {
     "name": "stdout",
     "output_type": "stream",
     "text": [
      "Results written in: 03_tests/tests/ch1000/mfw200/Jussieu_Traite des vertus.csv\n",
      "\n",
      "\n",
      "#######################\n",
      "La Grange: Lucrece T1\n",
      "\n",
      "         work  author_label     author  chunk_num                      tag\n",
      "1  Lucrece T1             9  La Grange          1  1__La Grange_Lucrece T1\n"
     ]
    },
    {
     "name": "stderr",
     "output_type": "stream",
     "text": [
      "12/19/2024 05:37:58 [ruzicka:INFO] Fitting on 5315 documents...\n",
      "12/19/2024 05:37:58 [ruzicka:INFO] Predicting on 93 documents\n"
     ]
    },
    {
     "name": "stdout",
     "output_type": "stream",
     "text": [
      "Results written in: 03_tests/tests/ch1000/mfw200/La Grange_Lucrece T1.csv\n",
      "\n",
      "\n",
      "#######################\n",
      "La Grange: Lucrece T2\n",
      "\n",
      "         work  author_label     author  chunk_num                      tag\n",
      "1  Lucrece T2             9  La Grange          1  1__La Grange_Lucrece T2\n"
     ]
    },
    {
     "name": "stderr",
     "output_type": "stream",
     "text": [
      "12/19/2024 05:38:11 [ruzicka:INFO] Fitting on 5350 documents...\n",
      "12/19/2024 05:38:11 [ruzicka:INFO] Predicting on 58 documents\n"
     ]
    },
    {
     "name": "stdout",
     "output_type": "stream",
     "text": [
      "Results written in: 03_tests/tests/ch1000/mfw200/La Grange_Lucrece T2.csv\n",
      "\n",
      "\n",
      "#######################\n",
      "Marmontel: Belisaire\n",
      "\n",
      "        work  author_label     author  chunk_num                     tag\n",
      "1  Belisaire            10  Marmontel          1  1__Marmontel_Belisaire\n"
     ]
    },
    {
     "name": "stderr",
     "output_type": "stream",
     "text": [
      "12/19/2024 05:38:56 [ruzicka:INFO] Fitting on 5348 documents...\n",
      "12/19/2024 05:38:56 [ruzicka:INFO] Predicting on 60 documents\n"
     ]
    },
    {
     "name": "stdout",
     "output_type": "stream",
     "text": [
      "Results written in: 03_tests/tests/ch1000/mfw200/Marmontel_Belisaire.csv\n",
      "\n",
      "\n",
      "#######################\n",
      "Marmontel: Contes T1\n",
      "\n",
      "        work  author_label     author  chunk_num                     tag\n",
      "1  Contes T1            10  Marmontel          1  1__Marmontel_Contes T1\n"
     ]
    },
    {
     "name": "stderr",
     "output_type": "stream",
     "text": [
      "12/19/2024 05:39:42 [ruzicka:INFO] Fitting on 5344 documents...\n",
      "12/19/2024 05:39:42 [ruzicka:INFO] Predicting on 64 documents\n"
     ]
    },
    {
     "name": "stdout",
     "output_type": "stream",
     "text": [
      "Results written in: 03_tests/tests/ch1000/mfw200/Marmontel_Contes T1.csv\n",
      "\n",
      "\n",
      "#######################\n",
      "Marmontel: Contes T2\n",
      "\n",
      "        work  author_label     author  chunk_num                     tag\n",
      "1  Contes T2            10  Marmontel          1  1__Marmontel_Contes T2\n"
     ]
    },
    {
     "name": "stderr",
     "output_type": "stream",
     "text": [
      "12/19/2024 05:40:31 [ruzicka:INFO] Fitting on 5353 documents...\n",
      "12/19/2024 05:40:31 [ruzicka:INFO] Predicting on 55 documents\n"
     ]
    },
    {
     "name": "stdout",
     "output_type": "stream",
     "text": [
      "Results written in: 03_tests/tests/ch1000/mfw200/Marmontel_Contes T2.csv\n",
      "\n",
      "\n",
      "#######################\n",
      "Marmontel: Contes T3\n",
      "\n",
      "        work  author_label     author  chunk_num                     tag\n",
      "1  Contes T3            10  Marmontel          1  1__Marmontel_Contes T3\n"
     ]
    },
    {
     "name": "stderr",
     "output_type": "stream",
     "text": [
      "12/19/2024 05:41:14 [ruzicka:INFO] Fitting on 5216 documents...\n",
      "12/19/2024 05:41:14 [ruzicka:INFO] Predicting on 192 documents\n"
     ]
    },
    {
     "name": "stdout",
     "output_type": "stream",
     "text": [
      "Results written in: 03_tests/tests/ch1000/mfw200/Marmontel_Contes T3.csv\n",
      "\n",
      "\n",
      "#######################\n",
      "Marmontel: elements T1\n",
      "\n",
      "          work  author_label     author  chunk_num                       tag\n",
      "1  elements T1            10  Marmontel          1  1__Marmontel_elements T1\n"
     ]
    },
    {
     "name": "stderr",
     "output_type": "stream",
     "text": [
      "12/19/2024 05:43:21 [ruzicka:INFO] Fitting on 5238 documents...\n",
      "12/19/2024 05:43:21 [ruzicka:INFO] Predicting on 170 documents\n"
     ]
    },
    {
     "name": "stdout",
     "output_type": "stream",
     "text": [
      "Results written in: 03_tests/tests/ch1000/mfw200/Marmontel_elements T1.csv\n",
      "\n",
      "\n",
      "#######################\n",
      "Marmontel: elements T2\n",
      "\n",
      "          work  author_label     author  chunk_num                       tag\n",
      "1  elements T2            10  Marmontel          1  1__Marmontel_elements T2\n"
     ]
    },
    {
     "name": "stderr",
     "output_type": "stream",
     "text": [
      "12/19/2024 05:45:17 [ruzicka:INFO] Fitting on 5211 documents...\n",
      "12/19/2024 05:45:17 [ruzicka:INFO] Predicting on 197 documents\n"
     ]
    },
    {
     "name": "stdout",
     "output_type": "stream",
     "text": [
      "Results written in: 03_tests/tests/ch1000/mfw200/Marmontel_elements T2.csv\n",
      "\n",
      "\n",
      "#######################\n",
      "Marmontel: elements T3\n",
      "\n",
      "          work  author_label     author  chunk_num                       tag\n",
      "1  elements T3            10  Marmontel          1  1__Marmontel_elements T3\n"
     ]
    },
    {
     "name": "stderr",
     "output_type": "stream",
     "text": [
      "12/19/2024 05:47:27 [ruzicka:INFO] Fitting on 5333 documents...\n",
      "12/19/2024 05:47:27 [ruzicka:INFO] Predicting on 75 documents\n"
     ]
    },
    {
     "name": "stdout",
     "output_type": "stream",
     "text": [
      "Results written in: 03_tests/tests/ch1000/mfw200/Marmontel_elements T3.csv\n",
      "\n",
      "\n",
      "#######################\n",
      "Marmontel: Les Incas\n",
      "\n",
      "        work  author_label     author  chunk_num                     tag\n",
      "1  Les Incas            10  Marmontel          1  1__Marmontel_Les Incas\n"
     ]
    },
    {
     "name": "stderr",
     "output_type": "stream",
     "text": [
      "12/19/2024 05:48:24 [ruzicka:INFO] Fitting on 5400 documents...\n",
      "12/19/2024 05:48:24 [ruzicka:INFO] Predicting on 8 documents\n"
     ]
    },
    {
     "name": "stdout",
     "output_type": "stream",
     "text": [
      "Results written in: 03_tests/tests/ch1000/mfw200/Marmontel_Les Incas.csv\n",
      "\n",
      "\n",
      "#######################\n",
      "Meister: De l-origine\n",
      "\n",
      "           work  author_label   author  chunk_num                      tag\n",
      "1  De l-origine            11  Meister          1  1__Meister_De l-origine\n"
     ]
    },
    {
     "name": "stderr",
     "output_type": "stream",
     "text": [
      "12/19/2024 05:48:24 [ruzicka:INFO] Fitting on 5389 documents...\n",
      "12/19/2024 05:48:24 [ruzicka:INFO] Predicting on 19 documents\n"
     ]
    },
    {
     "name": "stdout",
     "output_type": "stream",
     "text": [
      "Results written in: 03_tests/tests/ch1000/mfw200/Meister_De l-origine.csv\n",
      "\n",
      "\n",
      "#######################\n",
      "Meister: De la morale\n",
      "\n",
      "           work  author_label   author  chunk_num                      tag\n",
      "1  De la morale            11  Meister          1  1__Meister_De la morale\n"
     ]
    },
    {
     "name": "stderr",
     "output_type": "stream",
     "text": [
      "12/19/2024 05:48:26 [ruzicka:INFO] Fitting on 5404 documents...\n",
      "12/19/2024 05:48:26 [ruzicka:INFO] Predicting on 4 documents\n"
     ]
    },
    {
     "name": "stdout",
     "output_type": "stream",
     "text": [
      "Results written in: 03_tests/tests/ch1000/mfw200/Meister_De la morale.csv\n",
      "\n",
      "\n",
      "#######################\n",
      "Morellet: FragmenTtxt\n",
      "\n",
      "          work  author_label    author  chunk_num                      tag\n",
      "1  FragmenTtxt            12  Morellet          1  1__Morellet_FragmenTtxt\n"
     ]
    },
    {
     "name": "stderr",
     "output_type": "stream",
     "text": [
      "12/19/2024 05:48:26 [ruzicka:INFO] Fitting on 5399 documents...\n",
      "12/19/2024 05:48:26 [ruzicka:INFO] Predicting on 9 documents\n"
     ]
    },
    {
     "name": "stdout",
     "output_type": "stream",
     "text": [
      "Results written in: 03_tests/tests/ch1000/mfw200/Morellet_FragmenTtxt.csv\n",
      "\n",
      "\n",
      "#######################\n",
      "Morellet: Le cri\n",
      "\n",
      "     work  author_label    author  chunk_num                 tag\n",
      "1  Le cri            12  Morellet          1  1__Morellet_Le cri\n"
     ]
    },
    {
     "name": "stderr",
     "output_type": "stream",
     "text": [
      "12/19/2024 05:48:28 [ruzicka:INFO] Fitting on 5371 documents...\n",
      "12/19/2024 05:48:28 [ruzicka:INFO] Predicting on 37 documents\n"
     ]
    },
    {
     "name": "stdout",
     "output_type": "stream",
     "text": [
      "Results written in: 03_tests/tests/ch1000/mfw200/Morellet_Le cri.csv\n",
      "\n",
      "\n",
      "#######################\n",
      "Morellet: Memoires\n",
      "\n",
      "       work  author_label    author  chunk_num                   tag\n",
      "1  Memoires            12  Morellet          1  1__Morellet_Memoires\n"
     ]
    },
    {
     "name": "stderr",
     "output_type": "stream",
     "text": [
      "12/19/2024 05:48:34 [ruzicka:INFO] Fitting on 5402 documents...\n",
      "12/19/2024 05:48:34 [ruzicka:INFO] Predicting on 6 documents\n"
     ]
    },
    {
     "name": "stdout",
     "output_type": "stream",
     "text": [
      "Results written in: 03_tests/tests/ch1000/mfw200/Morellet_Memoires.csv\n",
      "\n",
      "\n",
      "#######################\n",
      "Morellet: Nouvelles\n",
      "\n",
      "        work  author_label    author  chunk_num                    tag\n",
      "1  Nouvelles            12  Morellet          1  1__Morellet_Nouvelles\n"
     ]
    },
    {
     "name": "stderr",
     "output_type": "stream",
     "text": [
      "12/19/2024 05:48:36 [ruzicka:INFO] Fitting on 5397 documents...\n",
      "12/19/2024 05:48:36 [ruzicka:INFO] Predicting on 11 documents\n"
     ]
    },
    {
     "name": "stdout",
     "output_type": "stream",
     "text": [
      "Results written in: 03_tests/tests/ch1000/mfw200/Morellet_Nouvelles.csv\n",
      "\n",
      "\n",
      "#######################\n",
      "Morellet: Observations\n",
      "\n",
      "           work  author_label    author  chunk_num                       tag\n",
      "1  Observations            12  Morellet          1  1__Morellet_Observations\n"
     ]
    },
    {
     "name": "stderr",
     "output_type": "stream",
     "text": [
      "12/19/2024 05:48:38 [ruzicka:INFO] Fitting on 5379 documents...\n",
      "12/19/2024 05:48:38 [ruzicka:INFO] Predicting on 29 documents\n"
     ]
    },
    {
     "name": "stdout",
     "output_type": "stream",
     "text": [
      "Results written in: 03_tests/tests/ch1000/mfw200/Morellet_Observations.csv\n",
      "\n",
      "\n",
      "#######################\n",
      "Morellet: Reflexions\n",
      "\n",
      "         work  author_label    author  chunk_num                     tag\n",
      "1  Reflexions            12  Morellet          1  1__Morellet_Reflexions\n"
     ]
    },
    {
     "name": "stderr",
     "output_type": "stream",
     "text": [
      "12/19/2024 05:48:43 [ruzicka:INFO] Fitting on 5382 documents...\n",
      "12/19/2024 05:48:43 [ruzicka:INFO] Predicting on 26 documents\n"
     ]
    },
    {
     "name": "stdout",
     "output_type": "stream",
     "text": [
      "Results written in: 03_tests/tests/ch1000/mfw200/Morellet_Reflexions.csv\n",
      "\n",
      "\n",
      "#######################\n",
      "Morellet: SupplemenTtxt\n",
      "\n",
      "            work  author_label    author  chunk_num                        tag\n",
      "1  SupplemenTtxt            12  Morellet          1  1__Morellet_SupplemenTtxt\n"
     ]
    },
    {
     "name": "stderr",
     "output_type": "stream",
     "text": [
      "12/19/2024 05:48:47 [ruzicka:INFO] Fitting on 5381 documents...\n",
      "12/19/2024 05:48:47 [ruzicka:INFO] Predicting on 27 documents\n"
     ]
    },
    {
     "name": "stdout",
     "output_type": "stream",
     "text": [
      "Results written in: 03_tests/tests/ch1000/mfw200/Morellet_SupplemenTtxt.csv\n",
      "\n",
      "\n",
      "#######################\n",
      "Morellet: Theorie\n",
      "\n",
      "      work  author_label    author  chunk_num                  tag\n",
      "1  Theorie            12  Morellet          1  1__Morellet_Theorie\n"
     ]
    },
    {
     "name": "stderr",
     "output_type": "stream",
     "text": [
      "12/19/2024 05:48:52 [ruzicka:INFO] Fitting on 5370 documents...\n",
      "12/19/2024 05:48:52 [ruzicka:INFO] Predicting on 38 documents\n"
     ]
    },
    {
     "name": "stdout",
     "output_type": "stream",
     "text": [
      "Results written in: 03_tests/tests/ch1000/mfw200/Morellet_Theorie.csv\n",
      "\n",
      "\n",
      "#######################\n",
      "Naigeon: Le militaire\n",
      "\n",
      "           work  author_label   author  chunk_num                      tag\n",
      "1  Le militaire            13  Naigeon          1  1__Naigeon_Le militaire\n"
     ]
    },
    {
     "name": "stderr",
     "output_type": "stream",
     "text": [
      "12/19/2024 05:49:00 [ruzicka:INFO] Fitting on 5395 documents...\n",
      "12/19/2024 05:49:00 [ruzicka:INFO] Predicting on 13 documents\n"
     ]
    },
    {
     "name": "stdout",
     "output_type": "stream",
     "text": [
      "Results written in: 03_tests/tests/ch1000/mfw200/Naigeon_Le militaire.csv\n",
      "\n",
      "\n",
      "#######################\n",
      "Naigeon: Liberte\n",
      "\n",
      "      work  author_label   author  chunk_num                 tag\n",
      "1  Liberte            13  Naigeon          1  1__Naigeon_Liberte\n"
     ]
    },
    {
     "name": "stderr",
     "output_type": "stream",
     "text": [
      "12/19/2024 05:49:03 [ruzicka:INFO] Fitting on 5300 documents...\n",
      "12/19/2024 05:49:03 [ruzicka:INFO] Predicting on 108 documents\n"
     ]
    },
    {
     "name": "stdout",
     "output_type": "stream",
     "text": [
      "Results written in: 03_tests/tests/ch1000/mfw200/Naigeon_Liberte.csv\n",
      "\n",
      "\n",
      "#######################\n",
      "Naigeon: Manuel d-epictete\n",
      "\n",
      "                work  author_label   author  chunk_num  \\\n",
      "1  Manuel d-epictete            13  Naigeon          1   \n",
      "\n",
      "                            tag  \n",
      "1  1__Naigeon_Manuel d-epictete  \n"
     ]
    },
    {
     "name": "stderr",
     "output_type": "stream",
     "text": [
      "12/19/2024 05:49:18 [ruzicka:INFO] Fitting on 5396 documents...\n",
      "12/19/2024 05:49:18 [ruzicka:INFO] Predicting on 12 documents\n"
     ]
    },
    {
     "name": "stdout",
     "output_type": "stream",
     "text": [
      "Results written in: 03_tests/tests/ch1000/mfw200/Naigeon_Manuel d-epictete.csv\n",
      "\n",
      "\n",
      "#######################\n",
      "Naigeon: Richesse\n",
      "\n",
      "       work  author_label   author  chunk_num                  tag\n",
      "1  Richesse            13  Naigeon          1  1__Naigeon_Richesse\n"
     ]
    },
    {
     "name": "stderr",
     "output_type": "stream",
     "text": [
      "12/19/2024 05:49:20 [ruzicka:INFO] Fitting on 5391 documents...\n",
      "12/19/2024 05:49:20 [ruzicka:INFO] Predicting on 17 documents\n"
     ]
    },
    {
     "name": "stdout",
     "output_type": "stream",
     "text": [
      "Results written in: 03_tests/tests/ch1000/mfw200/Naigeon_Richesse.csv\n",
      "\n",
      "\n",
      "#######################\n",
      "Naigeon: Unitaires\n",
      "\n",
      "        work  author_label   author  chunk_num                   tag\n",
      "1  Unitaires            13  Naigeon          1  1__Naigeon_Unitaires\n"
     ]
    },
    {
     "name": "stderr",
     "output_type": "stream",
     "text": [
      "12/19/2024 05:49:24 [ruzicka:INFO] Fitting on 5372 documents...\n",
      "12/19/2024 05:49:24 [ruzicka:INFO] Predicting on 36 documents\n"
     ]
    },
    {
     "name": "stdout",
     "output_type": "stream",
     "text": [
      "Results written in: 03_tests/tests/ch1000/mfw200/Naigeon_Unitaires.csv\n",
      "\n",
      "\n",
      "#######################\n",
      "Pechmeja: eloge\n",
      "\n",
      "    work  author_label    author  chunk_num                tag\n",
      "1  eloge            14  Pechmeja          0  0__Pechmeja_eloge\n"
     ]
    },
    {
     "name": "stderr",
     "output_type": "stream",
     "text": [
      "12/19/2024 05:49:28 [ruzicka:INFO] Fitting on 5351 documents...\n",
      "12/19/2024 05:49:28 [ruzicka:INFO] Predicting on 57 documents\n"
     ]
    },
    {
     "name": "stdout",
     "output_type": "stream",
     "text": [
      "Results written in: 03_tests/tests/ch1000/mfw200/Pechmeja_eloge.csv\n",
      "\n",
      "\n",
      "#######################\n",
      "Pechmeja: Telephe\n",
      "\n",
      "      work  author_label    author  chunk_num                  tag\n",
      "1  Telephe            14  Pechmeja          1  1__Pechmeja_Telephe\n"
     ]
    },
    {
     "name": "stderr",
     "output_type": "stream",
     "text": [
      "12/19/2024 05:49:34 [ruzicka:INFO] Fitting on 5361 documents...\n",
      "12/19/2024 05:49:34 [ruzicka:INFO] Predicting on 47 documents\n"
     ]
    },
    {
     "name": "stdout",
     "output_type": "stream",
     "text": [
      "Results written in: 03_tests/tests/ch1000/mfw200/Pechmeja_Telephe.csv\n",
      "\n",
      "\n",
      "#######################\n",
      "Raynal: Anecdotes historiques 1\n",
      "\n",
      "                      work  author_label  author  chunk_num  \\\n",
      "1  Anecdotes historiques 1            15  Raynal          1   \n",
      "\n",
      "                                 tag  \n",
      "1  1__Raynal_Anecdotes historiques 1  \n"
     ]
    },
    {
     "name": "stderr",
     "output_type": "stream",
     "text": [
      "12/19/2024 05:49:49 [ruzicka:INFO] Fitting on 5364 documents...\n",
      "12/19/2024 05:49:49 [ruzicka:INFO] Predicting on 44 documents\n"
     ]
    },
    {
     "name": "stdout",
     "output_type": "stream",
     "text": [
      "Results written in: 03_tests/tests/ch1000/mfw200/Raynal_Anecdotes historiques 1.csv\n",
      "\n",
      "\n",
      "#######################\n",
      "Raynal: Anecdotes litteraires2 1756\n",
      "\n",
      "                          work  author_label  author  chunk_num  \\\n",
      "1  Anecdotes litteraires2 1756            15  Raynal          1   \n",
      "\n",
      "                                     tag  \n",
      "1  1__Raynal_Anecdotes litteraires2 1756  \n"
     ]
    },
    {
     "name": "stderr",
     "output_type": "stream",
     "text": [
      "12/19/2024 05:50:03 [ruzicka:INFO] Fitting on 5369 documents...\n",
      "12/19/2024 05:50:03 [ruzicka:INFO] Predicting on 39 documents\n"
     ]
    },
    {
     "name": "stdout",
     "output_type": "stream",
     "text": [
      "Results written in: 03_tests/tests/ch1000/mfw200/Raynal_Anecdotes litteraires2 1756.csv\n",
      "\n",
      "\n",
      "#######################\n",
      "Raynal: Anecdotes litteraires3 1756\n",
      "\n",
      "                          work  author_label  author  chunk_num  \\\n",
      "1  Anecdotes litteraires3 1756            15  Raynal          1   \n",
      "\n",
      "                                     tag  \n",
      "1  1__Raynal_Anecdotes litteraires3 1756  \n"
     ]
    },
    {
     "name": "stderr",
     "output_type": "stream",
     "text": [
      "12/19/2024 05:50:16 [ruzicka:INFO] Fitting on 5404 documents...\n",
      "12/19/2024 05:50:16 [ruzicka:INFO] Predicting on 4 documents\n"
     ]
    },
    {
     "name": "stdout",
     "output_type": "stream",
     "text": [
      "Results written in: 03_tests/tests/ch1000/mfw200/Raynal_Anecdotes litteraires3 1756.csv\n",
      "\n",
      "\n",
      "#######################\n",
      "Raynal: Considerations\n",
      "\n",
      "             work  author_label  author  chunk_num                       tag\n",
      "1  Considerations            15  Raynal          1  1__Raynal_Considerations\n"
     ]
    },
    {
     "name": "stderr",
     "output_type": "stream",
     "text": [
      "12/19/2024 05:50:17 [ruzicka:INFO] Fitting on 5353 documents...\n",
      "12/19/2024 05:50:17 [ruzicka:INFO] Predicting on 55 documents\n"
     ]
    },
    {
     "name": "stdout",
     "output_type": "stream",
     "text": [
      "Results written in: 03_tests/tests/ch1000/mfw200/Raynal_Considerations.csv\n",
      "\n",
      "\n",
      "#######################\n",
      "Raynal: ecole 1\n",
      "\n",
      "      work  author_label  author  chunk_num                tag\n",
      "1  ecole 1            15  Raynal          1  1__Raynal_ecole 1\n"
     ]
    },
    {
     "name": "stderr",
     "output_type": "stream",
     "text": [
      "12/19/2024 05:50:35 [ruzicka:INFO] Fitting on 5352 documents...\n",
      "12/19/2024 05:50:35 [ruzicka:INFO] Predicting on 56 documents\n"
     ]
    },
    {
     "name": "stdout",
     "output_type": "stream",
     "text": [
      "Results written in: 03_tests/tests/ch1000/mfw200/Raynal_ecole 1.csv\n",
      "\n",
      "\n",
      "#######################\n",
      "Raynal: ecole 3\n",
      "\n",
      "      work  author_label  author  chunk_num                tag\n",
      "1  ecole 3            15  Raynal          1  1__Raynal_ecole 3\n"
     ]
    },
    {
     "name": "stderr",
     "output_type": "stream",
     "text": [
      "12/19/2024 05:50:52 [ruzicka:INFO] Fitting on 5353 documents...\n",
      "12/19/2024 05:50:52 [ruzicka:INFO] Predicting on 55 documents\n"
     ]
    },
    {
     "name": "stdout",
     "output_type": "stream",
     "text": [
      "Results written in: 03_tests/tests/ch1000/mfw200/Raynal_ecole 3.csv\n",
      "\n",
      "\n",
      "#######################\n",
      "Raynal: Histoire du Parlement 1748\n",
      "\n",
      "                         work  author_label  author  chunk_num  \\\n",
      "1  Histoire du Parlement 1748            15  Raynal          1   \n",
      "\n",
      "                                    tag  \n",
      "1  1__Raynal_Histoire du Parlement 1748  \n"
     ]
    },
    {
     "name": "stderr",
     "output_type": "stream",
     "text": [
      "12/19/2024 05:51:09 [ruzicka:INFO] Fitting on 5374 documents...\n",
      "12/19/2024 05:51:09 [ruzicka:INFO] Predicting on 34 documents\n"
     ]
    },
    {
     "name": "stdout",
     "output_type": "stream",
     "text": [
      "Results written in: 03_tests/tests/ch1000/mfw200/Raynal_Histoire du Parlement 1748.csv\n",
      "\n",
      "\n",
      "#######################\n",
      "Raynal: Histoire du Parlement Band 2\n",
      "\n",
      "                           work  author_label  author  chunk_num  \\\n",
      "1  Histoire du Parlement Band 2            15  Raynal          1   \n",
      "\n",
      "                                      tag  \n",
      "1  1__Raynal_Histoire du Parlement Band 2  \n"
     ]
    },
    {
     "name": "stderr",
     "output_type": "stream",
     "text": [
      "12/19/2024 05:51:20 [ruzicka:INFO] Fitting on 5388 documents...\n",
      "12/19/2024 05:51:20 [ruzicka:INFO] Predicting on 20 documents\n"
     ]
    },
    {
     "name": "stdout",
     "output_type": "stream",
     "text": [
      "Results written in: 03_tests/tests/ch1000/mfw200/Raynal_Histoire du Parlement Band 2.csv\n",
      "\n",
      "\n",
      "#######################\n",
      "Rivière: De l-instruction publique  1775\n",
      "\n",
      "                              work  author_label    author  chunk_num  \\\n",
      "1  De l-instruction publique  1775            16  Rivière          1   \n",
      "\n",
      "                                           tag  \n",
      "1  1__Rivière_De l-instruction publique  1775  \n"
     ]
    },
    {
     "name": "stderr",
     "output_type": "stream",
     "text": [
      "12/19/2024 05:51:26 [ruzicka:INFO] Fitting on 5327 documents...\n",
      "12/19/2024 05:51:26 [ruzicka:INFO] Predicting on 81 documents\n"
     ]
    },
    {
     "name": "stdout",
     "output_type": "stream",
     "text": [
      "Results written in: 03_tests/tests/ch1000/mfw200/Rivière_De l-instruction publique  1775.csv\n",
      "\n",
      "\n",
      "#######################\n",
      "Rivière: L-Interet\n",
      "\n",
      "        work  author_label    author  chunk_num                    tag\n",
      "1  L-Interet            16  Rivière          1  1__Rivière_L-Interet\n"
     ]
    },
    {
     "name": "stderr",
     "output_type": "stream",
     "text": [
      "12/19/2024 05:51:44 [ruzicka:INFO] Fitting on 5249 documents...\n",
      "12/19/2024 05:51:44 [ruzicka:INFO] Predicting on 159 documents\n"
     ]
    },
    {
     "name": "stdout",
     "output_type": "stream",
     "text": [
      "Results written in: 03_tests/tests/ch1000/mfw200/Rivière_L-Interet.csv\n",
      "\n",
      "\n",
      "#######################\n",
      "Rivière: L-ordre naturel\n",
      "\n",
      "              work  author_label    author  chunk_num  \\\n",
      "1  L-ordre naturel            16  Rivière          1   \n",
      "\n",
      "                           tag  \n",
      "1  1__Rivière_L-ordre naturel  \n"
     ]
    },
    {
     "name": "stderr",
     "output_type": "stream",
     "text": [
      "12/19/2024 05:52:10 [ruzicka:INFO] Fitting on 5398 documents...\n",
      "12/19/2024 05:52:10 [ruzicka:INFO] Predicting on 10 documents\n"
     ]
    },
    {
     "name": "stdout",
     "output_type": "stream",
     "text": [
      "Results written in: 03_tests/tests/ch1000/mfw200/Rivière_L-ordre naturel.csv\n",
      "\n",
      "\n",
      "#######################\n",
      "Saint-Lambert: Les deux Amis\n",
      "\n",
      "            work  author_label         author  chunk_num  \\\n",
      "1  Les deux Amis            17  Saint-Lambert          1   \n",
      "\n",
      "                              tag  \n",
      "1  1__Saint-Lambert_Les deux Amis  \n"
     ]
    },
    {
     "name": "stderr",
     "output_type": "stream",
     "text": [
      "12/19/2024 05:52:14 [ruzicka:INFO] Fitting on 5337 documents...\n",
      "12/19/2024 05:52:14 [ruzicka:INFO] Predicting on 71 documents\n"
     ]
    },
    {
     "name": "stdout",
     "output_type": "stream",
     "text": [
      "Results written in: 03_tests/tests/ch1000/mfw200/Saint-Lambert_Les deux Amis.csv\n",
      "\n",
      "\n",
      "#######################\n",
      "Saint-Lambert: Oeuvres Phil T1\n",
      "\n",
      "              work  author_label         author  chunk_num  \\\n",
      "1  Oeuvres Phil T1            17  Saint-Lambert          1   \n",
      "\n",
      "                                tag  \n",
      "1  1__Saint-Lambert_Oeuvres Phil T1  \n"
     ]
    },
    {
     "name": "stderr",
     "output_type": "stream",
     "text": [
      "12/19/2024 05:52:38 [ruzicka:INFO] Fitting on 5330 documents...\n",
      "12/19/2024 05:52:38 [ruzicka:INFO] Predicting on 78 documents\n"
     ]
    },
    {
     "name": "stdout",
     "output_type": "stream",
     "text": [
      "Results written in: 03_tests/tests/ch1000/mfw200/Saint-Lambert_Oeuvres Phil T1.csv\n",
      "\n",
      "\n",
      "#######################\n",
      "Saint-Lambert: Oeuvres Phil T2\n",
      "\n",
      "              work  author_label         author  chunk_num  \\\n",
      "1  Oeuvres Phil T2            17  Saint-Lambert          1   \n",
      "\n",
      "                                tag  \n",
      "1  1__Saint-Lambert_Oeuvres Phil T2  \n"
     ]
    },
    {
     "name": "stderr",
     "output_type": "stream",
     "text": [
      "12/19/2024 05:53:04 [ruzicka:INFO] Fitting on 5319 documents...\n",
      "12/19/2024 05:53:04 [ruzicka:INFO] Predicting on 89 documents\n"
     ]
    },
    {
     "name": "stdout",
     "output_type": "stream",
     "text": [
      "Results written in: 03_tests/tests/ch1000/mfw200/Saint-Lambert_Oeuvres Phil T2.csv\n",
      "\n",
      "\n",
      "#######################\n",
      "Saint-Lambert: Oeuvres Phil T3\n",
      "\n",
      "              work  author_label         author  chunk_num  \\\n",
      "1  Oeuvres Phil T3            17  Saint-Lambert          1   \n",
      "\n",
      "                                tag  \n",
      "1  1__Saint-Lambert_Oeuvres Phil T3  \n"
     ]
    },
    {
     "name": "stderr",
     "output_type": "stream",
     "text": [
      "12/19/2024 05:53:33 [ruzicka:INFO] Fitting on 5318 documents...\n",
      "12/19/2024 05:53:33 [ruzicka:INFO] Predicting on 90 documents\n"
     ]
    },
    {
     "name": "stdout",
     "output_type": "stream",
     "text": [
      "Results written in: 03_tests/tests/ch1000/mfw200/Saint-Lambert_Oeuvres Phil T3.csv\n",
      "\n",
      "\n",
      "#######################\n",
      "Saint-Lambert: Oeuvres Phil T4\n",
      "\n",
      "              work  author_label         author  chunk_num  \\\n",
      "1  Oeuvres Phil T4            17  Saint-Lambert          1   \n",
      "\n",
      "                                tag  \n",
      "1  1__Saint-Lambert_Oeuvres Phil T4  \n"
     ]
    },
    {
     "name": "stderr",
     "output_type": "stream",
     "text": [
      "12/19/2024 05:54:03 [ruzicka:INFO] Fitting on 5363 documents...\n",
      "12/19/2024 05:54:03 [ruzicka:INFO] Predicting on 45 documents\n"
     ]
    },
    {
     "name": "stdout",
     "output_type": "stream",
     "text": [
      "Results written in: 03_tests/tests/ch1000/mfw200/Saint-Lambert_Oeuvres Phil T4.csv\n",
      "\n",
      "\n",
      "#######################\n",
      "Saint-Lambert: Oeuvres Phil T5\n",
      "\n",
      "              work  author_label         author  chunk_num  \\\n",
      "1  Oeuvres Phil T5            17  Saint-Lambert          1   \n",
      "\n",
      "                                tag  \n",
      "1  1__Saint-Lambert_Oeuvres Phil T5  \n",
      "Results written in: 03_tests/tests/ch1000/mfw200/Saint-Lambert_Oeuvres Phil T5.csv\n"
     ]
    }
   ],
   "source": [
    "# Loop that takes a work from each author\n",
    "# and looks whether its (known) author is a good much according to BDI;\n",
    "# nb: not getting results for a work vs all authors\n",
    "# (writing results in a .csv, visualisation done later with R)\n",
    "\n",
    "# select an author, look for his unique works\n",
    "for a in label_uniques.values:\n",
    "    #print(author)\n",
    "    \n",
    "    # take a subset with only works by an author, find unique works\n",
    "    unique_works = raw_df[raw_df.author == a]['work'].unique()\n",
    "    # unique_works is a numpy array of works of each author\n",
    "    \n",
    "    for w in unique_works:\n",
    "        print(f\"\\n\\n#######################\\n{a}: {w}\\n\")\n",
    "        \n",
    "        # select each work as a problem set (problems-metadata, problems_X-word freqs)\n",
    "        problems = raw_df[raw_df.work == w].reset_index(drop=True).copy()\n",
    "        problems_X = X[raw_df.work == w].reset_index(drop=True).copy()\n",
    "        print(problems.iloc[1:2,:])\n",
    "        \n",
    "        # extract the rest of the corpus\n",
    "        rest = raw_df[raw_df.work != w].reset_index(drop=True).copy()\n",
    "        rest_X = X[raw_df.work != w].reset_index(drop=True).copy()\n",
    "        #print(f\"\\nRest of the corpus:\\n{rest.iloc[1:6,:]}\")\n",
    "        \n",
    "        # scaling\n",
    "        ss = StandardScaler(with_mean=False).fit(rest_X)\n",
    "        rest_scaled_X = ss.transform(rest_X)\n",
    "        problems_scaled_X = ss.transform(problems_X)\n",
    "        \n",
    "        #print(problems_scaled_X)\n",
    "        \n",
    "        # fit \n",
    "        bdi_mm.fit(rest_scaled_X, rest.author_label)\n",
    "        \n",
    "        # prediction\n",
    "        bdi_mm.predict_proba(\n",
    "            problems_scaled_X, \n",
    "            # get_loc - select the author of the work (? is that right??)\n",
    "            [label_uniques.get_loc(a)] * problems_scaled_X.shape[0]\n",
    "        )\n",
    "        \n",
    "        # output results\n",
    "        res = pd.DataFrame(dict(zip(problems.tag, bdi_mm._dist_arrays)))\n",
    "        \n",
    "        # writing\n",
    "        fh = '03_tests/tests/ch1000/mfw200/'+a+'_'+w+'.csv'\n",
    "        res.to_csv(fh)\n",
    "        print('Results written in:',fh)\n",
    "        \n",
    "        rest_scaled_X = None\n",
    "        res = None"
   ]
  },
  {
   "cell_type": "markdown",
   "id": "e10e7052",
   "metadata": {},
   "source": [
    "# FP1\n",
    "\n",
    "Test FP1 chunks with BDI"
   ]
  },
  {
   "cell_type": "code",
   "execution_count": 91,
   "id": "4cbc0b58",
   "metadata": {},
   "outputs": [
    {
     "data": {
      "text/html": [
       "<div>\n",
       "<style scoped>\n",
       "    .dataframe tbody tr th:only-of-type {\n",
       "        vertical-align: middle;\n",
       "    }\n",
       "\n",
       "    .dataframe tbody tr th {\n",
       "        vertical-align: top;\n",
       "    }\n",
       "\n",
       "    .dataframe thead th {\n",
       "        text-align: right;\n",
       "    }\n",
       "</style>\n",
       "<table border=\"1\" class=\"dataframe\">\n",
       "  <thead>\n",
       "    <tr style=\"text-align: right;\">\n",
       "      <th></th>\n",
       "      <th>work</th>\n",
       "      <th>author</th>\n",
       "      <th>chunk_num</th>\n",
       "      <th>tag</th>\n",
       "      <th>de</th>\n",
       "      <th>des</th>\n",
       "      <th>et</th>\n",
       "      <th>la</th>\n",
       "      <th>les</th>\n",
       "      <th>vous</th>\n",
       "      <th>...</th>\n",
       "      <th>toujours</th>\n",
       "      <th>après</th>\n",
       "      <th>cet</th>\n",
       "      <th>autre</th>\n",
       "      <th>donc</th>\n",
       "      <th>jamais</th>\n",
       "      <th>encore</th>\n",
       "      <th>avoir</th>\n",
       "      <th>ainsi</th>\n",
       "      <th>peu</th>\n",
       "    </tr>\n",
       "  </thead>\n",
       "  <tbody>\n",
       "    <tr>\n",
       "      <th>0</th>\n",
       "      <td>Avis</td>\n",
       "      <td>Baudeau</td>\n",
       "      <td>0</td>\n",
       "      <td>0__Baudeau_Avis</td>\n",
       "      <td>3.45</td>\n",
       "      <td>2.20</td>\n",
       "      <td>2.50</td>\n",
       "      <td>1.40</td>\n",
       "      <td>2.35</td>\n",
       "      <td>0.65</td>\n",
       "      <td>...</td>\n",
       "      <td>0.10</td>\n",
       "      <td>0.00</td>\n",
       "      <td>0.05</td>\n",
       "      <td>0.05</td>\n",
       "      <td>0.40</td>\n",
       "      <td>0.00</td>\n",
       "      <td>0.00</td>\n",
       "      <td>0.30</td>\n",
       "      <td>0.00</td>\n",
       "      <td>0.05</td>\n",
       "    </tr>\n",
       "    <tr>\n",
       "      <th>1</th>\n",
       "      <td>Eclaircissemens</td>\n",
       "      <td>Baudeau</td>\n",
       "      <td>0</td>\n",
       "      <td>0__Baudeau_Eclaircissemens</td>\n",
       "      <td>4.40</td>\n",
       "      <td>2.85</td>\n",
       "      <td>2.80</td>\n",
       "      <td>2.60</td>\n",
       "      <td>2.40</td>\n",
       "      <td>1.65</td>\n",
       "      <td>...</td>\n",
       "      <td>0.10</td>\n",
       "      <td>0.10</td>\n",
       "      <td>0.05</td>\n",
       "      <td>0.15</td>\n",
       "      <td>0.10</td>\n",
       "      <td>0.10</td>\n",
       "      <td>0.05</td>\n",
       "      <td>0.15</td>\n",
       "      <td>0.05</td>\n",
       "      <td>0.05</td>\n",
       "    </tr>\n",
       "    <tr>\n",
       "      <th>2</th>\n",
       "      <td>Explication</td>\n",
       "      <td>Baudeau</td>\n",
       "      <td>0</td>\n",
       "      <td>0__Baudeau_Explication</td>\n",
       "      <td>4.90</td>\n",
       "      <td>2.60</td>\n",
       "      <td>3.80</td>\n",
       "      <td>3.10</td>\n",
       "      <td>4.65</td>\n",
       "      <td>0.95</td>\n",
       "      <td>...</td>\n",
       "      <td>0.15</td>\n",
       "      <td>0.10</td>\n",
       "      <td>0.00</td>\n",
       "      <td>0.00</td>\n",
       "      <td>0.10</td>\n",
       "      <td>0.00</td>\n",
       "      <td>0.10</td>\n",
       "      <td>0.10</td>\n",
       "      <td>0.05</td>\n",
       "      <td>0.20</td>\n",
       "    </tr>\n",
       "    <tr>\n",
       "      <th>3</th>\n",
       "      <td>Idees sur l-administration</td>\n",
       "      <td>Baudeau</td>\n",
       "      <td>0</td>\n",
       "      <td>0__Baudeau_Idees sur l-administration</td>\n",
       "      <td>5.60</td>\n",
       "      <td>1.90</td>\n",
       "      <td>2.20</td>\n",
       "      <td>3.65</td>\n",
       "      <td>1.85</td>\n",
       "      <td>0.10</td>\n",
       "      <td>...</td>\n",
       "      <td>0.15</td>\n",
       "      <td>0.00</td>\n",
       "      <td>0.10</td>\n",
       "      <td>0.00</td>\n",
       "      <td>0.10</td>\n",
       "      <td>0.25</td>\n",
       "      <td>0.10</td>\n",
       "      <td>0.20</td>\n",
       "      <td>0.05</td>\n",
       "      <td>0.00</td>\n",
       "    </tr>\n",
       "    <tr>\n",
       "      <th>4</th>\n",
       "      <td>Idees sur la puissance</td>\n",
       "      <td>Baudeau</td>\n",
       "      <td>0</td>\n",
       "      <td>0__Baudeau_Idees sur la puissance</td>\n",
       "      <td>4.90</td>\n",
       "      <td>1.85</td>\n",
       "      <td>2.50</td>\n",
       "      <td>2.35</td>\n",
       "      <td>2.75</td>\n",
       "      <td>0.10</td>\n",
       "      <td>...</td>\n",
       "      <td>0.20</td>\n",
       "      <td>0.05</td>\n",
       "      <td>0.05</td>\n",
       "      <td>0.10</td>\n",
       "      <td>0.15</td>\n",
       "      <td>0.15</td>\n",
       "      <td>0.10</td>\n",
       "      <td>0.10</td>\n",
       "      <td>0.05</td>\n",
       "      <td>0.00</td>\n",
       "    </tr>\n",
       "    <tr>\n",
       "      <th>...</th>\n",
       "      <td>...</td>\n",
       "      <td>...</td>\n",
       "      <td>...</td>\n",
       "      <td>...</td>\n",
       "      <td>...</td>\n",
       "      <td>...</td>\n",
       "      <td>...</td>\n",
       "      <td>...</td>\n",
       "      <td>...</td>\n",
       "      <td>...</td>\n",
       "      <td>...</td>\n",
       "      <td>...</td>\n",
       "      <td>...</td>\n",
       "      <td>...</td>\n",
       "      <td>...</td>\n",
       "      <td>...</td>\n",
       "      <td>...</td>\n",
       "      <td>...</td>\n",
       "      <td>...</td>\n",
       "      <td>...</td>\n",
       "      <td>...</td>\n",
       "    </tr>\n",
       "    <tr>\n",
       "      <th>4422</th>\n",
       "      <td>elements T3</td>\n",
       "      <td>Marmontel</td>\n",
       "      <td>96</td>\n",
       "      <td>96__Marmontel_elements T3</td>\n",
       "      <td>4.15</td>\n",
       "      <td>1.20</td>\n",
       "      <td>3.35</td>\n",
       "      <td>3.00</td>\n",
       "      <td>1.15</td>\n",
       "      <td>0.00</td>\n",
       "      <td>...</td>\n",
       "      <td>0.00</td>\n",
       "      <td>0.00</td>\n",
       "      <td>0.15</td>\n",
       "      <td>0.20</td>\n",
       "      <td>0.00</td>\n",
       "      <td>0.05</td>\n",
       "      <td>0.05</td>\n",
       "      <td>0.20</td>\n",
       "      <td>0.00</td>\n",
       "      <td>0.00</td>\n",
       "    </tr>\n",
       "    <tr>\n",
       "      <th>4423</th>\n",
       "      <td>Histoire Generale T19</td>\n",
       "      <td>Deleyre</td>\n",
       "      <td>97</td>\n",
       "      <td>97__Deleyre_Histoire Generale T19</td>\n",
       "      <td>5.25</td>\n",
       "      <td>1.85</td>\n",
       "      <td>0.75</td>\n",
       "      <td>3.75</td>\n",
       "      <td>2.65</td>\n",
       "      <td>0.00</td>\n",
       "      <td>...</td>\n",
       "      <td>0.05</td>\n",
       "      <td>0.15</td>\n",
       "      <td>0.05</td>\n",
       "      <td>0.15</td>\n",
       "      <td>0.00</td>\n",
       "      <td>0.00</td>\n",
       "      <td>0.05</td>\n",
       "      <td>0.15</td>\n",
       "      <td>0.05</td>\n",
       "      <td>0.20</td>\n",
       "    </tr>\n",
       "    <tr>\n",
       "      <th>4424</th>\n",
       "      <td>elements T3</td>\n",
       "      <td>Marmontel</td>\n",
       "      <td>97</td>\n",
       "      <td>97__Marmontel_elements T3</td>\n",
       "      <td>4.60</td>\n",
       "      <td>0.95</td>\n",
       "      <td>3.10</td>\n",
       "      <td>3.40</td>\n",
       "      <td>1.55</td>\n",
       "      <td>0.00</td>\n",
       "      <td>...</td>\n",
       "      <td>0.00</td>\n",
       "      <td>0.05</td>\n",
       "      <td>0.00</td>\n",
       "      <td>0.30</td>\n",
       "      <td>0.05</td>\n",
       "      <td>0.15</td>\n",
       "      <td>0.05</td>\n",
       "      <td>0.10</td>\n",
       "      <td>0.10</td>\n",
       "      <td>0.00</td>\n",
       "    </tr>\n",
       "    <tr>\n",
       "      <th>4425</th>\n",
       "      <td>Histoire Generale T19</td>\n",
       "      <td>Deleyre</td>\n",
       "      <td>98</td>\n",
       "      <td>98__Deleyre_Histoire Generale T19</td>\n",
       "      <td>4.90</td>\n",
       "      <td>2.95</td>\n",
       "      <td>0.75</td>\n",
       "      <td>3.25</td>\n",
       "      <td>3.20</td>\n",
       "      <td>0.05</td>\n",
       "      <td>...</td>\n",
       "      <td>0.00</td>\n",
       "      <td>0.05</td>\n",
       "      <td>0.05</td>\n",
       "      <td>0.15</td>\n",
       "      <td>0.05</td>\n",
       "      <td>0.00</td>\n",
       "      <td>0.15</td>\n",
       "      <td>0.20</td>\n",
       "      <td>0.05</td>\n",
       "      <td>0.20</td>\n",
       "    </tr>\n",
       "    <tr>\n",
       "      <th>4426</th>\n",
       "      <td>Histoire Generale T19</td>\n",
       "      <td>Deleyre</td>\n",
       "      <td>99</td>\n",
       "      <td>99__Deleyre_Histoire Generale T19</td>\n",
       "      <td>5.55</td>\n",
       "      <td>2.45</td>\n",
       "      <td>0.30</td>\n",
       "      <td>2.70</td>\n",
       "      <td>3.40</td>\n",
       "      <td>0.00</td>\n",
       "      <td>...</td>\n",
       "      <td>0.20</td>\n",
       "      <td>0.10</td>\n",
       "      <td>0.15</td>\n",
       "      <td>0.25</td>\n",
       "      <td>0.00</td>\n",
       "      <td>0.10</td>\n",
       "      <td>0.00</td>\n",
       "      <td>0.15</td>\n",
       "      <td>0.05</td>\n",
       "      <td>0.25</td>\n",
       "    </tr>\n",
       "  </tbody>\n",
       "</table>\n",
       "<p>4427 rows × 104 columns</p>\n",
       "</div>"
      ],
      "text/plain": [
       "                            work     author  chunk_num  \\\n",
       "0                          Avis     Baudeau          0   \n",
       "1                Eclaircissemens    Baudeau          0   \n",
       "2                    Explication    Baudeau          0   \n",
       "3     Idees sur l-administration    Baudeau          0   \n",
       "4         Idees sur la puissance    Baudeau          0   \n",
       "...                          ...        ...        ...   \n",
       "4422                 elements T3  Marmontel         96   \n",
       "4423       Histoire Generale T19    Deleyre         97   \n",
       "4424                 elements T3  Marmontel         97   \n",
       "4425       Histoire Generale T19    Deleyre         98   \n",
       "4426       Histoire Generale T19    Deleyre         99   \n",
       "\n",
       "                                        tag    de   des    et    la   les  \\\n",
       "0                          0__Baudeau_Avis   3.45  2.20  2.50  1.40  2.35   \n",
       "1                0__Baudeau_Eclaircissemens  4.40  2.85  2.80  2.60  2.40   \n",
       "2                    0__Baudeau_Explication  4.90  2.60  3.80  3.10  4.65   \n",
       "3     0__Baudeau_Idees sur l-administration  5.60  1.90  2.20  3.65  1.85   \n",
       "4         0__Baudeau_Idees sur la puissance  4.90  1.85  2.50  2.35  2.75   \n",
       "...                                     ...   ...   ...   ...   ...   ...   \n",
       "4422              96__Marmontel_elements T3  4.15  1.20  3.35  3.00  1.15   \n",
       "4423      97__Deleyre_Histoire Generale T19  5.25  1.85  0.75  3.75  2.65   \n",
       "4424              97__Marmontel_elements T3  4.60  0.95  3.10  3.40  1.55   \n",
       "4425      98__Deleyre_Histoire Generale T19  4.90  2.95  0.75  3.25  3.20   \n",
       "4426      99__Deleyre_Histoire Generale T19  5.55  2.45  0.30  2.70  3.40   \n",
       "\n",
       "      vous  ...  toujours  après   cet  autre  donc  jamais  encore  avoir  \\\n",
       "0     0.65  ...      0.10   0.00  0.05   0.05  0.40    0.00    0.00   0.30   \n",
       "1     1.65  ...      0.10   0.10  0.05   0.15  0.10    0.10    0.05   0.15   \n",
       "2     0.95  ...      0.15   0.10  0.00   0.00  0.10    0.00    0.10   0.10   \n",
       "3     0.10  ...      0.15   0.00  0.10   0.00  0.10    0.25    0.10   0.20   \n",
       "4     0.10  ...      0.20   0.05  0.05   0.10  0.15    0.15    0.10   0.10   \n",
       "...    ...  ...       ...    ...   ...    ...   ...     ...     ...    ...   \n",
       "4422  0.00  ...      0.00   0.00  0.15   0.20  0.00    0.05    0.05   0.20   \n",
       "4423  0.00  ...      0.05   0.15  0.05   0.15  0.00    0.00    0.05   0.15   \n",
       "4424  0.00  ...      0.00   0.05  0.00   0.30  0.05    0.15    0.05   0.10   \n",
       "4425  0.05  ...      0.00   0.05  0.05   0.15  0.05    0.00    0.15   0.20   \n",
       "4426  0.00  ...      0.20   0.10  0.15   0.25  0.00    0.10    0.00   0.15   \n",
       "\n",
       "      ainsi   peu  \n",
       "0      0.00  0.05  \n",
       "1      0.05  0.05  \n",
       "2      0.05  0.20  \n",
       "3      0.05  0.00  \n",
       "4      0.05  0.00  \n",
       "...     ...   ...  \n",
       "4422   0.00  0.00  \n",
       "4423   0.05  0.20  \n",
       "4424   0.10  0.00  \n",
       "4425   0.05  0.20  \n",
       "4426   0.05  0.25  \n",
       "\n",
       "[4427 rows x 104 columns]"
      ]
     },
     "execution_count": 91,
     "metadata": {},
     "output_type": "execute_result"
    }
   ],
   "source": [
    "# load preprocessed data\n",
    "\n",
    "corpus = pd.read_csv('03_tests/FP1_2000_100mfw_rfreq.csv') # rel freq\n",
    "\n",
    "corpus"
   ]
  },
  {
   "cell_type": "code",
   "execution_count": 92,
   "id": "25ef03fe",
   "metadata": {},
   "outputs": [
    {
     "data": {
      "text/html": [
       "<div>\n",
       "<style scoped>\n",
       "    .dataframe tbody tr th:only-of-type {\n",
       "        vertical-align: middle;\n",
       "    }\n",
       "\n",
       "    .dataframe tbody tr th {\n",
       "        vertical-align: top;\n",
       "    }\n",
       "\n",
       "    .dataframe thead th {\n",
       "        text-align: right;\n",
       "    }\n",
       "</style>\n",
       "<table border=\"1\" class=\"dataframe\">\n",
       "  <thead>\n",
       "    <tr style=\"text-align: right;\">\n",
       "      <th></th>\n",
       "      <th>work</th>\n",
       "      <th>author</th>\n",
       "      <th>chunk_num</th>\n",
       "      <th>tag</th>\n",
       "    </tr>\n",
       "  </thead>\n",
       "  <tbody>\n",
       "    <tr>\n",
       "      <th>0</th>\n",
       "      <td>Avis</td>\n",
       "      <td>Baudeau</td>\n",
       "      <td>0</td>\n",
       "      <td>0__Baudeau_Avis</td>\n",
       "    </tr>\n",
       "    <tr>\n",
       "      <th>1</th>\n",
       "      <td>Eclaircissemens</td>\n",
       "      <td>Baudeau</td>\n",
       "      <td>0</td>\n",
       "      <td>0__Baudeau_Eclaircissemens</td>\n",
       "    </tr>\n",
       "    <tr>\n",
       "      <th>2</th>\n",
       "      <td>Explication</td>\n",
       "      <td>Baudeau</td>\n",
       "      <td>0</td>\n",
       "      <td>0__Baudeau_Explication</td>\n",
       "    </tr>\n",
       "    <tr>\n",
       "      <th>3</th>\n",
       "      <td>Idees sur l-administration</td>\n",
       "      <td>Baudeau</td>\n",
       "      <td>0</td>\n",
       "      <td>0__Baudeau_Idees sur l-administration</td>\n",
       "    </tr>\n",
       "    <tr>\n",
       "      <th>4</th>\n",
       "      <td>Idees sur la puissance</td>\n",
       "      <td>Baudeau</td>\n",
       "      <td>0</td>\n",
       "      <td>0__Baudeau_Idees sur la puissance</td>\n",
       "    </tr>\n",
       "    <tr>\n",
       "      <th>...</th>\n",
       "      <td>...</td>\n",
       "      <td>...</td>\n",
       "      <td>...</td>\n",
       "      <td>...</td>\n",
       "    </tr>\n",
       "    <tr>\n",
       "      <th>4422</th>\n",
       "      <td>elements T3</td>\n",
       "      <td>Marmontel</td>\n",
       "      <td>96</td>\n",
       "      <td>96__Marmontel_elements T3</td>\n",
       "    </tr>\n",
       "    <tr>\n",
       "      <th>4423</th>\n",
       "      <td>Histoire Generale T19</td>\n",
       "      <td>Deleyre</td>\n",
       "      <td>97</td>\n",
       "      <td>97__Deleyre_Histoire Generale T19</td>\n",
       "    </tr>\n",
       "    <tr>\n",
       "      <th>4424</th>\n",
       "      <td>elements T3</td>\n",
       "      <td>Marmontel</td>\n",
       "      <td>97</td>\n",
       "      <td>97__Marmontel_elements T3</td>\n",
       "    </tr>\n",
       "    <tr>\n",
       "      <th>4425</th>\n",
       "      <td>Histoire Generale T19</td>\n",
       "      <td>Deleyre</td>\n",
       "      <td>98</td>\n",
       "      <td>98__Deleyre_Histoire Generale T19</td>\n",
       "    </tr>\n",
       "    <tr>\n",
       "      <th>4426</th>\n",
       "      <td>Histoire Generale T19</td>\n",
       "      <td>Deleyre</td>\n",
       "      <td>99</td>\n",
       "      <td>99__Deleyre_Histoire Generale T19</td>\n",
       "    </tr>\n",
       "  </tbody>\n",
       "</table>\n",
       "<p>4427 rows × 4 columns</p>\n",
       "</div>"
      ],
      "text/plain": [
       "                            work     author  chunk_num  \\\n",
       "0                          Avis     Baudeau          0   \n",
       "1                Eclaircissemens    Baudeau          0   \n",
       "2                    Explication    Baudeau          0   \n",
       "3     Idees sur l-administration    Baudeau          0   \n",
       "4         Idees sur la puissance    Baudeau          0   \n",
       "...                          ...        ...        ...   \n",
       "4422                 elements T3  Marmontel         96   \n",
       "4423       Histoire Generale T19    Deleyre         97   \n",
       "4424                 elements T3  Marmontel         97   \n",
       "4425       Histoire Generale T19    Deleyre         98   \n",
       "4426       Histoire Generale T19    Deleyre         99   \n",
       "\n",
       "                                        tag  \n",
       "0                          0__Baudeau_Avis   \n",
       "1                0__Baudeau_Eclaircissemens  \n",
       "2                    0__Baudeau_Explication  \n",
       "3     0__Baudeau_Idees sur l-administration  \n",
       "4         0__Baudeau_Idees sur la puissance  \n",
       "...                                     ...  \n",
       "4422              96__Marmontel_elements T3  \n",
       "4423      97__Deleyre_Histoire Generale T19  \n",
       "4424              97__Marmontel_elements T3  \n",
       "4425      98__Deleyre_Histoire Generale T19  \n",
       "4426      99__Deleyre_Histoire Generale T19  \n",
       "\n",
       "[4427 rows x 4 columns]"
      ]
     },
     "execution_count": 92,
     "metadata": {},
     "output_type": "execute_result"
    }
   ],
   "source": [
    "raw_df = corpus.iloc[:, :4] # leaves metadata\n",
    "X = corpus.iloc[:, 4:] # leaves only word columns\n",
    "\n",
    "raw_df"
   ]
  },
  {
   "cell_type": "code",
   "execution_count": 93,
   "id": "5f8551f4",
   "metadata": {},
   "outputs": [
    {
     "data": {
      "text/plain": [
       "(4427, 100)"
      ]
     },
     "execution_count": 93,
     "metadata": {},
     "output_type": "execute_result"
    }
   ],
   "source": [
    "# numer of rows and columns in the X (word frequencies subset)\n",
    "X.shape"
   ]
  },
  {
   "cell_type": "code",
   "execution_count": 94,
   "id": "b915de8c",
   "metadata": {},
   "outputs": [
    {
     "data": {
      "text/html": [
       "<div>\n",
       "<style scoped>\n",
       "    .dataframe tbody tr th:only-of-type {\n",
       "        vertical-align: middle;\n",
       "    }\n",
       "\n",
       "    .dataframe tbody tr th {\n",
       "        vertical-align: top;\n",
       "    }\n",
       "\n",
       "    .dataframe thead th {\n",
       "        text-align: right;\n",
       "    }\n",
       "</style>\n",
       "<table border=\"1\" class=\"dataframe\">\n",
       "  <thead>\n",
       "    <tr style=\"text-align: right;\">\n",
       "      <th></th>\n",
       "      <th>work</th>\n",
       "      <th>author_label</th>\n",
       "      <th>author</th>\n",
       "      <th>chunk_num</th>\n",
       "      <th>tag</th>\n",
       "    </tr>\n",
       "  </thead>\n",
       "  <tbody>\n",
       "    <tr>\n",
       "      <th>0</th>\n",
       "      <td>Avis</td>\n",
       "      <td>0</td>\n",
       "      <td>Baudeau</td>\n",
       "      <td>0</td>\n",
       "      <td>0__Baudeau_Avis</td>\n",
       "    </tr>\n",
       "    <tr>\n",
       "      <th>1</th>\n",
       "      <td>Eclaircissemens</td>\n",
       "      <td>0</td>\n",
       "      <td>Baudeau</td>\n",
       "      <td>0</td>\n",
       "      <td>0__Baudeau_Eclaircissemens</td>\n",
       "    </tr>\n",
       "    <tr>\n",
       "      <th>2</th>\n",
       "      <td>Explication</td>\n",
       "      <td>0</td>\n",
       "      <td>Baudeau</td>\n",
       "      <td>0</td>\n",
       "      <td>0__Baudeau_Explication</td>\n",
       "    </tr>\n",
       "    <tr>\n",
       "      <th>3</th>\n",
       "      <td>Idees sur l-administration</td>\n",
       "      <td>0</td>\n",
       "      <td>Baudeau</td>\n",
       "      <td>0</td>\n",
       "      <td>0__Baudeau_Idees sur l-administration</td>\n",
       "    </tr>\n",
       "    <tr>\n",
       "      <th>4</th>\n",
       "      <td>Idees sur la puissance</td>\n",
       "      <td>0</td>\n",
       "      <td>Baudeau</td>\n",
       "      <td>0</td>\n",
       "      <td>0__Baudeau_Idees sur la puissance</td>\n",
       "    </tr>\n",
       "    <tr>\n",
       "      <th>...</th>\n",
       "      <td>...</td>\n",
       "      <td>...</td>\n",
       "      <td>...</td>\n",
       "      <td>...</td>\n",
       "      <td>...</td>\n",
       "    </tr>\n",
       "    <tr>\n",
       "      <th>4422</th>\n",
       "      <td>elements T3</td>\n",
       "      <td>11</td>\n",
       "      <td>Marmontel</td>\n",
       "      <td>96</td>\n",
       "      <td>96__Marmontel_elements T3</td>\n",
       "    </tr>\n",
       "    <tr>\n",
       "      <th>4423</th>\n",
       "      <td>Histoire Generale T19</td>\n",
       "      <td>3</td>\n",
       "      <td>Deleyre</td>\n",
       "      <td>97</td>\n",
       "      <td>97__Deleyre_Histoire Generale T19</td>\n",
       "    </tr>\n",
       "    <tr>\n",
       "      <th>4424</th>\n",
       "      <td>elements T3</td>\n",
       "      <td>11</td>\n",
       "      <td>Marmontel</td>\n",
       "      <td>97</td>\n",
       "      <td>97__Marmontel_elements T3</td>\n",
       "    </tr>\n",
       "    <tr>\n",
       "      <th>4425</th>\n",
       "      <td>Histoire Generale T19</td>\n",
       "      <td>3</td>\n",
       "      <td>Deleyre</td>\n",
       "      <td>98</td>\n",
       "      <td>98__Deleyre_Histoire Generale T19</td>\n",
       "    </tr>\n",
       "    <tr>\n",
       "      <th>4426</th>\n",
       "      <td>Histoire Generale T19</td>\n",
       "      <td>3</td>\n",
       "      <td>Deleyre</td>\n",
       "      <td>99</td>\n",
       "      <td>99__Deleyre_Histoire Generale T19</td>\n",
       "    </tr>\n",
       "  </tbody>\n",
       "</table>\n",
       "<p>4427 rows × 5 columns</p>\n",
       "</div>"
      ],
      "text/plain": [
       "                            work  author_label     author  chunk_num  \\\n",
       "0                          Avis              0    Baudeau          0   \n",
       "1                Eclaircissemens             0    Baudeau          0   \n",
       "2                    Explication             0    Baudeau          0   \n",
       "3     Idees sur l-administration             0    Baudeau          0   \n",
       "4         Idees sur la puissance             0    Baudeau          0   \n",
       "...                          ...           ...        ...        ...   \n",
       "4422                 elements T3            11  Marmontel         96   \n",
       "4423       Histoire Generale T19             3    Deleyre         97   \n",
       "4424                 elements T3            11  Marmontel         97   \n",
       "4425       Histoire Generale T19             3    Deleyre         98   \n",
       "4426       Histoire Generale T19             3    Deleyre         99   \n",
       "\n",
       "                                        tag  \n",
       "0                          0__Baudeau_Avis   \n",
       "1                0__Baudeau_Eclaircissemens  \n",
       "2                    0__Baudeau_Explication  \n",
       "3     0__Baudeau_Idees sur l-administration  \n",
       "4         0__Baudeau_Idees sur la puissance  \n",
       "...                                     ...  \n",
       "4422              96__Marmontel_elements T3  \n",
       "4423      97__Deleyre_Histoire Generale T19  \n",
       "4424              97__Marmontel_elements T3  \n",
       "4425      98__Deleyre_Histoire Generale T19  \n",
       "4426      99__Deleyre_Histoire Generale T19  \n",
       "\n",
       "[4427 rows x 5 columns]"
      ]
     },
     "execution_count": 94,
     "metadata": {},
     "output_type": "execute_result"
    }
   ],
   "source": [
    "# create numeric author labels\n",
    "labels, label_uniques = raw_df.author.factorize()\n",
    "raw_df.insert(1, \"author_label\", labels)\n",
    "raw_df"
   ]
  },
  {
   "cell_type": "code",
   "execution_count": 95,
   "id": "da0cbb49",
   "metadata": {},
   "outputs": [
    {
     "data": {
      "text/html": [
       "<div>\n",
       "<style scoped>\n",
       "    .dataframe tbody tr th:only-of-type {\n",
       "        vertical-align: middle;\n",
       "    }\n",
       "\n",
       "    .dataframe tbody tr th {\n",
       "        vertical-align: top;\n",
       "    }\n",
       "\n",
       "    .dataframe thead th {\n",
       "        text-align: right;\n",
       "    }\n",
       "</style>\n",
       "<table border=\"1\" class=\"dataframe\">\n",
       "  <thead>\n",
       "    <tr style=\"text-align: right;\">\n",
       "      <th></th>\n",
       "      <th>work</th>\n",
       "      <th>author_label</th>\n",
       "      <th>author</th>\n",
       "      <th>chunk_num</th>\n",
       "      <th>tag</th>\n",
       "    </tr>\n",
       "  </thead>\n",
       "  <tbody>\n",
       "    <tr>\n",
       "      <th>0</th>\n",
       "      <td>FP1</td>\n",
       "      <td>7</td>\n",
       "      <td>HDI</td>\n",
       "      <td>0</td>\n",
       "      <td>0__HDI_FP1</td>\n",
       "    </tr>\n",
       "    <tr>\n",
       "      <th>1</th>\n",
       "      <td>FP1</td>\n",
       "      <td>7</td>\n",
       "      <td>HDI</td>\n",
       "      <td>1</td>\n",
       "      <td>1__HDI_FP1</td>\n",
       "    </tr>\n",
       "    <tr>\n",
       "      <th>2</th>\n",
       "      <td>FP1</td>\n",
       "      <td>7</td>\n",
       "      <td>HDI</td>\n",
       "      <td>2</td>\n",
       "      <td>2__HDI_FP1</td>\n",
       "    </tr>\n",
       "  </tbody>\n",
       "</table>\n",
       "</div>"
      ],
      "text/plain": [
       "  work  author_label author  chunk_num         tag\n",
       "0  FP1             7    HDI          0  0__HDI_FP1\n",
       "1  FP1             7    HDI          1  1__HDI_FP1\n",
       "2  FP1             7    HDI          2  2__HDI_FP1"
      ]
     },
     "execution_count": 95,
     "metadata": {},
     "output_type": "execute_result"
    }
   ],
   "source": [
    "# select an \"unknown\" work\n",
    "\n",
    "problems = raw_df[raw_df.work == \"FP1\"].reset_index(drop=True).copy()\n",
    "problems_X = X[raw_df.work == \"FP1\"].reset_index(drop=True).copy()\n",
    "problems"
   ]
  },
  {
   "cell_type": "code",
   "execution_count": 96,
   "id": "ac97aa75",
   "metadata": {},
   "outputs": [
    {
     "data": {
      "text/html": [
       "<div>\n",
       "<style scoped>\n",
       "    .dataframe tbody tr th:only-of-type {\n",
       "        vertical-align: middle;\n",
       "    }\n",
       "\n",
       "    .dataframe tbody tr th {\n",
       "        vertical-align: top;\n",
       "    }\n",
       "\n",
       "    .dataframe thead th {\n",
       "        text-align: right;\n",
       "    }\n",
       "</style>\n",
       "<table border=\"1\" class=\"dataframe\">\n",
       "  <thead>\n",
       "    <tr style=\"text-align: right;\">\n",
       "      <th></th>\n",
       "      <th>work</th>\n",
       "      <th>author_label</th>\n",
       "      <th>author</th>\n",
       "      <th>chunk_num</th>\n",
       "      <th>tag</th>\n",
       "    </tr>\n",
       "  </thead>\n",
       "  <tbody>\n",
       "    <tr>\n",
       "      <th>0</th>\n",
       "      <td>Avis</td>\n",
       "      <td>0</td>\n",
       "      <td>Baudeau</td>\n",
       "      <td>0</td>\n",
       "      <td>0__Baudeau_Avis</td>\n",
       "    </tr>\n",
       "    <tr>\n",
       "      <th>1</th>\n",
       "      <td>Eclaircissemens</td>\n",
       "      <td>0</td>\n",
       "      <td>Baudeau</td>\n",
       "      <td>0</td>\n",
       "      <td>0__Baudeau_Eclaircissemens</td>\n",
       "    </tr>\n",
       "    <tr>\n",
       "      <th>2</th>\n",
       "      <td>Explication</td>\n",
       "      <td>0</td>\n",
       "      <td>Baudeau</td>\n",
       "      <td>0</td>\n",
       "      <td>0__Baudeau_Explication</td>\n",
       "    </tr>\n",
       "    <tr>\n",
       "      <th>3</th>\n",
       "      <td>Idees sur l-administration</td>\n",
       "      <td>0</td>\n",
       "      <td>Baudeau</td>\n",
       "      <td>0</td>\n",
       "      <td>0__Baudeau_Idees sur l-administration</td>\n",
       "    </tr>\n",
       "    <tr>\n",
       "      <th>4</th>\n",
       "      <td>Idees sur la puissance</td>\n",
       "      <td>0</td>\n",
       "      <td>Baudeau</td>\n",
       "      <td>0</td>\n",
       "      <td>0__Baudeau_Idees sur la puissance</td>\n",
       "    </tr>\n",
       "    <tr>\n",
       "      <th>...</th>\n",
       "      <td>...</td>\n",
       "      <td>...</td>\n",
       "      <td>...</td>\n",
       "      <td>...</td>\n",
       "      <td>...</td>\n",
       "    </tr>\n",
       "    <tr>\n",
       "      <th>4419</th>\n",
       "      <td>elements T3</td>\n",
       "      <td>11</td>\n",
       "      <td>Marmontel</td>\n",
       "      <td>96</td>\n",
       "      <td>96__Marmontel_elements T3</td>\n",
       "    </tr>\n",
       "    <tr>\n",
       "      <th>4420</th>\n",
       "      <td>Histoire Generale T19</td>\n",
       "      <td>3</td>\n",
       "      <td>Deleyre</td>\n",
       "      <td>97</td>\n",
       "      <td>97__Deleyre_Histoire Generale T19</td>\n",
       "    </tr>\n",
       "    <tr>\n",
       "      <th>4421</th>\n",
       "      <td>elements T3</td>\n",
       "      <td>11</td>\n",
       "      <td>Marmontel</td>\n",
       "      <td>97</td>\n",
       "      <td>97__Marmontel_elements T3</td>\n",
       "    </tr>\n",
       "    <tr>\n",
       "      <th>4422</th>\n",
       "      <td>Histoire Generale T19</td>\n",
       "      <td>3</td>\n",
       "      <td>Deleyre</td>\n",
       "      <td>98</td>\n",
       "      <td>98__Deleyre_Histoire Generale T19</td>\n",
       "    </tr>\n",
       "    <tr>\n",
       "      <th>4423</th>\n",
       "      <td>Histoire Generale T19</td>\n",
       "      <td>3</td>\n",
       "      <td>Deleyre</td>\n",
       "      <td>99</td>\n",
       "      <td>99__Deleyre_Histoire Generale T19</td>\n",
       "    </tr>\n",
       "  </tbody>\n",
       "</table>\n",
       "<p>4424 rows × 5 columns</p>\n",
       "</div>"
      ],
      "text/plain": [
       "                            work  author_label     author  chunk_num  \\\n",
       "0                          Avis              0    Baudeau          0   \n",
       "1                Eclaircissemens             0    Baudeau          0   \n",
       "2                    Explication             0    Baudeau          0   \n",
       "3     Idees sur l-administration             0    Baudeau          0   \n",
       "4         Idees sur la puissance             0    Baudeau          0   \n",
       "...                          ...           ...        ...        ...   \n",
       "4419                 elements T3            11  Marmontel         96   \n",
       "4420       Histoire Generale T19             3    Deleyre         97   \n",
       "4421                 elements T3            11  Marmontel         97   \n",
       "4422       Histoire Generale T19             3    Deleyre         98   \n",
       "4423       Histoire Generale T19             3    Deleyre         99   \n",
       "\n",
       "                                        tag  \n",
       "0                          0__Baudeau_Avis   \n",
       "1                0__Baudeau_Eclaircissemens  \n",
       "2                    0__Baudeau_Explication  \n",
       "3     0__Baudeau_Idees sur l-administration  \n",
       "4         0__Baudeau_Idees sur la puissance  \n",
       "...                                     ...  \n",
       "4419              96__Marmontel_elements T3  \n",
       "4420      97__Deleyre_Histoire Generale T19  \n",
       "4421              97__Marmontel_elements T3  \n",
       "4422      98__Deleyre_Histoire Generale T19  \n",
       "4423      99__Deleyre_Histoire Generale T19  \n",
       "\n",
       "[4424 rows x 5 columns]"
      ]
     },
     "execution_count": 96,
     "metadata": {},
     "output_type": "execute_result"
    }
   ],
   "source": [
    "# extract the rest of the corpus\n",
    "\n",
    "rest = raw_df[raw_df.work != \"FP1\"].reset_index(drop=True).copy()\n",
    "rest_X = X[raw_df.work != \"FP1\"].reset_index(drop = True).copy()\n",
    "rest"
   ]
  },
  {
   "cell_type": "markdown",
   "id": "9e879c97",
   "metadata": {},
   "source": [
    "**Scaling**"
   ]
  },
  {
   "cell_type": "code",
   "execution_count": 97,
   "id": "44250f8d",
   "metadata": {},
   "outputs": [],
   "source": [
    "ss = StandardScaler(with_mean=False).fit(rest_X)"
   ]
  },
  {
   "cell_type": "code",
   "execution_count": 98,
   "id": "13503285",
   "metadata": {},
   "outputs": [],
   "source": [
    "rest_scaled_X = ss.transform(rest_X)\n",
    "problems_scaled_X = ss.transform(problems_X)"
   ]
  },
  {
   "cell_type": "markdown",
   "id": "df90c026",
   "metadata": {},
   "source": [
    "**Verification**"
   ]
  },
  {
   "cell_type": "code",
   "execution_count": 99,
   "id": "9ff156af",
   "metadata": {},
   "outputs": [],
   "source": [
    "# set verifier\n",
    "rng = np.random.default_rng(42)\n",
    "\n",
    "bdi_mm = BDIVerifier(\n",
    "    metric='minmax', nb_bootstrap_iter=1000, rnd_prop=0.35, random_state=rng\n",
    ")"
   ]
  },
  {
   "cell_type": "code",
   "execution_count": 100,
   "id": "098a8826",
   "metadata": {},
   "outputs": [
    {
     "name": "stderr",
     "output_type": "stream",
     "text": [
      "01/21/2025 05:16:38 [ruzicka:INFO] Fitting on 4424 documents...\n"
     ]
    }
   ],
   "source": [
    "# fit \n",
    "bdi_mm.fit(rest_scaled_X, rest.author_label)"
   ]
  },
  {
   "cell_type": "code",
   "execution_count": 101,
   "id": "68f3a9d1",
   "metadata": {},
   "outputs": [
    {
     "data": {
      "text/plain": [
       "array(['Baudeau', 'Chastellux', 'Condorcet', 'Deleyre', 'dHolbach',\n",
       "       'Diderot', 'Guibert', 'HDI', 'Jaucourt', 'Jussieu', 'La Grange',\n",
       "       'Marmontel', 'Meister', 'Morellet', 'Naigeon', 'Pechmeja',\n",
       "       'Raynal', 'Rivière', 'Saint-Lambert'], dtype=object)"
      ]
     },
     "execution_count": 101,
     "metadata": {},
     "output_type": "execute_result"
    }
   ],
   "source": [
    "# check unique authors\n",
    "label_uniques.values"
   ]
  },
  {
   "cell_type": "code",
   "execution_count": 102,
   "id": "91ff21a5",
   "metadata": {},
   "outputs": [
    {
     "name": "stderr",
     "output_type": "stream",
     "text": [
      "01/21/2025 05:16:43 [ruzicka:INFO] Predicting on 3 documents\n"
     ]
    },
    {
     "name": "stdout",
     "output_type": "stream",
     "text": [
      "Testing against Baudeau\n"
     ]
    },
    {
     "name": "stderr",
     "output_type": "stream",
     "text": [
      "01/21/2025 05:16:43 [ruzicka:INFO] Predicting on 3 documents\n"
     ]
    },
    {
     "name": "stdout",
     "output_type": "stream",
     "text": [
      "Bootstrap Match Strength (one per chunk, 0-1.0): [0.775 0.63  0.674]\n",
      "Testing against Chastellux\n"
     ]
    },
    {
     "name": "stderr",
     "output_type": "stream",
     "text": [
      "01/21/2025 05:16:44 [ruzicka:INFO] Predicting on 3 documents\n"
     ]
    },
    {
     "name": "stdout",
     "output_type": "stream",
     "text": [
      "Bootstrap Match Strength (one per chunk, 0-1.0): [0.948 0.834 0.971]\n",
      "Testing against Condorcet\n"
     ]
    },
    {
     "name": "stderr",
     "output_type": "stream",
     "text": [
      "01/21/2025 05:16:46 [ruzicka:INFO] Predicting on 3 documents\n"
     ]
    },
    {
     "name": "stdout",
     "output_type": "stream",
     "text": [
      "Bootstrap Match Strength (one per chunk, 0-1.0): [0.974 0.988 0.992]\n",
      "Testing against Deleyre\n"
     ]
    },
    {
     "name": "stderr",
     "output_type": "stream",
     "text": [
      "01/21/2025 05:16:47 [ruzicka:INFO] Predicting on 3 documents\n"
     ]
    },
    {
     "name": "stdout",
     "output_type": "stream",
     "text": [
      "Bootstrap Match Strength (one per chunk, 0-1.0): [0.875 0.804 0.877]\n",
      "Testing against dHolbach\n"
     ]
    },
    {
     "name": "stderr",
     "output_type": "stream",
     "text": [
      "01/21/2025 05:16:48 [ruzicka:INFO] Predicting on 3 documents\n"
     ]
    },
    {
     "name": "stdout",
     "output_type": "stream",
     "text": [
      "Bootstrap Match Strength (one per chunk, 0-1.0): [0.821 0.951 0.726]\n",
      "Testing against Diderot\n"
     ]
    },
    {
     "name": "stderr",
     "output_type": "stream",
     "text": [
      "01/21/2025 05:16:49 [ruzicka:INFO] Predicting on 3 documents\n"
     ]
    },
    {
     "name": "stdout",
     "output_type": "stream",
     "text": [
      "Bootstrap Match Strength (one per chunk, 0-1.0): [1. 1. 1.]\n",
      "Testing against Guibert\n"
     ]
    },
    {
     "name": "stderr",
     "output_type": "stream",
     "text": [
      "01/21/2025 05:16:50 [ruzicka:INFO] Predicting on 3 documents\n",
      "01/21/2025 05:16:50 [ruzicka:INFO] Predicting on 3 documents\n"
     ]
    },
    {
     "name": "stdout",
     "output_type": "stream",
     "text": [
      "Bootstrap Match Strength (one per chunk, 0-1.0): [0.915 0.751 0.908]\n",
      "Testing against HDI\n",
      "Bootstrap Match Strength (one per chunk, 0-1.0): [0.015 0.125 0.026]\n",
      "Testing against Jaucourt\n"
     ]
    },
    {
     "name": "stderr",
     "output_type": "stream",
     "text": [
      "01/21/2025 05:16:51 [ruzicka:INFO] Predicting on 3 documents\n"
     ]
    },
    {
     "name": "stdout",
     "output_type": "stream",
     "text": [
      "Bootstrap Match Strength (one per chunk, 0-1.0): [0.833 0.678 0.825]\n",
      "Testing against Jussieu\n"
     ]
    },
    {
     "name": "stderr",
     "output_type": "stream",
     "text": [
      "01/21/2025 05:16:51 [ruzicka:INFO] Predicting on 3 documents\n"
     ]
    },
    {
     "name": "stdout",
     "output_type": "stream",
     "text": [
      "Bootstrap Match Strength (one per chunk, 0-1.0): [0.532 0.406 0.531]\n",
      "Testing against La Grange\n"
     ]
    },
    {
     "name": "stderr",
     "output_type": "stream",
     "text": [
      "01/21/2025 05:16:52 [ruzicka:INFO] Predicting on 3 documents\n"
     ]
    },
    {
     "name": "stdout",
     "output_type": "stream",
     "text": [
      "Bootstrap Match Strength (one per chunk, 0-1.0): [0.227 0.187 0.431]\n",
      "Testing against Marmontel\n"
     ]
    },
    {
     "name": "stderr",
     "output_type": "stream",
     "text": [
      "01/21/2025 05:16:53 [ruzicka:INFO] Predicting on 3 documents\n",
      "01/21/2025 05:16:53 [ruzicka:INFO] Predicting on 3 documents\n"
     ]
    },
    {
     "name": "stdout",
     "output_type": "stream",
     "text": [
      "Bootstrap Match Strength (one per chunk, 0-1.0): [0.98  0.967 0.95 ]\n",
      "Testing against Meister\n",
      "Bootstrap Match Strength (one per chunk, 0-1.0): [0.223 0.204 0.139]\n",
      "Testing against Morellet\n"
     ]
    },
    {
     "name": "stderr",
     "output_type": "stream",
     "text": [
      "01/21/2025 05:16:54 [ruzicka:INFO] Predicting on 3 documents\n"
     ]
    },
    {
     "name": "stdout",
     "output_type": "stream",
     "text": [
      "Bootstrap Match Strength (one per chunk, 0-1.0): [0.946 0.871 0.802]\n",
      "Testing against Naigeon\n"
     ]
    },
    {
     "name": "stderr",
     "output_type": "stream",
     "text": [
      "01/21/2025 05:16:54 [ruzicka:INFO] Predicting on 3 documents\n"
     ]
    },
    {
     "name": "stdout",
     "output_type": "stream",
     "text": [
      "Bootstrap Match Strength (one per chunk, 0-1.0): [0.789 0.614 0.462]\n",
      "Testing against Pechmeja\n"
     ]
    },
    {
     "name": "stderr",
     "output_type": "stream",
     "text": [
      "01/21/2025 05:16:54 [ruzicka:INFO] Predicting on 3 documents\n"
     ]
    },
    {
     "name": "stdout",
     "output_type": "stream",
     "text": [
      "Bootstrap Match Strength (one per chunk, 0-1.0): [0.21  0.414 0.73 ]\n",
      "Testing against Raynal\n"
     ]
    },
    {
     "name": "stderr",
     "output_type": "stream",
     "text": [
      "01/21/2025 05:16:55 [ruzicka:INFO] Predicting on 3 documents\n"
     ]
    },
    {
     "name": "stdout",
     "output_type": "stream",
     "text": [
      "Bootstrap Match Strength (one per chunk, 0-1.0): [0.685 0.574 0.6  ]\n",
      "Testing against Rivière\n"
     ]
    },
    {
     "name": "stderr",
     "output_type": "stream",
     "text": [
      "01/21/2025 05:16:56 [ruzicka:INFO] Predicting on 3 documents\n"
     ]
    },
    {
     "name": "stdout",
     "output_type": "stream",
     "text": [
      "Bootstrap Match Strength (one per chunk, 0-1.0): [0.498 0.534 0.514]\n",
      "Testing against Saint-Lambert\n",
      "Bootstrap Match Strength (one per chunk, 0-1.0): [0.574 0.944 0.947]\n"
     ]
    }
   ],
   "source": [
    "for label in label_uniques.values:\n",
    "    print(f\"Testing against {label}\")\n",
    "    code = label_uniques.get_loc(label)\n",
    "    print(\n",
    "        f\"Bootstrap Match Strength (one per chunk, 0-1.0): {bdi_mm.predict_proba(problems_scaled_X, [code] * problems_scaled_X.shape[0])}\"\n",
    "    )"
   ]
  },
  {
   "cell_type": "code",
   "execution_count": 103,
   "id": "a181a3f5",
   "metadata": {},
   "outputs": [
    {
     "name": "stderr",
     "output_type": "stream",
     "text": [
      "01/21/2025 05:16:58 [ruzicka:INFO] Predicting on 3 documents\n"
     ]
    },
    {
     "name": "stdout",
     "output_type": "stream",
     "text": [
      "Baudeau\n"
     ]
    },
    {
     "name": "stderr",
     "output_type": "stream",
     "text": [
      "01/21/2025 05:16:58 [ruzicka:INFO] Predicting on 3 documents\n"
     ]
    },
    {
     "name": "stdout",
     "output_type": "stream",
     "text": [
      "Chastellux\n"
     ]
    },
    {
     "name": "stderr",
     "output_type": "stream",
     "text": [
      "01/21/2025 05:16:59 [ruzicka:INFO] Predicting on 3 documents\n"
     ]
    },
    {
     "name": "stdout",
     "output_type": "stream",
     "text": [
      "Condorcet\n"
     ]
    },
    {
     "name": "stderr",
     "output_type": "stream",
     "text": [
      "01/21/2025 05:17:01 [ruzicka:INFO] Predicting on 3 documents\n"
     ]
    },
    {
     "name": "stdout",
     "output_type": "stream",
     "text": [
      "Deleyre\n"
     ]
    },
    {
     "name": "stderr",
     "output_type": "stream",
     "text": [
      "01/21/2025 05:17:02 [ruzicka:INFO] Predicting on 3 documents\n"
     ]
    },
    {
     "name": "stdout",
     "output_type": "stream",
     "text": [
      "dHolbach\n"
     ]
    },
    {
     "name": "stderr",
     "output_type": "stream",
     "text": [
      "01/21/2025 05:17:03 [ruzicka:INFO] Predicting on 3 documents\n"
     ]
    },
    {
     "name": "stdout",
     "output_type": "stream",
     "text": [
      "Diderot\n"
     ]
    },
    {
     "name": "stderr",
     "output_type": "stream",
     "text": [
      "01/21/2025 05:17:05 [ruzicka:INFO] Predicting on 3 documents\n"
     ]
    },
    {
     "name": "stdout",
     "output_type": "stream",
     "text": [
      "Guibert\n"
     ]
    },
    {
     "name": "stderr",
     "output_type": "stream",
     "text": [
      "01/21/2025 05:17:05 [ruzicka:INFO] Predicting on 3 documents\n",
      "01/21/2025 05:17:06 [ruzicka:INFO] Predicting on 3 documents\n"
     ]
    },
    {
     "name": "stdout",
     "output_type": "stream",
     "text": [
      "HDI\n",
      "Jaucourt\n"
     ]
    },
    {
     "name": "stderr",
     "output_type": "stream",
     "text": [
      "01/21/2025 05:17:06 [ruzicka:INFO] Predicting on 3 documents\n"
     ]
    },
    {
     "name": "stdout",
     "output_type": "stream",
     "text": [
      "Jussieu\n"
     ]
    },
    {
     "name": "stderr",
     "output_type": "stream",
     "text": [
      "01/21/2025 05:17:07 [ruzicka:INFO] Predicting on 3 documents\n"
     ]
    },
    {
     "name": "stdout",
     "output_type": "stream",
     "text": [
      "La Grange\n"
     ]
    },
    {
     "name": "stderr",
     "output_type": "stream",
     "text": [
      "01/21/2025 05:17:07 [ruzicka:INFO] Predicting on 3 documents\n"
     ]
    },
    {
     "name": "stdout",
     "output_type": "stream",
     "text": [
      "Marmontel\n"
     ]
    },
    {
     "name": "stderr",
     "output_type": "stream",
     "text": [
      "01/21/2025 05:17:08 [ruzicka:INFO] Predicting on 3 documents\n",
      "01/21/2025 05:17:08 [ruzicka:INFO] Predicting on 3 documents\n"
     ]
    },
    {
     "name": "stdout",
     "output_type": "stream",
     "text": [
      "Meister\n",
      "Morellet\n"
     ]
    },
    {
     "name": "stderr",
     "output_type": "stream",
     "text": [
      "01/21/2025 05:17:09 [ruzicka:INFO] Predicting on 3 documents\n"
     ]
    },
    {
     "name": "stdout",
     "output_type": "stream",
     "text": [
      "Naigeon\n"
     ]
    },
    {
     "name": "stderr",
     "output_type": "stream",
     "text": [
      "01/21/2025 05:17:09 [ruzicka:INFO] Predicting on 3 documents\n"
     ]
    },
    {
     "name": "stdout",
     "output_type": "stream",
     "text": [
      "Pechmeja\n"
     ]
    },
    {
     "name": "stderr",
     "output_type": "stream",
     "text": [
      "01/21/2025 05:17:10 [ruzicka:INFO] Predicting on 3 documents\n"
     ]
    },
    {
     "name": "stdout",
     "output_type": "stream",
     "text": [
      "Raynal\n"
     ]
    },
    {
     "name": "stderr",
     "output_type": "stream",
     "text": [
      "01/21/2025 05:17:10 [ruzicka:INFO] Predicting on 3 documents\n"
     ]
    },
    {
     "name": "stdout",
     "output_type": "stream",
     "text": [
      "Rivière\n"
     ]
    },
    {
     "name": "stderr",
     "output_type": "stream",
     "text": [
      "01/21/2025 05:17:11 [ruzicka:INFO] Predicting on 3 documents\n"
     ]
    },
    {
     "name": "stdout",
     "output_type": "stream",
     "text": [
      "Saint-Lambert\n"
     ]
    }
   ],
   "source": [
    "authors = label_uniques.values\n",
    "\n",
    "fh = ''\n",
    "\n",
    "for a in authors:\n",
    "\n",
    "    print(a)\n",
    "    \n",
    "    bdi_mm.predict_proba(\n",
    "        problems_scaled_X, [label_uniques.get_loc(a)] * problems_scaled_X.shape[0]\n",
    "    )\n",
    "\n",
    "    \n",
    "    x = pd.DataFrame(dict(zip(problems.tag, bdi_mm._dist_arrays)))\n",
    "    \n",
    "    fh = '03_tests/tests/fp1/fp1_vs_' + a + '.csv'\n",
    "\n",
    "    x.to_csv(fh)"
   ]
  },
  {
   "cell_type": "code",
   "execution_count": null,
   "id": "abf44c05",
   "metadata": {},
   "outputs": [],
   "source": []
  }
 ],
 "metadata": {
  "kernelspec": {
   "display_name": "Python 3 (ipykernel)",
   "language": "python",
   "name": "python3"
  },
  "language_info": {
   "codemirror_mode": {
    "name": "ipython",
    "version": 3
   },
   "file_extension": ".py",
   "mimetype": "text/x-python",
   "name": "python",
   "nbconvert_exporter": "python",
   "pygments_lexer": "ipython3",
   "version": "3.9.16"
  }
 },
 "nbformat": 4,
 "nbformat_minor": 5
}
