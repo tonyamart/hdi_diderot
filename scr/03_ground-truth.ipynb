{
 "cells": [
  {
   "cell_type": "markdown",
   "id": "014fb233",
   "metadata": {},
   "source": [
    "## Corpus testing\n",
    "\n",
    "This notebook takes works with known labels and looks how good it is attributed to its author. "
   ]
  },
  {
   "cell_type": "code",
   "execution_count": 1,
   "id": "fa1c3dcb",
   "metadata": {},
   "outputs": [],
   "source": [
    "import pandas as pd\n",
    "import numpy as np\n",
    "\n",
    "import re\n",
    "\n",
    "from sklearn.preprocessing import StandardScaler\n",
    "\n",
    "import logging\n",
    "\n",
    "logging.basicConfig(level=\"INFO\")\n",
    "logger = logging.getLogger(\"ruzicka\")\n",
    "\n",
    "from ruzicka.BDIVerifier import BDIVerifier"
   ]
  },
  {
   "cell_type": "markdown",
   "id": "ec593712",
   "metadata": {},
   "source": [
    "### I. Authors to themselves"
   ]
  },
  {
   "cell_type": "code",
   "execution_count": 2,
   "id": "01a73312",
   "metadata": {},
   "outputs": [
    {
     "data": {
      "text/html": [
       "<div>\n",
       "<style scoped>\n",
       "    .dataframe tbody tr th:only-of-type {\n",
       "        vertical-align: middle;\n",
       "    }\n",
       "\n",
       "    .dataframe tbody tr th {\n",
       "        vertical-align: top;\n",
       "    }\n",
       "\n",
       "    .dataframe thead th {\n",
       "        text-align: right;\n",
       "    }\n",
       "</style>\n",
       "<table border=\"1\" class=\"dataframe\">\n",
       "  <thead>\n",
       "    <tr style=\"text-align: right;\">\n",
       "      <th></th>\n",
       "      <th>work</th>\n",
       "      <th>author</th>\n",
       "      <th>chunk_num</th>\n",
       "      <th>tag</th>\n",
       "      <th>de</th>\n",
       "      <th>la</th>\n",
       "      <th>les</th>\n",
       "      <th>vous</th>\n",
       "      <th>il</th>\n",
       "      <th>l</th>\n",
       "      <th>...</th>\n",
       "      <th>effet</th>\n",
       "      <th>mieux</th>\n",
       "      <th>donner</th>\n",
       "      <th>jamais</th>\n",
       "      <th>enfin</th>\n",
       "      <th>voir</th>\n",
       "      <th>rendre</th>\n",
       "      <th>ici</th>\n",
       "      <th>beaucoup</th>\n",
       "      <th>cependant</th>\n",
       "    </tr>\n",
       "  </thead>\n",
       "  <tbody>\n",
       "    <tr>\n",
       "      <th>0</th>\n",
       "      <td>Avis</td>\n",
       "      <td>Baudeau</td>\n",
       "      <td>0</td>\n",
       "      <td>0__Baudeau_Avis</td>\n",
       "      <td>3.45</td>\n",
       "      <td>1.40</td>\n",
       "      <td>2.35</td>\n",
       "      <td>0.65</td>\n",
       "      <td>1.25</td>\n",
       "      <td>0.65</td>\n",
       "      <td>...</td>\n",
       "      <td>0.05</td>\n",
       "      <td>0.00</td>\n",
       "      <td>0.05</td>\n",
       "      <td>0.00</td>\n",
       "      <td>0.20</td>\n",
       "      <td>0.00</td>\n",
       "      <td>0.00</td>\n",
       "      <td>0.05</td>\n",
       "      <td>0.05</td>\n",
       "      <td>0.00</td>\n",
       "    </tr>\n",
       "    <tr>\n",
       "      <th>1</th>\n",
       "      <td>Eclaircissemens</td>\n",
       "      <td>Baudeau</td>\n",
       "      <td>0</td>\n",
       "      <td>0__Baudeau_Eclaircissemens</td>\n",
       "      <td>4.40</td>\n",
       "      <td>2.60</td>\n",
       "      <td>2.40</td>\n",
       "      <td>1.65</td>\n",
       "      <td>0.85</td>\n",
       "      <td>2.20</td>\n",
       "      <td>...</td>\n",
       "      <td>0.25</td>\n",
       "      <td>0.00</td>\n",
       "      <td>0.05</td>\n",
       "      <td>0.10</td>\n",
       "      <td>0.00</td>\n",
       "      <td>0.00</td>\n",
       "      <td>0.00</td>\n",
       "      <td>0.00</td>\n",
       "      <td>0.00</td>\n",
       "      <td>0.00</td>\n",
       "    </tr>\n",
       "    <tr>\n",
       "      <th>2</th>\n",
       "      <td>Explication</td>\n",
       "      <td>Baudeau</td>\n",
       "      <td>0</td>\n",
       "      <td>0__Baudeau_Explication</td>\n",
       "      <td>4.90</td>\n",
       "      <td>3.10</td>\n",
       "      <td>4.65</td>\n",
       "      <td>0.95</td>\n",
       "      <td>1.40</td>\n",
       "      <td>1.15</td>\n",
       "      <td>...</td>\n",
       "      <td>0.00</td>\n",
       "      <td>0.00</td>\n",
       "      <td>0.05</td>\n",
       "      <td>0.00</td>\n",
       "      <td>0.05</td>\n",
       "      <td>0.05</td>\n",
       "      <td>0.00</td>\n",
       "      <td>0.10</td>\n",
       "      <td>0.05</td>\n",
       "      <td>0.00</td>\n",
       "    </tr>\n",
       "    <tr>\n",
       "      <th>3</th>\n",
       "      <td>Idees sur les besoins 1</td>\n",
       "      <td>Baudeau</td>\n",
       "      <td>0</td>\n",
       "      <td>0__Baudeau_Idees sur les besoins 1</td>\n",
       "      <td>4.65</td>\n",
       "      <td>3.00</td>\n",
       "      <td>3.20</td>\n",
       "      <td>0.10</td>\n",
       "      <td>0.80</td>\n",
       "      <td>2.00</td>\n",
       "      <td>...</td>\n",
       "      <td>0.00</td>\n",
       "      <td>0.10</td>\n",
       "      <td>0.00</td>\n",
       "      <td>0.20</td>\n",
       "      <td>0.00</td>\n",
       "      <td>0.05</td>\n",
       "      <td>0.00</td>\n",
       "      <td>0.10</td>\n",
       "      <td>0.00</td>\n",
       "      <td>0.00</td>\n",
       "    </tr>\n",
       "    <tr>\n",
       "      <th>4</th>\n",
       "      <td>Idees sur les besoins 2</td>\n",
       "      <td>Baudeau</td>\n",
       "      <td>0</td>\n",
       "      <td>0__Baudeau_Idees sur les besoins 2</td>\n",
       "      <td>4.65</td>\n",
       "      <td>3.00</td>\n",
       "      <td>3.35</td>\n",
       "      <td>0.05</td>\n",
       "      <td>0.80</td>\n",
       "      <td>2.10</td>\n",
       "      <td>...</td>\n",
       "      <td>0.00</td>\n",
       "      <td>0.10</td>\n",
       "      <td>0.00</td>\n",
       "      <td>0.20</td>\n",
       "      <td>0.00</td>\n",
       "      <td>0.05</td>\n",
       "      <td>0.00</td>\n",
       "      <td>0.10</td>\n",
       "      <td>0.00</td>\n",
       "      <td>0.00</td>\n",
       "    </tr>\n",
       "    <tr>\n",
       "      <th>...</th>\n",
       "      <td>...</td>\n",
       "      <td>...</td>\n",
       "      <td>...</td>\n",
       "      <td>...</td>\n",
       "      <td>...</td>\n",
       "      <td>...</td>\n",
       "      <td>...</td>\n",
       "      <td>...</td>\n",
       "      <td>...</td>\n",
       "      <td>...</td>\n",
       "      <td>...</td>\n",
       "      <td>...</td>\n",
       "      <td>...</td>\n",
       "      <td>...</td>\n",
       "      <td>...</td>\n",
       "      <td>...</td>\n",
       "      <td>...</td>\n",
       "      <td>...</td>\n",
       "      <td>...</td>\n",
       "      <td>...</td>\n",
       "      <td>...</td>\n",
       "    </tr>\n",
       "    <tr>\n",
       "      <th>2692</th>\n",
       "      <td>elements T3</td>\n",
       "      <td>Marmontel</td>\n",
       "      <td>94</td>\n",
       "      <td>94__Marmontel_elements T3</td>\n",
       "      <td>5.45</td>\n",
       "      <td>3.70</td>\n",
       "      <td>1.60</td>\n",
       "      <td>0.00</td>\n",
       "      <td>1.10</td>\n",
       "      <td>3.05</td>\n",
       "      <td>...</td>\n",
       "      <td>0.00</td>\n",
       "      <td>0.00</td>\n",
       "      <td>0.15</td>\n",
       "      <td>0.20</td>\n",
       "      <td>0.00</td>\n",
       "      <td>0.05</td>\n",
       "      <td>0.05</td>\n",
       "      <td>0.00</td>\n",
       "      <td>0.10</td>\n",
       "      <td>0.05</td>\n",
       "    </tr>\n",
       "    <tr>\n",
       "      <th>2693</th>\n",
       "      <td>elements T1</td>\n",
       "      <td>Marmontel</td>\n",
       "      <td>95</td>\n",
       "      <td>95__Marmontel_elements T1</td>\n",
       "      <td>4.35</td>\n",
       "      <td>3.25</td>\n",
       "      <td>0.95</td>\n",
       "      <td>0.10</td>\n",
       "      <td>2.05</td>\n",
       "      <td>3.45</td>\n",
       "      <td>...</td>\n",
       "      <td>0.05</td>\n",
       "      <td>0.05</td>\n",
       "      <td>0.05</td>\n",
       "      <td>0.05</td>\n",
       "      <td>0.05</td>\n",
       "      <td>0.20</td>\n",
       "      <td>0.35</td>\n",
       "      <td>0.00</td>\n",
       "      <td>0.00</td>\n",
       "      <td>0.05</td>\n",
       "    </tr>\n",
       "    <tr>\n",
       "      <th>2694</th>\n",
       "      <td>elements T3</td>\n",
       "      <td>Marmontel</td>\n",
       "      <td>95</td>\n",
       "      <td>95__Marmontel_elements T3</td>\n",
       "      <td>4.20</td>\n",
       "      <td>3.10</td>\n",
       "      <td>2.95</td>\n",
       "      <td>0.10</td>\n",
       "      <td>1.65</td>\n",
       "      <td>2.65</td>\n",
       "      <td>...</td>\n",
       "      <td>0.00</td>\n",
       "      <td>0.00</td>\n",
       "      <td>0.10</td>\n",
       "      <td>0.15</td>\n",
       "      <td>0.00</td>\n",
       "      <td>0.20</td>\n",
       "      <td>0.05</td>\n",
       "      <td>0.05</td>\n",
       "      <td>0.05</td>\n",
       "      <td>0.05</td>\n",
       "    </tr>\n",
       "    <tr>\n",
       "      <th>2695</th>\n",
       "      <td>elements T3</td>\n",
       "      <td>Marmontel</td>\n",
       "      <td>96</td>\n",
       "      <td>96__Marmontel_elements T3</td>\n",
       "      <td>4.15</td>\n",
       "      <td>3.00</td>\n",
       "      <td>1.15</td>\n",
       "      <td>0.00</td>\n",
       "      <td>1.45</td>\n",
       "      <td>2.75</td>\n",
       "      <td>...</td>\n",
       "      <td>0.05</td>\n",
       "      <td>0.05</td>\n",
       "      <td>0.05</td>\n",
       "      <td>0.05</td>\n",
       "      <td>0.05</td>\n",
       "      <td>0.00</td>\n",
       "      <td>0.10</td>\n",
       "      <td>0.00</td>\n",
       "      <td>0.00</td>\n",
       "      <td>0.00</td>\n",
       "    </tr>\n",
       "    <tr>\n",
       "      <th>2696</th>\n",
       "      <td>elements T3</td>\n",
       "      <td>Marmontel</td>\n",
       "      <td>97</td>\n",
       "      <td>97__Marmontel_elements T3</td>\n",
       "      <td>4.60</td>\n",
       "      <td>3.40</td>\n",
       "      <td>1.55</td>\n",
       "      <td>0.00</td>\n",
       "      <td>0.90</td>\n",
       "      <td>3.75</td>\n",
       "      <td>...</td>\n",
       "      <td>0.00</td>\n",
       "      <td>0.00</td>\n",
       "      <td>0.05</td>\n",
       "      <td>0.15</td>\n",
       "      <td>0.00</td>\n",
       "      <td>0.00</td>\n",
       "      <td>0.10</td>\n",
       "      <td>0.00</td>\n",
       "      <td>0.00</td>\n",
       "      <td>0.00</td>\n",
       "    </tr>\n",
       "  </tbody>\n",
       "</table>\n",
       "<p>2697 rows × 204 columns</p>\n",
       "</div>"
      ],
      "text/plain": [
       "                         work     author  chunk_num  \\\n",
       "0                       Avis     Baudeau          0   \n",
       "1             Eclaircissemens    Baudeau          0   \n",
       "2                 Explication    Baudeau          0   \n",
       "3     Idees sur les besoins 1    Baudeau          0   \n",
       "4     Idees sur les besoins 2    Baudeau          0   \n",
       "...                       ...        ...        ...   \n",
       "2692              elements T3  Marmontel         94   \n",
       "2693              elements T1  Marmontel         95   \n",
       "2694              elements T3  Marmontel         95   \n",
       "2695              elements T3  Marmontel         96   \n",
       "2696              elements T3  Marmontel         97   \n",
       "\n",
       "                                     tag    de    la   les  vous    il     l  \\\n",
       "0                       0__Baudeau_Avis   3.45  1.40  2.35  0.65  1.25  0.65   \n",
       "1             0__Baudeau_Eclaircissemens  4.40  2.60  2.40  1.65  0.85  2.20   \n",
       "2                 0__Baudeau_Explication  4.90  3.10  4.65  0.95  1.40  1.15   \n",
       "3     0__Baudeau_Idees sur les besoins 1  4.65  3.00  3.20  0.10  0.80  2.00   \n",
       "4     0__Baudeau_Idees sur les besoins 2  4.65  3.00  3.35  0.05  0.80  2.10   \n",
       "...                                  ...   ...   ...   ...   ...   ...   ...   \n",
       "2692           94__Marmontel_elements T3  5.45  3.70  1.60  0.00  1.10  3.05   \n",
       "2693           95__Marmontel_elements T1  4.35  3.25  0.95  0.10  2.05  3.45   \n",
       "2694           95__Marmontel_elements T3  4.20  3.10  2.95  0.10  1.65  2.65   \n",
       "2695           96__Marmontel_elements T3  4.15  3.00  1.15  0.00  1.45  2.75   \n",
       "2696           97__Marmontel_elements T3  4.60  3.40  1.55  0.00  0.90  3.75   \n",
       "\n",
       "      ...  effet  mieux  donner  jamais  enfin  voir  rendre   ici  beaucoup  \\\n",
       "0     ...   0.05   0.00    0.05    0.00   0.20  0.00    0.00  0.05      0.05   \n",
       "1     ...   0.25   0.00    0.05    0.10   0.00  0.00    0.00  0.00      0.00   \n",
       "2     ...   0.00   0.00    0.05    0.00   0.05  0.05    0.00  0.10      0.05   \n",
       "3     ...   0.00   0.10    0.00    0.20   0.00  0.05    0.00  0.10      0.00   \n",
       "4     ...   0.00   0.10    0.00    0.20   0.00  0.05    0.00  0.10      0.00   \n",
       "...   ...    ...    ...     ...     ...    ...   ...     ...   ...       ...   \n",
       "2692  ...   0.00   0.00    0.15    0.20   0.00  0.05    0.05  0.00      0.10   \n",
       "2693  ...   0.05   0.05    0.05    0.05   0.05  0.20    0.35  0.00      0.00   \n",
       "2694  ...   0.00   0.00    0.10    0.15   0.00  0.20    0.05  0.05      0.05   \n",
       "2695  ...   0.05   0.05    0.05    0.05   0.05  0.00    0.10  0.00      0.00   \n",
       "2696  ...   0.00   0.00    0.05    0.15   0.00  0.00    0.10  0.00      0.00   \n",
       "\n",
       "      cependant  \n",
       "0          0.00  \n",
       "1          0.00  \n",
       "2          0.00  \n",
       "3          0.00  \n",
       "4          0.00  \n",
       "...         ...  \n",
       "2692       0.05  \n",
       "2693       0.05  \n",
       "2694       0.05  \n",
       "2695       0.00  \n",
       "2696       0.00  \n",
       "\n",
       "[2697 rows x 204 columns]"
      ]
     },
     "execution_count": 2,
     "metadata": {},
     "output_type": "execute_result"
    }
   ],
   "source": [
    "# load preprocessed data\n",
    "\n",
    "corpus = pd.read_csv('03_tests/authors_themselves/to-test_2000_200mfw_rfreq.csv') # rel freq\n",
    "\n",
    "corpus"
   ]
  },
  {
   "cell_type": "code",
   "execution_count": 3,
   "id": "168fae86",
   "metadata": {},
   "outputs": [
    {
     "data": {
      "text/html": [
       "<div>\n",
       "<style scoped>\n",
       "    .dataframe tbody tr th:only-of-type {\n",
       "        vertical-align: middle;\n",
       "    }\n",
       "\n",
       "    .dataframe tbody tr th {\n",
       "        vertical-align: top;\n",
       "    }\n",
       "\n",
       "    .dataframe thead th {\n",
       "        text-align: right;\n",
       "    }\n",
       "</style>\n",
       "<table border=\"1\" class=\"dataframe\">\n",
       "  <thead>\n",
       "    <tr style=\"text-align: right;\">\n",
       "      <th></th>\n",
       "      <th>work</th>\n",
       "      <th>author</th>\n",
       "      <th>chunk_num</th>\n",
       "      <th>tag</th>\n",
       "    </tr>\n",
       "  </thead>\n",
       "  <tbody>\n",
       "    <tr>\n",
       "      <th>0</th>\n",
       "      <td>Avis</td>\n",
       "      <td>Baudeau</td>\n",
       "      <td>0</td>\n",
       "      <td>0__Baudeau_Avis</td>\n",
       "    </tr>\n",
       "    <tr>\n",
       "      <th>1</th>\n",
       "      <td>Eclaircissemens</td>\n",
       "      <td>Baudeau</td>\n",
       "      <td>0</td>\n",
       "      <td>0__Baudeau_Eclaircissemens</td>\n",
       "    </tr>\n",
       "    <tr>\n",
       "      <th>2</th>\n",
       "      <td>Explication</td>\n",
       "      <td>Baudeau</td>\n",
       "      <td>0</td>\n",
       "      <td>0__Baudeau_Explication</td>\n",
       "    </tr>\n",
       "    <tr>\n",
       "      <th>3</th>\n",
       "      <td>Idees sur les besoins 1</td>\n",
       "      <td>Baudeau</td>\n",
       "      <td>0</td>\n",
       "      <td>0__Baudeau_Idees sur les besoins 1</td>\n",
       "    </tr>\n",
       "    <tr>\n",
       "      <th>4</th>\n",
       "      <td>Idees sur les besoins 2</td>\n",
       "      <td>Baudeau</td>\n",
       "      <td>0</td>\n",
       "      <td>0__Baudeau_Idees sur les besoins 2</td>\n",
       "    </tr>\n",
       "    <tr>\n",
       "      <th>...</th>\n",
       "      <td>...</td>\n",
       "      <td>...</td>\n",
       "      <td>...</td>\n",
       "      <td>...</td>\n",
       "    </tr>\n",
       "    <tr>\n",
       "      <th>2692</th>\n",
       "      <td>elements T3</td>\n",
       "      <td>Marmontel</td>\n",
       "      <td>94</td>\n",
       "      <td>94__Marmontel_elements T3</td>\n",
       "    </tr>\n",
       "    <tr>\n",
       "      <th>2693</th>\n",
       "      <td>elements T1</td>\n",
       "      <td>Marmontel</td>\n",
       "      <td>95</td>\n",
       "      <td>95__Marmontel_elements T1</td>\n",
       "    </tr>\n",
       "    <tr>\n",
       "      <th>2694</th>\n",
       "      <td>elements T3</td>\n",
       "      <td>Marmontel</td>\n",
       "      <td>95</td>\n",
       "      <td>95__Marmontel_elements T3</td>\n",
       "    </tr>\n",
       "    <tr>\n",
       "      <th>2695</th>\n",
       "      <td>elements T3</td>\n",
       "      <td>Marmontel</td>\n",
       "      <td>96</td>\n",
       "      <td>96__Marmontel_elements T3</td>\n",
       "    </tr>\n",
       "    <tr>\n",
       "      <th>2696</th>\n",
       "      <td>elements T3</td>\n",
       "      <td>Marmontel</td>\n",
       "      <td>97</td>\n",
       "      <td>97__Marmontel_elements T3</td>\n",
       "    </tr>\n",
       "  </tbody>\n",
       "</table>\n",
       "<p>2697 rows × 4 columns</p>\n",
       "</div>"
      ],
      "text/plain": [
       "                         work     author  chunk_num  \\\n",
       "0                       Avis     Baudeau          0   \n",
       "1             Eclaircissemens    Baudeau          0   \n",
       "2                 Explication    Baudeau          0   \n",
       "3     Idees sur les besoins 1    Baudeau          0   \n",
       "4     Idees sur les besoins 2    Baudeau          0   \n",
       "...                       ...        ...        ...   \n",
       "2692              elements T3  Marmontel         94   \n",
       "2693              elements T1  Marmontel         95   \n",
       "2694              elements T3  Marmontel         95   \n",
       "2695              elements T3  Marmontel         96   \n",
       "2696              elements T3  Marmontel         97   \n",
       "\n",
       "                                     tag  \n",
       "0                       0__Baudeau_Avis   \n",
       "1             0__Baudeau_Eclaircissemens  \n",
       "2                 0__Baudeau_Explication  \n",
       "3     0__Baudeau_Idees sur les besoins 1  \n",
       "4     0__Baudeau_Idees sur les besoins 2  \n",
       "...                                  ...  \n",
       "2692           94__Marmontel_elements T3  \n",
       "2693           95__Marmontel_elements T1  \n",
       "2694           95__Marmontel_elements T3  \n",
       "2695           96__Marmontel_elements T3  \n",
       "2696           97__Marmontel_elements T3  \n",
       "\n",
       "[2697 rows x 4 columns]"
      ]
     },
     "execution_count": 3,
     "metadata": {},
     "output_type": "execute_result"
    }
   ],
   "source": [
    "raw_df = corpus.iloc[:, :4] # leaves metadata\n",
    "X = corpus.iloc[:, 4:] # leaves only word columns\n",
    "\n",
    "raw_df"
   ]
  },
  {
   "cell_type": "code",
   "execution_count": 4,
   "id": "c30c7b8a",
   "metadata": {},
   "outputs": [
    {
     "data": {
      "text/plain": [
       "(2697, 200)"
      ]
     },
     "execution_count": 4,
     "metadata": {},
     "output_type": "execute_result"
    }
   ],
   "source": [
    "# numer of rows and columns in the X (word frequencies subset)\n",
    "X.shape"
   ]
  },
  {
   "cell_type": "code",
   "execution_count": 5,
   "id": "f06c3522",
   "metadata": {},
   "outputs": [
    {
     "data": {
      "text/html": [
       "<div>\n",
       "<style scoped>\n",
       "    .dataframe tbody tr th:only-of-type {\n",
       "        vertical-align: middle;\n",
       "    }\n",
       "\n",
       "    .dataframe tbody tr th {\n",
       "        vertical-align: top;\n",
       "    }\n",
       "\n",
       "    .dataframe thead th {\n",
       "        text-align: right;\n",
       "    }\n",
       "</style>\n",
       "<table border=\"1\" class=\"dataframe\">\n",
       "  <thead>\n",
       "    <tr style=\"text-align: right;\">\n",
       "      <th></th>\n",
       "      <th>work</th>\n",
       "      <th>author_label</th>\n",
       "      <th>author</th>\n",
       "      <th>chunk_num</th>\n",
       "      <th>tag</th>\n",
       "    </tr>\n",
       "  </thead>\n",
       "  <tbody>\n",
       "    <tr>\n",
       "      <th>0</th>\n",
       "      <td>Avis</td>\n",
       "      <td>0</td>\n",
       "      <td>Baudeau</td>\n",
       "      <td>0</td>\n",
       "      <td>0__Baudeau_Avis</td>\n",
       "    </tr>\n",
       "    <tr>\n",
       "      <th>1</th>\n",
       "      <td>Eclaircissemens</td>\n",
       "      <td>0</td>\n",
       "      <td>Baudeau</td>\n",
       "      <td>0</td>\n",
       "      <td>0__Baudeau_Eclaircissemens</td>\n",
       "    </tr>\n",
       "    <tr>\n",
       "      <th>2</th>\n",
       "      <td>Explication</td>\n",
       "      <td>0</td>\n",
       "      <td>Baudeau</td>\n",
       "      <td>0</td>\n",
       "      <td>0__Baudeau_Explication</td>\n",
       "    </tr>\n",
       "    <tr>\n",
       "      <th>3</th>\n",
       "      <td>Idees sur les besoins 1</td>\n",
       "      <td>0</td>\n",
       "      <td>Baudeau</td>\n",
       "      <td>0</td>\n",
       "      <td>0__Baudeau_Idees sur les besoins 1</td>\n",
       "    </tr>\n",
       "    <tr>\n",
       "      <th>4</th>\n",
       "      <td>Idees sur les besoins 2</td>\n",
       "      <td>0</td>\n",
       "      <td>Baudeau</td>\n",
       "      <td>0</td>\n",
       "      <td>0__Baudeau_Idees sur les besoins 2</td>\n",
       "    </tr>\n",
       "    <tr>\n",
       "      <th>...</th>\n",
       "      <td>...</td>\n",
       "      <td>...</td>\n",
       "      <td>...</td>\n",
       "      <td>...</td>\n",
       "      <td>...</td>\n",
       "    </tr>\n",
       "    <tr>\n",
       "      <th>2692</th>\n",
       "      <td>elements T3</td>\n",
       "      <td>10</td>\n",
       "      <td>Marmontel</td>\n",
       "      <td>94</td>\n",
       "      <td>94__Marmontel_elements T3</td>\n",
       "    </tr>\n",
       "    <tr>\n",
       "      <th>2693</th>\n",
       "      <td>elements T1</td>\n",
       "      <td>10</td>\n",
       "      <td>Marmontel</td>\n",
       "      <td>95</td>\n",
       "      <td>95__Marmontel_elements T1</td>\n",
       "    </tr>\n",
       "    <tr>\n",
       "      <th>2694</th>\n",
       "      <td>elements T3</td>\n",
       "      <td>10</td>\n",
       "      <td>Marmontel</td>\n",
       "      <td>95</td>\n",
       "      <td>95__Marmontel_elements T3</td>\n",
       "    </tr>\n",
       "    <tr>\n",
       "      <th>2695</th>\n",
       "      <td>elements T3</td>\n",
       "      <td>10</td>\n",
       "      <td>Marmontel</td>\n",
       "      <td>96</td>\n",
       "      <td>96__Marmontel_elements T3</td>\n",
       "    </tr>\n",
       "    <tr>\n",
       "      <th>2696</th>\n",
       "      <td>elements T3</td>\n",
       "      <td>10</td>\n",
       "      <td>Marmontel</td>\n",
       "      <td>97</td>\n",
       "      <td>97__Marmontel_elements T3</td>\n",
       "    </tr>\n",
       "  </tbody>\n",
       "</table>\n",
       "<p>2697 rows × 5 columns</p>\n",
       "</div>"
      ],
      "text/plain": [
       "                         work  author_label     author  chunk_num  \\\n",
       "0                       Avis              0    Baudeau          0   \n",
       "1             Eclaircissemens             0    Baudeau          0   \n",
       "2                 Explication             0    Baudeau          0   \n",
       "3     Idees sur les besoins 1             0    Baudeau          0   \n",
       "4     Idees sur les besoins 2             0    Baudeau          0   \n",
       "...                       ...           ...        ...        ...   \n",
       "2692              elements T3            10  Marmontel         94   \n",
       "2693              elements T1            10  Marmontel         95   \n",
       "2694              elements T3            10  Marmontel         95   \n",
       "2695              elements T3            10  Marmontel         96   \n",
       "2696              elements T3            10  Marmontel         97   \n",
       "\n",
       "                                     tag  \n",
       "0                       0__Baudeau_Avis   \n",
       "1             0__Baudeau_Eclaircissemens  \n",
       "2                 0__Baudeau_Explication  \n",
       "3     0__Baudeau_Idees sur les besoins 1  \n",
       "4     0__Baudeau_Idees sur les besoins 2  \n",
       "...                                  ...  \n",
       "2692           94__Marmontel_elements T3  \n",
       "2693           95__Marmontel_elements T1  \n",
       "2694           95__Marmontel_elements T3  \n",
       "2695           96__Marmontel_elements T3  \n",
       "2696           97__Marmontel_elements T3  \n",
       "\n",
       "[2697 rows x 5 columns]"
      ]
     },
     "execution_count": 5,
     "metadata": {},
     "output_type": "execute_result"
    }
   ],
   "source": [
    "# create numeric author labels\n",
    "labels, label_uniques = raw_df.author.factorize()\n",
    "raw_df.insert(1, \"author_label\", labels)\n",
    "raw_df"
   ]
  },
  {
   "cell_type": "code",
   "execution_count": 6,
   "id": "8f72d845",
   "metadata": {},
   "outputs": [
    {
     "data": {
      "text/plain": [
       "array(['Baudeau', 'Chastellux', 'Condorcet', 'Deleyre', 'dHolbach',\n",
       "       'Diderot', 'Guibert', 'Jaucourt', 'Jussieu', 'La Grange',\n",
       "       'Marmontel', 'Meister', 'Morellet', 'Naigeon', 'Pechmeja',\n",
       "       'Raynal', 'Rivière', 'Saint-Lambert'], dtype=object)"
      ]
     },
     "execution_count": 6,
     "metadata": {},
     "output_type": "execute_result"
    }
   ],
   "source": [
    "# check unique authors\n",
    "label_uniques.values"
   ]
  },
  {
   "cell_type": "code",
   "execution_count": 7,
   "id": "d8d2de85",
   "metadata": {},
   "outputs": [],
   "source": [
    "# set verifier\n",
    "rng = np.random.default_rng(42)\n",
    "\n",
    "bdi_mm = BDIVerifier(\n",
    "    metric='minmax', nb_bootstrap_iter=1000, rnd_prop=0.35, random_state=rng\n",
    ")"
   ]
  },
  {
   "cell_type": "code",
   "execution_count": 9,
   "id": "414d8434",
   "metadata": {},
   "outputs": [
    {
     "name": "stderr",
     "output_type": "stream",
     "text": [
      "03/18/2025 01:23:23 [ruzicka:INFO] Fitting on 2672 documents...\n",
      "03/18/2025 01:23:23 [ruzicka:INFO] Predicting on 25 documents\n"
     ]
    },
    {
     "name": "stdout",
     "output_type": "stream",
     "text": [
      "\n",
      "\n",
      "#######################\n",
      "Baudeau: Avis \n",
      "\n",
      "    work  author_label   author  chunk_num               tag\n",
      "1  Avis              0  Baudeau          1  1__Baudeau_Avis \n"
     ]
    },
    {
     "name": "stderr",
     "output_type": "stream",
     "text": [
      "03/18/2025 01:23:27 [ruzicka:INFO] Fitting on 2678 documents...\n",
      "03/18/2025 01:23:27 [ruzicka:INFO] Predicting on 19 documents\n"
     ]
    },
    {
     "name": "stdout",
     "output_type": "stream",
     "text": [
      "Results written in: 03_tests/authors_themselves/bdi_res/Baudeau_Avis .csv\n",
      "\n",
      "\n",
      "#######################\n",
      "Baudeau: Eclaircissemens\n",
      "\n",
      "              work  author_label   author  chunk_num  \\\n",
      "1  Eclaircissemens             0  Baudeau          1   \n",
      "\n",
      "                          tag  \n",
      "1  1__Baudeau_Eclaircissemens  \n"
     ]
    },
    {
     "name": "stderr",
     "output_type": "stream",
     "text": [
      "03/18/2025 01:23:31 [ruzicka:INFO] Fitting on 2686 documents...\n",
      "03/18/2025 01:23:31 [ruzicka:INFO] Predicting on 11 documents\n"
     ]
    },
    {
     "name": "stdout",
     "output_type": "stream",
     "text": [
      "Results written in: 03_tests/authors_themselves/bdi_res/Baudeau_Eclaircissemens.csv\n",
      "\n",
      "\n",
      "#######################\n",
      "Baudeau: Explication\n",
      "\n",
      "          work  author_label   author  chunk_num                     tag\n",
      "1  Explication             0  Baudeau          1  1__Baudeau_Explication\n"
     ]
    },
    {
     "name": "stderr",
     "output_type": "stream",
     "text": [
      "03/18/2025 01:23:33 [ruzicka:INFO] Fitting on 2661 documents...\n",
      "03/18/2025 01:23:33 [ruzicka:INFO] Predicting on 36 documents\n"
     ]
    },
    {
     "name": "stdout",
     "output_type": "stream",
     "text": [
      "Results written in: 03_tests/authors_themselves/bdi_res/Baudeau_Explication.csv\n",
      "\n",
      "\n",
      "#######################\n",
      "Baudeau: Idees sur les besoins 1\n",
      "\n",
      "                      work  author_label   author  chunk_num  \\\n",
      "1  Idees sur les besoins 1             0  Baudeau          1   \n",
      "\n",
      "                                  tag  \n",
      "1  1__Baudeau_Idees sur les besoins 1  \n"
     ]
    },
    {
     "name": "stderr",
     "output_type": "stream",
     "text": [
      "03/18/2025 01:23:39 [ruzicka:INFO] Fitting on 2661 documents...\n",
      "03/18/2025 01:23:39 [ruzicka:INFO] Predicting on 36 documents\n"
     ]
    },
    {
     "name": "stdout",
     "output_type": "stream",
     "text": [
      "Results written in: 03_tests/authors_themselves/bdi_res/Baudeau_Idees sur les besoins 1.csv\n",
      "\n",
      "\n",
      "#######################\n",
      "Baudeau: Idees sur les besoins 2\n",
      "\n",
      "                      work  author_label   author  chunk_num  \\\n",
      "1  Idees sur les besoins 2             0  Baudeau          1   \n",
      "\n",
      "                                  tag  \n",
      "1  1__Baudeau_Idees sur les besoins 2  \n"
     ]
    },
    {
     "name": "stderr",
     "output_type": "stream",
     "text": [
      "03/18/2025 01:23:45 [ruzicka:INFO] Fitting on 2696 documents...\n",
      "03/18/2025 01:23:45 [ruzicka:INFO] Predicting on 1 documents\n"
     ]
    },
    {
     "name": "stdout",
     "output_type": "stream",
     "text": [
      "Results written in: 03_tests/authors_themselves/bdi_res/Baudeau_Idees sur les besoins 2.csv\n",
      "\n",
      "\n",
      "#######################\n",
      "Baudeau: Lettre du fermier\n",
      "\n",
      "Empty DataFrame\n",
      "Columns: [work, author_label, author, chunk_num, tag]\n",
      "Index: []\n"
     ]
    },
    {
     "name": "stderr",
     "output_type": "stream",
     "text": [
      "03/18/2025 01:23:45 [ruzicka:INFO] Fitting on 2683 documents...\n",
      "03/18/2025 01:23:45 [ruzicka:INFO] Predicting on 14 documents\n"
     ]
    },
    {
     "name": "stdout",
     "output_type": "stream",
     "text": [
      "Results written in: 03_tests/authors_themselves/bdi_res/Baudeau_Lettre du fermier.csv\n",
      "\n",
      "\n",
      "#######################\n",
      "Baudeau: Lettres  a un magistraTtxt\n",
      "\n",
      "                         work  author_label   author  chunk_num  \\\n",
      "1  Lettres  a un magistraTtxt             0  Baudeau          1   \n",
      "\n",
      "                                     tag  \n",
      "1  1__Baudeau_Lettres  a un magistraTtxt  \n"
     ]
    },
    {
     "name": "stderr",
     "output_type": "stream",
     "text": [
      "03/18/2025 01:23:48 [ruzicka:INFO] Fitting on 2694 documents...\n",
      "03/18/2025 01:23:48 [ruzicka:INFO] Predicting on 3 documents\n"
     ]
    },
    {
     "name": "stdout",
     "output_type": "stream",
     "text": [
      "Results written in: 03_tests/authors_themselves/bdi_res/Baudeau_Lettres  a un magistraTtxt.csv\n",
      "\n",
      "\n",
      "#######################\n",
      "Baudeau: Resultats\n",
      "\n",
      "        work  author_label   author  chunk_num                   tag\n",
      "1  Resultats             0  Baudeau          1  1__Baudeau_Resultats\n"
     ]
    },
    {
     "name": "stderr",
     "output_type": "stream",
     "text": [
      "03/18/2025 01:23:48 [ruzicka:INFO] Fitting on 2629 documents...\n",
      "03/18/2025 01:23:48 [ruzicka:INFO] Predicting on 68 documents\n"
     ]
    },
    {
     "name": "stdout",
     "output_type": "stream",
     "text": [
      "Results written in: 03_tests/authors_themselves/bdi_res/Baudeau_Resultats.csv\n",
      "\n",
      "\n",
      "#######################\n",
      "Chastellux: De la felicite\n",
      "\n",
      "             work  author_label      author  chunk_num  \\\n",
      "1  De la felicite             1  Chastellux          1   \n",
      "\n",
      "                            tag  \n",
      "1  1__Chastellux_De la felicite  \n"
     ]
    },
    {
     "name": "stderr",
     "output_type": "stream",
     "text": [
      "03/18/2025 01:24:02 [ruzicka:INFO] Fitting on 2679 documents...\n",
      "03/18/2025 01:24:02 [ruzicka:INFO] Predicting on 18 documents\n"
     ]
    },
    {
     "name": "stdout",
     "output_type": "stream",
     "text": [
      "Results written in: 03_tests/authors_themselves/bdi_res/Chastellux_De la felicite.csv\n",
      "\n",
      "\n",
      "#######################\n",
      "Chastellux: eloge\n",
      "\n",
      "    work  author_label    author  chunk_num                tag\n",
      "1  eloge            14  Pechmeja          0  0__Pechmeja_eloge\n"
     ]
    },
    {
     "name": "stderr",
     "output_type": "stream",
     "text": [
      "03/18/2025 01:24:06 [ruzicka:INFO] Fitting on 2659 documents...\n",
      "03/18/2025 01:24:06 [ruzicka:INFO] Predicting on 38 documents\n"
     ]
    },
    {
     "name": "stdout",
     "output_type": "stream",
     "text": [
      "Results written in: 03_tests/authors_themselves/bdi_res/Chastellux_eloge.csv\n",
      "\n",
      "\n",
      "#######################\n",
      "Chastellux: Voyage de Newport\n",
      "\n",
      "                work  author_label      author  chunk_num  \\\n",
      "1  Voyage de Newport             1  Chastellux          1   \n",
      "\n",
      "                               tag  \n",
      "1  1__Chastellux_Voyage de Newport  \n"
     ]
    },
    {
     "name": "stderr",
     "output_type": "stream",
     "text": [
      "03/18/2025 01:24:14 [ruzicka:INFO] Fitting on 2656 documents...\n",
      "03/18/2025 01:24:14 [ruzicka:INFO] Predicting on 41 documents\n"
     ]
    },
    {
     "name": "stdout",
     "output_type": "stream",
     "text": [
      "Results written in: 03_tests/authors_themselves/bdi_res/Chastellux_Voyage de Newport.csv\n",
      "\n",
      "\n",
      "#######################\n",
      "Chastellux: Voyages T1\n",
      "\n",
      "         work  author_label      author  chunk_num                       tag\n",
      "1  Voyages T1             1  Chastellux          1  1__Chastellux_Voyages T1\n"
     ]
    },
    {
     "name": "stderr",
     "output_type": "stream",
     "text": [
      "03/18/2025 01:24:23 [ruzicka:INFO] Fitting on 2660 documents...\n",
      "03/18/2025 01:24:23 [ruzicka:INFO] Predicting on 37 documents\n"
     ]
    },
    {
     "name": "stdout",
     "output_type": "stream",
     "text": [
      "Results written in: 03_tests/authors_themselves/bdi_res/Chastellux_Voyages T1.csv\n",
      "\n",
      "\n",
      "#######################\n",
      "Chastellux: Voyages T2\n",
      "\n",
      "         work  author_label      author  chunk_num                       tag\n",
      "1  Voyages T2             1  Chastellux          1  1__Chastellux_Voyages T2\n"
     ]
    },
    {
     "name": "stderr",
     "output_type": "stream",
     "text": [
      "03/18/2025 01:24:31 [ruzicka:INFO] Fitting on 2663 documents...\n",
      "03/18/2025 01:24:31 [ruzicka:INFO] Predicting on 34 documents\n"
     ]
    },
    {
     "name": "stdout",
     "output_type": "stream",
     "text": [
      "Results written in: 03_tests/authors_themselves/bdi_res/Chastellux_Voyages T2.csv\n",
      "\n",
      "\n",
      "#######################\n",
      "Condorcet: 12\n",
      "\n",
      "  work  author_label     author  chunk_num              tag\n",
      "1   12             2  Condorcet          1  1__Condorcet_12\n"
     ]
    },
    {
     "name": "stderr",
     "output_type": "stream",
     "text": [
      "03/18/2025 01:24:40 [ruzicka:INFO] Fitting on 2669 documents...\n",
      "03/18/2025 01:24:40 [ruzicka:INFO] Predicting on 28 documents\n"
     ]
    },
    {
     "name": "stdout",
     "output_type": "stream",
     "text": [
      "Results written in: 03_tests/authors_themselves/bdi_res/Condorcet_12.csv\n",
      "\n",
      "\n",
      "#######################\n",
      "Condorcet: 13\n",
      "\n",
      "  work  author_label     author  chunk_num              tag\n",
      "1   13             2  Condorcet          1  1__Condorcet_13\n"
     ]
    },
    {
     "name": "stderr",
     "output_type": "stream",
     "text": [
      "03/18/2025 01:24:48 [ruzicka:INFO] Fitting on 2668 documents...\n",
      "03/18/2025 01:24:48 [ruzicka:INFO] Predicting on 29 documents\n"
     ]
    },
    {
     "name": "stdout",
     "output_type": "stream",
     "text": [
      "Results written in: 03_tests/authors_themselves/bdi_res/Condorcet_13.csv\n",
      "\n",
      "\n",
      "#######################\n",
      "Condorcet: 15\n",
      "\n",
      "  work  author_label     author  chunk_num              tag\n",
      "1   15             2  Condorcet          1  1__Condorcet_15\n"
     ]
    },
    {
     "name": "stderr",
     "output_type": "stream",
     "text": [
      "03/18/2025 01:24:56 [ruzicka:INFO] Fitting on 2665 documents...\n",
      "03/18/2025 01:24:56 [ruzicka:INFO] Predicting on 32 documents\n"
     ]
    },
    {
     "name": "stdout",
     "output_type": "stream",
     "text": [
      "Results written in: 03_tests/authors_themselves/bdi_res/Condorcet_15.csv\n",
      "\n",
      "\n",
      "#######################\n",
      "Condorcet: 16\n",
      "\n",
      "  work  author_label     author  chunk_num              tag\n",
      "1   16             2  Condorcet          1  1__Condorcet_16\n"
     ]
    },
    {
     "name": "stderr",
     "output_type": "stream",
     "text": [
      "03/18/2025 01:25:05 [ruzicka:INFO] Fitting on 2662 documents...\n",
      "03/18/2025 01:25:05 [ruzicka:INFO] Predicting on 35 documents\n"
     ]
    },
    {
     "name": "stdout",
     "output_type": "stream",
     "text": [
      "Results written in: 03_tests/authors_themselves/bdi_res/Condorcet_16.csv\n",
      "\n",
      "\n",
      "#######################\n",
      "Condorcet: 17\n",
      "\n",
      "  work  author_label     author  chunk_num              tag\n",
      "1   17             2  Condorcet          1  1__Condorcet_17\n"
     ]
    },
    {
     "name": "stderr",
     "output_type": "stream",
     "text": [
      "03/18/2025 01:25:14 [ruzicka:INFO] Fitting on 2663 documents...\n",
      "03/18/2025 01:25:14 [ruzicka:INFO] Predicting on 34 documents\n"
     ]
    },
    {
     "name": "stdout",
     "output_type": "stream",
     "text": [
      "Results written in: 03_tests/authors_themselves/bdi_res/Condorcet_17.csv\n",
      "\n",
      "\n",
      "#######################\n",
      "Condorcet: 19\n",
      "\n",
      "  work  author_label     author  chunk_num              tag\n",
      "1   19             2  Condorcet          1  1__Condorcet_19\n"
     ]
    },
    {
     "name": "stderr",
     "output_type": "stream",
     "text": [
      "03/18/2025 01:25:23 [ruzicka:INFO] Fitting on 2662 documents...\n",
      "03/18/2025 01:25:23 [ruzicka:INFO] Predicting on 35 documents\n"
     ]
    },
    {
     "name": "stdout",
     "output_type": "stream",
     "text": [
      "Results written in: 03_tests/authors_themselves/bdi_res/Condorcet_19.csv\n",
      "\n",
      "\n",
      "#######################\n",
      "Condorcet: 20\n",
      "\n",
      "  work  author_label     author  chunk_num              tag\n",
      "1   20             2  Condorcet          1  1__Condorcet_20\n"
     ]
    },
    {
     "name": "stderr",
     "output_type": "stream",
     "text": [
      "03/18/2025 01:25:33 [ruzicka:INFO] Fitting on 2665 documents...\n",
      "03/18/2025 01:25:33 [ruzicka:INFO] Predicting on 32 documents\n"
     ]
    },
    {
     "name": "stdout",
     "output_type": "stream",
     "text": [
      "Results written in: 03_tests/authors_themselves/bdi_res/Condorcet_20.csv\n",
      "\n",
      "\n",
      "#######################\n",
      "Condorcet: 5\n",
      "\n",
      "  work  author_label     author  chunk_num             tag\n",
      "1    5             2  Condorcet          1  1__Condorcet_5\n"
     ]
    },
    {
     "name": "stderr",
     "output_type": "stream",
     "text": [
      "03/18/2025 01:25:42 [ruzicka:INFO] Fitting on 2674 documents...\n",
      "03/18/2025 01:25:42 [ruzicka:INFO] Predicting on 23 documents\n"
     ]
    },
    {
     "name": "stdout",
     "output_type": "stream",
     "text": [
      "Results written in: 03_tests/authors_themselves/bdi_res/Condorcet_5.csv\n",
      "\n",
      "\n",
      "#######################\n",
      "Deleyre: Analyse de la philosophie\n",
      "\n",
      "                        work  author_label   author  chunk_num  \\\n",
      "1  Analyse de la philosophie             3  Deleyre          1   \n",
      "\n",
      "                                    tag  \n",
      "1  1__Deleyre_Analyse de la philosophie  \n"
     ]
    },
    {
     "name": "stderr",
     "output_type": "stream",
     "text": [
      "03/18/2025 01:25:45 [ruzicka:INFO] Fitting on 2691 documents...\n",
      "03/18/2025 01:25:45 [ruzicka:INFO] Predicting on 6 documents\n"
     ]
    },
    {
     "name": "stdout",
     "output_type": "stream",
     "text": [
      "Results written in: 03_tests/authors_themselves/bdi_res/Deleyre_Analyse de la philosophie.csv\n",
      "\n",
      "\n",
      "#######################\n",
      "Deleyre: eloge de M Roux\n",
      "\n",
      "              work  author_label   author  chunk_num  \\\n",
      "1  eloge de M Roux             3  Deleyre          1   \n",
      "\n",
      "                          tag  \n",
      "1  1__Deleyre_eloge de M Roux  \n"
     ]
    },
    {
     "name": "stderr",
     "output_type": "stream",
     "text": [
      "03/18/2025 01:25:46 [ruzicka:INFO] Fitting on 2695 documents...\n",
      "03/18/2025 01:25:46 [ruzicka:INFO] Predicting on 2 documents\n"
     ]
    },
    {
     "name": "stdout",
     "output_type": "stream",
     "text": [
      "Results written in: 03_tests/authors_themselves/bdi_res/Deleyre_eloge de M Roux.csv\n",
      "\n",
      "\n",
      "#######################\n",
      "Deleyre: epingle\n",
      "\n",
      "      work  author_label   author  chunk_num                 tag\n",
      "1  epingle             3  Deleyre          1  1__Deleyre_epingle\n"
     ]
    },
    {
     "name": "stderr",
     "output_type": "stream",
     "text": [
      "03/18/2025 01:25:46 [ruzicka:INFO] Fitting on 2665 documents...\n",
      "03/18/2025 01:25:46 [ruzicka:INFO] Predicting on 32 documents\n"
     ]
    },
    {
     "name": "stdout",
     "output_type": "stream",
     "text": [
      "Results written in: 03_tests/authors_themselves/bdi_res/Deleyre_epingle.csv\n",
      "\n",
      "\n",
      "#######################\n",
      "Deleyre: Essai sur la vie\n",
      "\n",
      "               work  author_label   author  chunk_num  \\\n",
      "1  Essai sur la vie             3  Deleyre          1   \n",
      "\n",
      "                           tag  \n",
      "1  1__Deleyre_Essai sur la vie  \n"
     ]
    },
    {
     "name": "stderr",
     "output_type": "stream",
     "text": [
      "03/18/2025 01:25:50 [ruzicka:INFO] Fitting on 2689 documents...\n",
      "03/18/2025 01:25:50 [ruzicka:INFO] Predicting on 8 documents\n"
     ]
    },
    {
     "name": "stdout",
     "output_type": "stream",
     "text": [
      "Results written in: 03_tests/authors_themselves/bdi_res/Deleyre_Essai sur la vie.csv\n",
      "\n",
      "\n",
      "#######################\n",
      "Deleyre: Idees sur l-education\n",
      "\n",
      "                    work  author_label   author  chunk_num  \\\n",
      "1  Idees sur l-education             3  Deleyre          1   \n",
      "\n",
      "                                tag  \n",
      "1  1__Deleyre_Idees sur l-education  \n"
     ]
    },
    {
     "name": "stderr",
     "output_type": "stream",
     "text": [
      "03/18/2025 01:25:52 [ruzicka:INFO] Fitting on 2673 documents...\n",
      "03/18/2025 01:25:52 [ruzicka:INFO] Predicting on 24 documents\n"
     ]
    },
    {
     "name": "stdout",
     "output_type": "stream",
     "text": [
      "Results written in: 03_tests/authors_themselves/bdi_res/Deleyre_Idees sur l-education.csv\n",
      "\n",
      "\n",
      "#######################\n",
      "Deleyre: L-esprit de Saint-evremont\n",
      "\n",
      "                         work  author_label   author  chunk_num  \\\n",
      "1  L-esprit de Saint-evremont             3  Deleyre          1   \n",
      "\n",
      "                                     tag  \n",
      "1  1__Deleyre_L-esprit de Saint-evremont  \n"
     ]
    },
    {
     "name": "stderr",
     "output_type": "stream",
     "text": [
      "03/18/2025 01:25:55 [ruzicka:INFO] Fitting on 2696 documents...\n",
      "03/18/2025 01:25:55 [ruzicka:INFO] Predicting on 1 documents\n",
      "03/18/2025 01:25:55 [ruzicka:INFO] Fitting on 2695 documents...\n",
      "03/18/2025 01:25:55 [ruzicka:INFO] Predicting on 2 documents\n"
     ]
    },
    {
     "name": "stdout",
     "output_type": "stream",
     "text": [
      "Results written in: 03_tests/authors_themselves/bdi_res/Deleyre_L-esprit de Saint-evremont.csv\n",
      "\n",
      "\n",
      "#######################\n",
      "Deleyre: Rapport pour des Corses expatries\n",
      "\n",
      "Empty DataFrame\n",
      "Columns: [work, author_label, author, chunk_num, tag]\n",
      "Index: []\n",
      "Results written in: 03_tests/authors_themselves/bdi_res/Deleyre_Rapport pour des Corses expatries.csv\n",
      "\n",
      "\n",
      "#######################\n",
      "Deleyre: Sur la question\n",
      "\n",
      "              work  author_label   author  chunk_num  \\\n",
      "1  Sur la question             3  Deleyre          1   \n",
      "\n",
      "                          tag  \n",
      "1  1__Deleyre_Sur la question  \n"
     ]
    },
    {
     "name": "stderr",
     "output_type": "stream",
     "text": [
      "03/18/2025 01:25:55 [ruzicka:INFO] Fitting on 2687 documents...\n",
      "03/18/2025 01:25:55 [ruzicka:INFO] Predicting on 10 documents\n"
     ]
    },
    {
     "name": "stdout",
     "output_type": "stream",
     "text": [
      "Results written in: 03_tests/authors_themselves/bdi_res/Deleyre_Sur la question.csv\n",
      "\n",
      "\n",
      "#######################\n",
      "dHolbach: elements de la morale universelle\n",
      "\n",
      "                                work  author_label    author  chunk_num  \\\n",
      "1  elements de la morale universelle             4  dHolbach          1   \n",
      "\n",
      "                                             tag  \n",
      "1  1__dHolbach_elements de la morale universelle  \n"
     ]
    },
    {
     "name": "stderr",
     "output_type": "stream",
     "text": [
      "03/18/2025 01:25:57 [ruzicka:INFO] Fitting on 2696 documents...\n",
      "03/18/2025 01:25:57 [ruzicka:INFO] Predicting on 1 documents\n"
     ]
    },
    {
     "name": "stdout",
     "output_type": "stream",
     "text": [
      "Results written in: 03_tests/authors_themselves/bdi_res/dHolbach_elements de la morale universelle.csv\n",
      "\n",
      "\n",
      "#######################\n",
      "dHolbach: Essai sur l-art de ramper\n",
      "\n",
      "Empty DataFrame\n",
      "Columns: [work, author_label, author, chunk_num, tag]\n",
      "Index: []\n"
     ]
    },
    {
     "name": "stderr",
     "output_type": "stream",
     "text": [
      "03/18/2025 01:25:58 [ruzicka:INFO] Fitting on 2666 documents...\n",
      "03/18/2025 01:25:58 [ruzicka:INFO] Predicting on 31 documents\n"
     ]
    },
    {
     "name": "stdout",
     "output_type": "stream",
     "text": [
      "Results written in: 03_tests/authors_themselves/bdi_res/dHolbach_Essai sur l-art de ramper.csv\n",
      "\n",
      "\n",
      "#######################\n",
      "dHolbach: ethocratie\n",
      "\n",
      "         work  author_label    author  chunk_num                     tag\n",
      "1  ethocratie             4  dHolbach          1  1__dHolbach_ethocratie\n"
     ]
    },
    {
     "name": "stderr",
     "output_type": "stream",
     "text": [
      "03/18/2025 01:26:03 [ruzicka:INFO] Fitting on 2686 documents...\n",
      "03/18/2025 01:26:03 [ruzicka:INFO] Predicting on 11 documents\n"
     ]
    },
    {
     "name": "stdout",
     "output_type": "stream",
     "text": [
      "Results written in: 03_tests/authors_themselves/bdi_res/dHolbach_ethocratie.csv\n",
      "\n",
      "\n",
      "#######################\n",
      "dHolbach: La Morale 1\n",
      "\n",
      "          work  author_label    author  chunk_num                      tag\n",
      "1  La Morale 1             4  dHolbach          1  1__dHolbach_La Morale 1\n"
     ]
    },
    {
     "name": "stderr",
     "output_type": "stream",
     "text": [
      "03/18/2025 01:26:06 [ruzicka:INFO] Fitting on 2664 documents...\n",
      "03/18/2025 01:26:06 [ruzicka:INFO] Predicting on 33 documents\n"
     ]
    },
    {
     "name": "stdout",
     "output_type": "stream",
     "text": [
      "Results written in: 03_tests/authors_themselves/bdi_res/dHolbach_La Morale 1.csv\n",
      "\n",
      "\n",
      "#######################\n",
      "dHolbach: La Morale 4\n",
      "\n",
      "          work  author_label    author  chunk_num                      tag\n",
      "1  La Morale 4             4  dHolbach          1  1__dHolbach_La Morale 4\n"
     ]
    },
    {
     "name": "stderr",
     "output_type": "stream",
     "text": [
      "03/18/2025 01:26:12 [ruzicka:INFO] Fitting on 2665 documents...\n",
      "03/18/2025 01:26:12 [ruzicka:INFO] Predicting on 32 documents\n"
     ]
    },
    {
     "name": "stdout",
     "output_type": "stream",
     "text": [
      "Results written in: 03_tests/authors_themselves/bdi_res/dHolbach_La Morale 4.csv\n",
      "\n",
      "\n",
      "#######################\n",
      "dHolbach: La Morale 5\n",
      "\n",
      "          work  author_label    author  chunk_num                      tag\n",
      "1  La Morale 5             4  dHolbach          1  1__dHolbach_La Morale 5\n"
     ]
    },
    {
     "name": "stderr",
     "output_type": "stream",
     "text": [
      "03/18/2025 01:26:18 [ruzicka:INFO] Fitting on 2676 documents...\n",
      "03/18/2025 01:26:18 [ruzicka:INFO] Predicting on 21 documents\n"
     ]
    },
    {
     "name": "stdout",
     "output_type": "stream",
     "text": [
      "Results written in: 03_tests/authors_themselves/bdi_res/dHolbach_La Morale 5.csv\n",
      "\n",
      "\n",
      "#######################\n",
      "dHolbach: Système Social 2\n",
      "\n",
      "                work  author_label    author  chunk_num  \\\n",
      "1  Système Social 2             4  dHolbach          1   \n",
      "\n",
      "                             tag  \n",
      "1  1__dHolbach_Système Social 2  \n"
     ]
    },
    {
     "name": "stderr",
     "output_type": "stream",
     "text": [
      "03/18/2025 01:26:22 [ruzicka:INFO] Fitting on 2676 documents...\n",
      "03/18/2025 01:26:22 [ruzicka:INFO] Predicting on 21 documents\n"
     ]
    },
    {
     "name": "stdout",
     "output_type": "stream",
     "text": [
      "Results written in: 03_tests/authors_themselves/bdi_res/dHolbach_Système Social 2.csv\n",
      "\n",
      "\n",
      "#######################\n",
      "dHolbach: Theologie portative\n",
      "\n",
      "                  work  author_label    author  chunk_num  \\\n",
      "1  Theologie portative             4  dHolbach          1   \n",
      "\n",
      "                               tag  \n",
      "1  1__dHolbach_Theologie portative  \n"
     ]
    },
    {
     "name": "stderr",
     "output_type": "stream",
     "text": [
      "03/18/2025 01:26:26 [ruzicka:INFO] Fitting on 2695 documents...\n",
      "03/18/2025 01:26:26 [ruzicka:INFO] Predicting on 2 documents\n"
     ]
    },
    {
     "name": "stdout",
     "output_type": "stream",
     "text": [
      "Results written in: 03_tests/authors_themselves/bdi_res/dHolbach_Theologie portative.csv\n",
      "\n",
      "\n",
      "#######################\n",
      "Diderot: De la suffisance\n",
      "\n",
      "               work  author_label   author  chunk_num  \\\n",
      "1  De la suffisance             5  Diderot          1   \n",
      "\n",
      "                           tag  \n",
      "1  1__Diderot_De la suffisance  \n"
     ]
    },
    {
     "name": "stderr",
     "output_type": "stream",
     "text": [
      "03/18/2025 01:26:26 [ruzicka:INFO] Fitting on 2686 documents...\n",
      "03/18/2025 01:26:26 [ruzicka:INFO] Predicting on 11 documents\n"
     ]
    },
    {
     "name": "stdout",
     "output_type": "stream",
     "text": [
      "Results written in: 03_tests/authors_themselves/bdi_res/Diderot_De la suffisance.csv\n",
      "\n",
      "\n",
      "#######################\n",
      "Diderot: Essai sur la Peinture\n",
      "\n",
      "                    work  author_label   author  chunk_num  \\\n",
      "1  Essai sur la Peinture             5  Diderot          1   \n",
      "\n",
      "                                tag  \n",
      "1  1__Diderot_Essai sur la Peinture  \n"
     ]
    },
    {
     "name": "stderr",
     "output_type": "stream",
     "text": [
      "03/18/2025 01:26:28 [ruzicka:INFO] Fitting on 2693 documents...\n",
      "03/18/2025 01:26:28 [ruzicka:INFO] Predicting on 4 documents\n"
     ]
    },
    {
     "name": "stdout",
     "output_type": "stream",
     "text": [
      "Results written in: 03_tests/authors_themselves/bdi_res/Diderot_Essai sur la Peinture.csv\n",
      "\n",
      "\n",
      "#######################\n",
      "Diderot: Fragments echappes (+FP1)\n",
      "\n",
      "                        work  author_label   author  chunk_num  \\\n",
      "1  Fragments echappes (+FP1)             5  Diderot          1   \n",
      "\n",
      "                                    tag  \n",
      "1  1__Diderot_Fragments echappes (+FP1)  \n"
     ]
    },
    {
     "name": "stderr",
     "output_type": "stream",
     "text": [
      "03/18/2025 01:26:28 [ruzicka:INFO] Fitting on 2690 documents...\n",
      "03/18/2025 01:26:28 [ruzicka:INFO] Predicting on 7 documents\n"
     ]
    },
    {
     "name": "stdout",
     "output_type": "stream",
     "text": [
      "Results written in: 03_tests/authors_themselves/bdi_res/Diderot_Fragments echappes (+FP1).csv\n",
      "\n",
      "\n",
      "#######################\n",
      "Diderot: Recherches philosophiques\n",
      "\n",
      "                        work  author_label   author  chunk_num  \\\n",
      "1  Recherches philosophiques             5  Diderot          1   \n",
      "\n",
      "                                    tag  \n",
      "1  1__Diderot_Recherches philosophiques  \n"
     ]
    },
    {
     "name": "stderr",
     "output_type": "stream",
     "text": [
      "03/18/2025 01:26:29 [ruzicka:INFO] Fitting on 2666 documents...\n",
      "03/18/2025 01:26:29 [ruzicka:INFO] Predicting on 31 documents\n"
     ]
    },
    {
     "name": "stdout",
     "output_type": "stream",
     "text": [
      "Results written in: 03_tests/authors_themselves/bdi_res/Diderot_Recherches philosophiques.csv\n",
      "\n",
      "\n",
      "#######################\n",
      "Diderot: Refutation suivie\n",
      "\n",
      "                work  author_label   author  chunk_num  \\\n",
      "1  Refutation suivie             5  Diderot          1   \n",
      "\n",
      "                            tag  \n",
      "1  1__Diderot_Refutation suivie  \n"
     ]
    },
    {
     "name": "stderr",
     "output_type": "stream",
     "text": [
      "03/18/2025 01:26:33 [ruzicka:INFO] Fitting on 2685 documents...\n",
      "03/18/2025 01:26:33 [ruzicka:INFO] Predicting on 12 documents\n"
     ]
    },
    {
     "name": "stdout",
     "output_type": "stream",
     "text": [
      "Results written in: 03_tests/authors_themselves/bdi_res/Diderot_Refutation suivie.csv\n",
      "\n",
      "\n",
      "#######################\n",
      "Diderot: Salon 1763\n",
      "\n",
      "         work  author_label   author  chunk_num                    tag\n",
      "1  Salon 1763             5  Diderot          1  1__Diderot_Salon 1763\n"
     ]
    },
    {
     "name": "stderr",
     "output_type": "stream",
     "text": [
      "03/18/2025 01:26:34 [ruzicka:INFO] Fitting on 2694 documents...\n",
      "03/18/2025 01:26:34 [ruzicka:INFO] Predicting on 3 documents\n"
     ]
    },
    {
     "name": "stdout",
     "output_type": "stream",
     "text": [
      "Results written in: 03_tests/authors_themselves/bdi_res/Diderot_Salon 1763.csv\n",
      "\n",
      "\n",
      "#######################\n",
      "Diderot: Salon 1775\n",
      "\n",
      "         work  author_label   author  chunk_num                    tag\n",
      "1  Salon 1775             5  Diderot          1  1__Diderot_Salon 1775\n"
     ]
    },
    {
     "name": "stderr",
     "output_type": "stream",
     "text": [
      "03/18/2025 01:26:35 [ruzicka:INFO] Fitting on 2687 documents...\n",
      "03/18/2025 01:26:35 [ruzicka:INFO] Predicting on 10 documents\n"
     ]
    },
    {
     "name": "stdout",
     "output_type": "stream",
     "text": [
      "Results written in: 03_tests/authors_themselves/bdi_res/Diderot_Salon 1775.csv\n",
      "\n",
      "\n",
      "#######################\n",
      "Diderot: Suite de l-apologie\n",
      "\n",
      "                  work  author_label   author  chunk_num  \\\n",
      "1  Suite de l-apologie             5  Diderot          1   \n",
      "\n",
      "                              tag  \n",
      "1  1__Diderot_Suite de l-apologie  \n"
     ]
    },
    {
     "name": "stderr",
     "output_type": "stream",
     "text": [
      "03/18/2025 01:26:36 [ruzicka:INFO] Fitting on 2691 documents...\n",
      "03/18/2025 01:26:36 [ruzicka:INFO] Predicting on 6 documents\n"
     ]
    },
    {
     "name": "stdout",
     "output_type": "stream",
     "text": [
      "Results written in: 03_tests/authors_themselves/bdi_res/Diderot_Suite de l-apologie.csv\n",
      "\n",
      "\n",
      "#######################\n",
      "Guibert: Discurs\n",
      "\n",
      "      work  author_label   author  chunk_num                 tag\n",
      "1  Discurs             6  Guibert          1  1__Guibert_Discurs\n"
     ]
    },
    {
     "name": "stderr",
     "output_type": "stream",
     "text": [
      "03/18/2025 01:26:38 [ruzicka:INFO] Fitting on 2678 documents...\n",
      "03/18/2025 01:26:38 [ruzicka:INFO] Predicting on 19 documents\n"
     ]
    },
    {
     "name": "stdout",
     "output_type": "stream",
     "text": [
      "Results written in: 03_tests/authors_themselves/bdi_res/Guibert_Discurs.csv\n",
      "\n",
      "\n",
      "#######################\n",
      "Guibert: Eloge du roi\n",
      "\n",
      "           work  author_label   author  chunk_num                      tag\n",
      "1  Eloge du roi             6  Guibert          1  1__Guibert_Eloge du roi\n"
     ]
    },
    {
     "name": "stderr",
     "output_type": "stream",
     "text": [
      "03/18/2025 01:26:42 [ruzicka:INFO] Fitting on 2645 documents...\n",
      "03/18/2025 01:26:42 [ruzicka:INFO] Predicting on 52 documents\n"
     ]
    },
    {
     "name": "stdout",
     "output_type": "stream",
     "text": [
      "Results written in: 03_tests/authors_themselves/bdi_res/Guibert_Eloge du roi.csv\n",
      "\n",
      "\n",
      "#######################\n",
      "Guibert: Essai generale\n",
      "\n",
      "             work  author_label   author  chunk_num                        tag\n",
      "1  Essai generale             6  Guibert          1  1__Guibert_Essai generale\n"
     ]
    },
    {
     "name": "stderr",
     "output_type": "stream",
     "text": [
      "03/18/2025 01:26:54 [ruzicka:INFO] Fitting on 2644 documents...\n",
      "03/18/2025 01:26:54 [ruzicka:INFO] Predicting on 53 documents\n"
     ]
    },
    {
     "name": "stdout",
     "output_type": "stream",
     "text": [
      "Results written in: 03_tests/authors_themselves/bdi_res/Guibert_Essai generale.csv\n",
      "\n",
      "\n",
      "#######################\n",
      "Guibert: Oeuvres militaires T1\n",
      "\n",
      "                    work  author_label   author  chunk_num  \\\n",
      "1  Oeuvres militaires T1             6  Guibert          1   \n",
      "\n",
      "                                tag  \n",
      "1  1__Guibert_Oeuvres militaires T1  \n"
     ]
    },
    {
     "name": "stderr",
     "output_type": "stream",
     "text": [
      "03/18/2025 01:27:06 [ruzicka:INFO] Fitting on 2664 documents...\n",
      "03/18/2025 01:27:06 [ruzicka:INFO] Predicting on 33 documents\n"
     ]
    },
    {
     "name": "stdout",
     "output_type": "stream",
     "text": [
      "Results written in: 03_tests/authors_themselves/bdi_res/Guibert_Oeuvres militaires T1.csv\n",
      "\n",
      "\n",
      "#######################\n",
      "Guibert: Oeuvres militaires T2\n",
      "\n",
      "                    work  author_label   author  chunk_num  \\\n",
      "1  Oeuvres militaires T2             6  Guibert          1   \n",
      "\n",
      "                                tag  \n",
      "1  1__Guibert_Oeuvres militaires T2  \n"
     ]
    },
    {
     "name": "stderr",
     "output_type": "stream",
     "text": [
      "03/18/2025 01:27:14 [ruzicka:INFO] Fitting on 2667 documents...\n",
      "03/18/2025 01:27:14 [ruzicka:INFO] Predicting on 30 documents\n"
     ]
    },
    {
     "name": "stdout",
     "output_type": "stream",
     "text": [
      "Results written in: 03_tests/authors_themselves/bdi_res/Guibert_Oeuvres militaires T2.csv\n",
      "\n",
      "\n",
      "#######################\n",
      "Guibert: Oeuvres militaires T3\n",
      "\n",
      "                    work  author_label   author  chunk_num  \\\n",
      "1  Oeuvres militaires T3             6  Guibert          1   \n",
      "\n",
      "                                tag  \n",
      "1  1__Guibert_Oeuvres militaires T3  \n"
     ]
    },
    {
     "name": "stderr",
     "output_type": "stream",
     "text": [
      "03/18/2025 01:27:21 [ruzicka:INFO] Fitting on 2667 documents...\n",
      "03/18/2025 01:27:21 [ruzicka:INFO] Predicting on 30 documents\n"
     ]
    },
    {
     "name": "stdout",
     "output_type": "stream",
     "text": [
      "Results written in: 03_tests/authors_themselves/bdi_res/Guibert_Oeuvres militaires T3.csv\n",
      "\n",
      "\n",
      "#######################\n",
      "Guibert: Oeuvres militaires T4\n",
      "\n",
      "                    work  author_label   author  chunk_num  \\\n",
      "1  Oeuvres militaires T4             6  Guibert          1   \n",
      "\n",
      "                                tag  \n",
      "1  1__Guibert_Oeuvres militaires T4  \n"
     ]
    },
    {
     "name": "stderr",
     "output_type": "stream",
     "text": [
      "03/18/2025 01:27:28 [ruzicka:INFO] Fitting on 2677 documents...\n",
      "03/18/2025 01:27:28 [ruzicka:INFO] Predicting on 20 documents\n"
     ]
    },
    {
     "name": "stdout",
     "output_type": "stream",
     "text": [
      "Results written in: 03_tests/authors_themselves/bdi_res/Guibert_Oeuvres militaires T4.csv\n",
      "\n",
      "\n",
      "#######################\n",
      "Jaucourt: Ency 1-7\n",
      "\n",
      "       work  author_label    author  chunk_num                   tag\n",
      "1  Ency 1-7             7  Jaucourt          1  1__Jaucourt_Ency 1-7\n"
     ]
    },
    {
     "name": "stderr",
     "output_type": "stream",
     "text": [
      "03/18/2025 01:27:33 [ruzicka:INFO] Fitting on 2687 documents...\n",
      "03/18/2025 01:27:33 [ruzicka:INFO] Predicting on 10 documents\n"
     ]
    },
    {
     "name": "stdout",
     "output_type": "stream",
     "text": [
      "Results written in: 03_tests/authors_themselves/bdi_res/Jaucourt_Ency 1-7.csv\n",
      "\n",
      "\n",
      "#######################\n",
      "Jaucourt: Ency 10\n",
      "\n",
      "      work  author_label    author  chunk_num                  tag\n",
      "1  Ency 10             7  Jaucourt          1  1__Jaucourt_Ency 10\n"
     ]
    },
    {
     "name": "stderr",
     "output_type": "stream",
     "text": [
      "03/18/2025 01:27:35 [ruzicka:INFO] Fitting on 2689 documents...\n",
      "03/18/2025 01:27:35 [ruzicka:INFO] Predicting on 8 documents\n"
     ]
    },
    {
     "name": "stdout",
     "output_type": "stream",
     "text": [
      "Results written in: 03_tests/authors_themselves/bdi_res/Jaucourt_Ency 10.csv\n",
      "\n",
      "\n",
      "#######################\n",
      "Jaucourt: Ency 11\n",
      "\n",
      "      work  author_label    author  chunk_num                  tag\n",
      "1  Ency 11             7  Jaucourt          1  1__Jaucourt_Ency 11\n"
     ]
    },
    {
     "name": "stderr",
     "output_type": "stream",
     "text": [
      "03/18/2025 01:27:37 [ruzicka:INFO] Fitting on 2689 documents...\n",
      "03/18/2025 01:27:37 [ruzicka:INFO] Predicting on 8 documents\n"
     ]
    },
    {
     "name": "stdout",
     "output_type": "stream",
     "text": [
      "Results written in: 03_tests/authors_themselves/bdi_res/Jaucourt_Ency 11.csv\n",
      "\n",
      "\n",
      "#######################\n",
      "Jaucourt: Ency 12\n",
      "\n",
      "      work  author_label    author  chunk_num                  tag\n",
      "1  Ency 12             7  Jaucourt          1  1__Jaucourt_Ency 12\n"
     ]
    },
    {
     "name": "stderr",
     "output_type": "stream",
     "text": [
      "03/18/2025 01:27:39 [ruzicka:INFO] Fitting on 2688 documents...\n",
      "03/18/2025 01:27:39 [ruzicka:INFO] Predicting on 9 documents\n"
     ]
    },
    {
     "name": "stdout",
     "output_type": "stream",
     "text": [
      "Results written in: 03_tests/authors_themselves/bdi_res/Jaucourt_Ency 12.csv\n",
      "\n",
      "\n",
      "#######################\n",
      "Jaucourt: Ency 8\n",
      "\n",
      "     work  author_label    author  chunk_num                 tag\n",
      "1  Ency 8             7  Jaucourt          1  1__Jaucourt_Ency 8\n"
     ]
    },
    {
     "name": "stderr",
     "output_type": "stream",
     "text": [
      "03/18/2025 01:27:41 [ruzicka:INFO] Fitting on 2686 documents...\n",
      "03/18/2025 01:27:41 [ruzicka:INFO] Predicting on 11 documents\n"
     ]
    },
    {
     "name": "stdout",
     "output_type": "stream",
     "text": [
      "Results written in: 03_tests/authors_themselves/bdi_res/Jaucourt_Ency 8.csv\n",
      "\n",
      "\n",
      "#######################\n",
      "Jaucourt: Ency 9\n",
      "\n",
      "     work  author_label    author  chunk_num                 tag\n",
      "1  Ency 9             7  Jaucourt          1  1__Jaucourt_Ency 9\n"
     ]
    },
    {
     "name": "stderr",
     "output_type": "stream",
     "text": [
      "03/18/2025 01:27:43 [ruzicka:INFO] Fitting on 2637 documents...\n",
      "03/18/2025 01:27:43 [ruzicka:INFO] Predicting on 60 documents\n"
     ]
    },
    {
     "name": "stdout",
     "output_type": "stream",
     "text": [
      "Results written in: 03_tests/authors_themselves/bdi_res/Jaucourt_Ency 9.csv\n",
      "\n",
      "\n",
      "#######################\n",
      "Jaucourt: Essais de teodicee T1\n",
      "\n",
      "                    work  author_label    author  chunk_num  \\\n",
      "1  Essais de teodicee T1             7  Jaucourt          1   \n",
      "\n",
      "                                 tag  \n",
      "1  1__Jaucourt_Essais de teodicee T1  \n"
     ]
    },
    {
     "name": "stderr",
     "output_type": "stream",
     "text": [
      "03/18/2025 01:27:54 [ruzicka:INFO] Fitting on 2637 documents...\n",
      "03/18/2025 01:27:54 [ruzicka:INFO] Predicting on 60 documents\n"
     ]
    },
    {
     "name": "stdout",
     "output_type": "stream",
     "text": [
      "Results written in: 03_tests/authors_themselves/bdi_res/Jaucourt_Essais de teodicee T1.csv\n",
      "\n",
      "\n",
      "#######################\n",
      "Jaucourt: Essais de teodicee T2\n",
      "\n",
      "                    work  author_label    author  chunk_num  \\\n",
      "1  Essais de teodicee T2             7  Jaucourt          1   \n",
      "\n",
      "                                 tag  \n",
      "1  1__Jaucourt_Essais de teodicee T2  \n"
     ]
    },
    {
     "name": "stderr",
     "output_type": "stream",
     "text": [
      "03/18/2025 01:28:05 [ruzicka:INFO] Fitting on 2694 documents...\n",
      "03/18/2025 01:28:05 [ruzicka:INFO] Predicting on 3 documents\n"
     ]
    },
    {
     "name": "stdout",
     "output_type": "stream",
     "text": [
      "Results written in: 03_tests/authors_themselves/bdi_res/Jaucourt_Essais de teodicee T2.csv\n",
      "\n",
      "\n",
      "#######################\n",
      "Jussieu: Exposition d-un nouvel ordre\n",
      "\n",
      "                           work  author_label   author  chunk_num  \\\n",
      "1  Exposition d-un nouvel ordre             8  Jussieu          1   \n",
      "\n",
      "                                       tag  \n",
      "1  1__Jussieu_Exposition d-un nouvel ordre  \n"
     ]
    },
    {
     "name": "stderr",
     "output_type": "stream",
     "text": [
      "03/18/2025 01:28:06 [ruzicka:INFO] Fitting on 2688 documents...\n",
      "03/18/2025 01:28:06 [ruzicka:INFO] Predicting on 9 documents\n"
     ]
    },
    {
     "name": "stdout",
     "output_type": "stream",
     "text": [
      "Results written in: 03_tests/authors_themselves/bdi_res/Jussieu_Exposition d-un nouvel ordre.csv\n",
      "\n",
      "\n",
      "#######################\n",
      "Jussieu: HDI T1-4\n",
      "\n",
      "       work  author_label   author  chunk_num                  tag\n",
      "1  HDI T1-4             8  Jussieu          1  1__Jussieu_HDI T1-4\n"
     ]
    },
    {
     "name": "stderr",
     "output_type": "stream",
     "text": [
      "03/18/2025 01:28:07 [ruzicka:INFO] Fitting on 2666 documents...\n",
      "03/18/2025 01:28:07 [ruzicka:INFO] Predicting on 31 documents\n"
     ]
    },
    {
     "name": "stdout",
     "output_type": "stream",
     "text": [
      "Results written in: 03_tests/authors_themselves/bdi_res/Jussieu_HDI T1-4.csv\n",
      "\n",
      "\n",
      "#######################\n",
      "Jussieu: Memoire caractères 1-14\n",
      "\n",
      "                       work  author_label   author  chunk_num  \\\n",
      "1  Memoire caractères 1-14             8  Jussieu          1   \n",
      "\n",
      "                                   tag  \n",
      "1  1__Jussieu_Memoire caractères 1-14  \n"
     ]
    },
    {
     "name": "stderr",
     "output_type": "stream",
     "text": [
      "03/18/2025 01:28:12 [ruzicka:INFO] Fitting on 2693 documents...\n",
      "03/18/2025 01:28:12 [ruzicka:INFO] Predicting on 4 documents\n"
     ]
    },
    {
     "name": "stdout",
     "output_type": "stream",
     "text": [
      "Results written in: 03_tests/authors_themselves/bdi_res/Jussieu_Memoire caractères 1-14.csv\n",
      "\n",
      "\n",
      "#######################\n",
      "Jussieu: Memoire famille\n",
      "\n",
      "              work  author_label   author  chunk_num  \\\n",
      "1  Memoire famille             8  Jussieu          1   \n",
      "\n",
      "                          tag  \n",
      "1  1__Jussieu_Memoire famille  \n"
     ]
    },
    {
     "name": "stderr",
     "output_type": "stream",
     "text": [
      "03/18/2025 01:28:13 [ruzicka:INFO] Fitting on 2690 documents...\n",
      "03/18/2025 01:28:13 [ruzicka:INFO] Predicting on 7 documents\n"
     ]
    },
    {
     "name": "stdout",
     "output_type": "stream",
     "text": [
      "Results written in: 03_tests/authors_themselves/bdi_res/Jussieu_Memoire famille.csv\n",
      "\n",
      "\n",
      "#######################\n",
      "Jussieu: Methode naturelle\n",
      "\n",
      "                work  author_label   author  chunk_num  \\\n",
      "1  Methode naturelle             8  Jussieu          1   \n",
      "\n",
      "                            tag  \n",
      "1  1__Jussieu_Methode naturelle  \n"
     ]
    },
    {
     "name": "stderr",
     "output_type": "stream",
     "text": [
      "03/18/2025 01:28:14 [ruzicka:INFO] Fitting on 2684 documents...\n",
      "03/18/2025 01:28:14 [ruzicka:INFO] Predicting on 13 documents\n"
     ]
    },
    {
     "name": "stdout",
     "output_type": "stream",
     "text": [
      "Results written in: 03_tests/authors_themselves/bdi_res/Jussieu_Methode naturelle.csv\n",
      "\n",
      "\n",
      "#######################\n",
      "Jussieu: Notice Historique 1-6\n",
      "\n",
      "                    work  author_label   author  chunk_num  \\\n",
      "1  Notice Historique 1-6             8  Jussieu          1   \n",
      "\n",
      "                                tag  \n",
      "1  1__Jussieu_Notice Historique 1-6  \n"
     ]
    },
    {
     "name": "stderr",
     "output_type": "stream",
     "text": [
      "03/18/2025 01:28:16 [ruzicka:INFO] Fitting on 2690 documents...\n",
      "03/18/2025 01:28:16 [ruzicka:INFO] Predicting on 7 documents\n"
     ]
    },
    {
     "name": "stdout",
     "output_type": "stream",
     "text": [
      "Results written in: 03_tests/authors_themselves/bdi_res/Jussieu_Notice Historique 1-6.csv\n",
      "\n",
      "\n",
      "#######################\n",
      "Jussieu: Principes\n",
      "\n",
      "        work  author_label   author  chunk_num                   tag\n",
      "1  Principes             8  Jussieu          1  1__Jussieu_Principes\n"
     ]
    },
    {
     "name": "stderr",
     "output_type": "stream",
     "text": [
      "03/18/2025 01:28:17 [ruzicka:INFO] Fitting on 2691 documents...\n",
      "03/18/2025 01:28:17 [ruzicka:INFO] Predicting on 6 documents\n"
     ]
    },
    {
     "name": "stdout",
     "output_type": "stream",
     "text": [
      "Results written in: 03_tests/authors_themselves/bdi_res/Jussieu_Principes.csv\n",
      "\n",
      "\n",
      "#######################\n",
      "Jussieu: RapporTtxt\n",
      "\n",
      "         work  author_label   author  chunk_num                    tag\n",
      "1  RapporTtxt             8  Jussieu          1  1__Jussieu_RapporTtxt\n"
     ]
    },
    {
     "name": "stderr",
     "output_type": "stream",
     "text": [
      "03/18/2025 01:28:18 [ruzicka:INFO] Fitting on 2656 documents...\n",
      "03/18/2025 01:28:18 [ruzicka:INFO] Predicting on 41 documents\n"
     ]
    },
    {
     "name": "stdout",
     "output_type": "stream",
     "text": [
      "Results written in: 03_tests/authors_themselves/bdi_res/Jussieu_RapporTtxt.csv\n",
      "\n",
      "\n",
      "#######################\n",
      "Jussieu: Traite des vertus\n",
      "\n",
      "                work  author_label   author  chunk_num  \\\n",
      "1  Traite des vertus             8  Jussieu          1   \n",
      "\n",
      "                            tag  \n",
      "1  1__Jussieu_Traite des vertus  \n"
     ]
    },
    {
     "name": "stderr",
     "output_type": "stream",
     "text": [
      "03/18/2025 01:28:24 [ruzicka:INFO] Fitting on 2658 documents...\n",
      "03/18/2025 01:28:24 [ruzicka:INFO] Predicting on 39 documents\n"
     ]
    },
    {
     "name": "stdout",
     "output_type": "stream",
     "text": [
      "Results written in: 03_tests/authors_themselves/bdi_res/Jussieu_Traite des vertus.csv\n",
      "\n",
      "\n",
      "#######################\n",
      "La Grange: Lucrece T1\n",
      "\n",
      "         work  author_label     author  chunk_num                      tag\n",
      "1  Lucrece T1             9  La Grange          1  1__La Grange_Lucrece T1\n"
     ]
    },
    {
     "name": "stderr",
     "output_type": "stream",
     "text": [
      "03/18/2025 01:28:28 [ruzicka:INFO] Fitting on 2651 documents...\n",
      "03/18/2025 01:28:28 [ruzicka:INFO] Predicting on 46 documents\n"
     ]
    },
    {
     "name": "stdout",
     "output_type": "stream",
     "text": [
      "Results written in: 03_tests/authors_themselves/bdi_res/La Grange_Lucrece T1.csv\n",
      "\n",
      "\n",
      "#######################\n",
      "La Grange: Lucrece T2\n",
      "\n",
      "         work  author_label     author  chunk_num                      tag\n",
      "1  Lucrece T2             9  La Grange          1  1__La Grange_Lucrece T2\n"
     ]
    },
    {
     "name": "stderr",
     "output_type": "stream",
     "text": [
      "03/18/2025 01:28:33 [ruzicka:INFO] Fitting on 2668 documents...\n",
      "03/18/2025 01:28:33 [ruzicka:INFO] Predicting on 29 documents\n"
     ]
    },
    {
     "name": "stdout",
     "output_type": "stream",
     "text": [
      "Results written in: 03_tests/authors_themselves/bdi_res/La Grange_Lucrece T2.csv\n",
      "\n",
      "\n",
      "#######################\n",
      "Marmontel: Belisaire\n",
      "\n",
      "        work  author_label     author  chunk_num                     tag\n",
      "1  Belisaire            10  Marmontel          1  1__Marmontel_Belisaire\n"
     ]
    },
    {
     "name": "stderr",
     "output_type": "stream",
     "text": [
      "03/18/2025 01:28:45 [ruzicka:INFO] Fitting on 2667 documents...\n",
      "03/18/2025 01:28:45 [ruzicka:INFO] Predicting on 30 documents\n"
     ]
    },
    {
     "name": "stdout",
     "output_type": "stream",
     "text": [
      "Results written in: 03_tests/authors_themselves/bdi_res/Marmontel_Belisaire.csv\n",
      "\n",
      "\n",
      "#######################\n",
      "Marmontel: Contes T1\n",
      "\n",
      "        work  author_label     author  chunk_num                     tag\n",
      "1  Contes T1            10  Marmontel          1  1__Marmontel_Contes T1\n"
     ]
    },
    {
     "name": "stderr",
     "output_type": "stream",
     "text": [
      "03/18/2025 01:28:58 [ruzicka:INFO] Fitting on 2665 documents...\n",
      "03/18/2025 01:28:58 [ruzicka:INFO] Predicting on 32 documents\n"
     ]
    },
    {
     "name": "stdout",
     "output_type": "stream",
     "text": [
      "Results written in: 03_tests/authors_themselves/bdi_res/Marmontel_Contes T1.csv\n",
      "\n",
      "\n",
      "#######################\n",
      "Marmontel: Contes T2\n",
      "\n",
      "        work  author_label     author  chunk_num                     tag\n",
      "1  Contes T2            10  Marmontel          1  1__Marmontel_Contes T2\n"
     ]
    },
    {
     "name": "stderr",
     "output_type": "stream",
     "text": [
      "03/18/2025 01:29:12 [ruzicka:INFO] Fitting on 2670 documents...\n",
      "03/18/2025 01:29:12 [ruzicka:INFO] Predicting on 27 documents\n"
     ]
    },
    {
     "name": "stdout",
     "output_type": "stream",
     "text": [
      "Results written in: 03_tests/authors_themselves/bdi_res/Marmontel_Contes T2.csv\n",
      "\n",
      "\n",
      "#######################\n",
      "Marmontel: Contes T3\n",
      "\n",
      "        work  author_label     author  chunk_num                     tag\n",
      "1  Contes T3            10  Marmontel          1  1__Marmontel_Contes T3\n"
     ]
    },
    {
     "name": "stderr",
     "output_type": "stream",
     "text": [
      "03/18/2025 01:29:24 [ruzicka:INFO] Fitting on 2601 documents...\n",
      "03/18/2025 01:29:24 [ruzicka:INFO] Predicting on 96 documents\n"
     ]
    },
    {
     "name": "stdout",
     "output_type": "stream",
     "text": [
      "Results written in: 03_tests/authors_themselves/bdi_res/Marmontel_Contes T3.csv\n",
      "\n",
      "\n",
      "#######################\n",
      "Marmontel: elements T1\n",
      "\n",
      "          work  author_label     author  chunk_num                       tag\n",
      "1  elements T1            10  Marmontel          1  1__Marmontel_elements T1\n"
     ]
    },
    {
     "name": "stderr",
     "output_type": "stream",
     "text": [
      "03/18/2025 01:29:59 [ruzicka:INFO] Fitting on 2612 documents...\n",
      "03/18/2025 01:29:59 [ruzicka:INFO] Predicting on 85 documents\n"
     ]
    },
    {
     "name": "stdout",
     "output_type": "stream",
     "text": [
      "Results written in: 03_tests/authors_themselves/bdi_res/Marmontel_elements T1.csv\n",
      "\n",
      "\n",
      "#######################\n",
      "Marmontel: elements T2\n",
      "\n",
      "          work  author_label     author  chunk_num                       tag\n",
      "1  elements T2            10  Marmontel          1  1__Marmontel_elements T2\n"
     ]
    },
    {
     "name": "stderr",
     "output_type": "stream",
     "text": [
      "03/18/2025 01:30:32 [ruzicka:INFO] Fitting on 2599 documents...\n",
      "03/18/2025 01:30:32 [ruzicka:INFO] Predicting on 98 documents\n"
     ]
    },
    {
     "name": "stdout",
     "output_type": "stream",
     "text": [
      "Results written in: 03_tests/authors_themselves/bdi_res/Marmontel_elements T2.csv\n",
      "\n",
      "\n",
      "#######################\n",
      "Marmontel: elements T3\n",
      "\n",
      "          work  author_label     author  chunk_num                       tag\n",
      "1  elements T3            10  Marmontel          1  1__Marmontel_elements T3\n"
     ]
    },
    {
     "name": "stderr",
     "output_type": "stream",
     "text": [
      "03/18/2025 01:31:08 [ruzicka:INFO] Fitting on 2660 documents...\n",
      "03/18/2025 01:31:08 [ruzicka:INFO] Predicting on 37 documents\n"
     ]
    },
    {
     "name": "stdout",
     "output_type": "stream",
     "text": [
      "Results written in: 03_tests/authors_themselves/bdi_res/Marmontel_elements T3.csv\n",
      "\n",
      "\n",
      "#######################\n",
      "Marmontel: Les Incas\n",
      "\n",
      "        work  author_label     author  chunk_num                     tag\n",
      "1  Les Incas            10  Marmontel          1  1__Marmontel_Les Incas\n"
     ]
    },
    {
     "name": "stderr",
     "output_type": "stream",
     "text": [
      "03/18/2025 01:31:24 [ruzicka:INFO] Fitting on 2693 documents...\n",
      "03/18/2025 01:31:24 [ruzicka:INFO] Predicting on 4 documents\n"
     ]
    },
    {
     "name": "stdout",
     "output_type": "stream",
     "text": [
      "Results written in: 03_tests/authors_themselves/bdi_res/Marmontel_Les Incas.csv\n",
      "\n",
      "\n",
      "#######################\n",
      "Meister: De l-origine\n",
      "\n",
      "           work  author_label   author  chunk_num                      tag\n",
      "1  De l-origine            11  Meister          1  1__Meister_De l-origine\n"
     ]
    },
    {
     "name": "stderr",
     "output_type": "stream",
     "text": [
      "03/18/2025 01:31:24 [ruzicka:INFO] Fitting on 2688 documents...\n",
      "03/18/2025 01:31:24 [ruzicka:INFO] Predicting on 9 documents\n"
     ]
    },
    {
     "name": "stdout",
     "output_type": "stream",
     "text": [
      "Results written in: 03_tests/authors_themselves/bdi_res/Meister_De l-origine.csv\n",
      "\n",
      "\n",
      "#######################\n",
      "Meister: De la morale\n",
      "\n",
      "           work  author_label   author  chunk_num                      tag\n",
      "1  De la morale            11  Meister          1  1__Meister_De la morale\n"
     ]
    },
    {
     "name": "stderr",
     "output_type": "stream",
     "text": [
      "03/18/2025 01:31:25 [ruzicka:INFO] Fitting on 2695 documents...\n",
      "03/18/2025 01:31:25 [ruzicka:INFO] Predicting on 2 documents\n"
     ]
    },
    {
     "name": "stdout",
     "output_type": "stream",
     "text": [
      "Results written in: 03_tests/authors_themselves/bdi_res/Meister_De la morale.csv\n",
      "\n",
      "\n",
      "#######################\n",
      "Morellet: FragmenTtxt\n",
      "\n",
      "          work  author_label    author  chunk_num                      tag\n",
      "1  FragmenTtxt            12  Morellet          1  1__Morellet_FragmenTtxt\n"
     ]
    },
    {
     "name": "stderr",
     "output_type": "stream",
     "text": [
      "03/18/2025 01:31:25 [ruzicka:INFO] Fitting on 2693 documents...\n",
      "03/18/2025 01:31:25 [ruzicka:INFO] Predicting on 4 documents\n"
     ]
    },
    {
     "name": "stdout",
     "output_type": "stream",
     "text": [
      "Results written in: 03_tests/authors_themselves/bdi_res/Morellet_FragmenTtxt.csv\n",
      "\n",
      "\n",
      "#######################\n",
      "Morellet: Le cri\n",
      "\n",
      "     work  author_label    author  chunk_num                 tag\n",
      "1  Le cri            12  Morellet          1  1__Morellet_Le cri\n"
     ]
    },
    {
     "name": "stderr",
     "output_type": "stream",
     "text": [
      "03/18/2025 01:31:26 [ruzicka:INFO] Fitting on 2694 documents...\n",
      "03/18/2025 01:31:26 [ruzicka:INFO] Predicting on 3 documents\n"
     ]
    },
    {
     "name": "stdout",
     "output_type": "stream",
     "text": [
      "Results written in: 03_tests/authors_themselves/bdi_res/Morellet_Le cri.csv\n",
      "\n",
      "\n",
      "#######################\n",
      "Morellet: Nouvelles\n",
      "\n",
      "        work  author_label    author  chunk_num                    tag\n",
      "1  Nouvelles            12  Morellet          1  1__Morellet_Nouvelles\n"
     ]
    },
    {
     "name": "stderr",
     "output_type": "stream",
     "text": [
      "03/18/2025 01:31:26 [ruzicka:INFO] Fitting on 2692 documents...\n",
      "03/18/2025 01:31:26 [ruzicka:INFO] Predicting on 5 documents\n"
     ]
    },
    {
     "name": "stdout",
     "output_type": "stream",
     "text": [
      "Results written in: 03_tests/authors_themselves/bdi_res/Morellet_Nouvelles.csv\n",
      "\n",
      "\n",
      "#######################\n",
      "Morellet: Observations\n",
      "\n",
      "           work  author_label    author  chunk_num                       tag\n",
      "1  Observations            12  Morellet          1  1__Morellet_Observations\n"
     ]
    },
    {
     "name": "stderr",
     "output_type": "stream",
     "text": [
      "03/18/2025 01:31:27 [ruzicka:INFO] Fitting on 2693 documents...\n",
      "03/18/2025 01:31:27 [ruzicka:INFO] Predicting on 4 documents\n"
     ]
    },
    {
     "name": "stdout",
     "output_type": "stream",
     "text": [
      "Results written in: 03_tests/authors_themselves/bdi_res/Morellet_Observations.csv\n",
      "\n",
      "\n",
      "#######################\n",
      "Morellet: Quelques\n",
      "\n",
      "       work  author_label    author  chunk_num                   tag\n",
      "1  Quelques            12  Morellet          1  1__Morellet_Quelques\n"
     ]
    },
    {
     "name": "stderr",
     "output_type": "stream",
     "text": [
      "03/18/2025 01:31:27 [ruzicka:INFO] Fitting on 2683 documents...\n",
      "03/18/2025 01:31:27 [ruzicka:INFO] Predicting on 14 documents\n"
     ]
    },
    {
     "name": "stdout",
     "output_type": "stream",
     "text": [
      "Results written in: 03_tests/authors_themselves/bdi_res/Morellet_Quelques.csv\n",
      "\n",
      "\n",
      "#######################\n",
      "Morellet: Reflexions\n",
      "\n",
      "         work  author_label    author  chunk_num                     tag\n",
      "1  Reflexions            12  Morellet          1  1__Morellet_Reflexions\n"
     ]
    },
    {
     "name": "stderr",
     "output_type": "stream",
     "text": [
      "03/18/2025 01:31:29 [ruzicka:INFO] Fitting on 2684 documents...\n",
      "03/18/2025 01:31:29 [ruzicka:INFO] Predicting on 13 documents\n"
     ]
    },
    {
     "name": "stdout",
     "output_type": "stream",
     "text": [
      "Results written in: 03_tests/authors_themselves/bdi_res/Morellet_Reflexions.csv\n",
      "\n",
      "\n",
      "#######################\n",
      "Morellet: SupplemenTtxt\n",
      "\n",
      "            work  author_label    author  chunk_num                        tag\n",
      "1  SupplemenTtxt            12  Morellet          1  1__Morellet_SupplemenTtxt\n"
     ]
    },
    {
     "name": "stderr",
     "output_type": "stream",
     "text": [
      "03/18/2025 01:31:30 [ruzicka:INFO] Fitting on 2684 documents...\n",
      "03/18/2025 01:31:30 [ruzicka:INFO] Predicting on 13 documents\n"
     ]
    },
    {
     "name": "stdout",
     "output_type": "stream",
     "text": [
      "Results written in: 03_tests/authors_themselves/bdi_res/Morellet_SupplemenTtxt.csv\n",
      "\n",
      "\n",
      "#######################\n",
      "Morellet: Theorie\n",
      "\n",
      "      work  author_label    author  chunk_num                  tag\n",
      "1  Theorie            12  Morellet          1  1__Morellet_Theorie\n"
     ]
    },
    {
     "name": "stderr",
     "output_type": "stream",
     "text": [
      "03/18/2025 01:31:32 [ruzicka:INFO] Fitting on 2678 documents...\n",
      "03/18/2025 01:31:32 [ruzicka:INFO] Predicting on 19 documents\n"
     ]
    },
    {
     "name": "stdout",
     "output_type": "stream",
     "text": [
      "Results written in: 03_tests/authors_themselves/bdi_res/Morellet_Theorie.csv\n",
      "\n",
      "\n",
      "#######################\n",
      "Naigeon: Le militaire\n",
      "\n",
      "           work  author_label   author  chunk_num                      tag\n",
      "1  Le militaire            13  Naigeon          1  1__Naigeon_Le militaire\n"
     ]
    },
    {
     "name": "stderr",
     "output_type": "stream",
     "text": [
      "03/18/2025 01:31:34 [ruzicka:INFO] Fitting on 2691 documents...\n",
      "03/18/2025 01:31:34 [ruzicka:INFO] Predicting on 6 documents\n"
     ]
    },
    {
     "name": "stdout",
     "output_type": "stream",
     "text": [
      "Results written in: 03_tests/authors_themselves/bdi_res/Naigeon_Le militaire.csv\n",
      "\n",
      "\n",
      "#######################\n",
      "Naigeon: Liberte\n",
      "\n",
      "      work  author_label   author  chunk_num                 tag\n",
      "1  Liberte            13  Naigeon          1  1__Naigeon_Liberte\n"
     ]
    },
    {
     "name": "stderr",
     "output_type": "stream",
     "text": [
      "03/18/2025 01:31:35 [ruzicka:INFO] Fitting on 2643 documents...\n",
      "03/18/2025 01:31:35 [ruzicka:INFO] Predicting on 54 documents\n"
     ]
    },
    {
     "name": "stdout",
     "output_type": "stream",
     "text": [
      "Results written in: 03_tests/authors_themselves/bdi_res/Naigeon_Liberte.csv\n",
      "\n",
      "\n",
      "#######################\n",
      "Naigeon: Manuel d-epictete\n",
      "\n",
      "                work  author_label   author  chunk_num  \\\n",
      "1  Manuel d-epictete            13  Naigeon          1   \n",
      "\n",
      "                            tag  \n",
      "1  1__Naigeon_Manuel d-epictete  \n"
     ]
    },
    {
     "name": "stderr",
     "output_type": "stream",
     "text": [
      "03/18/2025 01:31:41 [ruzicka:INFO] Fitting on 2691 documents...\n",
      "03/18/2025 01:31:41 [ruzicka:INFO] Predicting on 6 documents\n"
     ]
    },
    {
     "name": "stdout",
     "output_type": "stream",
     "text": [
      "Results written in: 03_tests/authors_themselves/bdi_res/Naigeon_Manuel d-epictete.csv\n",
      "\n",
      "\n",
      "#######################\n",
      "Naigeon: Richesse\n",
      "\n",
      "       work  author_label   author  chunk_num                  tag\n",
      "1  Richesse            13  Naigeon          1  1__Naigeon_Richesse\n"
     ]
    },
    {
     "name": "stderr",
     "output_type": "stream",
     "text": [
      "03/18/2025 01:31:41 [ruzicka:INFO] Fitting on 2689 documents...\n",
      "03/18/2025 01:31:41 [ruzicka:INFO] Predicting on 8 documents\n"
     ]
    },
    {
     "name": "stdout",
     "output_type": "stream",
     "text": [
      "Results written in: 03_tests/authors_themselves/bdi_res/Naigeon_Richesse.csv\n",
      "\n",
      "\n",
      "#######################\n",
      "Naigeon: Unitaires\n",
      "\n",
      "        work  author_label   author  chunk_num                   tag\n",
      "1  Unitaires            13  Naigeon          1  1__Naigeon_Unitaires\n"
     ]
    },
    {
     "name": "stderr",
     "output_type": "stream",
     "text": [
      "03/18/2025 01:31:43 [ruzicka:INFO] Fitting on 2679 documents...\n",
      "03/18/2025 01:31:43 [ruzicka:INFO] Predicting on 18 documents\n"
     ]
    },
    {
     "name": "stdout",
     "output_type": "stream",
     "text": [
      "Results written in: 03_tests/authors_themselves/bdi_res/Naigeon_Unitaires.csv\n",
      "\n",
      "\n",
      "#######################\n",
      "Pechmeja: eloge\n",
      "\n",
      "    work  author_label    author  chunk_num                tag\n",
      "1  eloge            14  Pechmeja          0  0__Pechmeja_eloge\n"
     ]
    },
    {
     "name": "stderr",
     "output_type": "stream",
     "text": [
      "03/18/2025 01:31:44 [ruzicka:INFO] Fitting on 2669 documents...\n",
      "03/18/2025 01:31:44 [ruzicka:INFO] Predicting on 28 documents\n"
     ]
    },
    {
     "name": "stdout",
     "output_type": "stream",
     "text": [
      "Results written in: 03_tests/authors_themselves/bdi_res/Pechmeja_eloge.csv\n",
      "\n",
      "\n",
      "#######################\n",
      "Pechmeja: Telephe\n",
      "\n",
      "      work  author_label    author  chunk_num                  tag\n",
      "1  Telephe            14  Pechmeja          1  1__Pechmeja_Telephe\n"
     ]
    },
    {
     "name": "stderr",
     "output_type": "stream",
     "text": [
      "03/18/2025 01:31:47 [ruzicka:INFO] Fitting on 2674 documents...\n",
      "03/18/2025 01:31:47 [ruzicka:INFO] Predicting on 23 documents\n"
     ]
    },
    {
     "name": "stdout",
     "output_type": "stream",
     "text": [
      "Results written in: 03_tests/authors_themselves/bdi_res/Pechmeja_Telephe.csv\n",
      "\n",
      "\n",
      "#######################\n",
      "Raynal: Anecdotes historiques 1\n",
      "\n",
      "                      work  author_label  author  chunk_num  \\\n",
      "1  Anecdotes historiques 1            15  Raynal          1   \n",
      "\n",
      "                                 tag  \n",
      "1  1__Raynal_Anecdotes historiques 1  \n"
     ]
    },
    {
     "name": "stderr",
     "output_type": "stream",
     "text": [
      "03/18/2025 01:31:52 [ruzicka:INFO] Fitting on 2668 documents...\n",
      "03/18/2025 01:31:52 [ruzicka:INFO] Predicting on 29 documents\n"
     ]
    },
    {
     "name": "stdout",
     "output_type": "stream",
     "text": [
      "Results written in: 03_tests/authors_themselves/bdi_res/Raynal_Anecdotes historiques 1.csv\n",
      "\n",
      "\n",
      "#######################\n",
      "Raynal: Anecdotes historiques 2\n",
      "\n",
      "                      work  author_label  author  chunk_num  \\\n",
      "1  Anecdotes historiques 2            15  Raynal          1   \n",
      "\n",
      "                                 tag  \n",
      "1  1__Raynal_Anecdotes historiques 2  \n"
     ]
    },
    {
     "name": "stderr",
     "output_type": "stream",
     "text": [
      "03/18/2025 01:31:58 [ruzicka:INFO] Fitting on 2675 documents...\n",
      "03/18/2025 01:31:58 [ruzicka:INFO] Predicting on 22 documents\n"
     ]
    },
    {
     "name": "stdout",
     "output_type": "stream",
     "text": [
      "Results written in: 03_tests/authors_themselves/bdi_res/Raynal_Anecdotes historiques 2.csv\n",
      "\n",
      "\n",
      "#######################\n",
      "Raynal: Anecdotes litteraires2 1756\n",
      "\n",
      "                          work  author_label  author  chunk_num  \\\n",
      "1  Anecdotes litteraires2 1756            15  Raynal          1   \n",
      "\n",
      "                                     tag  \n",
      "1  1__Raynal_Anecdotes litteraires2 1756  \n"
     ]
    },
    {
     "name": "stderr",
     "output_type": "stream",
     "text": [
      "03/18/2025 01:32:03 [ruzicka:INFO] Fitting on 2670 documents...\n",
      "03/18/2025 01:32:03 [ruzicka:INFO] Predicting on 27 documents\n"
     ]
    },
    {
     "name": "stdout",
     "output_type": "stream",
     "text": [
      "Results written in: 03_tests/authors_themselves/bdi_res/Raynal_Anecdotes litteraires2 1756.csv\n",
      "\n",
      "\n",
      "#######################\n",
      "Raynal: ecole 2\n",
      "\n",
      "      work  author_label  author  chunk_num                tag\n",
      "1  ecole 2            15  Raynal          1  1__Raynal_ecole 2\n"
     ]
    },
    {
     "name": "stderr",
     "output_type": "stream",
     "text": [
      "03/18/2025 01:32:09 [ruzicka:INFO] Fitting on 2669 documents...\n",
      "03/18/2025 01:32:09 [ruzicka:INFO] Predicting on 28 documents\n"
     ]
    },
    {
     "name": "stdout",
     "output_type": "stream",
     "text": [
      "Results written in: 03_tests/authors_themselves/bdi_res/Raynal_ecole 2.csv\n",
      "\n",
      "\n",
      "#######################\n",
      "Raynal: ecole 3\n",
      "\n",
      "      work  author_label  author  chunk_num                tag\n",
      "1  ecole 3            15  Raynal          1  1__Raynal_ecole 3\n"
     ]
    },
    {
     "name": "stderr",
     "output_type": "stream",
     "text": [
      "03/18/2025 01:32:15 [ruzicka:INFO] Fitting on 2670 documents...\n",
      "03/18/2025 01:32:15 [ruzicka:INFO] Predicting on 27 documents\n"
     ]
    },
    {
     "name": "stdout",
     "output_type": "stream",
     "text": [
      "Results written in: 03_tests/authors_themselves/bdi_res/Raynal_ecole 3.csv\n",
      "\n",
      "\n",
      "#######################\n",
      "Raynal: Histoire du Parlement 1748\n",
      "\n",
      "                         work  author_label  author  chunk_num  \\\n",
      "1  Histoire du Parlement 1748            15  Raynal          1   \n",
      "\n",
      "                                    tag  \n",
      "1  1__Raynal_Histoire du Parlement 1748  \n"
     ]
    },
    {
     "name": "stderr",
     "output_type": "stream",
     "text": [
      "03/18/2025 01:32:20 [ruzicka:INFO] Fitting on 2677 documents...\n",
      "03/18/2025 01:32:20 [ruzicka:INFO] Predicting on 20 documents\n"
     ]
    },
    {
     "name": "stdout",
     "output_type": "stream",
     "text": [
      "Results written in: 03_tests/authors_themselves/bdi_res/Raynal_Histoire du Parlement 1748.csv\n",
      "\n",
      "\n",
      "#######################\n",
      "Raynal: Histoire du Parlement Band 1\n",
      "\n",
      "                           work  author_label  author  chunk_num  \\\n",
      "1  Histoire du Parlement Band 1            15  Raynal          1   \n",
      "\n",
      "                                      tag  \n",
      "1  1__Raynal_Histoire du Parlement Band 1  \n"
     ]
    },
    {
     "name": "stderr",
     "output_type": "stream",
     "text": [
      "03/18/2025 01:32:25 [ruzicka:INFO] Fitting on 2680 documents...\n",
      "03/18/2025 01:32:25 [ruzicka:INFO] Predicting on 17 documents\n"
     ]
    },
    {
     "name": "stdout",
     "output_type": "stream",
     "text": [
      "Results written in: 03_tests/authors_themselves/bdi_res/Raynal_Histoire du Parlement Band 1.csv\n",
      "\n",
      "\n",
      "#######################\n",
      "Raynal: Histoire du Parlement Band 2\n",
      "\n",
      "                           work  author_label  author  chunk_num  \\\n",
      "1  Histoire du Parlement Band 2            15  Raynal          1   \n",
      "\n",
      "                                      tag  \n",
      "1  1__Raynal_Histoire du Parlement Band 2  \n"
     ]
    },
    {
     "name": "stderr",
     "output_type": "stream",
     "text": [
      "03/18/2025 01:32:29 [ruzicka:INFO] Fitting on 2687 documents...\n",
      "03/18/2025 01:32:29 [ruzicka:INFO] Predicting on 10 documents\n"
     ]
    },
    {
     "name": "stdout",
     "output_type": "stream",
     "text": [
      "Results written in: 03_tests/authors_themselves/bdi_res/Raynal_Histoire du Parlement Band 2.csv\n",
      "\n",
      "\n",
      "#######################\n",
      "Rivière: De l-instruction publique  1775\n",
      "\n",
      "                              work  author_label    author  chunk_num  \\\n",
      "1  De l-instruction publique  1775            16  Rivière          1   \n",
      "\n",
      "                                           tag  \n",
      "1  1__Rivière_De l-instruction publique  1775  \n"
     ]
    },
    {
     "name": "stderr",
     "output_type": "stream",
     "text": [
      "03/18/2025 01:32:31 [ruzicka:INFO] Fitting on 2657 documents...\n",
      "03/18/2025 01:32:31 [ruzicka:INFO] Predicting on 40 documents\n"
     ]
    },
    {
     "name": "stdout",
     "output_type": "stream",
     "text": [
      "Results written in: 03_tests/authors_themselves/bdi_res/Rivière_De l-instruction publique  1775.csv\n",
      "\n",
      "\n",
      "#######################\n",
      "Rivière: L-Interet\n",
      "\n",
      "        work  author_label    author  chunk_num                    tag\n",
      "1  L-Interet            16  Rivière          1  1__Rivière_L-Interet\n"
     ]
    },
    {
     "name": "stderr",
     "output_type": "stream",
     "text": [
      "03/18/2025 01:32:36 [ruzicka:INFO] Fitting on 2618 documents...\n",
      "03/18/2025 01:32:36 [ruzicka:INFO] Predicting on 79 documents\n"
     ]
    },
    {
     "name": "stdout",
     "output_type": "stream",
     "text": [
      "Results written in: 03_tests/authors_themselves/bdi_res/Rivière_L-Interet.csv\n",
      "\n",
      "\n",
      "#######################\n",
      "Rivière: L-ordre naturel\n",
      "\n",
      "              work  author_label    author  chunk_num  \\\n",
      "1  L-ordre naturel            16  Rivière          1   \n",
      "\n",
      "                           tag  \n",
      "1  1__Rivière_L-ordre naturel  \n"
     ]
    },
    {
     "name": "stderr",
     "output_type": "stream",
     "text": [
      "03/18/2025 01:32:45 [ruzicka:INFO] Fitting on 2692 documents...\n",
      "03/18/2025 01:32:45 [ruzicka:INFO] Predicting on 5 documents\n"
     ]
    },
    {
     "name": "stdout",
     "output_type": "stream",
     "text": [
      "Results written in: 03_tests/authors_themselves/bdi_res/Rivière_L-ordre naturel.csv\n",
      "\n",
      "\n",
      "#######################\n",
      "Saint-Lambert: Les deux Amis\n",
      "\n",
      "            work  author_label         author  chunk_num  \\\n",
      "1  Les deux Amis            17  Saint-Lambert          1   \n",
      "\n",
      "                              tag  \n",
      "1  1__Saint-Lambert_Les deux Amis  \n"
     ]
    },
    {
     "name": "stderr",
     "output_type": "stream",
     "text": [
      "03/18/2025 01:32:46 [ruzicka:INFO] Fitting on 2662 documents...\n",
      "03/18/2025 01:32:46 [ruzicka:INFO] Predicting on 35 documents\n"
     ]
    },
    {
     "name": "stdout",
     "output_type": "stream",
     "text": [
      "Results written in: 03_tests/authors_themselves/bdi_res/Saint-Lambert_Les deux Amis.csv\n",
      "\n",
      "\n",
      "#######################\n",
      "Saint-Lambert: Oeuvres Phil T1\n",
      "\n",
      "              work  author_label         author  chunk_num  \\\n",
      "1  Oeuvres Phil T1            17  Saint-Lambert          1   \n",
      "\n",
      "                                tag  \n",
      "1  1__Saint-Lambert_Oeuvres Phil T1  \n"
     ]
    },
    {
     "name": "stderr",
     "output_type": "stream",
     "text": [
      "03/18/2025 01:32:54 [ruzicka:INFO] Fitting on 2658 documents...\n",
      "03/18/2025 01:32:54 [ruzicka:INFO] Predicting on 39 documents\n"
     ]
    },
    {
     "name": "stdout",
     "output_type": "stream",
     "text": [
      "Results written in: 03_tests/authors_themselves/bdi_res/Saint-Lambert_Oeuvres Phil T1.csv\n",
      "\n",
      "\n",
      "#######################\n",
      "Saint-Lambert: Oeuvres Phil T2\n",
      "\n",
      "              work  author_label         author  chunk_num  \\\n",
      "1  Oeuvres Phil T2            17  Saint-Lambert          1   \n",
      "\n",
      "                                tag  \n",
      "1  1__Saint-Lambert_Oeuvres Phil T2  \n"
     ]
    },
    {
     "name": "stderr",
     "output_type": "stream",
     "text": [
      "03/18/2025 01:33:02 [ruzicka:INFO] Fitting on 2653 documents...\n",
      "03/18/2025 01:33:02 [ruzicka:INFO] Predicting on 44 documents\n"
     ]
    },
    {
     "name": "stdout",
     "output_type": "stream",
     "text": [
      "Results written in: 03_tests/authors_themselves/bdi_res/Saint-Lambert_Oeuvres Phil T2.csv\n",
      "\n",
      "\n",
      "#######################\n",
      "Saint-Lambert: Oeuvres Phil T3\n",
      "\n",
      "              work  author_label         author  chunk_num  \\\n",
      "1  Oeuvres Phil T3            17  Saint-Lambert          1   \n",
      "\n",
      "                                tag  \n",
      "1  1__Saint-Lambert_Oeuvres Phil T3  \n"
     ]
    },
    {
     "name": "stderr",
     "output_type": "stream",
     "text": [
      "03/18/2025 01:33:10 [ruzicka:INFO] Fitting on 2652 documents...\n",
      "03/18/2025 01:33:10 [ruzicka:INFO] Predicting on 45 documents\n"
     ]
    },
    {
     "name": "stdout",
     "output_type": "stream",
     "text": [
      "Results written in: 03_tests/authors_themselves/bdi_res/Saint-Lambert_Oeuvres Phil T3.csv\n",
      "\n",
      "\n",
      "#######################\n",
      "Saint-Lambert: Oeuvres Phil T4\n",
      "\n",
      "              work  author_label         author  chunk_num  \\\n",
      "1  Oeuvres Phil T4            17  Saint-Lambert          1   \n",
      "\n",
      "                                tag  \n",
      "1  1__Saint-Lambert_Oeuvres Phil T4  \n"
     ]
    },
    {
     "name": "stderr",
     "output_type": "stream",
     "text": [
      "03/18/2025 01:33:19 [ruzicka:INFO] Fitting on 2675 documents...\n",
      "03/18/2025 01:33:19 [ruzicka:INFO] Predicting on 22 documents\n"
     ]
    },
    {
     "name": "stdout",
     "output_type": "stream",
     "text": [
      "Results written in: 03_tests/authors_themselves/bdi_res/Saint-Lambert_Oeuvres Phil T4.csv\n",
      "\n",
      "\n",
      "#######################\n",
      "Saint-Lambert: Oeuvres Phil T5\n",
      "\n",
      "              work  author_label         author  chunk_num  \\\n",
      "1  Oeuvres Phil T5            17  Saint-Lambert          1   \n",
      "\n",
      "                                tag  \n",
      "1  1__Saint-Lambert_Oeuvres Phil T5  \n",
      "Results written in: 03_tests/authors_themselves/bdi_res/Saint-Lambert_Oeuvres Phil T5.csv\n"
     ]
    }
   ],
   "source": [
    "# Loop that takes a work from each author\n",
    "# and looks whether its (known) author is a good much according to BDI;\n",
    "# nb: not getting results for a work vs all authors\n",
    "# (writing results in a .csv, visualisation done later with R)\n",
    "\n",
    "# select an author, look for his unique works\n",
    "for a in label_uniques.values:\n",
    "    #print(author)\n",
    "    \n",
    "    # take a subset with only works by an author, find unique works\n",
    "    unique_works = raw_df[raw_df.author == a]['work'].unique()\n",
    "    # unique_works is a numpy array of works of each author\n",
    "    \n",
    "    for w in unique_works:\n",
    "        print(f\"\\n\\n#######################\\n{a}: {w}\\n\")\n",
    "        \n",
    "        # select each work as a problem set (problems-metadata, problems_X-word freqs)\n",
    "        problems = raw_df[raw_df.work == w].reset_index(drop=True).copy()\n",
    "        problems_X = X[raw_df.work == w].reset_index(drop=True).copy()\n",
    "        print(problems.iloc[1:2,:])\n",
    "        \n",
    "        # extract the rest of the corpus\n",
    "        rest = raw_df[raw_df.work != w].reset_index(drop=True).copy()\n",
    "        rest_X = X[raw_df.work != w].reset_index(drop=True).copy()\n",
    "        #print(f\"\\nRest of the corpus:\\n{rest.iloc[1:6,:]}\")\n",
    "        \n",
    "        # scaling\n",
    "        ss = StandardScaler(with_mean=False).fit(rest_X)\n",
    "        rest_scaled_X = ss.transform(rest_X)\n",
    "        problems_scaled_X = ss.transform(problems_X)\n",
    "        \n",
    "        #print(problems_scaled_X)\n",
    "        \n",
    "        # fit \n",
    "        bdi_mm.fit(rest_scaled_X, rest.author_label)\n",
    "        \n",
    "        # prediction\n",
    "        bdi_mm.predict_proba(\n",
    "            problems_scaled_X, \n",
    "            # get_loc - select the author of the work (? is that right??)\n",
    "            [label_uniques.get_loc(a)] * problems_scaled_X.shape[0]\n",
    "        )\n",
    "        \n",
    "        # output results\n",
    "        res = pd.DataFrame(dict(zip(problems.tag, bdi_mm._dist_arrays)))\n",
    "        \n",
    "        # writing\n",
    "        fh = '03_tests/authors_themselves/bdi_res/'+a+'_'+w+'.csv'\n",
    "        res.to_csv(fh)\n",
    "        print('Results written in:',fh)\n",
    "        \n",
    "        rest_scaled_X = None\n",
    "        res = None"
   ]
  },
  {
   "cell_type": "markdown",
   "id": "e10e7052",
   "metadata": {},
   "source": [
    "# FP1\n",
    "\n",
    "Test FP1 chunks with BDI"
   ]
  },
  {
   "cell_type": "code",
   "execution_count": 52,
   "id": "4cbc0b58",
   "metadata": {},
   "outputs": [
    {
     "data": {
      "text/html": [
       "<div>\n",
       "<style scoped>\n",
       "    .dataframe tbody tr th:only-of-type {\n",
       "        vertical-align: middle;\n",
       "    }\n",
       "\n",
       "    .dataframe tbody tr th {\n",
       "        vertical-align: top;\n",
       "    }\n",
       "\n",
       "    .dataframe thead th {\n",
       "        text-align: right;\n",
       "    }\n",
       "</style>\n",
       "<table border=\"1\" class=\"dataframe\">\n",
       "  <thead>\n",
       "    <tr style=\"text-align: right;\">\n",
       "      <th></th>\n",
       "      <th>work</th>\n",
       "      <th>author</th>\n",
       "      <th>chunk_num</th>\n",
       "      <th>tag</th>\n",
       "      <th>de</th>\n",
       "      <th>des</th>\n",
       "      <th>et</th>\n",
       "      <th>la</th>\n",
       "      <th>les</th>\n",
       "      <th>vous</th>\n",
       "      <th>...</th>\n",
       "      <th>voit</th>\n",
       "      <th>rendre</th>\n",
       "      <th>beaucoup</th>\n",
       "      <th>seul</th>\n",
       "      <th>ici</th>\n",
       "      <th>mieux</th>\n",
       "      <th>donner</th>\n",
       "      <th>enfin</th>\n",
       "      <th>voir</th>\n",
       "      <th>cependant</th>\n",
       "    </tr>\n",
       "  </thead>\n",
       "  <tbody>\n",
       "    <tr>\n",
       "      <th>0</th>\n",
       "      <td>Avis</td>\n",
       "      <td>Baudeau</td>\n",
       "      <td>0</td>\n",
       "      <td>0__Baudeau_Avis</td>\n",
       "      <td>3.45</td>\n",
       "      <td>2.20</td>\n",
       "      <td>2.50</td>\n",
       "      <td>1.40</td>\n",
       "      <td>2.35</td>\n",
       "      <td>0.65</td>\n",
       "      <td>...</td>\n",
       "      <td>0.05</td>\n",
       "      <td>0.00</td>\n",
       "      <td>0.05</td>\n",
       "      <td>0.05</td>\n",
       "      <td>0.05</td>\n",
       "      <td>0.00</td>\n",
       "      <td>0.05</td>\n",
       "      <td>0.20</td>\n",
       "      <td>0.00</td>\n",
       "      <td>0.00</td>\n",
       "    </tr>\n",
       "    <tr>\n",
       "      <th>1</th>\n",
       "      <td>Eclaircissemens</td>\n",
       "      <td>Baudeau</td>\n",
       "      <td>0</td>\n",
       "      <td>0__Baudeau_Eclaircissemens</td>\n",
       "      <td>4.40</td>\n",
       "      <td>2.85</td>\n",
       "      <td>2.80</td>\n",
       "      <td>2.60</td>\n",
       "      <td>2.40</td>\n",
       "      <td>1.65</td>\n",
       "      <td>...</td>\n",
       "      <td>0.05</td>\n",
       "      <td>0.00</td>\n",
       "      <td>0.00</td>\n",
       "      <td>0.05</td>\n",
       "      <td>0.00</td>\n",
       "      <td>0.00</td>\n",
       "      <td>0.05</td>\n",
       "      <td>0.00</td>\n",
       "      <td>0.00</td>\n",
       "      <td>0.00</td>\n",
       "    </tr>\n",
       "    <tr>\n",
       "      <th>2</th>\n",
       "      <td>Explication</td>\n",
       "      <td>Baudeau</td>\n",
       "      <td>0</td>\n",
       "      <td>0__Baudeau_Explication</td>\n",
       "      <td>4.90</td>\n",
       "      <td>2.60</td>\n",
       "      <td>3.80</td>\n",
       "      <td>3.10</td>\n",
       "      <td>4.65</td>\n",
       "      <td>0.95</td>\n",
       "      <td>...</td>\n",
       "      <td>0.00</td>\n",
       "      <td>0.00</td>\n",
       "      <td>0.05</td>\n",
       "      <td>0.10</td>\n",
       "      <td>0.10</td>\n",
       "      <td>0.00</td>\n",
       "      <td>0.05</td>\n",
       "      <td>0.05</td>\n",
       "      <td>0.05</td>\n",
       "      <td>0.00</td>\n",
       "    </tr>\n",
       "    <tr>\n",
       "      <th>3</th>\n",
       "      <td>Idees sur l-administration</td>\n",
       "      <td>Baudeau</td>\n",
       "      <td>0</td>\n",
       "      <td>0__Baudeau_Idees sur l-administration</td>\n",
       "      <td>5.60</td>\n",
       "      <td>1.90</td>\n",
       "      <td>2.20</td>\n",
       "      <td>3.65</td>\n",
       "      <td>1.85</td>\n",
       "      <td>0.10</td>\n",
       "      <td>...</td>\n",
       "      <td>0.00</td>\n",
       "      <td>0.00</td>\n",
       "      <td>0.10</td>\n",
       "      <td>0.10</td>\n",
       "      <td>0.00</td>\n",
       "      <td>0.05</td>\n",
       "      <td>0.05</td>\n",
       "      <td>0.10</td>\n",
       "      <td>0.00</td>\n",
       "      <td>0.05</td>\n",
       "    </tr>\n",
       "    <tr>\n",
       "      <th>4</th>\n",
       "      <td>Idees sur la puissance</td>\n",
       "      <td>Baudeau</td>\n",
       "      <td>0</td>\n",
       "      <td>0__Baudeau_Idees sur la puissance</td>\n",
       "      <td>4.90</td>\n",
       "      <td>1.85</td>\n",
       "      <td>2.50</td>\n",
       "      <td>2.35</td>\n",
       "      <td>2.75</td>\n",
       "      <td>0.10</td>\n",
       "      <td>...</td>\n",
       "      <td>0.00</td>\n",
       "      <td>0.10</td>\n",
       "      <td>0.05</td>\n",
       "      <td>0.00</td>\n",
       "      <td>0.00</td>\n",
       "      <td>0.10</td>\n",
       "      <td>0.00</td>\n",
       "      <td>0.10</td>\n",
       "      <td>0.05</td>\n",
       "      <td>0.00</td>\n",
       "    </tr>\n",
       "    <tr>\n",
       "      <th>...</th>\n",
       "      <td>...</td>\n",
       "      <td>...</td>\n",
       "      <td>...</td>\n",
       "      <td>...</td>\n",
       "      <td>...</td>\n",
       "      <td>...</td>\n",
       "      <td>...</td>\n",
       "      <td>...</td>\n",
       "      <td>...</td>\n",
       "      <td>...</td>\n",
       "      <td>...</td>\n",
       "      <td>...</td>\n",
       "      <td>...</td>\n",
       "      <td>...</td>\n",
       "      <td>...</td>\n",
       "      <td>...</td>\n",
       "      <td>...</td>\n",
       "      <td>...</td>\n",
       "      <td>...</td>\n",
       "      <td>...</td>\n",
       "      <td>...</td>\n",
       "    </tr>\n",
       "    <tr>\n",
       "      <th>4429</th>\n",
       "      <td>elements T3</td>\n",
       "      <td>Marmontel</td>\n",
       "      <td>96</td>\n",
       "      <td>96__Marmontel_elements T3</td>\n",
       "      <td>4.15</td>\n",
       "      <td>1.20</td>\n",
       "      <td>3.35</td>\n",
       "      <td>3.00</td>\n",
       "      <td>1.15</td>\n",
       "      <td>0.00</td>\n",
       "      <td>...</td>\n",
       "      <td>0.05</td>\n",
       "      <td>0.10</td>\n",
       "      <td>0.00</td>\n",
       "      <td>0.25</td>\n",
       "      <td>0.00</td>\n",
       "      <td>0.05</td>\n",
       "      <td>0.05</td>\n",
       "      <td>0.05</td>\n",
       "      <td>0.00</td>\n",
       "      <td>0.00</td>\n",
       "    </tr>\n",
       "    <tr>\n",
       "      <th>4430</th>\n",
       "      <td>Histoire Generale T19</td>\n",
       "      <td>Deleyre</td>\n",
       "      <td>97</td>\n",
       "      <td>97__Deleyre_Histoire Generale T19</td>\n",
       "      <td>5.25</td>\n",
       "      <td>1.85</td>\n",
       "      <td>0.75</td>\n",
       "      <td>3.75</td>\n",
       "      <td>2.65</td>\n",
       "      <td>0.00</td>\n",
       "      <td>...</td>\n",
       "      <td>0.00</td>\n",
       "      <td>0.05</td>\n",
       "      <td>0.05</td>\n",
       "      <td>0.00</td>\n",
       "      <td>0.00</td>\n",
       "      <td>0.00</td>\n",
       "      <td>0.00</td>\n",
       "      <td>0.00</td>\n",
       "      <td>0.00</td>\n",
       "      <td>0.00</td>\n",
       "    </tr>\n",
       "    <tr>\n",
       "      <th>4431</th>\n",
       "      <td>elements T3</td>\n",
       "      <td>Marmontel</td>\n",
       "      <td>97</td>\n",
       "      <td>97__Marmontel_elements T3</td>\n",
       "      <td>4.60</td>\n",
       "      <td>0.95</td>\n",
       "      <td>3.10</td>\n",
       "      <td>3.40</td>\n",
       "      <td>1.55</td>\n",
       "      <td>0.00</td>\n",
       "      <td>...</td>\n",
       "      <td>0.00</td>\n",
       "      <td>0.10</td>\n",
       "      <td>0.00</td>\n",
       "      <td>0.00</td>\n",
       "      <td>0.00</td>\n",
       "      <td>0.00</td>\n",
       "      <td>0.05</td>\n",
       "      <td>0.00</td>\n",
       "      <td>0.00</td>\n",
       "      <td>0.00</td>\n",
       "    </tr>\n",
       "    <tr>\n",
       "      <th>4432</th>\n",
       "      <td>Histoire Generale T19</td>\n",
       "      <td>Deleyre</td>\n",
       "      <td>98</td>\n",
       "      <td>98__Deleyre_Histoire Generale T19</td>\n",
       "      <td>4.90</td>\n",
       "      <td>2.95</td>\n",
       "      <td>0.75</td>\n",
       "      <td>3.25</td>\n",
       "      <td>3.20</td>\n",
       "      <td>0.05</td>\n",
       "      <td>...</td>\n",
       "      <td>0.05</td>\n",
       "      <td>0.00</td>\n",
       "      <td>0.20</td>\n",
       "      <td>0.00</td>\n",
       "      <td>0.00</td>\n",
       "      <td>0.05</td>\n",
       "      <td>0.00</td>\n",
       "      <td>0.00</td>\n",
       "      <td>0.05</td>\n",
       "      <td>0.05</td>\n",
       "    </tr>\n",
       "    <tr>\n",
       "      <th>4433</th>\n",
       "      <td>Histoire Generale T19</td>\n",
       "      <td>Deleyre</td>\n",
       "      <td>99</td>\n",
       "      <td>99__Deleyre_Histoire Generale T19</td>\n",
       "      <td>5.55</td>\n",
       "      <td>2.45</td>\n",
       "      <td>0.30</td>\n",
       "      <td>2.70</td>\n",
       "      <td>3.40</td>\n",
       "      <td>0.00</td>\n",
       "      <td>...</td>\n",
       "      <td>0.05</td>\n",
       "      <td>0.00</td>\n",
       "      <td>0.00</td>\n",
       "      <td>0.00</td>\n",
       "      <td>0.00</td>\n",
       "      <td>0.00</td>\n",
       "      <td>0.00</td>\n",
       "      <td>0.15</td>\n",
       "      <td>0.00</td>\n",
       "      <td>0.10</td>\n",
       "    </tr>\n",
       "  </tbody>\n",
       "</table>\n",
       "<p>4434 rows × 204 columns</p>\n",
       "</div>"
      ],
      "text/plain": [
       "                            work     author  chunk_num  \\\n",
       "0                          Avis     Baudeau          0   \n",
       "1                Eclaircissemens    Baudeau          0   \n",
       "2                    Explication    Baudeau          0   \n",
       "3     Idees sur l-administration    Baudeau          0   \n",
       "4         Idees sur la puissance    Baudeau          0   \n",
       "...                          ...        ...        ...   \n",
       "4429                 elements T3  Marmontel         96   \n",
       "4430       Histoire Generale T19    Deleyre         97   \n",
       "4431                 elements T3  Marmontel         97   \n",
       "4432       Histoire Generale T19    Deleyre         98   \n",
       "4433       Histoire Generale T19    Deleyre         99   \n",
       "\n",
       "                                        tag    de   des    et    la   les  \\\n",
       "0                          0__Baudeau_Avis   3.45  2.20  2.50  1.40  2.35   \n",
       "1                0__Baudeau_Eclaircissemens  4.40  2.85  2.80  2.60  2.40   \n",
       "2                    0__Baudeau_Explication  4.90  2.60  3.80  3.10  4.65   \n",
       "3     0__Baudeau_Idees sur l-administration  5.60  1.90  2.20  3.65  1.85   \n",
       "4         0__Baudeau_Idees sur la puissance  4.90  1.85  2.50  2.35  2.75   \n",
       "...                                     ...   ...   ...   ...   ...   ...   \n",
       "4429              96__Marmontel_elements T3  4.15  1.20  3.35  3.00  1.15   \n",
       "4430      97__Deleyre_Histoire Generale T19  5.25  1.85  0.75  3.75  2.65   \n",
       "4431              97__Marmontel_elements T3  4.60  0.95  3.10  3.40  1.55   \n",
       "4432      98__Deleyre_Histoire Generale T19  4.90  2.95  0.75  3.25  3.20   \n",
       "4433      99__Deleyre_Histoire Generale T19  5.55  2.45  0.30  2.70  3.40   \n",
       "\n",
       "      vous  ...  voit  rendre  beaucoup  seul   ici  mieux  donner  enfin  \\\n",
       "0     0.65  ...  0.05    0.00      0.05  0.05  0.05   0.00    0.05   0.20   \n",
       "1     1.65  ...  0.05    0.00      0.00  0.05  0.00   0.00    0.05   0.00   \n",
       "2     0.95  ...  0.00    0.00      0.05  0.10  0.10   0.00    0.05   0.05   \n",
       "3     0.10  ...  0.00    0.00      0.10  0.10  0.00   0.05    0.05   0.10   \n",
       "4     0.10  ...  0.00    0.10      0.05  0.00  0.00   0.10    0.00   0.10   \n",
       "...    ...  ...   ...     ...       ...   ...   ...    ...     ...    ...   \n",
       "4429  0.00  ...  0.05    0.10      0.00  0.25  0.00   0.05    0.05   0.05   \n",
       "4430  0.00  ...  0.00    0.05      0.05  0.00  0.00   0.00    0.00   0.00   \n",
       "4431  0.00  ...  0.00    0.10      0.00  0.00  0.00   0.00    0.05   0.00   \n",
       "4432  0.05  ...  0.05    0.00      0.20  0.00  0.00   0.05    0.00   0.00   \n",
       "4433  0.00  ...  0.05    0.00      0.00  0.00  0.00   0.00    0.00   0.15   \n",
       "\n",
       "      voir  cependant  \n",
       "0     0.00       0.00  \n",
       "1     0.00       0.00  \n",
       "2     0.05       0.00  \n",
       "3     0.00       0.05  \n",
       "4     0.05       0.00  \n",
       "...    ...        ...  \n",
       "4429  0.00       0.00  \n",
       "4430  0.00       0.00  \n",
       "4431  0.00       0.00  \n",
       "4432  0.05       0.05  \n",
       "4433  0.00       0.10  \n",
       "\n",
       "[4434 rows x 204 columns]"
      ]
     },
     "execution_count": 52,
     "metadata": {},
     "output_type": "execute_result"
    }
   ],
   "source": [
    "# load preprocessed data\n",
    "\n",
    "corpus = pd.read_csv('03_tests/fp1/2000_words/FP1_2000_200mfw_rfreq.csv') # rel freq\n",
    "\n",
    "corpus"
   ]
  },
  {
   "cell_type": "code",
   "execution_count": 53,
   "id": "25ef03fe",
   "metadata": {},
   "outputs": [
    {
     "data": {
      "text/html": [
       "<div>\n",
       "<style scoped>\n",
       "    .dataframe tbody tr th:only-of-type {\n",
       "        vertical-align: middle;\n",
       "    }\n",
       "\n",
       "    .dataframe tbody tr th {\n",
       "        vertical-align: top;\n",
       "    }\n",
       "\n",
       "    .dataframe thead th {\n",
       "        text-align: right;\n",
       "    }\n",
       "</style>\n",
       "<table border=\"1\" class=\"dataframe\">\n",
       "  <thead>\n",
       "    <tr style=\"text-align: right;\">\n",
       "      <th></th>\n",
       "      <th>work</th>\n",
       "      <th>author</th>\n",
       "      <th>chunk_num</th>\n",
       "      <th>tag</th>\n",
       "    </tr>\n",
       "  </thead>\n",
       "  <tbody>\n",
       "    <tr>\n",
       "      <th>0</th>\n",
       "      <td>Avis</td>\n",
       "      <td>Baudeau</td>\n",
       "      <td>0</td>\n",
       "      <td>0__Baudeau_Avis</td>\n",
       "    </tr>\n",
       "    <tr>\n",
       "      <th>1</th>\n",
       "      <td>Eclaircissemens</td>\n",
       "      <td>Baudeau</td>\n",
       "      <td>0</td>\n",
       "      <td>0__Baudeau_Eclaircissemens</td>\n",
       "    </tr>\n",
       "    <tr>\n",
       "      <th>2</th>\n",
       "      <td>Explication</td>\n",
       "      <td>Baudeau</td>\n",
       "      <td>0</td>\n",
       "      <td>0__Baudeau_Explication</td>\n",
       "    </tr>\n",
       "    <tr>\n",
       "      <th>3</th>\n",
       "      <td>Idees sur l-administration</td>\n",
       "      <td>Baudeau</td>\n",
       "      <td>0</td>\n",
       "      <td>0__Baudeau_Idees sur l-administration</td>\n",
       "    </tr>\n",
       "    <tr>\n",
       "      <th>4</th>\n",
       "      <td>Idees sur la puissance</td>\n",
       "      <td>Baudeau</td>\n",
       "      <td>0</td>\n",
       "      <td>0__Baudeau_Idees sur la puissance</td>\n",
       "    </tr>\n",
       "    <tr>\n",
       "      <th>...</th>\n",
       "      <td>...</td>\n",
       "      <td>...</td>\n",
       "      <td>...</td>\n",
       "      <td>...</td>\n",
       "    </tr>\n",
       "    <tr>\n",
       "      <th>4429</th>\n",
       "      <td>elements T3</td>\n",
       "      <td>Marmontel</td>\n",
       "      <td>96</td>\n",
       "      <td>96__Marmontel_elements T3</td>\n",
       "    </tr>\n",
       "    <tr>\n",
       "      <th>4430</th>\n",
       "      <td>Histoire Generale T19</td>\n",
       "      <td>Deleyre</td>\n",
       "      <td>97</td>\n",
       "      <td>97__Deleyre_Histoire Generale T19</td>\n",
       "    </tr>\n",
       "    <tr>\n",
       "      <th>4431</th>\n",
       "      <td>elements T3</td>\n",
       "      <td>Marmontel</td>\n",
       "      <td>97</td>\n",
       "      <td>97__Marmontel_elements T3</td>\n",
       "    </tr>\n",
       "    <tr>\n",
       "      <th>4432</th>\n",
       "      <td>Histoire Generale T19</td>\n",
       "      <td>Deleyre</td>\n",
       "      <td>98</td>\n",
       "      <td>98__Deleyre_Histoire Generale T19</td>\n",
       "    </tr>\n",
       "    <tr>\n",
       "      <th>4433</th>\n",
       "      <td>Histoire Generale T19</td>\n",
       "      <td>Deleyre</td>\n",
       "      <td>99</td>\n",
       "      <td>99__Deleyre_Histoire Generale T19</td>\n",
       "    </tr>\n",
       "  </tbody>\n",
       "</table>\n",
       "<p>4434 rows × 4 columns</p>\n",
       "</div>"
      ],
      "text/plain": [
       "                            work     author  chunk_num  \\\n",
       "0                          Avis     Baudeau          0   \n",
       "1                Eclaircissemens    Baudeau          0   \n",
       "2                    Explication    Baudeau          0   \n",
       "3     Idees sur l-administration    Baudeau          0   \n",
       "4         Idees sur la puissance    Baudeau          0   \n",
       "...                          ...        ...        ...   \n",
       "4429                 elements T3  Marmontel         96   \n",
       "4430       Histoire Generale T19    Deleyre         97   \n",
       "4431                 elements T3  Marmontel         97   \n",
       "4432       Histoire Generale T19    Deleyre         98   \n",
       "4433       Histoire Generale T19    Deleyre         99   \n",
       "\n",
       "                                        tag  \n",
       "0                          0__Baudeau_Avis   \n",
       "1                0__Baudeau_Eclaircissemens  \n",
       "2                    0__Baudeau_Explication  \n",
       "3     0__Baudeau_Idees sur l-administration  \n",
       "4         0__Baudeau_Idees sur la puissance  \n",
       "...                                     ...  \n",
       "4429              96__Marmontel_elements T3  \n",
       "4430      97__Deleyre_Histoire Generale T19  \n",
       "4431              97__Marmontel_elements T3  \n",
       "4432      98__Deleyre_Histoire Generale T19  \n",
       "4433      99__Deleyre_Histoire Generale T19  \n",
       "\n",
       "[4434 rows x 4 columns]"
      ]
     },
     "execution_count": 53,
     "metadata": {},
     "output_type": "execute_result"
    }
   ],
   "source": [
    "raw_df = corpus.iloc[:, :4] # leaves metadata\n",
    "X = corpus.iloc[:, 4:] # leaves only word columns\n",
    "\n",
    "raw_df"
   ]
  },
  {
   "cell_type": "code",
   "execution_count": 54,
   "id": "5f8551f4",
   "metadata": {},
   "outputs": [
    {
     "data": {
      "text/plain": [
       "(4434, 200)"
      ]
     },
     "execution_count": 54,
     "metadata": {},
     "output_type": "execute_result"
    }
   ],
   "source": [
    "# numer of rows and columns in the X (word frequencies subset)\n",
    "X.shape"
   ]
  },
  {
   "cell_type": "code",
   "execution_count": 55,
   "id": "b915de8c",
   "metadata": {},
   "outputs": [
    {
     "data": {
      "text/html": [
       "<div>\n",
       "<style scoped>\n",
       "    .dataframe tbody tr th:only-of-type {\n",
       "        vertical-align: middle;\n",
       "    }\n",
       "\n",
       "    .dataframe tbody tr th {\n",
       "        vertical-align: top;\n",
       "    }\n",
       "\n",
       "    .dataframe thead th {\n",
       "        text-align: right;\n",
       "    }\n",
       "</style>\n",
       "<table border=\"1\" class=\"dataframe\">\n",
       "  <thead>\n",
       "    <tr style=\"text-align: right;\">\n",
       "      <th></th>\n",
       "      <th>work</th>\n",
       "      <th>author_label</th>\n",
       "      <th>author</th>\n",
       "      <th>chunk_num</th>\n",
       "      <th>tag</th>\n",
       "    </tr>\n",
       "  </thead>\n",
       "  <tbody>\n",
       "    <tr>\n",
       "      <th>0</th>\n",
       "      <td>Avis</td>\n",
       "      <td>0</td>\n",
       "      <td>Baudeau</td>\n",
       "      <td>0</td>\n",
       "      <td>0__Baudeau_Avis</td>\n",
       "    </tr>\n",
       "    <tr>\n",
       "      <th>1</th>\n",
       "      <td>Eclaircissemens</td>\n",
       "      <td>0</td>\n",
       "      <td>Baudeau</td>\n",
       "      <td>0</td>\n",
       "      <td>0__Baudeau_Eclaircissemens</td>\n",
       "    </tr>\n",
       "    <tr>\n",
       "      <th>2</th>\n",
       "      <td>Explication</td>\n",
       "      <td>0</td>\n",
       "      <td>Baudeau</td>\n",
       "      <td>0</td>\n",
       "      <td>0__Baudeau_Explication</td>\n",
       "    </tr>\n",
       "    <tr>\n",
       "      <th>3</th>\n",
       "      <td>Idees sur l-administration</td>\n",
       "      <td>0</td>\n",
       "      <td>Baudeau</td>\n",
       "      <td>0</td>\n",
       "      <td>0__Baudeau_Idees sur l-administration</td>\n",
       "    </tr>\n",
       "    <tr>\n",
       "      <th>4</th>\n",
       "      <td>Idees sur la puissance</td>\n",
       "      <td>0</td>\n",
       "      <td>Baudeau</td>\n",
       "      <td>0</td>\n",
       "      <td>0__Baudeau_Idees sur la puissance</td>\n",
       "    </tr>\n",
       "    <tr>\n",
       "      <th>...</th>\n",
       "      <td>...</td>\n",
       "      <td>...</td>\n",
       "      <td>...</td>\n",
       "      <td>...</td>\n",
       "      <td>...</td>\n",
       "    </tr>\n",
       "    <tr>\n",
       "      <th>4429</th>\n",
       "      <td>elements T3</td>\n",
       "      <td>11</td>\n",
       "      <td>Marmontel</td>\n",
       "      <td>96</td>\n",
       "      <td>96__Marmontel_elements T3</td>\n",
       "    </tr>\n",
       "    <tr>\n",
       "      <th>4430</th>\n",
       "      <td>Histoire Generale T19</td>\n",
       "      <td>3</td>\n",
       "      <td>Deleyre</td>\n",
       "      <td>97</td>\n",
       "      <td>97__Deleyre_Histoire Generale T19</td>\n",
       "    </tr>\n",
       "    <tr>\n",
       "      <th>4431</th>\n",
       "      <td>elements T3</td>\n",
       "      <td>11</td>\n",
       "      <td>Marmontel</td>\n",
       "      <td>97</td>\n",
       "      <td>97__Marmontel_elements T3</td>\n",
       "    </tr>\n",
       "    <tr>\n",
       "      <th>4432</th>\n",
       "      <td>Histoire Generale T19</td>\n",
       "      <td>3</td>\n",
       "      <td>Deleyre</td>\n",
       "      <td>98</td>\n",
       "      <td>98__Deleyre_Histoire Generale T19</td>\n",
       "    </tr>\n",
       "    <tr>\n",
       "      <th>4433</th>\n",
       "      <td>Histoire Generale T19</td>\n",
       "      <td>3</td>\n",
       "      <td>Deleyre</td>\n",
       "      <td>99</td>\n",
       "      <td>99__Deleyre_Histoire Generale T19</td>\n",
       "    </tr>\n",
       "  </tbody>\n",
       "</table>\n",
       "<p>4434 rows × 5 columns</p>\n",
       "</div>"
      ],
      "text/plain": [
       "                            work  author_label     author  chunk_num  \\\n",
       "0                          Avis              0    Baudeau          0   \n",
       "1                Eclaircissemens             0    Baudeau          0   \n",
       "2                    Explication             0    Baudeau          0   \n",
       "3     Idees sur l-administration             0    Baudeau          0   \n",
       "4         Idees sur la puissance             0    Baudeau          0   \n",
       "...                          ...           ...        ...        ...   \n",
       "4429                 elements T3            11  Marmontel         96   \n",
       "4430       Histoire Generale T19             3    Deleyre         97   \n",
       "4431                 elements T3            11  Marmontel         97   \n",
       "4432       Histoire Generale T19             3    Deleyre         98   \n",
       "4433       Histoire Generale T19             3    Deleyre         99   \n",
       "\n",
       "                                        tag  \n",
       "0                          0__Baudeau_Avis   \n",
       "1                0__Baudeau_Eclaircissemens  \n",
       "2                    0__Baudeau_Explication  \n",
       "3     0__Baudeau_Idees sur l-administration  \n",
       "4         0__Baudeau_Idees sur la puissance  \n",
       "...                                     ...  \n",
       "4429              96__Marmontel_elements T3  \n",
       "4430      97__Deleyre_Histoire Generale T19  \n",
       "4431              97__Marmontel_elements T3  \n",
       "4432      98__Deleyre_Histoire Generale T19  \n",
       "4433      99__Deleyre_Histoire Generale T19  \n",
       "\n",
       "[4434 rows x 5 columns]"
      ]
     },
     "execution_count": 55,
     "metadata": {},
     "output_type": "execute_result"
    }
   ],
   "source": [
    "# create numeric author labels\n",
    "labels, label_uniques = raw_df.author.factorize()\n",
    "raw_df.insert(1, \"author_label\", labels)\n",
    "raw_df"
   ]
  },
  {
   "cell_type": "code",
   "execution_count": 56,
   "id": "da0cbb49",
   "metadata": {},
   "outputs": [
    {
     "data": {
      "text/html": [
       "<div>\n",
       "<style scoped>\n",
       "    .dataframe tbody tr th:only-of-type {\n",
       "        vertical-align: middle;\n",
       "    }\n",
       "\n",
       "    .dataframe tbody tr th {\n",
       "        vertical-align: top;\n",
       "    }\n",
       "\n",
       "    .dataframe thead th {\n",
       "        text-align: right;\n",
       "    }\n",
       "</style>\n",
       "<table border=\"1\" class=\"dataframe\">\n",
       "  <thead>\n",
       "    <tr style=\"text-align: right;\">\n",
       "      <th></th>\n",
       "      <th>work</th>\n",
       "      <th>author_label</th>\n",
       "      <th>author</th>\n",
       "      <th>chunk_num</th>\n",
       "      <th>tag</th>\n",
       "    </tr>\n",
       "  </thead>\n",
       "  <tbody>\n",
       "    <tr>\n",
       "      <th>0</th>\n",
       "      <td>FP1</td>\n",
       "      <td>7</td>\n",
       "      <td>HDI</td>\n",
       "      <td>0</td>\n",
       "      <td>0__HDI_FP1</td>\n",
       "    </tr>\n",
       "    <tr>\n",
       "      <th>1</th>\n",
       "      <td>FP1</td>\n",
       "      <td>7</td>\n",
       "      <td>HDI</td>\n",
       "      <td>1</td>\n",
       "      <td>1__HDI_FP1</td>\n",
       "    </tr>\n",
       "    <tr>\n",
       "      <th>2</th>\n",
       "      <td>FP1</td>\n",
       "      <td>7</td>\n",
       "      <td>HDI</td>\n",
       "      <td>2</td>\n",
       "      <td>2__HDI_FP1</td>\n",
       "    </tr>\n",
       "  </tbody>\n",
       "</table>\n",
       "</div>"
      ],
      "text/plain": [
       "  work  author_label author  chunk_num         tag\n",
       "0  FP1             7    HDI          0  0__HDI_FP1\n",
       "1  FP1             7    HDI          1  1__HDI_FP1\n",
       "2  FP1             7    HDI          2  2__HDI_FP1"
      ]
     },
     "execution_count": 56,
     "metadata": {},
     "output_type": "execute_result"
    }
   ],
   "source": [
    "# select an \"unknown\" work\n",
    "\n",
    "problems = raw_df[raw_df.work == \"FP1\"].reset_index(drop=True).copy()\n",
    "problems_X = X[raw_df.work == \"FP1\"].reset_index(drop=True).copy()\n",
    "problems"
   ]
  },
  {
   "cell_type": "code",
   "execution_count": 57,
   "id": "ac97aa75",
   "metadata": {},
   "outputs": [
    {
     "data": {
      "text/html": [
       "<div>\n",
       "<style scoped>\n",
       "    .dataframe tbody tr th:only-of-type {\n",
       "        vertical-align: middle;\n",
       "    }\n",
       "\n",
       "    .dataframe tbody tr th {\n",
       "        vertical-align: top;\n",
       "    }\n",
       "\n",
       "    .dataframe thead th {\n",
       "        text-align: right;\n",
       "    }\n",
       "</style>\n",
       "<table border=\"1\" class=\"dataframe\">\n",
       "  <thead>\n",
       "    <tr style=\"text-align: right;\">\n",
       "      <th></th>\n",
       "      <th>work</th>\n",
       "      <th>author_label</th>\n",
       "      <th>author</th>\n",
       "      <th>chunk_num</th>\n",
       "      <th>tag</th>\n",
       "    </tr>\n",
       "  </thead>\n",
       "  <tbody>\n",
       "    <tr>\n",
       "      <th>0</th>\n",
       "      <td>Avis</td>\n",
       "      <td>0</td>\n",
       "      <td>Baudeau</td>\n",
       "      <td>0</td>\n",
       "      <td>0__Baudeau_Avis</td>\n",
       "    </tr>\n",
       "    <tr>\n",
       "      <th>1</th>\n",
       "      <td>Eclaircissemens</td>\n",
       "      <td>0</td>\n",
       "      <td>Baudeau</td>\n",
       "      <td>0</td>\n",
       "      <td>0__Baudeau_Eclaircissemens</td>\n",
       "    </tr>\n",
       "    <tr>\n",
       "      <th>2</th>\n",
       "      <td>Explication</td>\n",
       "      <td>0</td>\n",
       "      <td>Baudeau</td>\n",
       "      <td>0</td>\n",
       "      <td>0__Baudeau_Explication</td>\n",
       "    </tr>\n",
       "    <tr>\n",
       "      <th>3</th>\n",
       "      <td>Idees sur l-administration</td>\n",
       "      <td>0</td>\n",
       "      <td>Baudeau</td>\n",
       "      <td>0</td>\n",
       "      <td>0__Baudeau_Idees sur l-administration</td>\n",
       "    </tr>\n",
       "    <tr>\n",
       "      <th>4</th>\n",
       "      <td>Idees sur la puissance</td>\n",
       "      <td>0</td>\n",
       "      <td>Baudeau</td>\n",
       "      <td>0</td>\n",
       "      <td>0__Baudeau_Idees sur la puissance</td>\n",
       "    </tr>\n",
       "    <tr>\n",
       "      <th>...</th>\n",
       "      <td>...</td>\n",
       "      <td>...</td>\n",
       "      <td>...</td>\n",
       "      <td>...</td>\n",
       "      <td>...</td>\n",
       "    </tr>\n",
       "    <tr>\n",
       "      <th>4426</th>\n",
       "      <td>elements T3</td>\n",
       "      <td>11</td>\n",
       "      <td>Marmontel</td>\n",
       "      <td>96</td>\n",
       "      <td>96__Marmontel_elements T3</td>\n",
       "    </tr>\n",
       "    <tr>\n",
       "      <th>4427</th>\n",
       "      <td>Histoire Generale T19</td>\n",
       "      <td>3</td>\n",
       "      <td>Deleyre</td>\n",
       "      <td>97</td>\n",
       "      <td>97__Deleyre_Histoire Generale T19</td>\n",
       "    </tr>\n",
       "    <tr>\n",
       "      <th>4428</th>\n",
       "      <td>elements T3</td>\n",
       "      <td>11</td>\n",
       "      <td>Marmontel</td>\n",
       "      <td>97</td>\n",
       "      <td>97__Marmontel_elements T3</td>\n",
       "    </tr>\n",
       "    <tr>\n",
       "      <th>4429</th>\n",
       "      <td>Histoire Generale T19</td>\n",
       "      <td>3</td>\n",
       "      <td>Deleyre</td>\n",
       "      <td>98</td>\n",
       "      <td>98__Deleyre_Histoire Generale T19</td>\n",
       "    </tr>\n",
       "    <tr>\n",
       "      <th>4430</th>\n",
       "      <td>Histoire Generale T19</td>\n",
       "      <td>3</td>\n",
       "      <td>Deleyre</td>\n",
       "      <td>99</td>\n",
       "      <td>99__Deleyre_Histoire Generale T19</td>\n",
       "    </tr>\n",
       "  </tbody>\n",
       "</table>\n",
       "<p>4431 rows × 5 columns</p>\n",
       "</div>"
      ],
      "text/plain": [
       "                            work  author_label     author  chunk_num  \\\n",
       "0                          Avis              0    Baudeau          0   \n",
       "1                Eclaircissemens             0    Baudeau          0   \n",
       "2                    Explication             0    Baudeau          0   \n",
       "3     Idees sur l-administration             0    Baudeau          0   \n",
       "4         Idees sur la puissance             0    Baudeau          0   \n",
       "...                          ...           ...        ...        ...   \n",
       "4426                 elements T3            11  Marmontel         96   \n",
       "4427       Histoire Generale T19             3    Deleyre         97   \n",
       "4428                 elements T3            11  Marmontel         97   \n",
       "4429       Histoire Generale T19             3    Deleyre         98   \n",
       "4430       Histoire Generale T19             3    Deleyre         99   \n",
       "\n",
       "                                        tag  \n",
       "0                          0__Baudeau_Avis   \n",
       "1                0__Baudeau_Eclaircissemens  \n",
       "2                    0__Baudeau_Explication  \n",
       "3     0__Baudeau_Idees sur l-administration  \n",
       "4         0__Baudeau_Idees sur la puissance  \n",
       "...                                     ...  \n",
       "4426              96__Marmontel_elements T3  \n",
       "4427      97__Deleyre_Histoire Generale T19  \n",
       "4428              97__Marmontel_elements T3  \n",
       "4429      98__Deleyre_Histoire Generale T19  \n",
       "4430      99__Deleyre_Histoire Generale T19  \n",
       "\n",
       "[4431 rows x 5 columns]"
      ]
     },
     "execution_count": 57,
     "metadata": {},
     "output_type": "execute_result"
    }
   ],
   "source": [
    "# extract the rest of the corpus\n",
    "\n",
    "rest = raw_df[raw_df.work != \"FP1\"].reset_index(drop=True).copy()\n",
    "rest_X = X[raw_df.work != \"FP1\"].reset_index(drop = True).copy()\n",
    "rest"
   ]
  },
  {
   "cell_type": "markdown",
   "id": "9e879c97",
   "metadata": {},
   "source": [
    "**Scaling**"
   ]
  },
  {
   "cell_type": "code",
   "execution_count": 58,
   "id": "44250f8d",
   "metadata": {},
   "outputs": [],
   "source": [
    "ss = StandardScaler(with_mean=False).fit(rest_X)"
   ]
  },
  {
   "cell_type": "code",
   "execution_count": 59,
   "id": "13503285",
   "metadata": {},
   "outputs": [],
   "source": [
    "rest_scaled_X = ss.transform(rest_X)\n",
    "problems_scaled_X = ss.transform(problems_X)"
   ]
  },
  {
   "cell_type": "markdown",
   "id": "df90c026",
   "metadata": {},
   "source": [
    "**Verification**"
   ]
  },
  {
   "cell_type": "code",
   "execution_count": 60,
   "id": "9ff156af",
   "metadata": {},
   "outputs": [],
   "source": [
    "# set verifier\n",
    "rng = np.random.default_rng(42)\n",
    "\n",
    "bdi_mm = BDIVerifier(\n",
    "    metric='minmax', nb_bootstrap_iter=1000, rnd_prop=0.35, random_state=rng\n",
    ")"
   ]
  },
  {
   "cell_type": "code",
   "execution_count": 61,
   "id": "098a8826",
   "metadata": {},
   "outputs": [
    {
     "name": "stderr",
     "output_type": "stream",
     "text": [
      "03/18/2025 02:31:31 [ruzicka:INFO] Fitting on 4431 documents...\n"
     ]
    }
   ],
   "source": [
    "# fit \n",
    "bdi_mm.fit(rest_scaled_X, rest.author_label)"
   ]
  },
  {
   "cell_type": "code",
   "execution_count": 62,
   "id": "68f3a9d1",
   "metadata": {},
   "outputs": [
    {
     "data": {
      "text/plain": [
       "array(['Baudeau', 'Chastellux', 'Condorcet', 'Deleyre', 'dHolbach',\n",
       "       'Diderot', 'Guibert', 'HDI', 'Jaucourt', 'Jussieu', 'La Grange',\n",
       "       'Marmontel', 'Meister', 'Morellet', 'Naigeon', 'Pechmeja',\n",
       "       'Raynal', 'Rivière', 'Saint-Lambert'], dtype=object)"
      ]
     },
     "execution_count": 62,
     "metadata": {},
     "output_type": "execute_result"
    }
   ],
   "source": [
    "# check unique authors\n",
    "label_uniques.values"
   ]
  },
  {
   "cell_type": "code",
   "execution_count": 63,
   "id": "91ff21a5",
   "metadata": {},
   "outputs": [
    {
     "name": "stderr",
     "output_type": "stream",
     "text": [
      "03/18/2025 02:31:35 [ruzicka:INFO] Predicting on 3 documents\n"
     ]
    },
    {
     "name": "stdout",
     "output_type": "stream",
     "text": [
      "Testing against Baudeau\n"
     ]
    },
    {
     "name": "stderr",
     "output_type": "stream",
     "text": [
      "03/18/2025 02:31:36 [ruzicka:INFO] Predicting on 3 documents\n"
     ]
    },
    {
     "name": "stdout",
     "output_type": "stream",
     "text": [
      "Bootstrap Match Strength (one per chunk, 0-1.0): [0.656 0.717 0.722]\n",
      "Testing against Chastellux\n"
     ]
    },
    {
     "name": "stderr",
     "output_type": "stream",
     "text": [
      "03/18/2025 02:31:36 [ruzicka:INFO] Predicting on 3 documents\n"
     ]
    },
    {
     "name": "stdout",
     "output_type": "stream",
     "text": [
      "Bootstrap Match Strength (one per chunk, 0-1.0): [0.849 0.668 0.967]\n",
      "Testing against Condorcet\n"
     ]
    },
    {
     "name": "stderr",
     "output_type": "stream",
     "text": [
      "03/18/2025 02:31:39 [ruzicka:INFO] Predicting on 3 documents\n"
     ]
    },
    {
     "name": "stdout",
     "output_type": "stream",
     "text": [
      "Bootstrap Match Strength (one per chunk, 0-1.0): [0.979 0.993 0.968]\n",
      "Testing against Deleyre\n"
     ]
    },
    {
     "name": "stderr",
     "output_type": "stream",
     "text": [
      "03/18/2025 02:31:40 [ruzicka:INFO] Predicting on 3 documents\n"
     ]
    },
    {
     "name": "stdout",
     "output_type": "stream",
     "text": [
      "Bootstrap Match Strength (one per chunk, 0-1.0): [0.813 0.788 0.889]\n",
      "Testing against dHolbach\n"
     ]
    },
    {
     "name": "stderr",
     "output_type": "stream",
     "text": [
      "03/18/2025 02:31:42 [ruzicka:INFO] Predicting on 3 documents\n"
     ]
    },
    {
     "name": "stdout",
     "output_type": "stream",
     "text": [
      "Bootstrap Match Strength (one per chunk, 0-1.0): [0.842 0.967 0.865]\n",
      "Testing against Diderot\n"
     ]
    },
    {
     "name": "stderr",
     "output_type": "stream",
     "text": [
      "03/18/2025 02:31:43 [ruzicka:INFO] Predicting on 3 documents\n"
     ]
    },
    {
     "name": "stdout",
     "output_type": "stream",
     "text": [
      "Bootstrap Match Strength (one per chunk, 0-1.0): [1. 1. 1.]\n",
      "Testing against Guibert\n"
     ]
    },
    {
     "name": "stderr",
     "output_type": "stream",
     "text": [
      "03/18/2025 02:31:44 [ruzicka:INFO] Predicting on 3 documents\n"
     ]
    },
    {
     "name": "stdout",
     "output_type": "stream",
     "text": [
      "Bootstrap Match Strength (one per chunk, 0-1.0): [0.734 0.614 0.768]\n",
      "Testing against HDI\n"
     ]
    },
    {
     "name": "stderr",
     "output_type": "stream",
     "text": [
      "03/18/2025 02:31:44 [ruzicka:INFO] Predicting on 3 documents\n"
     ]
    },
    {
     "name": "stdout",
     "output_type": "stream",
     "text": [
      "Bootstrap Match Strength (one per chunk, 0-1.0): [0.316 0.408 0.45 ]\n",
      "Testing against Jaucourt\n"
     ]
    },
    {
     "name": "stderr",
     "output_type": "stream",
     "text": [
      "03/18/2025 02:31:45 [ruzicka:INFO] Predicting on 3 documents\n"
     ]
    },
    {
     "name": "stdout",
     "output_type": "stream",
     "text": [
      "Bootstrap Match Strength (one per chunk, 0-1.0): [0.787 0.673 0.714]\n",
      "Testing against Jussieu\n"
     ]
    },
    {
     "name": "stderr",
     "output_type": "stream",
     "text": [
      "03/18/2025 02:31:45 [ruzicka:INFO] Predicting on 3 documents\n"
     ]
    },
    {
     "name": "stdout",
     "output_type": "stream",
     "text": [
      "Bootstrap Match Strength (one per chunk, 0-1.0): [0.329 0.279 0.275]\n",
      "Testing against La Grange\n"
     ]
    },
    {
     "name": "stderr",
     "output_type": "stream",
     "text": [
      "03/18/2025 02:31:46 [ruzicka:INFO] Predicting on 3 documents\n"
     ]
    },
    {
     "name": "stdout",
     "output_type": "stream",
     "text": [
      "Bootstrap Match Strength (one per chunk, 0-1.0): [0.101 0.261 0.297]\n",
      "Testing against Marmontel\n"
     ]
    },
    {
     "name": "stderr",
     "output_type": "stream",
     "text": [
      "03/18/2025 02:31:47 [ruzicka:INFO] Predicting on 3 documents\n"
     ]
    },
    {
     "name": "stdout",
     "output_type": "stream",
     "text": [
      "Bootstrap Match Strength (one per chunk, 0-1.0): [0.967 0.925 0.969]\n",
      "Testing against Meister\n"
     ]
    },
    {
     "name": "stderr",
     "output_type": "stream",
     "text": [
      "03/18/2025 02:31:47 [ruzicka:INFO] Predicting on 3 documents\n"
     ]
    },
    {
     "name": "stdout",
     "output_type": "stream",
     "text": [
      "Bootstrap Match Strength (one per chunk, 0-1.0): [0.305 0.288 0.103]\n",
      "Testing against Morellet\n"
     ]
    },
    {
     "name": "stderr",
     "output_type": "stream",
     "text": [
      "03/18/2025 02:31:48 [ruzicka:INFO] Predicting on 3 documents\n"
     ]
    },
    {
     "name": "stdout",
     "output_type": "stream",
     "text": [
      "Bootstrap Match Strength (one per chunk, 0-1.0): [0.935 0.844 0.744]\n",
      "Testing against Naigeon\n"
     ]
    },
    {
     "name": "stderr",
     "output_type": "stream",
     "text": [
      "03/18/2025 02:31:48 [ruzicka:INFO] Predicting on 3 documents\n"
     ]
    },
    {
     "name": "stdout",
     "output_type": "stream",
     "text": [
      "Bootstrap Match Strength (one per chunk, 0-1.0): [0.835 0.702 0.354]\n",
      "Testing against Pechmeja\n"
     ]
    },
    {
     "name": "stderr",
     "output_type": "stream",
     "text": [
      "03/18/2025 02:31:49 [ruzicka:INFO] Predicting on 3 documents\n"
     ]
    },
    {
     "name": "stdout",
     "output_type": "stream",
     "text": [
      "Bootstrap Match Strength (one per chunk, 0-1.0): [0.216 0.555 0.605]\n",
      "Testing against Raynal\n"
     ]
    },
    {
     "name": "stderr",
     "output_type": "stream",
     "text": [
      "03/18/2025 02:31:50 [ruzicka:INFO] Predicting on 3 documents\n"
     ]
    },
    {
     "name": "stdout",
     "output_type": "stream",
     "text": [
      "Bootstrap Match Strength (one per chunk, 0-1.0): [0.421 0.559 0.657]\n",
      "Testing against Rivière\n"
     ]
    },
    {
     "name": "stderr",
     "output_type": "stream",
     "text": [
      "03/18/2025 02:31:50 [ruzicka:INFO] Predicting on 3 documents\n"
     ]
    },
    {
     "name": "stdout",
     "output_type": "stream",
     "text": [
      "Bootstrap Match Strength (one per chunk, 0-1.0): [0.572 0.51  0.407]\n",
      "Testing against Saint-Lambert\n",
      "Bootstrap Match Strength (one per chunk, 0-1.0): [0.689 0.92  0.89 ]\n"
     ]
    }
   ],
   "source": [
    "for label in label_uniques.values:\n",
    "    print(f\"Testing against {label}\")\n",
    "    code = label_uniques.get_loc(label)\n",
    "    print(\n",
    "        f\"Bootstrap Match Strength (one per chunk, 0-1.0): {bdi_mm.predict_proba(problems_scaled_X, [code] * problems_scaled_X.shape[0])}\"\n",
    "    )"
   ]
  },
  {
   "cell_type": "code",
   "execution_count": 64,
   "id": "a181a3f5",
   "metadata": {},
   "outputs": [
    {
     "name": "stderr",
     "output_type": "stream",
     "text": [
      "03/18/2025 02:31:57 [ruzicka:INFO] Predicting on 3 documents\n"
     ]
    },
    {
     "name": "stdout",
     "output_type": "stream",
     "text": [
      "Baudeau\n"
     ]
    },
    {
     "name": "stderr",
     "output_type": "stream",
     "text": [
      "03/18/2025 02:31:57 [ruzicka:INFO] Predicting on 3 documents\n"
     ]
    },
    {
     "name": "stdout",
     "output_type": "stream",
     "text": [
      "Chastellux\n"
     ]
    },
    {
     "name": "stderr",
     "output_type": "stream",
     "text": [
      "03/18/2025 02:31:58 [ruzicka:INFO] Predicting on 3 documents\n"
     ]
    },
    {
     "name": "stdout",
     "output_type": "stream",
     "text": [
      "Condorcet\n"
     ]
    },
    {
     "name": "stderr",
     "output_type": "stream",
     "text": [
      "03/18/2025 02:32:00 [ruzicka:INFO] Predicting on 3 documents\n"
     ]
    },
    {
     "name": "stdout",
     "output_type": "stream",
     "text": [
      "Deleyre\n"
     ]
    },
    {
     "name": "stderr",
     "output_type": "stream",
     "text": [
      "03/18/2025 02:32:01 [ruzicka:INFO] Predicting on 3 documents\n"
     ]
    },
    {
     "name": "stdout",
     "output_type": "stream",
     "text": [
      "dHolbach\n"
     ]
    },
    {
     "name": "stderr",
     "output_type": "stream",
     "text": [
      "03/18/2025 02:32:03 [ruzicka:INFO] Predicting on 3 documents\n"
     ]
    },
    {
     "name": "stdout",
     "output_type": "stream",
     "text": [
      "Diderot\n"
     ]
    },
    {
     "name": "stderr",
     "output_type": "stream",
     "text": [
      "03/18/2025 02:32:05 [ruzicka:INFO] Predicting on 3 documents\n"
     ]
    },
    {
     "name": "stdout",
     "output_type": "stream",
     "text": [
      "Guibert\n"
     ]
    },
    {
     "name": "stderr",
     "output_type": "stream",
     "text": [
      "03/18/2025 02:32:06 [ruzicka:INFO] Predicting on 3 documents\n"
     ]
    },
    {
     "name": "stdout",
     "output_type": "stream",
     "text": [
      "HDI\n"
     ]
    },
    {
     "name": "stderr",
     "output_type": "stream",
     "text": [
      "03/18/2025 02:32:06 [ruzicka:INFO] Predicting on 3 documents\n"
     ]
    },
    {
     "name": "stdout",
     "output_type": "stream",
     "text": [
      "Jaucourt\n"
     ]
    },
    {
     "name": "stderr",
     "output_type": "stream",
     "text": [
      "03/18/2025 02:32:07 [ruzicka:INFO] Predicting on 3 documents\n"
     ]
    },
    {
     "name": "stdout",
     "output_type": "stream",
     "text": [
      "Jussieu\n"
     ]
    },
    {
     "name": "stderr",
     "output_type": "stream",
     "text": [
      "03/18/2025 02:32:07 [ruzicka:INFO] Predicting on 3 documents\n"
     ]
    },
    {
     "name": "stdout",
     "output_type": "stream",
     "text": [
      "La Grange\n"
     ]
    },
    {
     "name": "stderr",
     "output_type": "stream",
     "text": [
      "03/18/2025 02:32:08 [ruzicka:INFO] Predicting on 3 documents\n"
     ]
    },
    {
     "name": "stdout",
     "output_type": "stream",
     "text": [
      "Marmontel\n"
     ]
    },
    {
     "name": "stderr",
     "output_type": "stream",
     "text": [
      "03/18/2025 02:32:09 [ruzicka:INFO] Predicting on 3 documents\n"
     ]
    },
    {
     "name": "stdout",
     "output_type": "stream",
     "text": [
      "Meister\n"
     ]
    },
    {
     "name": "stderr",
     "output_type": "stream",
     "text": [
      "03/18/2025 02:32:09 [ruzicka:INFO] Predicting on 3 documents\n"
     ]
    },
    {
     "name": "stdout",
     "output_type": "stream",
     "text": [
      "Morellet\n"
     ]
    },
    {
     "name": "stderr",
     "output_type": "stream",
     "text": [
      "03/18/2025 02:32:10 [ruzicka:INFO] Predicting on 3 documents\n"
     ]
    },
    {
     "name": "stdout",
     "output_type": "stream",
     "text": [
      "Naigeon\n"
     ]
    },
    {
     "name": "stderr",
     "output_type": "stream",
     "text": [
      "03/18/2025 02:32:10 [ruzicka:INFO] Predicting on 3 documents\n"
     ]
    },
    {
     "name": "stdout",
     "output_type": "stream",
     "text": [
      "Pechmeja\n"
     ]
    },
    {
     "name": "stderr",
     "output_type": "stream",
     "text": [
      "03/18/2025 02:32:11 [ruzicka:INFO] Predicting on 3 documents\n"
     ]
    },
    {
     "name": "stdout",
     "output_type": "stream",
     "text": [
      "Raynal\n"
     ]
    },
    {
     "name": "stderr",
     "output_type": "stream",
     "text": [
      "03/18/2025 02:32:12 [ruzicka:INFO] Predicting on 3 documents\n"
     ]
    },
    {
     "name": "stdout",
     "output_type": "stream",
     "text": [
      "Rivière\n"
     ]
    },
    {
     "name": "stderr",
     "output_type": "stream",
     "text": [
      "03/18/2025 02:32:12 [ruzicka:INFO] Predicting on 3 documents\n"
     ]
    },
    {
     "name": "stdout",
     "output_type": "stream",
     "text": [
      "Saint-Lambert\n"
     ]
    }
   ],
   "source": [
    "authors = label_uniques.values\n",
    "\n",
    "fh = ''\n",
    "\n",
    "for a in authors:\n",
    "\n",
    "    print(a)\n",
    "    \n",
    "    bdi_mm.predict_proba(\n",
    "        problems_scaled_X, [label_uniques.get_loc(a)] * problems_scaled_X.shape[0]\n",
    "    )\n",
    "\n",
    "    \n",
    "    x = pd.DataFrame(dict(zip(problems.tag, bdi_mm._dist_arrays)))\n",
    "    \n",
    "    fh = '03_tests/fp1/2000_words/mfw200/fp1_vs_' + a + '.csv'\n",
    "\n",
    "    x.to_csv(fh)"
   ]
  },
  {
   "cell_type": "markdown",
   "id": "55c2b2e2",
   "metadata": {},
   "source": [
    "# III. Work vs all authors\n",
    "Here random 2 works from each author are used to see how good BDI will recognise true author (same settings as in the actual analysis)"
   ]
  },
  {
   "cell_type": "code",
   "execution_count": 98,
   "id": "61676ce2",
   "metadata": {},
   "outputs": [
    {
     "data": {
      "text/html": [
       "<div>\n",
       "<style scoped>\n",
       "    .dataframe tbody tr th:only-of-type {\n",
       "        vertical-align: middle;\n",
       "    }\n",
       "\n",
       "    .dataframe tbody tr th {\n",
       "        vertical-align: top;\n",
       "    }\n",
       "\n",
       "    .dataframe thead th {\n",
       "        text-align: right;\n",
       "    }\n",
       "</style>\n",
       "<table border=\"1\" class=\"dataframe\">\n",
       "  <thead>\n",
       "    <tr style=\"text-align: right;\">\n",
       "      <th></th>\n",
       "      <th>work</th>\n",
       "      <th>author</th>\n",
       "      <th>chunk_num</th>\n",
       "      <th>tag</th>\n",
       "      <th>de</th>\n",
       "      <th>a</th>\n",
       "      <th>et</th>\n",
       "      <th>la</th>\n",
       "      <th>que</th>\n",
       "      <th>les</th>\n",
       "      <th>...</th>\n",
       "      <th>peuvent</th>\n",
       "      <th>voit</th>\n",
       "      <th>assez</th>\n",
       "      <th>tant</th>\n",
       "      <th>lorsqu</th>\n",
       "      <th>autant</th>\n",
       "      <th>effet</th>\n",
       "      <th>fois</th>\n",
       "      <th>seul</th>\n",
       "      <th>donner</th>\n",
       "    </tr>\n",
       "  </thead>\n",
       "  <tbody>\n",
       "    <tr>\n",
       "      <th>0</th>\n",
       "      <td>Idees sur la puissance</td>\n",
       "      <td>Baudeau</td>\n",
       "      <td>0</td>\n",
       "      <td>0__Baudeau_Idees sur la puissance</td>\n",
       "      <td>4.90</td>\n",
       "      <td>0.50</td>\n",
       "      <td>2.50</td>\n",
       "      <td>2.35</td>\n",
       "      <td>1.15</td>\n",
       "      <td>2.75</td>\n",
       "      <td>...</td>\n",
       "      <td>0.20</td>\n",
       "      <td>0.00</td>\n",
       "      <td>0.00</td>\n",
       "      <td>0.10</td>\n",
       "      <td>0.00</td>\n",
       "      <td>0.15</td>\n",
       "      <td>0.00</td>\n",
       "      <td>0.00</td>\n",
       "      <td>0.00</td>\n",
       "      <td>0.00</td>\n",
       "    </tr>\n",
       "    <tr>\n",
       "      <th>1</th>\n",
       "      <td>Voyage de Newport</td>\n",
       "      <td>Chastellux</td>\n",
       "      <td>0</td>\n",
       "      <td>0__Chastellux_Voyage de Newport</td>\n",
       "      <td>2.40</td>\n",
       "      <td>0.50</td>\n",
       "      <td>1.65</td>\n",
       "      <td>1.00</td>\n",
       "      <td>1.25</td>\n",
       "      <td>1.10</td>\n",
       "      <td>...</td>\n",
       "      <td>0.05</td>\n",
       "      <td>0.05</td>\n",
       "      <td>0.00</td>\n",
       "      <td>0.00</td>\n",
       "      <td>0.20</td>\n",
       "      <td>0.00</td>\n",
       "      <td>0.00</td>\n",
       "      <td>0.00</td>\n",
       "      <td>0.00</td>\n",
       "      <td>0.05</td>\n",
       "    </tr>\n",
       "    <tr>\n",
       "      <th>2</th>\n",
       "      <td>Voyages T1</td>\n",
       "      <td>Chastellux</td>\n",
       "      <td>0</td>\n",
       "      <td>0__Chastellux_Voyages T1</td>\n",
       "      <td>2.70</td>\n",
       "      <td>1.05</td>\n",
       "      <td>1.10</td>\n",
       "      <td>0.55</td>\n",
       "      <td>0.95</td>\n",
       "      <td>0.95</td>\n",
       "      <td>...</td>\n",
       "      <td>0.00</td>\n",
       "      <td>0.00</td>\n",
       "      <td>0.00</td>\n",
       "      <td>0.00</td>\n",
       "      <td>0.00</td>\n",
       "      <td>0.05</td>\n",
       "      <td>0.05</td>\n",
       "      <td>0.05</td>\n",
       "      <td>0.00</td>\n",
       "      <td>0.10</td>\n",
       "    </tr>\n",
       "    <tr>\n",
       "      <th>3</th>\n",
       "      <td>eloge de M Roux</td>\n",
       "      <td>Deleyre</td>\n",
       "      <td>0</td>\n",
       "      <td>0__Deleyre_eloge de M Roux</td>\n",
       "      <td>5.30</td>\n",
       "      <td>0.80</td>\n",
       "      <td>2.65</td>\n",
       "      <td>3.00</td>\n",
       "      <td>1.35</td>\n",
       "      <td>2.20</td>\n",
       "      <td>...</td>\n",
       "      <td>0.00</td>\n",
       "      <td>0.00</td>\n",
       "      <td>0.15</td>\n",
       "      <td>0.00</td>\n",
       "      <td>0.00</td>\n",
       "      <td>0.05</td>\n",
       "      <td>0.00</td>\n",
       "      <td>0.00</td>\n",
       "      <td>0.10</td>\n",
       "      <td>0.10</td>\n",
       "    </tr>\n",
       "    <tr>\n",
       "      <th>4</th>\n",
       "      <td>Essai sur la vie</td>\n",
       "      <td>Deleyre</td>\n",
       "      <td>0</td>\n",
       "      <td>0__Deleyre_Essai sur la vie</td>\n",
       "      <td>2.20</td>\n",
       "      <td>0.65</td>\n",
       "      <td>1.15</td>\n",
       "      <td>1.30</td>\n",
       "      <td>0.55</td>\n",
       "      <td>1.15</td>\n",
       "      <td>...</td>\n",
       "      <td>0.00</td>\n",
       "      <td>0.00</td>\n",
       "      <td>0.00</td>\n",
       "      <td>0.05</td>\n",
       "      <td>0.00</td>\n",
       "      <td>0.00</td>\n",
       "      <td>0.00</td>\n",
       "      <td>0.10</td>\n",
       "      <td>0.00</td>\n",
       "      <td>0.05</td>\n",
       "    </tr>\n",
       "    <tr>\n",
       "      <th>...</th>\n",
       "      <td>...</td>\n",
       "      <td>...</td>\n",
       "      <td>...</td>\n",
       "      <td>...</td>\n",
       "      <td>...</td>\n",
       "      <td>...</td>\n",
       "      <td>...</td>\n",
       "      <td>...</td>\n",
       "      <td>...</td>\n",
       "      <td>...</td>\n",
       "      <td>...</td>\n",
       "      <td>...</td>\n",
       "      <td>...</td>\n",
       "      <td>...</td>\n",
       "      <td>...</td>\n",
       "      <td>...</td>\n",
       "      <td>...</td>\n",
       "      <td>...</td>\n",
       "      <td>...</td>\n",
       "      <td>...</td>\n",
       "      <td>...</td>\n",
       "    </tr>\n",
       "    <tr>\n",
       "      <th>453</th>\n",
       "      <td>Belisaire</td>\n",
       "      <td>Marmontel</td>\n",
       "      <td>9</td>\n",
       "      <td>9__Marmontel_Belisaire</td>\n",
       "      <td>2.05</td>\n",
       "      <td>0.35</td>\n",
       "      <td>2.05</td>\n",
       "      <td>1.45</td>\n",
       "      <td>0.85</td>\n",
       "      <td>0.75</td>\n",
       "      <td>...</td>\n",
       "      <td>0.00</td>\n",
       "      <td>0.05</td>\n",
       "      <td>0.00</td>\n",
       "      <td>0.00</td>\n",
       "      <td>0.00</td>\n",
       "      <td>0.05</td>\n",
       "      <td>0.00</td>\n",
       "      <td>0.10</td>\n",
       "      <td>0.05</td>\n",
       "      <td>0.05</td>\n",
       "    </tr>\n",
       "    <tr>\n",
       "      <th>454</th>\n",
       "      <td>eloge</td>\n",
       "      <td>Pechmeja</td>\n",
       "      <td>9</td>\n",
       "      <td>9__Pechmeja_eloge</td>\n",
       "      <td>1.70</td>\n",
       "      <td>0.15</td>\n",
       "      <td>0.85</td>\n",
       "      <td>1.00</td>\n",
       "      <td>0.70</td>\n",
       "      <td>1.45</td>\n",
       "      <td>...</td>\n",
       "      <td>0.10</td>\n",
       "      <td>0.05</td>\n",
       "      <td>0.00</td>\n",
       "      <td>0.00</td>\n",
       "      <td>0.05</td>\n",
       "      <td>0.15</td>\n",
       "      <td>0.10</td>\n",
       "      <td>0.05</td>\n",
       "      <td>0.00</td>\n",
       "      <td>0.00</td>\n",
       "    </tr>\n",
       "    <tr>\n",
       "      <th>455</th>\n",
       "      <td>ecole 1</td>\n",
       "      <td>Raynal</td>\n",
       "      <td>9</td>\n",
       "      <td>9__Raynal_ecole 1</td>\n",
       "      <td>2.50</td>\n",
       "      <td>0.60</td>\n",
       "      <td>1.30</td>\n",
       "      <td>1.20</td>\n",
       "      <td>0.40</td>\n",
       "      <td>1.15</td>\n",
       "      <td>...</td>\n",
       "      <td>0.00</td>\n",
       "      <td>0.05</td>\n",
       "      <td>0.00</td>\n",
       "      <td>0.00</td>\n",
       "      <td>0.05</td>\n",
       "      <td>0.00</td>\n",
       "      <td>0.05</td>\n",
       "      <td>0.00</td>\n",
       "      <td>0.00</td>\n",
       "      <td>0.00</td>\n",
       "    </tr>\n",
       "    <tr>\n",
       "      <th>456</th>\n",
       "      <td>De l-instruction publique  1775</td>\n",
       "      <td>Rivière</td>\n",
       "      <td>9</td>\n",
       "      <td>9__Rivière_De l-instruction publique  1775</td>\n",
       "      <td>5.00</td>\n",
       "      <td>0.40</td>\n",
       "      <td>1.90</td>\n",
       "      <td>3.30</td>\n",
       "      <td>1.05</td>\n",
       "      <td>2.75</td>\n",
       "      <td>...</td>\n",
       "      <td>0.05</td>\n",
       "      <td>0.00</td>\n",
       "      <td>0.00</td>\n",
       "      <td>0.00</td>\n",
       "      <td>0.10</td>\n",
       "      <td>0.10</td>\n",
       "      <td>0.20</td>\n",
       "      <td>0.00</td>\n",
       "      <td>0.05</td>\n",
       "      <td>0.10</td>\n",
       "    </tr>\n",
       "    <tr>\n",
       "      <th>457</th>\n",
       "      <td>L-Interet</td>\n",
       "      <td>Rivière</td>\n",
       "      <td>9</td>\n",
       "      <td>9__Rivière_L-Interet</td>\n",
       "      <td>2.10</td>\n",
       "      <td>0.30</td>\n",
       "      <td>1.20</td>\n",
       "      <td>1.10</td>\n",
       "      <td>1.05</td>\n",
       "      <td>1.15</td>\n",
       "      <td>...</td>\n",
       "      <td>0.15</td>\n",
       "      <td>0.05</td>\n",
       "      <td>0.00</td>\n",
       "      <td>0.00</td>\n",
       "      <td>0.00</td>\n",
       "      <td>0.15</td>\n",
       "      <td>0.05</td>\n",
       "      <td>0.05</td>\n",
       "      <td>0.05</td>\n",
       "      <td>0.00</td>\n",
       "    </tr>\n",
       "  </tbody>\n",
       "</table>\n",
       "<p>458 rows × 204 columns</p>\n",
       "</div>"
      ],
      "text/plain": [
       "                                work      author  chunk_num  \\\n",
       "0             Idees sur la puissance     Baudeau          0   \n",
       "1                  Voyage de Newport  Chastellux          0   \n",
       "2                         Voyages T1  Chastellux          0   \n",
       "3                    eloge de M Roux     Deleyre          0   \n",
       "4                   Essai sur la vie     Deleyre          0   \n",
       "..                               ...         ...        ...   \n",
       "453                        Belisaire   Marmontel          9   \n",
       "454                            eloge    Pechmeja          9   \n",
       "455                          ecole 1      Raynal          9   \n",
       "456  De l-instruction publique  1775    Rivière          9   \n",
       "457                        L-Interet    Rivière          9   \n",
       "\n",
       "                                             tag    de     a    et    la  \\\n",
       "0              0__Baudeau_Idees sur la puissance  4.90  0.50  2.50  2.35   \n",
       "1                0__Chastellux_Voyage de Newport  2.40  0.50  1.65  1.00   \n",
       "2                       0__Chastellux_Voyages T1  2.70  1.05  1.10  0.55   \n",
       "3                     0__Deleyre_eloge de M Roux  5.30  0.80  2.65  3.00   \n",
       "4                    0__Deleyre_Essai sur la vie  2.20  0.65  1.15  1.30   \n",
       "..                                           ...   ...   ...   ...   ...   \n",
       "453                       9__Marmontel_Belisaire  2.05  0.35  2.05  1.45   \n",
       "454                            9__Pechmeja_eloge  1.70  0.15  0.85  1.00   \n",
       "455                            9__Raynal_ecole 1  2.50  0.60  1.30  1.20   \n",
       "456  9__Rivière_De l-instruction publique  1775  5.00  0.40  1.90  3.30   \n",
       "457                        9__Rivière_L-Interet  2.10  0.30  1.20  1.10   \n",
       "\n",
       "      que   les  ...  peuvent  voit  assez  tant  lorsqu  autant  effet  fois  \\\n",
       "0    1.15  2.75  ...     0.20  0.00   0.00  0.10    0.00    0.15   0.00  0.00   \n",
       "1    1.25  1.10  ...     0.05  0.05   0.00  0.00    0.20    0.00   0.00  0.00   \n",
       "2    0.95  0.95  ...     0.00  0.00   0.00  0.00    0.00    0.05   0.05  0.05   \n",
       "3    1.35  2.20  ...     0.00  0.00   0.15  0.00    0.00    0.05   0.00  0.00   \n",
       "4    0.55  1.15  ...     0.00  0.00   0.00  0.05    0.00    0.00   0.00  0.10   \n",
       "..    ...   ...  ...      ...   ...    ...   ...     ...     ...    ...   ...   \n",
       "453  0.85  0.75  ...     0.00  0.05   0.00  0.00    0.00    0.05   0.00  0.10   \n",
       "454  0.70  1.45  ...     0.10  0.05   0.00  0.00    0.05    0.15   0.10  0.05   \n",
       "455  0.40  1.15  ...     0.00  0.05   0.00  0.00    0.05    0.00   0.05  0.00   \n",
       "456  1.05  2.75  ...     0.05  0.00   0.00  0.00    0.10    0.10   0.20  0.00   \n",
       "457  1.05  1.15  ...     0.15  0.05   0.00  0.00    0.00    0.15   0.05  0.05   \n",
       "\n",
       "     seul  donner  \n",
       "0    0.00    0.00  \n",
       "1    0.00    0.05  \n",
       "2    0.00    0.10  \n",
       "3    0.10    0.10  \n",
       "4    0.00    0.05  \n",
       "..    ...     ...  \n",
       "453  0.05    0.05  \n",
       "454  0.00    0.00  \n",
       "455  0.00    0.00  \n",
       "456  0.05    0.10  \n",
       "457  0.05    0.00  \n",
       "\n",
       "[458 rows x 204 columns]"
      ]
     },
     "execution_count": 98,
     "metadata": {},
     "output_type": "execute_result"
    }
   ],
   "source": [
    "# load preprocessed data\n",
    "\n",
    "corpus = pd.read_csv('03_tests/authors_vs_all/all_2works_2k_200mfw_rfreq.csv') # rel freq\n",
    "\n",
    "corpus"
   ]
  },
  {
   "cell_type": "code",
   "execution_count": 99,
   "id": "f4a06363",
   "metadata": {},
   "outputs": [
    {
     "data": {
      "text/html": [
       "<div>\n",
       "<style scoped>\n",
       "    .dataframe tbody tr th:only-of-type {\n",
       "        vertical-align: middle;\n",
       "    }\n",
       "\n",
       "    .dataframe tbody tr th {\n",
       "        vertical-align: top;\n",
       "    }\n",
       "\n",
       "    .dataframe thead th {\n",
       "        text-align: right;\n",
       "    }\n",
       "</style>\n",
       "<table border=\"1\" class=\"dataframe\">\n",
       "  <thead>\n",
       "    <tr style=\"text-align: right;\">\n",
       "      <th></th>\n",
       "      <th>work</th>\n",
       "      <th>author</th>\n",
       "      <th>chunk_num</th>\n",
       "      <th>tag</th>\n",
       "    </tr>\n",
       "  </thead>\n",
       "  <tbody>\n",
       "    <tr>\n",
       "      <th>0</th>\n",
       "      <td>Idees sur la puissance</td>\n",
       "      <td>Baudeau</td>\n",
       "      <td>0</td>\n",
       "      <td>0__Baudeau_Idees sur la puissance</td>\n",
       "    </tr>\n",
       "    <tr>\n",
       "      <th>1</th>\n",
       "      <td>Voyage de Newport</td>\n",
       "      <td>Chastellux</td>\n",
       "      <td>0</td>\n",
       "      <td>0__Chastellux_Voyage de Newport</td>\n",
       "    </tr>\n",
       "    <tr>\n",
       "      <th>2</th>\n",
       "      <td>Voyages T1</td>\n",
       "      <td>Chastellux</td>\n",
       "      <td>0</td>\n",
       "      <td>0__Chastellux_Voyages T1</td>\n",
       "    </tr>\n",
       "    <tr>\n",
       "      <th>3</th>\n",
       "      <td>eloge de M Roux</td>\n",
       "      <td>Deleyre</td>\n",
       "      <td>0</td>\n",
       "      <td>0__Deleyre_eloge de M Roux</td>\n",
       "    </tr>\n",
       "    <tr>\n",
       "      <th>4</th>\n",
       "      <td>Essai sur la vie</td>\n",
       "      <td>Deleyre</td>\n",
       "      <td>0</td>\n",
       "      <td>0__Deleyre_Essai sur la vie</td>\n",
       "    </tr>\n",
       "    <tr>\n",
       "      <th>...</th>\n",
       "      <td>...</td>\n",
       "      <td>...</td>\n",
       "      <td>...</td>\n",
       "      <td>...</td>\n",
       "    </tr>\n",
       "    <tr>\n",
       "      <th>453</th>\n",
       "      <td>Belisaire</td>\n",
       "      <td>Marmontel</td>\n",
       "      <td>9</td>\n",
       "      <td>9__Marmontel_Belisaire</td>\n",
       "    </tr>\n",
       "    <tr>\n",
       "      <th>454</th>\n",
       "      <td>eloge</td>\n",
       "      <td>Pechmeja</td>\n",
       "      <td>9</td>\n",
       "      <td>9__Pechmeja_eloge</td>\n",
       "    </tr>\n",
       "    <tr>\n",
       "      <th>455</th>\n",
       "      <td>ecole 1</td>\n",
       "      <td>Raynal</td>\n",
       "      <td>9</td>\n",
       "      <td>9__Raynal_ecole 1</td>\n",
       "    </tr>\n",
       "    <tr>\n",
       "      <th>456</th>\n",
       "      <td>De l-instruction publique  1775</td>\n",
       "      <td>Rivière</td>\n",
       "      <td>9</td>\n",
       "      <td>9__Rivière_De l-instruction publique  1775</td>\n",
       "    </tr>\n",
       "    <tr>\n",
       "      <th>457</th>\n",
       "      <td>L-Interet</td>\n",
       "      <td>Rivière</td>\n",
       "      <td>9</td>\n",
       "      <td>9__Rivière_L-Interet</td>\n",
       "    </tr>\n",
       "  </tbody>\n",
       "</table>\n",
       "<p>458 rows × 4 columns</p>\n",
       "</div>"
      ],
      "text/plain": [
       "                                work      author  chunk_num  \\\n",
       "0             Idees sur la puissance     Baudeau          0   \n",
       "1                  Voyage de Newport  Chastellux          0   \n",
       "2                         Voyages T1  Chastellux          0   \n",
       "3                    eloge de M Roux     Deleyre          0   \n",
       "4                   Essai sur la vie     Deleyre          0   \n",
       "..                               ...         ...        ...   \n",
       "453                        Belisaire   Marmontel          9   \n",
       "454                            eloge    Pechmeja          9   \n",
       "455                          ecole 1      Raynal          9   \n",
       "456  De l-instruction publique  1775    Rivière          9   \n",
       "457                        L-Interet    Rivière          9   \n",
       "\n",
       "                                             tag  \n",
       "0              0__Baudeau_Idees sur la puissance  \n",
       "1                0__Chastellux_Voyage de Newport  \n",
       "2                       0__Chastellux_Voyages T1  \n",
       "3                     0__Deleyre_eloge de M Roux  \n",
       "4                    0__Deleyre_Essai sur la vie  \n",
       "..                                           ...  \n",
       "453                       9__Marmontel_Belisaire  \n",
       "454                            9__Pechmeja_eloge  \n",
       "455                            9__Raynal_ecole 1  \n",
       "456  9__Rivière_De l-instruction publique  1775  \n",
       "457                        9__Rivière_L-Interet  \n",
       "\n",
       "[458 rows x 4 columns]"
      ]
     },
     "execution_count": 99,
     "metadata": {},
     "output_type": "execute_result"
    }
   ],
   "source": [
    "raw_df = corpus.iloc[:, :4] # leaves metadata\n",
    "X = corpus.iloc[:, 4:] # leaves only word columns\n",
    "\n",
    "raw_df"
   ]
  },
  {
   "cell_type": "code",
   "execution_count": 100,
   "id": "db4ce74f",
   "metadata": {},
   "outputs": [
    {
     "data": {
      "text/html": [
       "<div>\n",
       "<style scoped>\n",
       "    .dataframe tbody tr th:only-of-type {\n",
       "        vertical-align: middle;\n",
       "    }\n",
       "\n",
       "    .dataframe tbody tr th {\n",
       "        vertical-align: top;\n",
       "    }\n",
       "\n",
       "    .dataframe thead th {\n",
       "        text-align: right;\n",
       "    }\n",
       "</style>\n",
       "<table border=\"1\" class=\"dataframe\">\n",
       "  <thead>\n",
       "    <tr style=\"text-align: right;\">\n",
       "      <th></th>\n",
       "      <th>work</th>\n",
       "      <th>author_label</th>\n",
       "      <th>author</th>\n",
       "      <th>chunk_num</th>\n",
       "      <th>tag</th>\n",
       "    </tr>\n",
       "  </thead>\n",
       "  <tbody>\n",
       "    <tr>\n",
       "      <th>0</th>\n",
       "      <td>Idees sur la puissance</td>\n",
       "      <td>0</td>\n",
       "      <td>Baudeau</td>\n",
       "      <td>0</td>\n",
       "      <td>0__Baudeau_Idees sur la puissance</td>\n",
       "    </tr>\n",
       "    <tr>\n",
       "      <th>1</th>\n",
       "      <td>Voyage de Newport</td>\n",
       "      <td>1</td>\n",
       "      <td>Chastellux</td>\n",
       "      <td>0</td>\n",
       "      <td>0__Chastellux_Voyage de Newport</td>\n",
       "    </tr>\n",
       "    <tr>\n",
       "      <th>2</th>\n",
       "      <td>Voyages T1</td>\n",
       "      <td>1</td>\n",
       "      <td>Chastellux</td>\n",
       "      <td>0</td>\n",
       "      <td>0__Chastellux_Voyages T1</td>\n",
       "    </tr>\n",
       "    <tr>\n",
       "      <th>3</th>\n",
       "      <td>eloge de M Roux</td>\n",
       "      <td>2</td>\n",
       "      <td>Deleyre</td>\n",
       "      <td>0</td>\n",
       "      <td>0__Deleyre_eloge de M Roux</td>\n",
       "    </tr>\n",
       "    <tr>\n",
       "      <th>4</th>\n",
       "      <td>Essai sur la vie</td>\n",
       "      <td>2</td>\n",
       "      <td>Deleyre</td>\n",
       "      <td>0</td>\n",
       "      <td>0__Deleyre_Essai sur la vie</td>\n",
       "    </tr>\n",
       "    <tr>\n",
       "      <th>...</th>\n",
       "      <td>...</td>\n",
       "      <td>...</td>\n",
       "      <td>...</td>\n",
       "      <td>...</td>\n",
       "      <td>...</td>\n",
       "    </tr>\n",
       "    <tr>\n",
       "      <th>453</th>\n",
       "      <td>Belisaire</td>\n",
       "      <td>17</td>\n",
       "      <td>Marmontel</td>\n",
       "      <td>9</td>\n",
       "      <td>9__Marmontel_Belisaire</td>\n",
       "    </tr>\n",
       "    <tr>\n",
       "      <th>454</th>\n",
       "      <td>eloge</td>\n",
       "      <td>11</td>\n",
       "      <td>Pechmeja</td>\n",
       "      <td>9</td>\n",
       "      <td>9__Pechmeja_eloge</td>\n",
       "    </tr>\n",
       "    <tr>\n",
       "      <th>455</th>\n",
       "      <td>ecole 1</td>\n",
       "      <td>12</td>\n",
       "      <td>Raynal</td>\n",
       "      <td>9</td>\n",
       "      <td>9__Raynal_ecole 1</td>\n",
       "    </tr>\n",
       "    <tr>\n",
       "      <th>456</th>\n",
       "      <td>De l-instruction publique  1775</td>\n",
       "      <td>13</td>\n",
       "      <td>Rivière</td>\n",
       "      <td>9</td>\n",
       "      <td>9__Rivière_De l-instruction publique  1775</td>\n",
       "    </tr>\n",
       "    <tr>\n",
       "      <th>457</th>\n",
       "      <td>L-Interet</td>\n",
       "      <td>13</td>\n",
       "      <td>Rivière</td>\n",
       "      <td>9</td>\n",
       "      <td>9__Rivière_L-Interet</td>\n",
       "    </tr>\n",
       "  </tbody>\n",
       "</table>\n",
       "<p>458 rows × 5 columns</p>\n",
       "</div>"
      ],
      "text/plain": [
       "                                work  author_label      author  chunk_num  \\\n",
       "0             Idees sur la puissance             0     Baudeau          0   \n",
       "1                  Voyage de Newport             1  Chastellux          0   \n",
       "2                         Voyages T1             1  Chastellux          0   \n",
       "3                    eloge de M Roux             2     Deleyre          0   \n",
       "4                   Essai sur la vie             2     Deleyre          0   \n",
       "..                               ...           ...         ...        ...   \n",
       "453                        Belisaire            17   Marmontel          9   \n",
       "454                            eloge            11    Pechmeja          9   \n",
       "455                          ecole 1            12      Raynal          9   \n",
       "456  De l-instruction publique  1775            13    Rivière          9   \n",
       "457                        L-Interet            13    Rivière          9   \n",
       "\n",
       "                                             tag  \n",
       "0              0__Baudeau_Idees sur la puissance  \n",
       "1                0__Chastellux_Voyage de Newport  \n",
       "2                       0__Chastellux_Voyages T1  \n",
       "3                     0__Deleyre_eloge de M Roux  \n",
       "4                    0__Deleyre_Essai sur la vie  \n",
       "..                                           ...  \n",
       "453                       9__Marmontel_Belisaire  \n",
       "454                            9__Pechmeja_eloge  \n",
       "455                            9__Raynal_ecole 1  \n",
       "456  9__Rivière_De l-instruction publique  1775  \n",
       "457                        9__Rivière_L-Interet  \n",
       "\n",
       "[458 rows x 5 columns]"
      ]
     },
     "execution_count": 100,
     "metadata": {},
     "output_type": "execute_result"
    }
   ],
   "source": [
    "# create numeric author labels\n",
    "labels, label_uniques = raw_df.author.factorize()\n",
    "raw_df.insert(1, \"author_label\", labels)\n",
    "raw_df"
   ]
  },
  {
   "cell_type": "code",
   "execution_count": 101,
   "id": "5c45cfe0",
   "metadata": {},
   "outputs": [
    {
     "data": {
      "text/plain": [
       "array(['Baudeau', 'Chastellux', 'Deleyre', 'dHolbach', 'Diderot',\n",
       "       'Guibert', 'Jaucourt', 'Jussieu', 'Meister', 'Morellet', 'Naigeon',\n",
       "       'Pechmeja', 'Raynal', 'Rivière', 'Saint-Lambert', 'Condorcet',\n",
       "       'La Grange', 'Marmontel'], dtype=object)"
      ]
     },
     "execution_count": 101,
     "metadata": {},
     "output_type": "execute_result"
    }
   ],
   "source": [
    "# check unique authors\n",
    "label_uniques.values"
   ]
  },
  {
   "cell_type": "code",
   "execution_count": 109,
   "id": "1090124d",
   "metadata": {},
   "outputs": [
    {
     "name": "stdout",
     "output_type": "stream",
     "text": [
      "N unique works: 36\n",
      "2\n",
      "De la Poesie Dramatique\n",
      "Les Incas\n"
     ]
    }
   ],
   "source": [
    "print('N unique works:', len(list(set(raw_df.work))))\n",
    "\n",
    "unique_works = list(set(raw_df.work))\n",
    "\n",
    "for w in unique_works[0:3]:\n",
    "    print(w)"
   ]
  },
  {
   "cell_type": "code",
   "execution_count": 114,
   "id": "da788f3f",
   "metadata": {},
   "outputs": [
    {
     "name": "stderr",
     "output_type": "stream",
     "text": [
      "03/18/2025 04:02:02 [ruzicka:INFO] Fitting on 443 documents...\n",
      "03/18/2025 04:02:02 [ruzicka:INFO] Predicting on 15 documents\n"
     ]
    },
    {
     "name": "stdout",
     "output_type": "stream",
     "text": [
      "\n",
      "\n",
      "########################## Working with: 2 ---- by Condorcet\n",
      "Testing against Baudeau\n"
     ]
    },
    {
     "name": "stderr",
     "output_type": "stream",
     "text": [
      "03/18/2025 04:02:03 [ruzicka:INFO] Predicting on 15 documents\n"
     ]
    },
    {
     "name": "stdout",
     "output_type": "stream",
     "text": [
      "Bootstrap Match Strength (one per chunk, 0-1.0): [0.197 0.036 0.028 0.589 0.356 0.383 0.018 0.701 0.479 0.313 0.092 0.403\n",
      " 0.044 0.441 0.542]\n",
      "Testing against Chastellux\n"
     ]
    },
    {
     "name": "stderr",
     "output_type": "stream",
     "text": [
      "03/18/2025 04:02:04 [ruzicka:INFO] Predicting on 15 documents\n"
     ]
    },
    {
     "name": "stdout",
     "output_type": "stream",
     "text": [
      "Bootstrap Match Strength (one per chunk, 0-1.0): [0.58  0.158 0.357 0.654 0.415 0.528 0.038 0.549 0.385 0.659 0.122 0.54\n",
      " 0.206 0.158 0.271]\n",
      "Testing against Deleyre\n"
     ]
    },
    {
     "name": "stderr",
     "output_type": "stream",
     "text": [
      "03/18/2025 04:02:06 [ruzicka:INFO] Predicting on 15 documents\n"
     ]
    },
    {
     "name": "stdout",
     "output_type": "stream",
     "text": [
      "Bootstrap Match Strength (one per chunk, 0-1.0): [0.485 0.784 0.782 0.463 0.206 0.227 0.869 0.375 0.341 0.428 0.904 0.187\n",
      " 0.591 0.235 0.283]\n",
      "Testing against dHolbach\n"
     ]
    },
    {
     "name": "stderr",
     "output_type": "stream",
     "text": [
      "03/18/2025 04:02:07 [ruzicka:INFO] Predicting on 15 documents\n"
     ]
    },
    {
     "name": "stdout",
     "output_type": "stream",
     "text": [
      "Bootstrap Match Strength (one per chunk, 0-1.0): [0.179 0.319 0.129 0.707 0.763 0.821 0.076 0.399 0.647 0.643 0.497 0.75\n",
      " 0.325 0.734 0.411]\n",
      "Testing against Diderot\n"
     ]
    },
    {
     "name": "stderr",
     "output_type": "stream",
     "text": [
      "03/18/2025 04:02:08 [ruzicka:INFO] Predicting on 15 documents\n"
     ]
    },
    {
     "name": "stdout",
     "output_type": "stream",
     "text": [
      "Bootstrap Match Strength (one per chunk, 0-1.0): [0.274 0.517 0.405 0.356 0.369 0.569 0.472 0.488 0.473 0.549 0.393 0.547\n",
      " 0.606 0.671 0.386]\n",
      "Testing against Guibert\n"
     ]
    },
    {
     "name": "stderr",
     "output_type": "stream",
     "text": [
      "03/18/2025 04:02:10 [ruzicka:INFO] Predicting on 15 documents\n"
     ]
    },
    {
     "name": "stdout",
     "output_type": "stream",
     "text": [
      "Bootstrap Match Strength (one per chunk, 0-1.0): [0.079 0.04  0.141 0.27  0.153 0.575 0.182 0.574 0.558 0.094 0.035 0.453\n",
      " 0.294 0.497 0.765]\n",
      "Testing against Jaucourt\n"
     ]
    },
    {
     "name": "stderr",
     "output_type": "stream",
     "text": [
      "03/18/2025 04:02:11 [ruzicka:INFO] Predicting on 15 documents\n"
     ]
    },
    {
     "name": "stdout",
     "output_type": "stream",
     "text": [
      "Bootstrap Match Strength (one per chunk, 0-1.0): [0.366 0.487 0.888 0.2   0.059 0.08  0.757 0.181 0.185 0.226 0.599 0.069\n",
      " 0.775 0.202 0.321]\n",
      "Testing against Jussieu\n"
     ]
    },
    {
     "name": "stderr",
     "output_type": "stream",
     "text": [
      "03/18/2025 04:02:12 [ruzicka:INFO] Predicting on 15 documents\n"
     ]
    },
    {
     "name": "stdout",
     "output_type": "stream",
     "text": [
      "Bootstrap Match Strength (one per chunk, 0-1.0): [0.048 0.336 0.541 0.091 0.046 0.069 0.51  0.088 0.191 0.058 0.34  0.022\n",
      " 0.532 0.079 0.222]\n",
      "Testing against Meister\n"
     ]
    },
    {
     "name": "stderr",
     "output_type": "stream",
     "text": [
      "03/18/2025 04:02:13 [ruzicka:INFO] Predicting on 15 documents\n"
     ]
    },
    {
     "name": "stdout",
     "output_type": "stream",
     "text": [
      "Bootstrap Match Strength (one per chunk, 0-1.0): [0.003 0.47  0.317 0.06  0.058 0.009 0.211 0.015 0.09  0.04  0.397 0.009\n",
      " 0.442 0.028 0.003]\n",
      "Testing against Morellet\n"
     ]
    },
    {
     "name": "stderr",
     "output_type": "stream",
     "text": [
      "03/18/2025 04:02:14 [ruzicka:INFO] Predicting on 15 documents\n"
     ]
    },
    {
     "name": "stdout",
     "output_type": "stream",
     "text": [
      "Bootstrap Match Strength (one per chunk, 0-1.0): [0.007 0.059 0.1   0.023 0.042 0.019 0.084 0.05  0.04  0.051 0.213 0.019\n",
      " 0.243 0.04  0.081]\n",
      "Testing against Naigeon\n"
     ]
    },
    {
     "name": "stderr",
     "output_type": "stream",
     "text": [
      "03/18/2025 04:02:15 [ruzicka:INFO] Predicting on 15 documents\n"
     ]
    },
    {
     "name": "stdout",
     "output_type": "stream",
     "text": [
      "Bootstrap Match Strength (one per chunk, 0-1.0): [0.    0.514 0.251 0.071 0.02  0.115 0.507 0.018 0.022 0.085 0.632 0.034\n",
      " 0.448 0.258 0.114]\n",
      "Testing against Pechmeja\n"
     ]
    },
    {
     "name": "stderr",
     "output_type": "stream",
     "text": [
      "03/18/2025 04:02:17 [ruzicka:INFO] Predicting on 15 documents\n"
     ]
    },
    {
     "name": "stdout",
     "output_type": "stream",
     "text": [
      "Bootstrap Match Strength (one per chunk, 0-1.0): [0.396 0.627 0.441 0.142 0.237 0.413 0.419 0.215 0.388 0.128 0.305 0.281\n",
      " 0.322 0.408 0.474]\n",
      "Testing against Raynal\n"
     ]
    },
    {
     "name": "stderr",
     "output_type": "stream",
     "text": [
      "03/18/2025 04:02:18 [ruzicka:INFO] Predicting on 15 documents\n"
     ]
    },
    {
     "name": "stdout",
     "output_type": "stream",
     "text": [
      "Bootstrap Match Strength (one per chunk, 0-1.0): [0.684 0.293 0.131 0.524 0.631 0.632 0.07  0.524 0.481 0.656 0.045 0.374\n",
      " 0.031 0.147 0.416]\n",
      "Testing against Rivière\n"
     ]
    },
    {
     "name": "stderr",
     "output_type": "stream",
     "text": [
      "03/18/2025 04:02:19 [ruzicka:INFO] Predicting on 15 documents\n"
     ]
    },
    {
     "name": "stdout",
     "output_type": "stream",
     "text": [
      "Bootstrap Match Strength (one per chunk, 0-1.0): [0.017 0.497 0.053 0.067 0.192 0.163 0.09  0.169 0.252 0.092 0.254 0.052\n",
      " 0.235 0.358 0.327]\n",
      "Testing against Saint-Lambert\n"
     ]
    },
    {
     "name": "stderr",
     "output_type": "stream",
     "text": [
      "03/18/2025 04:02:20 [ruzicka:INFO] Predicting on 15 documents\n"
     ]
    },
    {
     "name": "stdout",
     "output_type": "stream",
     "text": [
      "Bootstrap Match Strength (one per chunk, 0-1.0): [0.9   0.835 0.895 0.796 0.851 0.64  0.899 0.515 0.567 0.748 0.927 0.766\n",
      " 0.787 0.339 0.595]\n",
      "Testing against Condorcet\n"
     ]
    },
    {
     "name": "stderr",
     "output_type": "stream",
     "text": [
      "03/18/2025 04:02:21 [ruzicka:INFO] Predicting on 15 documents\n"
     ]
    },
    {
     "name": "stdout",
     "output_type": "stream",
     "text": [
      "Bootstrap Match Strength (one per chunk, 0-1.0): [0.218 0.226 0.122 0.483 0.474 0.485 0.195 0.786 0.629 0.412 0.286 0.401\n",
      " 0.537 0.746 0.676]\n",
      "Testing against La Grange\n"
     ]
    },
    {
     "name": "stderr",
     "output_type": "stream",
     "text": [
      "03/18/2025 04:02:23 [ruzicka:INFO] Predicting on 15 documents\n"
     ]
    },
    {
     "name": "stdout",
     "output_type": "stream",
     "text": [
      "Bootstrap Match Strength (one per chunk, 0-1.0): [0.025 0.003 0.    0.24  0.097 0.167 0.001 0.559 0.279 0.075 0.001 0.414\n",
      " 0.    0.53  0.456]\n",
      "Testing against Marmontel\n"
     ]
    },
    {
     "name": "stderr",
     "output_type": "stream",
     "text": [
      "03/18/2025 04:02:24 [ruzicka:INFO] Predicting on 15 documents\n"
     ]
    },
    {
     "name": "stdout",
     "output_type": "stream",
     "text": [
      "Bootstrap Match Strength (one per chunk, 0-1.0): [0.843 0.344 0.079 0.399 0.708 0.502 0.134 0.328 0.475 0.728 0.101 0.771\n",
      " 0.176 0.617 0.374]\n",
      "Baudeau\n"
     ]
    },
    {
     "name": "stderr",
     "output_type": "stream",
     "text": [
      "03/18/2025 04:02:25 [ruzicka:INFO] Predicting on 15 documents\n"
     ]
    },
    {
     "name": "stdout",
     "output_type": "stream",
     "text": [
      "Chastellux\n"
     ]
    },
    {
     "name": "stderr",
     "output_type": "stream",
     "text": [
      "03/18/2025 04:02:27 [ruzicka:INFO] Predicting on 15 documents\n"
     ]
    },
    {
     "name": "stdout",
     "output_type": "stream",
     "text": [
      "Deleyre\n"
     ]
    },
    {
     "name": "stderr",
     "output_type": "stream",
     "text": [
      "03/18/2025 04:02:28 [ruzicka:INFO] Predicting on 15 documents\n"
     ]
    },
    {
     "name": "stdout",
     "output_type": "stream",
     "text": [
      "dHolbach\n"
     ]
    },
    {
     "name": "stderr",
     "output_type": "stream",
     "text": [
      "03/18/2025 04:02:29 [ruzicka:INFO] Predicting on 15 documents\n"
     ]
    },
    {
     "name": "stdout",
     "output_type": "stream",
     "text": [
      "Diderot\n"
     ]
    },
    {
     "name": "stderr",
     "output_type": "stream",
     "text": [
      "03/18/2025 04:02:31 [ruzicka:INFO] Predicting on 15 documents\n"
     ]
    },
    {
     "name": "stdout",
     "output_type": "stream",
     "text": [
      "Guibert\n"
     ]
    },
    {
     "name": "stderr",
     "output_type": "stream",
     "text": [
      "03/18/2025 04:02:32 [ruzicka:INFO] Predicting on 15 documents\n"
     ]
    },
    {
     "name": "stdout",
     "output_type": "stream",
     "text": [
      "Jaucourt\n"
     ]
    },
    {
     "name": "stderr",
     "output_type": "stream",
     "text": [
      "03/18/2025 04:02:33 [ruzicka:INFO] Predicting on 15 documents\n"
     ]
    },
    {
     "name": "stdout",
     "output_type": "stream",
     "text": [
      "Jussieu\n"
     ]
    },
    {
     "name": "stderr",
     "output_type": "stream",
     "text": [
      "03/18/2025 04:02:35 [ruzicka:INFO] Predicting on 15 documents\n"
     ]
    },
    {
     "name": "stdout",
     "output_type": "stream",
     "text": [
      "Meister\n"
     ]
    },
    {
     "name": "stderr",
     "output_type": "stream",
     "text": [
      "03/18/2025 04:02:36 [ruzicka:INFO] Predicting on 15 documents\n"
     ]
    },
    {
     "name": "stdout",
     "output_type": "stream",
     "text": [
      "Morellet\n"
     ]
    },
    {
     "name": "stderr",
     "output_type": "stream",
     "text": [
      "03/18/2025 04:02:37 [ruzicka:INFO] Predicting on 15 documents\n"
     ]
    },
    {
     "name": "stdout",
     "output_type": "stream",
     "text": [
      "Naigeon\n"
     ]
    },
    {
     "name": "stderr",
     "output_type": "stream",
     "text": [
      "03/18/2025 04:02:38 [ruzicka:INFO] Predicting on 15 documents\n"
     ]
    },
    {
     "name": "stdout",
     "output_type": "stream",
     "text": [
      "Pechmeja\n"
     ]
    },
    {
     "name": "stderr",
     "output_type": "stream",
     "text": [
      "03/18/2025 04:02:39 [ruzicka:INFO] Predicting on 15 documents\n"
     ]
    },
    {
     "name": "stdout",
     "output_type": "stream",
     "text": [
      "Raynal\n"
     ]
    },
    {
     "name": "stderr",
     "output_type": "stream",
     "text": [
      "03/18/2025 04:02:41 [ruzicka:INFO] Predicting on 15 documents\n"
     ]
    },
    {
     "name": "stdout",
     "output_type": "stream",
     "text": [
      "Rivière\n"
     ]
    },
    {
     "name": "stderr",
     "output_type": "stream",
     "text": [
      "03/18/2025 04:02:42 [ruzicka:INFO] Predicting on 15 documents\n"
     ]
    },
    {
     "name": "stdout",
     "output_type": "stream",
     "text": [
      "Saint-Lambert\n"
     ]
    },
    {
     "name": "stderr",
     "output_type": "stream",
     "text": [
      "03/18/2025 04:02:43 [ruzicka:INFO] Predicting on 15 documents\n"
     ]
    },
    {
     "name": "stdout",
     "output_type": "stream",
     "text": [
      "Condorcet\n"
     ]
    },
    {
     "name": "stderr",
     "output_type": "stream",
     "text": [
      "03/18/2025 04:02:44 [ruzicka:INFO] Predicting on 15 documents\n"
     ]
    },
    {
     "name": "stdout",
     "output_type": "stream",
     "text": [
      "La Grange\n"
     ]
    },
    {
     "name": "stderr",
     "output_type": "stream",
     "text": [
      "03/18/2025 04:02:46 [ruzicka:INFO] Predicting on 15 documents\n"
     ]
    },
    {
     "name": "stdout",
     "output_type": "stream",
     "text": [
      "Marmontel\n"
     ]
    },
    {
     "name": "stderr",
     "output_type": "stream",
     "text": [
      "03/18/2025 04:02:47 [ruzicka:INFO] Fitting on 445 documents...\n",
      "03/18/2025 04:02:47 [ruzicka:INFO] Predicting on 13 documents\n"
     ]
    },
    {
     "name": "stdout",
     "output_type": "stream",
     "text": [
      "\n",
      "\n",
      "########################## Working with: De la Poesie Dramatique ---- by Diderot\n",
      "Testing against Baudeau\n"
     ]
    },
    {
     "name": "stderr",
     "output_type": "stream",
     "text": [
      "03/18/2025 04:02:48 [ruzicka:INFO] Predicting on 13 documents\n"
     ]
    },
    {
     "name": "stdout",
     "output_type": "stream",
     "text": [
      "Bootstrap Match Strength (one per chunk, 0-1.0): [0.545 0.047 0.019 0.208 0.066 0.269 0.028 0.049 0.127 0.004 0.011 0.328\n",
      " 0.024]\n",
      "Testing against Chastellux\n"
     ]
    },
    {
     "name": "stderr",
     "output_type": "stream",
     "text": [
      "03/18/2025 04:02:49 [ruzicka:INFO] Predicting on 13 documents\n"
     ]
    },
    {
     "name": "stdout",
     "output_type": "stream",
     "text": [
      "Bootstrap Match Strength (one per chunk, 0-1.0): [0.477 0.26  0.39  0.333 0.087 0.726 0.337 0.58  0.415 0.485 0.269 0.297\n",
      " 0.398]\n",
      "Testing against Deleyre\n"
     ]
    },
    {
     "name": "stderr",
     "output_type": "stream",
     "text": [
      "03/18/2025 04:02:51 [ruzicka:INFO] Predicting on 13 documents\n"
     ]
    },
    {
     "name": "stdout",
     "output_type": "stream",
     "text": [
      "Bootstrap Match Strength (one per chunk, 0-1.0): [0.416 0.352 0.369 0.47  0.175 0.391 0.4   0.467 0.171 0.663 0.136 0.057\n",
      " 0.555]\n",
      "Testing against dHolbach\n"
     ]
    },
    {
     "name": "stderr",
     "output_type": "stream",
     "text": [
      "03/18/2025 04:02:52 [ruzicka:INFO] Predicting on 13 documents\n"
     ]
    },
    {
     "name": "stdout",
     "output_type": "stream",
     "text": [
      "Bootstrap Match Strength (one per chunk, 0-1.0): [0.457 0.115 0.281 0.828 0.169 0.448 0.088 0.256 0.719 0.065 0.105 0.475\n",
      " 0.161]\n",
      "Testing against Diderot\n"
     ]
    },
    {
     "name": "stderr",
     "output_type": "stream",
     "text": [
      "03/18/2025 04:02:53 [ruzicka:INFO] Predicting on 13 documents\n"
     ]
    },
    {
     "name": "stdout",
     "output_type": "stream",
     "text": [
      "Bootstrap Match Strength (one per chunk, 0-1.0): [0.371 0.866 0.713 0.553 0.889 0.817 0.875 0.628 0.939 0.812 0.772 0.837\n",
      " 0.73 ]\n",
      "Testing against Guibert\n"
     ]
    },
    {
     "name": "stderr",
     "output_type": "stream",
     "text": [
      "03/18/2025 04:02:54 [ruzicka:INFO] Predicting on 13 documents\n"
     ]
    },
    {
     "name": "stdout",
     "output_type": "stream",
     "text": [
      "Bootstrap Match Strength (one per chunk, 0-1.0): [0.622 0.302 0.306 0.389 0.116 0.629 0.286 0.287 0.42  0.523 0.074 0.402\n",
      " 0.178]\n",
      "Testing against Jaucourt\n"
     ]
    },
    {
     "name": "stderr",
     "output_type": "stream",
     "text": [
      "03/18/2025 04:02:55 [ruzicka:INFO] Predicting on 13 documents\n"
     ]
    },
    {
     "name": "stdout",
     "output_type": "stream",
     "text": [
      "Bootstrap Match Strength (one per chunk, 0-1.0): [0.041 0.524 0.354 0.208 0.134 0.009 0.359 0.222 0.071 0.446 0.239 0.152\n",
      " 0.352]\n",
      "Testing against Jussieu\n"
     ]
    },
    {
     "name": "stderr",
     "output_type": "stream",
     "text": [
      "03/18/2025 04:02:56 [ruzicka:INFO] Predicting on 13 documents\n"
     ]
    },
    {
     "name": "stdout",
     "output_type": "stream",
     "text": [
      "Bootstrap Match Strength (one per chunk, 0-1.0): [0.076 0.343 0.179 0.08  0.163 0.007 0.339 0.102 0.005 0.225 0.103 0.029\n",
      " 0.22 ]\n",
      "Testing against Meister\n"
     ]
    },
    {
     "name": "stderr",
     "output_type": "stream",
     "text": [
      "03/18/2025 04:02:57 [ruzicka:INFO] Predicting on 13 documents\n"
     ]
    },
    {
     "name": "stdout",
     "output_type": "stream",
     "text": [
      "Bootstrap Match Strength (one per chunk, 0-1.0): [0.001 0.802 0.871 0.003 0.711 0.07  0.65  0.017 0.071 0.605 0.738 0.029\n",
      " 0.653]\n",
      "Testing against Morellet\n"
     ]
    },
    {
     "name": "stderr",
     "output_type": "stream",
     "text": [
      "03/18/2025 04:02:58 [ruzicka:INFO] Predicting on 13 documents\n"
     ]
    },
    {
     "name": "stdout",
     "output_type": "stream",
     "text": [
      "Bootstrap Match Strength (one per chunk, 0-1.0): [0.098 0.309 0.303 0.005 0.467 0.128 0.652 0.103 0.449 0.654 0.743 0.494\n",
      " 0.499]\n",
      "Testing against Naigeon\n"
     ]
    },
    {
     "name": "stderr",
     "output_type": "stream",
     "text": [
      "03/18/2025 04:02:58 [ruzicka:INFO] Predicting on 13 documents\n"
     ]
    },
    {
     "name": "stdout",
     "output_type": "stream",
     "text": [
      "Bootstrap Match Strength (one per chunk, 0-1.0): [0.002 0.847 0.891 0.063 0.985 0.011 0.812 0.049 0.21  0.715 0.885 0.312\n",
      " 0.894]\n",
      "Testing against Pechmeja\n"
     ]
    },
    {
     "name": "stderr",
     "output_type": "stream",
     "text": [
      "03/18/2025 04:03:00 [ruzicka:INFO] Predicting on 13 documents\n"
     ]
    },
    {
     "name": "stdout",
     "output_type": "stream",
     "text": [
      "Bootstrap Match Strength (one per chunk, 0-1.0): [0.417 0.249 0.033 0.451 0.066 0.204 0.192 0.19  0.243 0.077 0.106 0.284\n",
      " 0.137]\n",
      "Testing against Raynal\n"
     ]
    },
    {
     "name": "stderr",
     "output_type": "stream",
     "text": [
      "03/18/2025 04:03:01 [ruzicka:INFO] Predicting on 13 documents\n"
     ]
    },
    {
     "name": "stdout",
     "output_type": "stream",
     "text": [
      "Bootstrap Match Strength (one per chunk, 0-1.0): [0.686 0.123 0.138 0.578 0.101 0.522 0.22  0.625 0.238 0.194 0.283 0.491\n",
      " 0.067]\n",
      "Testing against Rivière\n"
     ]
    },
    {
     "name": "stderr",
     "output_type": "stream",
     "text": [
      "03/18/2025 04:03:02 [ruzicka:INFO] Predicting on 13 documents\n"
     ]
    },
    {
     "name": "stdout",
     "output_type": "stream",
     "text": [
      "Bootstrap Match Strength (one per chunk, 0-1.0): [0.164 0.185 0.2   0.071 0.318 0.181 0.228 0.058 0.286 0.312 0.204 0.676\n",
      " 0.409]\n",
      "Testing against Saint-Lambert\n"
     ]
    },
    {
     "name": "stderr",
     "output_type": "stream",
     "text": [
      "03/18/2025 04:03:03 [ruzicka:INFO] Predicting on 13 documents\n"
     ]
    },
    {
     "name": "stdout",
     "output_type": "stream",
     "text": [
      "Bootstrap Match Strength (one per chunk, 0-1.0): [0.261 0.041 0.12  0.138 0.08  0.062 0.086 0.24  0.109 0.072 0.066 0.019\n",
      " 0.119]\n",
      "Testing against Condorcet\n"
     ]
    },
    {
     "name": "stderr",
     "output_type": "stream",
     "text": [
      "03/18/2025 04:03:04 [ruzicka:INFO] Predicting on 13 documents\n"
     ]
    },
    {
     "name": "stdout",
     "output_type": "stream",
     "text": [
      "Bootstrap Match Strength (one per chunk, 0-1.0): [0.768 0.631 0.431 0.626 0.457 0.399 0.527 0.552 0.536 0.553 0.293 0.608\n",
      " 0.538]\n",
      "Testing against La Grange\n"
     ]
    },
    {
     "name": "stderr",
     "output_type": "stream",
     "text": [
      "03/18/2025 04:03:06 [ruzicka:INFO] Predicting on 13 documents\n"
     ]
    },
    {
     "name": "stdout",
     "output_type": "stream",
     "text": [
      "Bootstrap Match Strength (one per chunk, 0-1.0): [0.383 0.007 0.014 0.158 0.002 0.218 0.007 0.046 0.519 0.04  0.011 0.246\n",
      " 0.004]\n",
      "Testing against Marmontel\n"
     ]
    },
    {
     "name": "stderr",
     "output_type": "stream",
     "text": [
      "03/18/2025 04:03:08 [ruzicka:INFO] Predicting on 13 documents\n"
     ]
    },
    {
     "name": "stdout",
     "output_type": "stream",
     "text": [
      "Bootstrap Match Strength (one per chunk, 0-1.0): [0.588 0.292 0.341 0.758 0.509 0.855 0.407 0.935 0.766 0.397 0.944 0.696\n",
      " 0.6  ]\n",
      "Baudeau\n"
     ]
    },
    {
     "name": "stderr",
     "output_type": "stream",
     "text": [
      "03/18/2025 04:03:09 [ruzicka:INFO] Predicting on 13 documents\n"
     ]
    },
    {
     "name": "stdout",
     "output_type": "stream",
     "text": [
      "Chastellux\n"
     ]
    },
    {
     "name": "stderr",
     "output_type": "stream",
     "text": [
      "03/18/2025 04:03:10 [ruzicka:INFO] Predicting on 13 documents\n"
     ]
    },
    {
     "name": "stdout",
     "output_type": "stream",
     "text": [
      "Deleyre\n"
     ]
    },
    {
     "name": "stderr",
     "output_type": "stream",
     "text": [
      "03/18/2025 04:03:11 [ruzicka:INFO] Predicting on 13 documents\n"
     ]
    },
    {
     "name": "stdout",
     "output_type": "stream",
     "text": [
      "dHolbach\n"
     ]
    },
    {
     "name": "stderr",
     "output_type": "stream",
     "text": [
      "03/18/2025 04:03:13 [ruzicka:INFO] Predicting on 13 documents\n"
     ]
    },
    {
     "name": "stdout",
     "output_type": "stream",
     "text": [
      "Diderot\n"
     ]
    },
    {
     "name": "stderr",
     "output_type": "stream",
     "text": [
      "03/18/2025 04:03:14 [ruzicka:INFO] Predicting on 13 documents\n"
     ]
    },
    {
     "name": "stdout",
     "output_type": "stream",
     "text": [
      "Guibert\n"
     ]
    },
    {
     "name": "stderr",
     "output_type": "stream",
     "text": [
      "03/18/2025 04:03:15 [ruzicka:INFO] Predicting on 13 documents\n"
     ]
    },
    {
     "name": "stdout",
     "output_type": "stream",
     "text": [
      "Jaucourt\n"
     ]
    },
    {
     "name": "stderr",
     "output_type": "stream",
     "text": [
      "03/18/2025 04:03:16 [ruzicka:INFO] Predicting on 13 documents\n"
     ]
    },
    {
     "name": "stdout",
     "output_type": "stream",
     "text": [
      "Jussieu\n"
     ]
    },
    {
     "name": "stderr",
     "output_type": "stream",
     "text": [
      "03/18/2025 04:03:17 [ruzicka:INFO] Predicting on 13 documents\n"
     ]
    },
    {
     "name": "stdout",
     "output_type": "stream",
     "text": [
      "Meister\n"
     ]
    },
    {
     "name": "stderr",
     "output_type": "stream",
     "text": [
      "03/18/2025 04:03:18 [ruzicka:INFO] Predicting on 13 documents\n"
     ]
    },
    {
     "name": "stdout",
     "output_type": "stream",
     "text": [
      "Morellet\n"
     ]
    },
    {
     "name": "stderr",
     "output_type": "stream",
     "text": [
      "03/18/2025 04:03:19 [ruzicka:INFO] Predicting on 13 documents\n"
     ]
    },
    {
     "name": "stdout",
     "output_type": "stream",
     "text": [
      "Naigeon\n"
     ]
    },
    {
     "name": "stderr",
     "output_type": "stream",
     "text": [
      "03/18/2025 04:03:20 [ruzicka:INFO] Predicting on 13 documents\n"
     ]
    },
    {
     "name": "stdout",
     "output_type": "stream",
     "text": [
      "Pechmeja\n"
     ]
    },
    {
     "name": "stderr",
     "output_type": "stream",
     "text": [
      "03/18/2025 04:03:21 [ruzicka:INFO] Predicting on 13 documents\n"
     ]
    },
    {
     "name": "stdout",
     "output_type": "stream",
     "text": [
      "Raynal\n"
     ]
    },
    {
     "name": "stderr",
     "output_type": "stream",
     "text": [
      "03/18/2025 04:03:22 [ruzicka:INFO] Predicting on 13 documents\n"
     ]
    },
    {
     "name": "stdout",
     "output_type": "stream",
     "text": [
      "Rivière\n"
     ]
    },
    {
     "name": "stderr",
     "output_type": "stream",
     "text": [
      "03/18/2025 04:03:23 [ruzicka:INFO] Predicting on 13 documents\n"
     ]
    },
    {
     "name": "stdout",
     "output_type": "stream",
     "text": [
      "Saint-Lambert\n"
     ]
    },
    {
     "name": "stderr",
     "output_type": "stream",
     "text": [
      "03/18/2025 04:03:24 [ruzicka:INFO] Predicting on 13 documents\n"
     ]
    },
    {
     "name": "stdout",
     "output_type": "stream",
     "text": [
      "Condorcet\n"
     ]
    },
    {
     "name": "stderr",
     "output_type": "stream",
     "text": [
      "03/18/2025 04:03:25 [ruzicka:INFO] Predicting on 13 documents\n"
     ]
    },
    {
     "name": "stdout",
     "output_type": "stream",
     "text": [
      "La Grange\n"
     ]
    },
    {
     "name": "stderr",
     "output_type": "stream",
     "text": [
      "03/18/2025 04:03:26 [ruzicka:INFO] Predicting on 13 documents\n"
     ]
    },
    {
     "name": "stdout",
     "output_type": "stream",
     "text": [
      "Marmontel\n"
     ]
    },
    {
     "name": "stderr",
     "output_type": "stream",
     "text": [
      "03/18/2025 04:03:28 [ruzicka:INFO] Fitting on 440 documents...\n",
      "03/18/2025 04:03:28 [ruzicka:INFO] Predicting on 18 documents\n"
     ]
    },
    {
     "name": "stdout",
     "output_type": "stream",
     "text": [
      "\n",
      "\n",
      "########################## Working with: Les Incas ---- by Marmontel\n",
      "Testing against Baudeau\n"
     ]
    },
    {
     "name": "stderr",
     "output_type": "stream",
     "text": [
      "03/18/2025 04:03:29 [ruzicka:INFO] Predicting on 18 documents\n"
     ]
    },
    {
     "name": "stdout",
     "output_type": "stream",
     "text": [
      "Bootstrap Match Strength (one per chunk, 0-1.0): [0.273 0.039 0.042 0.233 0.171 0.205 0.308 0.024 0.118 0.028 0.022 0.005\n",
      " 0.112 0.406 0.14  0.087 0.374 0.071]\n",
      "Testing against Chastellux\n"
     ]
    },
    {
     "name": "stderr",
     "output_type": "stream",
     "text": [
      "03/18/2025 04:03:31 [ruzicka:INFO] Predicting on 18 documents\n"
     ]
    },
    {
     "name": "stdout",
     "output_type": "stream",
     "text": [
      "Bootstrap Match Strength (one per chunk, 0-1.0): [0.429 0.428 0.247 0.648 0.733 0.493 0.349 0.225 0.528 0.574 0.604 0.391\n",
      " 0.598 0.48  0.184 0.064 0.584 0.293]\n",
      "Testing against Deleyre\n"
     ]
    },
    {
     "name": "stderr",
     "output_type": "stream",
     "text": [
      "03/18/2025 04:03:33 [ruzicka:INFO] Predicting on 18 documents\n"
     ]
    },
    {
     "name": "stdout",
     "output_type": "stream",
     "text": [
      "Bootstrap Match Strength (one per chunk, 0-1.0): [0.36  0.404 0.181 0.177 0.26  0.603 0.649 0.25  0.622 0.295 0.253 0.347\n",
      " 0.379 0.349 0.461 0.492 0.368 0.393]\n",
      "Testing against dHolbach\n"
     ]
    },
    {
     "name": "stderr",
     "output_type": "stream",
     "text": [
      "03/18/2025 04:03:34 [ruzicka:INFO] Predicting on 18 documents\n"
     ]
    },
    {
     "name": "stdout",
     "output_type": "stream",
     "text": [
      "Bootstrap Match Strength (one per chunk, 0-1.0): [0.469 0.257 0.283 0.305 0.309 0.215 0.206 0.084 0.18  0.091 0.235 0.104\n",
      " 0.152 0.636 0.7   0.089 0.501 0.77 ]\n",
      "Testing against Diderot\n"
     ]
    },
    {
     "name": "stderr",
     "output_type": "stream",
     "text": [
      "03/18/2025 04:03:36 [ruzicka:INFO] Predicting on 18 documents\n"
     ]
    },
    {
     "name": "stdout",
     "output_type": "stream",
     "text": [
      "Bootstrap Match Strength (one per chunk, 0-1.0): [0.636 0.653 0.623 0.563 0.701 0.58  0.608 0.832 0.379 0.494 0.628 0.443\n",
      " 0.803 0.421 0.672 0.781 0.622 0.448]\n",
      "Testing against Guibert\n"
     ]
    },
    {
     "name": "stderr",
     "output_type": "stream",
     "text": [
      "03/18/2025 04:03:37 [ruzicka:INFO] Predicting on 18 documents\n"
     ]
    },
    {
     "name": "stdout",
     "output_type": "stream",
     "text": [
      "Bootstrap Match Strength (one per chunk, 0-1.0): [0.312 0.045 0.104 0.302 0.421 0.168 0.589 0.019 0.325 0.088 0.098 0.036\n",
      " 0.338 0.313 0.309 0.02  0.338 0.04 ]\n",
      "Testing against Jaucourt\n"
     ]
    },
    {
     "name": "stderr",
     "output_type": "stream",
     "text": [
      "03/18/2025 04:03:39 [ruzicka:INFO] Predicting on 18 documents\n"
     ]
    },
    {
     "name": "stdout",
     "output_type": "stream",
     "text": [
      "Bootstrap Match Strength (one per chunk, 0-1.0): [0.113 0.    0.008 0.048 0.17  0.085 0.055 0.696 0.305 0.222 0.002 0.001\n",
      " 0.098 0.203 0.06  0.661 0.011 0.01 ]\n",
      "Testing against Jussieu\n"
     ]
    },
    {
     "name": "stderr",
     "output_type": "stream",
     "text": [
      "03/18/2025 04:03:40 [ruzicka:INFO] Predicting on 18 documents\n"
     ]
    },
    {
     "name": "stdout",
     "output_type": "stream",
     "text": [
      "Bootstrap Match Strength (one per chunk, 0-1.0): [0.018 0.    0.    0.    0.021 0.016 0.002 0.081 0.01  0.001 0.    0.\n",
      " 0.009 0.009 0.    0.217 0.    0.   ]\n",
      "Testing against Meister\n"
     ]
    },
    {
     "name": "stderr",
     "output_type": "stream",
     "text": [
      "03/18/2025 04:03:41 [ruzicka:INFO] Predicting on 18 documents\n"
     ]
    },
    {
     "name": "stdout",
     "output_type": "stream",
     "text": [
      "Bootstrap Match Strength (one per chunk, 0-1.0): [0.002 0.132 0.028 0.002 0.002 0.008 0.012 0.233 0.002 0.039 0.005 0.034\n",
      " 0.002 0.017 0.017 0.12  0.038 0.026]\n",
      "Testing against Morellet\n"
     ]
    },
    {
     "name": "stderr",
     "output_type": "stream",
     "text": [
      "03/18/2025 04:03:43 [ruzicka:INFO] Predicting on 18 documents\n"
     ]
    },
    {
     "name": "stdout",
     "output_type": "stream",
     "text": [
      "Bootstrap Match Strength (one per chunk, 0-1.0): [0.059 0.228 0.213 0.268 0.01  0.029 0.136 0.09  0.007 0.096 0.053 0.103\n",
      " 0.049 0.011 0.015 0.082 0.043 0.035]\n",
      "Testing against Naigeon\n"
     ]
    },
    {
     "name": "stderr",
     "output_type": "stream",
     "text": [
      "03/18/2025 04:03:44 [ruzicka:INFO] Predicting on 18 documents\n"
     ]
    },
    {
     "name": "stdout",
     "output_type": "stream",
     "text": [
      "Bootstrap Match Strength (one per chunk, 0-1.0): [0.003 0.02  0.009 0.013 0.002 0.021 0.005 0.185 0.    0.001 0.012 0.\n",
      " 0.002 0.012 0.029 0.395 0.02  0.023]\n",
      "Testing against Pechmeja\n"
     ]
    },
    {
     "name": "stderr",
     "output_type": "stream",
     "text": [
      "03/18/2025 04:03:46 [ruzicka:INFO] Predicting on 18 documents\n"
     ]
    },
    {
     "name": "stdout",
     "output_type": "stream",
     "text": [
      "Bootstrap Match Strength (one per chunk, 0-1.0): [0.809 0.732 0.895 0.577 0.728 0.657 0.527 0.764 0.631 0.77  0.8   0.982\n",
      " 0.552 0.46  0.654 0.72  0.66  0.87 ]\n",
      "Testing against Raynal\n"
     ]
    },
    {
     "name": "stderr",
     "output_type": "stream",
     "text": [
      "03/18/2025 04:03:47 [ruzicka:INFO] Predicting on 18 documents\n"
     ]
    },
    {
     "name": "stdout",
     "output_type": "stream",
     "text": [
      "Bootstrap Match Strength (one per chunk, 0-1.0): [0.522 0.657 0.656 0.864 0.628 0.666 0.448 0.567 0.88  0.731 0.844 0.588\n",
      " 0.478 0.448 0.738 0.407 0.66  0.786]\n",
      "Testing against Rivière\n"
     ]
    },
    {
     "name": "stderr",
     "output_type": "stream",
     "text": [
      "03/18/2025 04:03:49 [ruzicka:INFO] Predicting on 18 documents\n"
     ]
    },
    {
     "name": "stdout",
     "output_type": "stream",
     "text": [
      "Bootstrap Match Strength (one per chunk, 0-1.0): [0.026 0.059 0.014 0.088 0.014 0.032 0.105 0.063 0.004 0.002 0.01  0.002\n",
      " 0.072 0.055 0.023 0.134 0.037 0.115]\n",
      "Testing against Saint-Lambert\n"
     ]
    },
    {
     "name": "stderr",
     "output_type": "stream",
     "text": [
      "03/18/2025 04:03:50 [ruzicka:INFO] Predicting on 18 documents\n"
     ]
    },
    {
     "name": "stdout",
     "output_type": "stream",
     "text": [
      "Bootstrap Match Strength (one per chunk, 0-1.0): [0.196 0.165 0.169 0.262 0.26  0.226 0.218 0.699 0.389 0.282 0.079 0.117\n",
      " 0.384 0.439 0.033 0.83  0.417 0.249]\n",
      "Testing against Condorcet\n"
     ]
    },
    {
     "name": "stderr",
     "output_type": "stream",
     "text": [
      "03/18/2025 04:03:52 [ruzicka:INFO] Predicting on 18 documents\n"
     ]
    },
    {
     "name": "stdout",
     "output_type": "stream",
     "text": [
      "Bootstrap Match Strength (one per chunk, 0-1.0): [0.486 0.276 0.288 0.258 0.416 0.609 0.551 0.445 0.527 0.644 0.233 0.239\n",
      " 0.804 0.843 0.397 0.737 0.413 0.426]\n",
      "Testing against La Grange\n"
     ]
    },
    {
     "name": "stderr",
     "output_type": "stream",
     "text": [
      "03/18/2025 04:03:54 [ruzicka:INFO] Predicting on 18 documents\n"
     ]
    },
    {
     "name": "stdout",
     "output_type": "stream",
     "text": [
      "Bootstrap Match Strength (one per chunk, 0-1.0): [0.263 0.112 0.1   0.386 0.339 0.63  0.346 0.004 0.327 0.042 0.091 0.126\n",
      " 0.395 0.416 0.398 0.019 0.344 0.038]\n",
      "Testing against Marmontel\n"
     ]
    },
    {
     "name": "stderr",
     "output_type": "stream",
     "text": [
      "03/18/2025 04:03:55 [ruzicka:INFO] Predicting on 18 documents\n"
     ]
    },
    {
     "name": "stdout",
     "output_type": "stream",
     "text": [
      "Bootstrap Match Strength (one per chunk, 0-1.0): [0.891 0.995 0.984 0.86  0.806 0.805 0.928 0.793 0.609 0.955 0.969 0.915\n",
      " 0.751 0.636 0.892 0.351 0.751 0.798]\n",
      "Baudeau\n"
     ]
    },
    {
     "name": "stderr",
     "output_type": "stream",
     "text": [
      "03/18/2025 04:03:56 [ruzicka:INFO] Predicting on 18 documents\n"
     ]
    },
    {
     "name": "stdout",
     "output_type": "stream",
     "text": [
      "Chastellux\n"
     ]
    },
    {
     "name": "stderr",
     "output_type": "stream",
     "text": [
      "03/18/2025 04:03:58 [ruzicka:INFO] Predicting on 18 documents\n"
     ]
    },
    {
     "name": "stdout",
     "output_type": "stream",
     "text": [
      "Deleyre\n"
     ]
    },
    {
     "name": "stderr",
     "output_type": "stream",
     "text": [
      "03/18/2025 04:04:00 [ruzicka:INFO] Predicting on 18 documents\n"
     ]
    },
    {
     "name": "stdout",
     "output_type": "stream",
     "text": [
      "dHolbach\n"
     ]
    },
    {
     "name": "stderr",
     "output_type": "stream",
     "text": [
      "03/18/2025 04:04:01 [ruzicka:INFO] Predicting on 18 documents\n"
     ]
    },
    {
     "name": "stdout",
     "output_type": "stream",
     "text": [
      "Diderot\n"
     ]
    },
    {
     "name": "stderr",
     "output_type": "stream",
     "text": [
      "03/18/2025 04:04:03 [ruzicka:INFO] Predicting on 18 documents\n"
     ]
    },
    {
     "name": "stdout",
     "output_type": "stream",
     "text": [
      "Guibert\n"
     ]
    },
    {
     "name": "stderr",
     "output_type": "stream",
     "text": [
      "03/18/2025 04:04:04 [ruzicka:INFO] Predicting on 18 documents\n"
     ]
    },
    {
     "name": "stdout",
     "output_type": "stream",
     "text": [
      "Jaucourt\n"
     ]
    },
    {
     "name": "stderr",
     "output_type": "stream",
     "text": [
      "03/18/2025 04:04:06 [ruzicka:INFO] Predicting on 18 documents\n"
     ]
    },
    {
     "name": "stdout",
     "output_type": "stream",
     "text": [
      "Jussieu\n"
     ]
    },
    {
     "name": "stderr",
     "output_type": "stream",
     "text": [
      "03/18/2025 04:04:07 [ruzicka:INFO] Predicting on 18 documents\n"
     ]
    },
    {
     "name": "stdout",
     "output_type": "stream",
     "text": [
      "Meister\n"
     ]
    },
    {
     "name": "stderr",
     "output_type": "stream",
     "text": [
      "03/18/2025 04:04:08 [ruzicka:INFO] Predicting on 18 documents\n"
     ]
    },
    {
     "name": "stdout",
     "output_type": "stream",
     "text": [
      "Morellet\n"
     ]
    },
    {
     "name": "stderr",
     "output_type": "stream",
     "text": [
      "03/18/2025 04:04:10 [ruzicka:INFO] Predicting on 18 documents\n"
     ]
    },
    {
     "name": "stdout",
     "output_type": "stream",
     "text": [
      "Naigeon\n"
     ]
    },
    {
     "name": "stderr",
     "output_type": "stream",
     "text": [
      "03/18/2025 04:04:11 [ruzicka:INFO] Predicting on 18 documents\n"
     ]
    },
    {
     "name": "stdout",
     "output_type": "stream",
     "text": [
      "Pechmeja\n"
     ]
    },
    {
     "name": "stderr",
     "output_type": "stream",
     "text": [
      "03/18/2025 04:04:13 [ruzicka:INFO] Predicting on 18 documents\n"
     ]
    },
    {
     "name": "stdout",
     "output_type": "stream",
     "text": [
      "Raynal\n"
     ]
    },
    {
     "name": "stderr",
     "output_type": "stream",
     "text": [
      "03/18/2025 04:04:14 [ruzicka:INFO] Predicting on 18 documents\n"
     ]
    },
    {
     "name": "stdout",
     "output_type": "stream",
     "text": [
      "Rivière\n"
     ]
    },
    {
     "name": "stderr",
     "output_type": "stream",
     "text": [
      "03/18/2025 04:04:16 [ruzicka:INFO] Predicting on 18 documents\n"
     ]
    },
    {
     "name": "stdout",
     "output_type": "stream",
     "text": [
      "Saint-Lambert\n"
     ]
    },
    {
     "name": "stderr",
     "output_type": "stream",
     "text": [
      "03/18/2025 04:04:17 [ruzicka:INFO] Predicting on 18 documents\n"
     ]
    },
    {
     "name": "stdout",
     "output_type": "stream",
     "text": [
      "Condorcet\n"
     ]
    },
    {
     "name": "stderr",
     "output_type": "stream",
     "text": [
      "03/18/2025 04:04:19 [ruzicka:INFO] Predicting on 18 documents\n"
     ]
    },
    {
     "name": "stdout",
     "output_type": "stream",
     "text": [
      "La Grange\n"
     ]
    },
    {
     "name": "stderr",
     "output_type": "stream",
     "text": [
      "03/18/2025 04:04:21 [ruzicka:INFO] Predicting on 18 documents\n"
     ]
    },
    {
     "name": "stdout",
     "output_type": "stream",
     "text": [
      "Marmontel\n"
     ]
    }
   ],
   "source": [
    "# testing each individual work\n",
    "for w in unique_works[0:3]:\n",
    "    \n",
    "    problems = raw_df[raw_df.work == w].reset_index(drop=True).copy()\n",
    "    problems_X = X[raw_df.work == w].reset_index(drop=True).copy()\n",
    "    #print(problems)\n",
    "    \n",
    "    # extract true author\n",
    "    a_true = problems.author[0]\n",
    "    # print(a_true)\n",
    "    \n",
    "    # extract the rest of the corpus\n",
    "    rest = raw_df[raw_df.work != w].reset_index(drop=True).copy()\n",
    "    rest_X = X[raw_df.work != w].reset_index(drop = True).copy()\n",
    "    #print(rest)\n",
    "    \n",
    "    \n",
    "    print('\\n\\n########################## Working with:', w, '---- by', a_true)\n",
    "    \n",
    "    ### Scaling\n",
    "\n",
    "    sts = StandardScaler(with_mean=False).fit(rest_X)\n",
    "    rest_scaled_X = sts.transform(rest_X)\n",
    "    problems_scaled_X = sts.transform(problems_X)\n",
    "\n",
    "\n",
    "    # set verifier\n",
    "    rng = np.random.default_rng(42)\n",
    "\n",
    "    bdi_mm = BDIVerifier(\n",
    "        metric='minmax', nb_bootstrap_iter=1000, rnd_prop=0.35, random_state=rng\n",
    "    )\n",
    "\n",
    "    # fit \n",
    "    bdi_mm.fit(rest_scaled_X, rest.author_label)\n",
    "    \n",
    "    for label in label_uniques.values:\n",
    "        print(f\"Testing against {label}\")\n",
    "        code = label_uniques.get_loc(label)\n",
    "        print(\n",
    "            f\"Bootstrap Match Strength (one per chunk, 0-1.0): {bdi_mm.predict_proba(problems_scaled_X, [code] * problems_scaled_X.shape[0])}\"\n",
    "        )\n",
    "    \n",
    "    authors = label_uniques.values\n",
    "\n",
    "    fh = ''\n",
    "    \n",
    "    # compare with each author and store results\n",
    "    for a in authors:\n",
    "\n",
    "        print(a)\n",
    "\n",
    "        bdi_mm.predict_proba(\n",
    "            problems_scaled_X, [label_uniques.get_loc(a)] * problems_scaled_X.shape[0]\n",
    "        )\n",
    "\n",
    "\n",
    "        x = pd.DataFrame(dict(zip(problems.tag, bdi_mm._dist_arrays)))\n",
    "\n",
    "        fh = '03_tests/authors_vs_all/runs/' + a_true + '-' + w + '_vs_' + a + '.csv'\n",
    "\n",
    "        x.to_csv(fh)"
   ]
  }
 ],
 "metadata": {
  "kernelspec": {
   "display_name": "Python 3 (ipykernel)",
   "language": "python",
   "name": "python3"
  },
  "language_info": {
   "codemirror_mode": {
    "name": "ipython",
    "version": 3
   },
   "file_extension": ".py",
   "mimetype": "text/x-python",
   "name": "python",
   "nbconvert_exporter": "python",
   "pygments_lexer": "ipython3",
   "version": "3.9.16"
  }
 },
 "nbformat": 4,
 "nbformat_minor": 5
}
