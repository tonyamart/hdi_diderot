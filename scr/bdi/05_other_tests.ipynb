{
 "cells": [
  {
   "cell_type": "markdown",
   "id": "4e328428",
   "metadata": {},
   "source": [
    "### Other fragments to test\n",
    "- pencil: pensées détachées\n",
    "- ink: mélanges\n",
    "- fr-sauvage\n",
    "- fr on russia and china\n",
    "- fr selected fragments 51-55-72-40"
   ]
  },
  {
   "cell_type": "code",
   "execution_count": 1,
   "id": "34de59a3",
   "metadata": {},
   "outputs": [],
   "source": [
    "import pandas as pd\n",
    "import numpy as np\n",
    "\n",
    "import re\n",
    "\n",
    "from sklearn.preprocessing import StandardScaler\n",
    "\n",
    "import logging\n",
    "\n",
    "logging.basicConfig(level=\"INFO\")\n",
    "logger = logging.getLogger(\"ruzicka\")\n",
    "\n",
    "from ruzicka.BDIVerifier import BDIVerifier"
   ]
  },
  {
   "cell_type": "code",
   "execution_count": 39,
   "id": "6e70d945",
   "metadata": {},
   "outputs": [
    {
     "data": {
      "text/html": [
       "<div>\n",
       "<style scoped>\n",
       "    .dataframe tbody tr th:only-of-type {\n",
       "        vertical-align: middle;\n",
       "    }\n",
       "\n",
       "    .dataframe tbody tr th {\n",
       "        vertical-align: top;\n",
       "    }\n",
       "\n",
       "    .dataframe thead th {\n",
       "        text-align: right;\n",
       "    }\n",
       "</style>\n",
       "<table border=\"1\" class=\"dataframe\">\n",
       "  <thead>\n",
       "    <tr style=\"text-align: right;\">\n",
       "      <th></th>\n",
       "      <th>work</th>\n",
       "      <th>author</th>\n",
       "      <th>chunk_num</th>\n",
       "      <th>tag</th>\n",
       "      <th>de</th>\n",
       "      <th>des</th>\n",
       "      <th>et</th>\n",
       "      <th>la</th>\n",
       "      <th>les</th>\n",
       "      <th>vous</th>\n",
       "      <th>...</th>\n",
       "      <th>voit</th>\n",
       "      <th>rendre</th>\n",
       "      <th>beaucoup</th>\n",
       "      <th>seul</th>\n",
       "      <th>ici</th>\n",
       "      <th>mieux</th>\n",
       "      <th>donner</th>\n",
       "      <th>enfin</th>\n",
       "      <th>voir</th>\n",
       "      <th>cependant</th>\n",
       "    </tr>\n",
       "  </thead>\n",
       "  <tbody>\n",
       "    <tr>\n",
       "      <th>0</th>\n",
       "      <td>Avis</td>\n",
       "      <td>Baudeau</td>\n",
       "      <td>0</td>\n",
       "      <td>0__Baudeau_Avis</td>\n",
       "      <td>3.45</td>\n",
       "      <td>2.20</td>\n",
       "      <td>2.50</td>\n",
       "      <td>1.40</td>\n",
       "      <td>2.35</td>\n",
       "      <td>0.65</td>\n",
       "      <td>...</td>\n",
       "      <td>0.05</td>\n",
       "      <td>0.00</td>\n",
       "      <td>0.05</td>\n",
       "      <td>0.05</td>\n",
       "      <td>0.05</td>\n",
       "      <td>0.00</td>\n",
       "      <td>0.05</td>\n",
       "      <td>0.20</td>\n",
       "      <td>0.00</td>\n",
       "      <td>0.00</td>\n",
       "    </tr>\n",
       "    <tr>\n",
       "      <th>1</th>\n",
       "      <td>Eclaircissemens</td>\n",
       "      <td>Baudeau</td>\n",
       "      <td>0</td>\n",
       "      <td>0__Baudeau_Eclaircissemens</td>\n",
       "      <td>4.40</td>\n",
       "      <td>2.85</td>\n",
       "      <td>2.80</td>\n",
       "      <td>2.60</td>\n",
       "      <td>2.40</td>\n",
       "      <td>1.65</td>\n",
       "      <td>...</td>\n",
       "      <td>0.05</td>\n",
       "      <td>0.00</td>\n",
       "      <td>0.00</td>\n",
       "      <td>0.05</td>\n",
       "      <td>0.00</td>\n",
       "      <td>0.00</td>\n",
       "      <td>0.05</td>\n",
       "      <td>0.00</td>\n",
       "      <td>0.00</td>\n",
       "      <td>0.00</td>\n",
       "    </tr>\n",
       "    <tr>\n",
       "      <th>2</th>\n",
       "      <td>Explication</td>\n",
       "      <td>Baudeau</td>\n",
       "      <td>0</td>\n",
       "      <td>0__Baudeau_Explication</td>\n",
       "      <td>4.90</td>\n",
       "      <td>2.60</td>\n",
       "      <td>3.80</td>\n",
       "      <td>3.10</td>\n",
       "      <td>4.65</td>\n",
       "      <td>0.95</td>\n",
       "      <td>...</td>\n",
       "      <td>0.00</td>\n",
       "      <td>0.00</td>\n",
       "      <td>0.05</td>\n",
       "      <td>0.10</td>\n",
       "      <td>0.10</td>\n",
       "      <td>0.00</td>\n",
       "      <td>0.05</td>\n",
       "      <td>0.05</td>\n",
       "      <td>0.05</td>\n",
       "      <td>0.00</td>\n",
       "    </tr>\n",
       "    <tr>\n",
       "      <th>3</th>\n",
       "      <td>Idees sur l-administration</td>\n",
       "      <td>Baudeau</td>\n",
       "      <td>0</td>\n",
       "      <td>0__Baudeau_Idees sur l-administration</td>\n",
       "      <td>5.60</td>\n",
       "      <td>1.90</td>\n",
       "      <td>2.20</td>\n",
       "      <td>3.65</td>\n",
       "      <td>1.85</td>\n",
       "      <td>0.10</td>\n",
       "      <td>...</td>\n",
       "      <td>0.00</td>\n",
       "      <td>0.00</td>\n",
       "      <td>0.10</td>\n",
       "      <td>0.10</td>\n",
       "      <td>0.00</td>\n",
       "      <td>0.05</td>\n",
       "      <td>0.05</td>\n",
       "      <td>0.10</td>\n",
       "      <td>0.00</td>\n",
       "      <td>0.05</td>\n",
       "    </tr>\n",
       "    <tr>\n",
       "      <th>4</th>\n",
       "      <td>Idees sur la puissance</td>\n",
       "      <td>Baudeau</td>\n",
       "      <td>0</td>\n",
       "      <td>0__Baudeau_Idees sur la puissance</td>\n",
       "      <td>4.90</td>\n",
       "      <td>1.85</td>\n",
       "      <td>2.50</td>\n",
       "      <td>2.35</td>\n",
       "      <td>2.75</td>\n",
       "      <td>0.10</td>\n",
       "      <td>...</td>\n",
       "      <td>0.00</td>\n",
       "      <td>0.10</td>\n",
       "      <td>0.05</td>\n",
       "      <td>0.00</td>\n",
       "      <td>0.00</td>\n",
       "      <td>0.10</td>\n",
       "      <td>0.00</td>\n",
       "      <td>0.10</td>\n",
       "      <td>0.05</td>\n",
       "      <td>0.00</td>\n",
       "    </tr>\n",
       "    <tr>\n",
       "      <th>...</th>\n",
       "      <td>...</td>\n",
       "      <td>...</td>\n",
       "      <td>...</td>\n",
       "      <td>...</td>\n",
       "      <td>...</td>\n",
       "      <td>...</td>\n",
       "      <td>...</td>\n",
       "      <td>...</td>\n",
       "      <td>...</td>\n",
       "      <td>...</td>\n",
       "      <td>...</td>\n",
       "      <td>...</td>\n",
       "      <td>...</td>\n",
       "      <td>...</td>\n",
       "      <td>...</td>\n",
       "      <td>...</td>\n",
       "      <td>...</td>\n",
       "      <td>...</td>\n",
       "      <td>...</td>\n",
       "      <td>...</td>\n",
       "      <td>...</td>\n",
       "    </tr>\n",
       "    <tr>\n",
       "      <th>4421</th>\n",
       "      <td>elements T3</td>\n",
       "      <td>Marmontel</td>\n",
       "      <td>96</td>\n",
       "      <td>96__Marmontel_elements T3</td>\n",
       "      <td>4.15</td>\n",
       "      <td>1.20</td>\n",
       "      <td>3.35</td>\n",
       "      <td>3.00</td>\n",
       "      <td>1.15</td>\n",
       "      <td>0.00</td>\n",
       "      <td>...</td>\n",
       "      <td>0.05</td>\n",
       "      <td>0.10</td>\n",
       "      <td>0.00</td>\n",
       "      <td>0.25</td>\n",
       "      <td>0.00</td>\n",
       "      <td>0.05</td>\n",
       "      <td>0.05</td>\n",
       "      <td>0.05</td>\n",
       "      <td>0.00</td>\n",
       "      <td>0.00</td>\n",
       "    </tr>\n",
       "    <tr>\n",
       "      <th>4422</th>\n",
       "      <td>Histoire Generale T19</td>\n",
       "      <td>Deleyre</td>\n",
       "      <td>97</td>\n",
       "      <td>97__Deleyre_Histoire Generale T19</td>\n",
       "      <td>5.25</td>\n",
       "      <td>1.85</td>\n",
       "      <td>0.75</td>\n",
       "      <td>3.75</td>\n",
       "      <td>2.65</td>\n",
       "      <td>0.00</td>\n",
       "      <td>...</td>\n",
       "      <td>0.00</td>\n",
       "      <td>0.05</td>\n",
       "      <td>0.05</td>\n",
       "      <td>0.00</td>\n",
       "      <td>0.00</td>\n",
       "      <td>0.00</td>\n",
       "      <td>0.00</td>\n",
       "      <td>0.00</td>\n",
       "      <td>0.00</td>\n",
       "      <td>0.00</td>\n",
       "    </tr>\n",
       "    <tr>\n",
       "      <th>4423</th>\n",
       "      <td>elements T3</td>\n",
       "      <td>Marmontel</td>\n",
       "      <td>97</td>\n",
       "      <td>97__Marmontel_elements T3</td>\n",
       "      <td>4.60</td>\n",
       "      <td>0.95</td>\n",
       "      <td>3.10</td>\n",
       "      <td>3.40</td>\n",
       "      <td>1.55</td>\n",
       "      <td>0.00</td>\n",
       "      <td>...</td>\n",
       "      <td>0.00</td>\n",
       "      <td>0.10</td>\n",
       "      <td>0.00</td>\n",
       "      <td>0.00</td>\n",
       "      <td>0.00</td>\n",
       "      <td>0.00</td>\n",
       "      <td>0.05</td>\n",
       "      <td>0.00</td>\n",
       "      <td>0.00</td>\n",
       "      <td>0.00</td>\n",
       "    </tr>\n",
       "    <tr>\n",
       "      <th>4424</th>\n",
       "      <td>Histoire Generale T19</td>\n",
       "      <td>Deleyre</td>\n",
       "      <td>98</td>\n",
       "      <td>98__Deleyre_Histoire Generale T19</td>\n",
       "      <td>4.90</td>\n",
       "      <td>2.95</td>\n",
       "      <td>0.75</td>\n",
       "      <td>3.25</td>\n",
       "      <td>3.20</td>\n",
       "      <td>0.05</td>\n",
       "      <td>...</td>\n",
       "      <td>0.05</td>\n",
       "      <td>0.00</td>\n",
       "      <td>0.20</td>\n",
       "      <td>0.00</td>\n",
       "      <td>0.00</td>\n",
       "      <td>0.05</td>\n",
       "      <td>0.00</td>\n",
       "      <td>0.00</td>\n",
       "      <td>0.05</td>\n",
       "      <td>0.05</td>\n",
       "    </tr>\n",
       "    <tr>\n",
       "      <th>4425</th>\n",
       "      <td>Histoire Generale T19</td>\n",
       "      <td>Deleyre</td>\n",
       "      <td>99</td>\n",
       "      <td>99__Deleyre_Histoire Generale T19</td>\n",
       "      <td>5.55</td>\n",
       "      <td>2.45</td>\n",
       "      <td>0.30</td>\n",
       "      <td>2.70</td>\n",
       "      <td>3.40</td>\n",
       "      <td>0.00</td>\n",
       "      <td>...</td>\n",
       "      <td>0.05</td>\n",
       "      <td>0.00</td>\n",
       "      <td>0.00</td>\n",
       "      <td>0.00</td>\n",
       "      <td>0.00</td>\n",
       "      <td>0.00</td>\n",
       "      <td>0.00</td>\n",
       "      <td>0.15</td>\n",
       "      <td>0.00</td>\n",
       "      <td>0.10</td>\n",
       "    </tr>\n",
       "  </tbody>\n",
       "</table>\n",
       "<p>4426 rows × 204 columns</p>\n",
       "</div>"
      ],
      "text/plain": [
       "                            work     author  chunk_num  \\\n",
       "0                          Avis     Baudeau          0   \n",
       "1                Eclaircissemens    Baudeau          0   \n",
       "2                    Explication    Baudeau          0   \n",
       "3     Idees sur l-administration    Baudeau          0   \n",
       "4         Idees sur la puissance    Baudeau          0   \n",
       "...                          ...        ...        ...   \n",
       "4421                 elements T3  Marmontel         96   \n",
       "4422       Histoire Generale T19    Deleyre         97   \n",
       "4423                 elements T3  Marmontel         97   \n",
       "4424       Histoire Generale T19    Deleyre         98   \n",
       "4425       Histoire Generale T19    Deleyre         99   \n",
       "\n",
       "                                        tag    de   des    et    la   les  \\\n",
       "0                          0__Baudeau_Avis   3.45  2.20  2.50  1.40  2.35   \n",
       "1                0__Baudeau_Eclaircissemens  4.40  2.85  2.80  2.60  2.40   \n",
       "2                    0__Baudeau_Explication  4.90  2.60  3.80  3.10  4.65   \n",
       "3     0__Baudeau_Idees sur l-administration  5.60  1.90  2.20  3.65  1.85   \n",
       "4         0__Baudeau_Idees sur la puissance  4.90  1.85  2.50  2.35  2.75   \n",
       "...                                     ...   ...   ...   ...   ...   ...   \n",
       "4421              96__Marmontel_elements T3  4.15  1.20  3.35  3.00  1.15   \n",
       "4422      97__Deleyre_Histoire Generale T19  5.25  1.85  0.75  3.75  2.65   \n",
       "4423              97__Marmontel_elements T3  4.60  0.95  3.10  3.40  1.55   \n",
       "4424      98__Deleyre_Histoire Generale T19  4.90  2.95  0.75  3.25  3.20   \n",
       "4425      99__Deleyre_Histoire Generale T19  5.55  2.45  0.30  2.70  3.40   \n",
       "\n",
       "      vous  ...  voit  rendre  beaucoup  seul   ici  mieux  donner  enfin  \\\n",
       "0     0.65  ...  0.05    0.00      0.05  0.05  0.05   0.00    0.05   0.20   \n",
       "1     1.65  ...  0.05    0.00      0.00  0.05  0.00   0.00    0.05   0.00   \n",
       "2     0.95  ...  0.00    0.00      0.05  0.10  0.10   0.00    0.05   0.05   \n",
       "3     0.10  ...  0.00    0.00      0.10  0.10  0.00   0.05    0.05   0.10   \n",
       "4     0.10  ...  0.00    0.10      0.05  0.00  0.00   0.10    0.00   0.10   \n",
       "...    ...  ...   ...     ...       ...   ...   ...    ...     ...    ...   \n",
       "4421  0.00  ...  0.05    0.10      0.00  0.25  0.00   0.05    0.05   0.05   \n",
       "4422  0.00  ...  0.00    0.05      0.05  0.00  0.00   0.00    0.00   0.00   \n",
       "4423  0.00  ...  0.00    0.10      0.00  0.00  0.00   0.00    0.05   0.00   \n",
       "4424  0.05  ...  0.05    0.00      0.20  0.00  0.00   0.05    0.00   0.00   \n",
       "4425  0.00  ...  0.05    0.00      0.00  0.00  0.00   0.00    0.00   0.15   \n",
       "\n",
       "      voir  cependant  \n",
       "0     0.00       0.00  \n",
       "1     0.00       0.00  \n",
       "2     0.05       0.00  \n",
       "3     0.00       0.05  \n",
       "4     0.05       0.00  \n",
       "...    ...        ...  \n",
       "4421  0.00       0.00  \n",
       "4422  0.00       0.00  \n",
       "4423  0.00       0.00  \n",
       "4424  0.05       0.05  \n",
       "4425  0.00       0.10  \n",
       "\n",
       "[4426 rows x 204 columns]"
      ]
     },
     "execution_count": 39,
     "metadata": {},
     "output_type": "execute_result"
    }
   ],
   "source": [
    "# load preprocessed data\n",
    "\n",
    "corpus = pd.read_csv('05_tests/rchina_2k_200mfw_rfreq.csv') # rel freq\n",
    "\n",
    "corpus"
   ]
  },
  {
   "cell_type": "code",
   "execution_count": 40,
   "id": "b855ba67",
   "metadata": {},
   "outputs": [
    {
     "data": {
      "text/html": [
       "<div>\n",
       "<style scoped>\n",
       "    .dataframe tbody tr th:only-of-type {\n",
       "        vertical-align: middle;\n",
       "    }\n",
       "\n",
       "    .dataframe tbody tr th {\n",
       "        vertical-align: top;\n",
       "    }\n",
       "\n",
       "    .dataframe thead th {\n",
       "        text-align: right;\n",
       "    }\n",
       "</style>\n",
       "<table border=\"1\" class=\"dataframe\">\n",
       "  <thead>\n",
       "    <tr style=\"text-align: right;\">\n",
       "      <th></th>\n",
       "      <th>work</th>\n",
       "      <th>author</th>\n",
       "      <th>chunk_num</th>\n",
       "      <th>tag</th>\n",
       "    </tr>\n",
       "  </thead>\n",
       "  <tbody>\n",
       "    <tr>\n",
       "      <th>0</th>\n",
       "      <td>Avis</td>\n",
       "      <td>Baudeau</td>\n",
       "      <td>0</td>\n",
       "      <td>0__Baudeau_Avis</td>\n",
       "    </tr>\n",
       "    <tr>\n",
       "      <th>1</th>\n",
       "      <td>Eclaircissemens</td>\n",
       "      <td>Baudeau</td>\n",
       "      <td>0</td>\n",
       "      <td>0__Baudeau_Eclaircissemens</td>\n",
       "    </tr>\n",
       "    <tr>\n",
       "      <th>2</th>\n",
       "      <td>Explication</td>\n",
       "      <td>Baudeau</td>\n",
       "      <td>0</td>\n",
       "      <td>0__Baudeau_Explication</td>\n",
       "    </tr>\n",
       "    <tr>\n",
       "      <th>3</th>\n",
       "      <td>Idees sur l-administration</td>\n",
       "      <td>Baudeau</td>\n",
       "      <td>0</td>\n",
       "      <td>0__Baudeau_Idees sur l-administration</td>\n",
       "    </tr>\n",
       "    <tr>\n",
       "      <th>4</th>\n",
       "      <td>Idees sur la puissance</td>\n",
       "      <td>Baudeau</td>\n",
       "      <td>0</td>\n",
       "      <td>0__Baudeau_Idees sur la puissance</td>\n",
       "    </tr>\n",
       "    <tr>\n",
       "      <th>...</th>\n",
       "      <td>...</td>\n",
       "      <td>...</td>\n",
       "      <td>...</td>\n",
       "      <td>...</td>\n",
       "    </tr>\n",
       "    <tr>\n",
       "      <th>4421</th>\n",
       "      <td>elements T3</td>\n",
       "      <td>Marmontel</td>\n",
       "      <td>96</td>\n",
       "      <td>96__Marmontel_elements T3</td>\n",
       "    </tr>\n",
       "    <tr>\n",
       "      <th>4422</th>\n",
       "      <td>Histoire Generale T19</td>\n",
       "      <td>Deleyre</td>\n",
       "      <td>97</td>\n",
       "      <td>97__Deleyre_Histoire Generale T19</td>\n",
       "    </tr>\n",
       "    <tr>\n",
       "      <th>4423</th>\n",
       "      <td>elements T3</td>\n",
       "      <td>Marmontel</td>\n",
       "      <td>97</td>\n",
       "      <td>97__Marmontel_elements T3</td>\n",
       "    </tr>\n",
       "    <tr>\n",
       "      <th>4424</th>\n",
       "      <td>Histoire Generale T19</td>\n",
       "      <td>Deleyre</td>\n",
       "      <td>98</td>\n",
       "      <td>98__Deleyre_Histoire Generale T19</td>\n",
       "    </tr>\n",
       "    <tr>\n",
       "      <th>4425</th>\n",
       "      <td>Histoire Generale T19</td>\n",
       "      <td>Deleyre</td>\n",
       "      <td>99</td>\n",
       "      <td>99__Deleyre_Histoire Generale T19</td>\n",
       "    </tr>\n",
       "  </tbody>\n",
       "</table>\n",
       "<p>4426 rows × 4 columns</p>\n",
       "</div>"
      ],
      "text/plain": [
       "                            work     author  chunk_num  \\\n",
       "0                          Avis     Baudeau          0   \n",
       "1                Eclaircissemens    Baudeau          0   \n",
       "2                    Explication    Baudeau          0   \n",
       "3     Idees sur l-administration    Baudeau          0   \n",
       "4         Idees sur la puissance    Baudeau          0   \n",
       "...                          ...        ...        ...   \n",
       "4421                 elements T3  Marmontel         96   \n",
       "4422       Histoire Generale T19    Deleyre         97   \n",
       "4423                 elements T3  Marmontel         97   \n",
       "4424       Histoire Generale T19    Deleyre         98   \n",
       "4425       Histoire Generale T19    Deleyre         99   \n",
       "\n",
       "                                        tag  \n",
       "0                          0__Baudeau_Avis   \n",
       "1                0__Baudeau_Eclaircissemens  \n",
       "2                    0__Baudeau_Explication  \n",
       "3     0__Baudeau_Idees sur l-administration  \n",
       "4         0__Baudeau_Idees sur la puissance  \n",
       "...                                     ...  \n",
       "4421              96__Marmontel_elements T3  \n",
       "4422      97__Deleyre_Histoire Generale T19  \n",
       "4423              97__Marmontel_elements T3  \n",
       "4424      98__Deleyre_Histoire Generale T19  \n",
       "4425      99__Deleyre_Histoire Generale T19  \n",
       "\n",
       "[4426 rows x 4 columns]"
      ]
     },
     "execution_count": 40,
     "metadata": {},
     "output_type": "execute_result"
    }
   ],
   "source": [
    "raw_df = corpus.iloc[:, :4] # leaves metadata\n",
    "X = corpus.iloc[:, 4:] # leaves only word columns\n",
    "\n",
    "raw_df"
   ]
  },
  {
   "cell_type": "code",
   "execution_count": 41,
   "id": "624b8785",
   "metadata": {},
   "outputs": [
    {
     "data": {
      "text/plain": [
       "(4426, 200)"
      ]
     },
     "execution_count": 41,
     "metadata": {},
     "output_type": "execute_result"
    }
   ],
   "source": [
    "# numer of rows and columns in the X (word frequencies subset)\n",
    "X.shape"
   ]
  },
  {
   "cell_type": "code",
   "execution_count": 42,
   "id": "d578aefe",
   "metadata": {},
   "outputs": [
    {
     "data": {
      "text/html": [
       "<div>\n",
       "<style scoped>\n",
       "    .dataframe tbody tr th:only-of-type {\n",
       "        vertical-align: middle;\n",
       "    }\n",
       "\n",
       "    .dataframe tbody tr th {\n",
       "        vertical-align: top;\n",
       "    }\n",
       "\n",
       "    .dataframe thead th {\n",
       "        text-align: right;\n",
       "    }\n",
       "</style>\n",
       "<table border=\"1\" class=\"dataframe\">\n",
       "  <thead>\n",
       "    <tr style=\"text-align: right;\">\n",
       "      <th></th>\n",
       "      <th>work</th>\n",
       "      <th>author_label</th>\n",
       "      <th>author</th>\n",
       "      <th>chunk_num</th>\n",
       "      <th>tag</th>\n",
       "    </tr>\n",
       "  </thead>\n",
       "  <tbody>\n",
       "    <tr>\n",
       "      <th>0</th>\n",
       "      <td>Avis</td>\n",
       "      <td>0</td>\n",
       "      <td>Baudeau</td>\n",
       "      <td>0</td>\n",
       "      <td>0__Baudeau_Avis</td>\n",
       "    </tr>\n",
       "    <tr>\n",
       "      <th>1</th>\n",
       "      <td>Eclaircissemens</td>\n",
       "      <td>0</td>\n",
       "      <td>Baudeau</td>\n",
       "      <td>0</td>\n",
       "      <td>0__Baudeau_Eclaircissemens</td>\n",
       "    </tr>\n",
       "    <tr>\n",
       "      <th>2</th>\n",
       "      <td>Explication</td>\n",
       "      <td>0</td>\n",
       "      <td>Baudeau</td>\n",
       "      <td>0</td>\n",
       "      <td>0__Baudeau_Explication</td>\n",
       "    </tr>\n",
       "    <tr>\n",
       "      <th>3</th>\n",
       "      <td>Idees sur l-administration</td>\n",
       "      <td>0</td>\n",
       "      <td>Baudeau</td>\n",
       "      <td>0</td>\n",
       "      <td>0__Baudeau_Idees sur l-administration</td>\n",
       "    </tr>\n",
       "    <tr>\n",
       "      <th>4</th>\n",
       "      <td>Idees sur la puissance</td>\n",
       "      <td>0</td>\n",
       "      <td>Baudeau</td>\n",
       "      <td>0</td>\n",
       "      <td>0__Baudeau_Idees sur la puissance</td>\n",
       "    </tr>\n",
       "    <tr>\n",
       "      <th>...</th>\n",
       "      <td>...</td>\n",
       "      <td>...</td>\n",
       "      <td>...</td>\n",
       "      <td>...</td>\n",
       "      <td>...</td>\n",
       "    </tr>\n",
       "    <tr>\n",
       "      <th>4421</th>\n",
       "      <td>elements T3</td>\n",
       "      <td>11</td>\n",
       "      <td>Marmontel</td>\n",
       "      <td>96</td>\n",
       "      <td>96__Marmontel_elements T3</td>\n",
       "    </tr>\n",
       "    <tr>\n",
       "      <th>4422</th>\n",
       "      <td>Histoire Generale T19</td>\n",
       "      <td>3</td>\n",
       "      <td>Deleyre</td>\n",
       "      <td>97</td>\n",
       "      <td>97__Deleyre_Histoire Generale T19</td>\n",
       "    </tr>\n",
       "    <tr>\n",
       "      <th>4423</th>\n",
       "      <td>elements T3</td>\n",
       "      <td>11</td>\n",
       "      <td>Marmontel</td>\n",
       "      <td>97</td>\n",
       "      <td>97__Marmontel_elements T3</td>\n",
       "    </tr>\n",
       "    <tr>\n",
       "      <th>4424</th>\n",
       "      <td>Histoire Generale T19</td>\n",
       "      <td>3</td>\n",
       "      <td>Deleyre</td>\n",
       "      <td>98</td>\n",
       "      <td>98__Deleyre_Histoire Generale T19</td>\n",
       "    </tr>\n",
       "    <tr>\n",
       "      <th>4425</th>\n",
       "      <td>Histoire Generale T19</td>\n",
       "      <td>3</td>\n",
       "      <td>Deleyre</td>\n",
       "      <td>99</td>\n",
       "      <td>99__Deleyre_Histoire Generale T19</td>\n",
       "    </tr>\n",
       "  </tbody>\n",
       "</table>\n",
       "<p>4426 rows × 5 columns</p>\n",
       "</div>"
      ],
      "text/plain": [
       "                            work  author_label     author  chunk_num  \\\n",
       "0                          Avis              0    Baudeau          0   \n",
       "1                Eclaircissemens             0    Baudeau          0   \n",
       "2                    Explication             0    Baudeau          0   \n",
       "3     Idees sur l-administration             0    Baudeau          0   \n",
       "4         Idees sur la puissance             0    Baudeau          0   \n",
       "...                          ...           ...        ...        ...   \n",
       "4421                 elements T3            11  Marmontel         96   \n",
       "4422       Histoire Generale T19             3    Deleyre         97   \n",
       "4423                 elements T3            11  Marmontel         97   \n",
       "4424       Histoire Generale T19             3    Deleyre         98   \n",
       "4425       Histoire Generale T19             3    Deleyre         99   \n",
       "\n",
       "                                        tag  \n",
       "0                          0__Baudeau_Avis   \n",
       "1                0__Baudeau_Eclaircissemens  \n",
       "2                    0__Baudeau_Explication  \n",
       "3     0__Baudeau_Idees sur l-administration  \n",
       "4         0__Baudeau_Idees sur la puissance  \n",
       "...                                     ...  \n",
       "4421              96__Marmontel_elements T3  \n",
       "4422      97__Deleyre_Histoire Generale T19  \n",
       "4423              97__Marmontel_elements T3  \n",
       "4424      98__Deleyre_Histoire Generale T19  \n",
       "4425      99__Deleyre_Histoire Generale T19  \n",
       "\n",
       "[4426 rows x 5 columns]"
      ]
     },
     "execution_count": 42,
     "metadata": {},
     "output_type": "execute_result"
    }
   ],
   "source": [
    "# create numeric author labels\n",
    "labels, label_uniques = raw_df.author.factorize()\n",
    "raw_df.insert(1, \"author_label\", labels)\n",
    "raw_df"
   ]
  },
  {
   "cell_type": "markdown",
   "id": "671b8427",
   "metadata": {},
   "source": [
    "#### NB CHANGE PROBLEM "
   ]
  },
  {
   "cell_type": "code",
   "execution_count": 43,
   "id": "a9ffd735",
   "metadata": {},
   "outputs": [
    {
     "data": {
      "text/html": [
       "<div>\n",
       "<style scoped>\n",
       "    .dataframe tbody tr th:only-of-type {\n",
       "        vertical-align: middle;\n",
       "    }\n",
       "\n",
       "    .dataframe tbody tr th {\n",
       "        vertical-align: top;\n",
       "    }\n",
       "\n",
       "    .dataframe thead th {\n",
       "        text-align: right;\n",
       "    }\n",
       "</style>\n",
       "<table border=\"1\" class=\"dataframe\">\n",
       "  <thead>\n",
       "    <tr style=\"text-align: right;\">\n",
       "      <th></th>\n",
       "      <th>work</th>\n",
       "      <th>author_label</th>\n",
       "      <th>author</th>\n",
       "      <th>chunk_num</th>\n",
       "      <th>tag</th>\n",
       "    </tr>\n",
       "  </thead>\n",
       "  <tbody>\n",
       "    <tr>\n",
       "      <th>0</th>\n",
       "      <td>fr-on-russia-china</td>\n",
       "      <td>7</td>\n",
       "      <td>HDI</td>\n",
       "      <td>0</td>\n",
       "      <td>0__HDI_fr-on-russia-china</td>\n",
       "    </tr>\n",
       "    <tr>\n",
       "      <th>1</th>\n",
       "      <td>fr-on-russia-china</td>\n",
       "      <td>7</td>\n",
       "      <td>HDI</td>\n",
       "      <td>1</td>\n",
       "      <td>1__HDI_fr-on-russia-china</td>\n",
       "    </tr>\n",
       "  </tbody>\n",
       "</table>\n",
       "</div>"
      ],
      "text/plain": [
       "                 work  author_label author  chunk_num  \\\n",
       "0  fr-on-russia-china             7    HDI          0   \n",
       "1  fr-on-russia-china             7    HDI          1   \n",
       "\n",
       "                         tag  \n",
       "0  0__HDI_fr-on-russia-china  \n",
       "1  1__HDI_fr-on-russia-china  "
      ]
     },
     "execution_count": 43,
     "metadata": {},
     "output_type": "execute_result"
    }
   ],
   "source": [
    "# \"pencil-pensees-detachees\", \"ink-melanges\",\n",
    "# \"fr-51-55-72-40\",\"fr-on-russia-china\", \"fr-sauvage\"\n",
    "\n",
    "problems = raw_df[raw_df.work == \"fr-on-russia-china\"].reset_index(drop=True).copy()\n",
    "problems_X = X[raw_df.work == \"fr-on-russia-china\"].reset_index(drop=True).copy()\n",
    "problems"
   ]
  },
  {
   "cell_type": "code",
   "execution_count": 44,
   "id": "90ae5f2b",
   "metadata": {},
   "outputs": [
    {
     "data": {
      "text/html": [
       "<div>\n",
       "<style scoped>\n",
       "    .dataframe tbody tr th:only-of-type {\n",
       "        vertical-align: middle;\n",
       "    }\n",
       "\n",
       "    .dataframe tbody tr th {\n",
       "        vertical-align: top;\n",
       "    }\n",
       "\n",
       "    .dataframe thead th {\n",
       "        text-align: right;\n",
       "    }\n",
       "</style>\n",
       "<table border=\"1\" class=\"dataframe\">\n",
       "  <thead>\n",
       "    <tr style=\"text-align: right;\">\n",
       "      <th></th>\n",
       "      <th>work</th>\n",
       "      <th>author_label</th>\n",
       "      <th>author</th>\n",
       "      <th>chunk_num</th>\n",
       "      <th>tag</th>\n",
       "    </tr>\n",
       "  </thead>\n",
       "  <tbody>\n",
       "    <tr>\n",
       "      <th>0</th>\n",
       "      <td>Avis</td>\n",
       "      <td>0</td>\n",
       "      <td>Baudeau</td>\n",
       "      <td>0</td>\n",
       "      <td>0__Baudeau_Avis</td>\n",
       "    </tr>\n",
       "    <tr>\n",
       "      <th>1</th>\n",
       "      <td>Eclaircissemens</td>\n",
       "      <td>0</td>\n",
       "      <td>Baudeau</td>\n",
       "      <td>0</td>\n",
       "      <td>0__Baudeau_Eclaircissemens</td>\n",
       "    </tr>\n",
       "    <tr>\n",
       "      <th>2</th>\n",
       "      <td>Explication</td>\n",
       "      <td>0</td>\n",
       "      <td>Baudeau</td>\n",
       "      <td>0</td>\n",
       "      <td>0__Baudeau_Explication</td>\n",
       "    </tr>\n",
       "    <tr>\n",
       "      <th>3</th>\n",
       "      <td>Idees sur l-administration</td>\n",
       "      <td>0</td>\n",
       "      <td>Baudeau</td>\n",
       "      <td>0</td>\n",
       "      <td>0__Baudeau_Idees sur l-administration</td>\n",
       "    </tr>\n",
       "    <tr>\n",
       "      <th>4</th>\n",
       "      <td>Idees sur la puissance</td>\n",
       "      <td>0</td>\n",
       "      <td>Baudeau</td>\n",
       "      <td>0</td>\n",
       "      <td>0__Baudeau_Idees sur la puissance</td>\n",
       "    </tr>\n",
       "    <tr>\n",
       "      <th>...</th>\n",
       "      <td>...</td>\n",
       "      <td>...</td>\n",
       "      <td>...</td>\n",
       "      <td>...</td>\n",
       "      <td>...</td>\n",
       "    </tr>\n",
       "    <tr>\n",
       "      <th>4419</th>\n",
       "      <td>elements T3</td>\n",
       "      <td>11</td>\n",
       "      <td>Marmontel</td>\n",
       "      <td>96</td>\n",
       "      <td>96__Marmontel_elements T3</td>\n",
       "    </tr>\n",
       "    <tr>\n",
       "      <th>4420</th>\n",
       "      <td>Histoire Generale T19</td>\n",
       "      <td>3</td>\n",
       "      <td>Deleyre</td>\n",
       "      <td>97</td>\n",
       "      <td>97__Deleyre_Histoire Generale T19</td>\n",
       "    </tr>\n",
       "    <tr>\n",
       "      <th>4421</th>\n",
       "      <td>elements T3</td>\n",
       "      <td>11</td>\n",
       "      <td>Marmontel</td>\n",
       "      <td>97</td>\n",
       "      <td>97__Marmontel_elements T3</td>\n",
       "    </tr>\n",
       "    <tr>\n",
       "      <th>4422</th>\n",
       "      <td>Histoire Generale T19</td>\n",
       "      <td>3</td>\n",
       "      <td>Deleyre</td>\n",
       "      <td>98</td>\n",
       "      <td>98__Deleyre_Histoire Generale T19</td>\n",
       "    </tr>\n",
       "    <tr>\n",
       "      <th>4423</th>\n",
       "      <td>Histoire Generale T19</td>\n",
       "      <td>3</td>\n",
       "      <td>Deleyre</td>\n",
       "      <td>99</td>\n",
       "      <td>99__Deleyre_Histoire Generale T19</td>\n",
       "    </tr>\n",
       "  </tbody>\n",
       "</table>\n",
       "<p>4424 rows × 5 columns</p>\n",
       "</div>"
      ],
      "text/plain": [
       "                            work  author_label     author  chunk_num  \\\n",
       "0                          Avis              0    Baudeau          0   \n",
       "1                Eclaircissemens             0    Baudeau          0   \n",
       "2                    Explication             0    Baudeau          0   \n",
       "3     Idees sur l-administration             0    Baudeau          0   \n",
       "4         Idees sur la puissance             0    Baudeau          0   \n",
       "...                          ...           ...        ...        ...   \n",
       "4419                 elements T3            11  Marmontel         96   \n",
       "4420       Histoire Generale T19             3    Deleyre         97   \n",
       "4421                 elements T3            11  Marmontel         97   \n",
       "4422       Histoire Generale T19             3    Deleyre         98   \n",
       "4423       Histoire Generale T19             3    Deleyre         99   \n",
       "\n",
       "                                        tag  \n",
       "0                          0__Baudeau_Avis   \n",
       "1                0__Baudeau_Eclaircissemens  \n",
       "2                    0__Baudeau_Explication  \n",
       "3     0__Baudeau_Idees sur l-administration  \n",
       "4         0__Baudeau_Idees sur la puissance  \n",
       "...                                     ...  \n",
       "4419              96__Marmontel_elements T3  \n",
       "4420      97__Deleyre_Histoire Generale T19  \n",
       "4421              97__Marmontel_elements T3  \n",
       "4422      98__Deleyre_Histoire Generale T19  \n",
       "4423      99__Deleyre_Histoire Generale T19  \n",
       "\n",
       "[4424 rows x 5 columns]"
      ]
     },
     "execution_count": 44,
     "metadata": {},
     "output_type": "execute_result"
    }
   ],
   "source": [
    "# extract the rest of the corpus\n",
    "\n",
    "rest = raw_df[raw_df.work != \"fr-on-russia-china\"].reset_index(drop=True).copy()\n",
    "rest_X = X[raw_df.work != \"fr-on-russia-china\"].reset_index(drop = True).copy()\n",
    "rest"
   ]
  },
  {
   "cell_type": "markdown",
   "id": "46a451d2",
   "metadata": {},
   "source": [
    "**Scaling**"
   ]
  },
  {
   "cell_type": "code",
   "execution_count": 45,
   "id": "37929eda",
   "metadata": {},
   "outputs": [],
   "source": [
    "sts = StandardScaler(with_mean=False).fit(rest_X)\n",
    "\n",
    "rest_scaled_X = sts.transform(rest_X)\n",
    "problems_scaled_X = sts.transform(problems_X)"
   ]
  },
  {
   "cell_type": "markdown",
   "id": "fe6196b3",
   "metadata": {},
   "source": [
    "**Verification**"
   ]
  },
  {
   "cell_type": "code",
   "execution_count": 46,
   "id": "22e4f23f",
   "metadata": {},
   "outputs": [
    {
     "data": {
      "text/plain": [
       "array(['Baudeau', 'Chastellux', 'Condorcet', 'Deleyre', 'dHolbach',\n",
       "       'Diderot', 'Guibert', 'HDI', 'Jaucourt', 'Jussieu', 'La Grange',\n",
       "       'Marmontel', 'Meister', 'Morellet', 'Naigeon', 'Pechmeja',\n",
       "       'Raynal', 'Rivière', 'Saint-Lambert'], dtype=object)"
      ]
     },
     "execution_count": 46,
     "metadata": {},
     "output_type": "execute_result"
    }
   ],
   "source": [
    "# check unique authors\n",
    "label_uniques.values"
   ]
  },
  {
   "cell_type": "code",
   "execution_count": 47,
   "id": "38dd01e9",
   "metadata": {},
   "outputs": [],
   "source": [
    "# set verifier\n",
    "rng = np.random.default_rng(42)\n",
    "\n",
    "bdi_mm = BDIVerifier(\n",
    "    metric='minmax', nb_bootstrap_iter=1000, rnd_prop=0.35, random_state=rng\n",
    ")"
   ]
  },
  {
   "cell_type": "code",
   "execution_count": 48,
   "id": "56b58593",
   "metadata": {},
   "outputs": [
    {
     "name": "stderr",
     "output_type": "stream",
     "text": [
      "01/22/2025 06:40:27 [ruzicka:INFO] Fitting on 4424 documents...\n"
     ]
    }
   ],
   "source": [
    "# fit \n",
    "bdi_mm.fit(rest_scaled_X, rest.author_label)"
   ]
  },
  {
   "cell_type": "code",
   "execution_count": 49,
   "id": "706a715a",
   "metadata": {},
   "outputs": [
    {
     "name": "stderr",
     "output_type": "stream",
     "text": [
      "01/22/2025 06:40:28 [ruzicka:INFO] Predicting on 2 documents\n"
     ]
    },
    {
     "name": "stdout",
     "output_type": "stream",
     "text": [
      "Testing against Baudeau\n"
     ]
    },
    {
     "name": "stderr",
     "output_type": "stream",
     "text": [
      "01/22/2025 06:40:29 [ruzicka:INFO] Predicting on 2 documents\n"
     ]
    },
    {
     "name": "stdout",
     "output_type": "stream",
     "text": [
      "Bootstrap Match Strength (one per chunk, 0-1.0): [0.709 0.901]\n",
      "Testing against Chastellux\n"
     ]
    },
    {
     "name": "stderr",
     "output_type": "stream",
     "text": [
      "01/22/2025 06:40:29 [ruzicka:INFO] Predicting on 2 documents\n"
     ]
    },
    {
     "name": "stdout",
     "output_type": "stream",
     "text": [
      "Bootstrap Match Strength (one per chunk, 0-1.0): [0.936 0.941]\n",
      "Testing against Condorcet\n"
     ]
    },
    {
     "name": "stderr",
     "output_type": "stream",
     "text": [
      "01/22/2025 06:40:31 [ruzicka:INFO] Predicting on 2 documents\n"
     ]
    },
    {
     "name": "stdout",
     "output_type": "stream",
     "text": [
      "Bootstrap Match Strength (one per chunk, 0-1.0): [0.987 0.993]\n",
      "Testing against Deleyre\n"
     ]
    },
    {
     "name": "stderr",
     "output_type": "stream",
     "text": [
      "01/22/2025 06:40:31 [ruzicka:INFO] Predicting on 2 documents\n"
     ]
    },
    {
     "name": "stdout",
     "output_type": "stream",
     "text": [
      "Bootstrap Match Strength (one per chunk, 0-1.0): [0.937 0.969]\n",
      "Testing against dHolbach\n"
     ]
    },
    {
     "name": "stderr",
     "output_type": "stream",
     "text": [
      "01/22/2025 06:40:33 [ruzicka:INFO] Predicting on 2 documents\n"
     ]
    },
    {
     "name": "stdout",
     "output_type": "stream",
     "text": [
      "Bootstrap Match Strength (one per chunk, 0-1.0): [0.933 0.963]\n",
      "Testing against Diderot\n"
     ]
    },
    {
     "name": "stderr",
     "output_type": "stream",
     "text": [
      "01/22/2025 06:40:34 [ruzicka:INFO] Predicting on 2 documents\n"
     ]
    },
    {
     "name": "stdout",
     "output_type": "stream",
     "text": [
      "Bootstrap Match Strength (one per chunk, 0-1.0): [0.973 0.964]\n",
      "Testing against Guibert\n"
     ]
    },
    {
     "name": "stderr",
     "output_type": "stream",
     "text": [
      "01/22/2025 06:40:34 [ruzicka:INFO] Predicting on 2 documents\n",
      "01/22/2025 06:40:34 [ruzicka:INFO] Predicting on 2 documents\n"
     ]
    },
    {
     "name": "stdout",
     "output_type": "stream",
     "text": [
      "Bootstrap Match Strength (one per chunk, 0-1.0): [0.697 0.773]\n",
      "Testing against HDI\n",
      "Bootstrap Match Strength (one per chunk, 0-1.0): [0.045 0.171]\n",
      "Testing against Jaucourt\n"
     ]
    },
    {
     "name": "stderr",
     "output_type": "stream",
     "text": [
      "01/22/2025 06:40:35 [ruzicka:INFO] Predicting on 2 documents\n"
     ]
    },
    {
     "name": "stdout",
     "output_type": "stream",
     "text": [
      "Bootstrap Match Strength (one per chunk, 0-1.0): [0.934 0.787]\n",
      "Testing against Jussieu\n"
     ]
    },
    {
     "name": "stderr",
     "output_type": "stream",
     "text": [
      "01/22/2025 06:40:35 [ruzicka:INFO] Predicting on 2 documents\n"
     ]
    },
    {
     "name": "stdout",
     "output_type": "stream",
     "text": [
      "Bootstrap Match Strength (one per chunk, 0-1.0): [0.413 0.554]\n",
      "Testing against La Grange\n"
     ]
    },
    {
     "name": "stderr",
     "output_type": "stream",
     "text": [
      "01/22/2025 06:40:35 [ruzicka:INFO] Predicting on 2 documents\n"
     ]
    },
    {
     "name": "stdout",
     "output_type": "stream",
     "text": [
      "Bootstrap Match Strength (one per chunk, 0-1.0): [0.034 0.043]\n",
      "Testing against Marmontel\n"
     ]
    },
    {
     "name": "stderr",
     "output_type": "stream",
     "text": [
      "01/22/2025 06:40:36 [ruzicka:INFO] Predicting on 2 documents\n",
      "01/22/2025 06:40:37 [ruzicka:INFO] Predicting on 2 documents\n"
     ]
    },
    {
     "name": "stdout",
     "output_type": "stream",
     "text": [
      "Bootstrap Match Strength (one per chunk, 0-1.0): [0.916 0.874]\n",
      "Testing against Meister\n",
      "Bootstrap Match Strength (one per chunk, 0-1.0): [0.048 0.105]\n",
      "Testing against Morellet\n"
     ]
    },
    {
     "name": "stderr",
     "output_type": "stream",
     "text": [
      "01/22/2025 06:40:37 [ruzicka:INFO] Predicting on 2 documents\n"
     ]
    },
    {
     "name": "stdout",
     "output_type": "stream",
     "text": [
      "Bootstrap Match Strength (one per chunk, 0-1.0): [0.889 0.815]\n",
      "Testing against Naigeon\n"
     ]
    },
    {
     "name": "stderr",
     "output_type": "stream",
     "text": [
      "01/22/2025 06:40:37 [ruzicka:INFO] Predicting on 2 documents\n"
     ]
    },
    {
     "name": "stdout",
     "output_type": "stream",
     "text": [
      "Bootstrap Match Strength (one per chunk, 0-1.0): [0.635 0.354]\n",
      "Testing against Pechmeja\n"
     ]
    },
    {
     "name": "stderr",
     "output_type": "stream",
     "text": [
      "01/22/2025 06:40:37 [ruzicka:INFO] Predicting on 2 documents\n"
     ]
    },
    {
     "name": "stdout",
     "output_type": "stream",
     "text": [
      "Bootstrap Match Strength (one per chunk, 0-1.0): [0.085 0.383]\n",
      "Testing against Raynal\n"
     ]
    },
    {
     "name": "stderr",
     "output_type": "stream",
     "text": [
      "01/22/2025 06:40:38 [ruzicka:INFO] Predicting on 2 documents\n"
     ]
    },
    {
     "name": "stdout",
     "output_type": "stream",
     "text": [
      "Bootstrap Match Strength (one per chunk, 0-1.0): [0.941 0.927]\n",
      "Testing against Rivière\n"
     ]
    },
    {
     "name": "stderr",
     "output_type": "stream",
     "text": [
      "01/22/2025 06:40:38 [ruzicka:INFO] Predicting on 2 documents\n"
     ]
    },
    {
     "name": "stdout",
     "output_type": "stream",
     "text": [
      "Bootstrap Match Strength (one per chunk, 0-1.0): [0.479 0.528]\n",
      "Testing against Saint-Lambert\n",
      "Bootstrap Match Strength (one per chunk, 0-1.0): [0.862 0.961]\n"
     ]
    }
   ],
   "source": [
    "for label in label_uniques.values:\n",
    "    print(f\"Testing against {label}\")\n",
    "    code = label_uniques.get_loc(label)\n",
    "    print(\n",
    "        f\"Bootstrap Match Strength (one per chunk, 0-1.0): {bdi_mm.predict_proba(problems_scaled_X, [code] * problems_scaled_X.shape[0])}\"\n",
    "    )"
   ]
  },
  {
   "cell_type": "markdown",
   "id": "b96d4f19",
   "metadata": {},
   "source": [
    "#### NB CHANGE PATH"
   ]
  },
  {
   "cell_type": "code",
   "execution_count": 50,
   "id": "e1a1b277",
   "metadata": {},
   "outputs": [
    {
     "name": "stderr",
     "output_type": "stream",
     "text": [
      "01/22/2025 06:40:46 [ruzicka:INFO] Predicting on 2 documents\n"
     ]
    },
    {
     "name": "stdout",
     "output_type": "stream",
     "text": [
      "Baudeau\n"
     ]
    },
    {
     "name": "stderr",
     "output_type": "stream",
     "text": [
      "01/22/2025 06:40:47 [ruzicka:INFO] Predicting on 2 documents\n"
     ]
    },
    {
     "name": "stdout",
     "output_type": "stream",
     "text": [
      "Chastellux\n"
     ]
    },
    {
     "name": "stderr",
     "output_type": "stream",
     "text": [
      "01/22/2025 06:40:47 [ruzicka:INFO] Predicting on 2 documents\n"
     ]
    },
    {
     "name": "stdout",
     "output_type": "stream",
     "text": [
      "Condorcet\n"
     ]
    },
    {
     "name": "stderr",
     "output_type": "stream",
     "text": [
      "01/22/2025 06:40:49 [ruzicka:INFO] Predicting on 2 documents\n"
     ]
    },
    {
     "name": "stdout",
     "output_type": "stream",
     "text": [
      "Deleyre\n"
     ]
    },
    {
     "name": "stderr",
     "output_type": "stream",
     "text": [
      "01/22/2025 06:40:49 [ruzicka:INFO] Predicting on 2 documents\n"
     ]
    },
    {
     "name": "stdout",
     "output_type": "stream",
     "text": [
      "dHolbach\n"
     ]
    },
    {
     "name": "stderr",
     "output_type": "stream",
     "text": [
      "01/22/2025 06:40:51 [ruzicka:INFO] Predicting on 2 documents\n"
     ]
    },
    {
     "name": "stdout",
     "output_type": "stream",
     "text": [
      "Diderot\n"
     ]
    },
    {
     "name": "stderr",
     "output_type": "stream",
     "text": [
      "01/22/2025 06:40:52 [ruzicka:INFO] Predicting on 2 documents\n"
     ]
    },
    {
     "name": "stdout",
     "output_type": "stream",
     "text": [
      "Guibert\n"
     ]
    },
    {
     "name": "stderr",
     "output_type": "stream",
     "text": [
      "01/22/2025 06:40:52 [ruzicka:INFO] Predicting on 2 documents\n",
      "01/22/2025 06:40:52 [ruzicka:INFO] Predicting on 2 documents\n"
     ]
    },
    {
     "name": "stdout",
     "output_type": "stream",
     "text": [
      "HDI\n",
      "Jaucourt\n"
     ]
    },
    {
     "name": "stderr",
     "output_type": "stream",
     "text": [
      "01/22/2025 06:40:53 [ruzicka:INFO] Predicting on 2 documents\n"
     ]
    },
    {
     "name": "stdout",
     "output_type": "stream",
     "text": [
      "Jussieu\n"
     ]
    },
    {
     "name": "stderr",
     "output_type": "stream",
     "text": [
      "01/22/2025 06:40:53 [ruzicka:INFO] Predicting on 2 documents\n"
     ]
    },
    {
     "name": "stdout",
     "output_type": "stream",
     "text": [
      "La Grange\n"
     ]
    },
    {
     "name": "stderr",
     "output_type": "stream",
     "text": [
      "01/22/2025 06:40:53 [ruzicka:INFO] Predicting on 2 documents\n"
     ]
    },
    {
     "name": "stdout",
     "output_type": "stream",
     "text": [
      "Marmontel\n"
     ]
    },
    {
     "name": "stderr",
     "output_type": "stream",
     "text": [
      "01/22/2025 06:40:54 [ruzicka:INFO] Predicting on 2 documents\n",
      "01/22/2025 06:40:54 [ruzicka:INFO] Predicting on 2 documents\n"
     ]
    },
    {
     "name": "stdout",
     "output_type": "stream",
     "text": [
      "Meister\n",
      "Morellet\n"
     ]
    },
    {
     "name": "stderr",
     "output_type": "stream",
     "text": [
      "01/22/2025 06:40:55 [ruzicka:INFO] Predicting on 2 documents\n"
     ]
    },
    {
     "name": "stdout",
     "output_type": "stream",
     "text": [
      "Naigeon\n"
     ]
    },
    {
     "name": "stderr",
     "output_type": "stream",
     "text": [
      "01/22/2025 06:40:55 [ruzicka:INFO] Predicting on 2 documents\n"
     ]
    },
    {
     "name": "stdout",
     "output_type": "stream",
     "text": [
      "Pechmeja\n"
     ]
    },
    {
     "name": "stderr",
     "output_type": "stream",
     "text": [
      "01/22/2025 06:40:55 [ruzicka:INFO] Predicting on 2 documents\n"
     ]
    },
    {
     "name": "stdout",
     "output_type": "stream",
     "text": [
      "Raynal\n"
     ]
    },
    {
     "name": "stderr",
     "output_type": "stream",
     "text": [
      "01/22/2025 06:40:56 [ruzicka:INFO] Predicting on 2 documents\n"
     ]
    },
    {
     "name": "stdout",
     "output_type": "stream",
     "text": [
      "Rivière\n"
     ]
    },
    {
     "name": "stderr",
     "output_type": "stream",
     "text": [
      "01/22/2025 06:40:56 [ruzicka:INFO] Predicting on 2 documents\n"
     ]
    },
    {
     "name": "stdout",
     "output_type": "stream",
     "text": [
      "Saint-Lambert\n"
     ]
    }
   ],
   "source": [
    "authors = label_uniques.values\n",
    "\n",
    "fh = ''\n",
    "\n",
    "for a in authors:\n",
    "\n",
    "    print(a)\n",
    "    \n",
    "    bdi_mm.predict_proba(\n",
    "        problems_scaled_X, [label_uniques.get_loc(a)] * problems_scaled_X.shape[0]\n",
    "    )\n",
    "\n",
    "    \n",
    "    x = pd.DataFrame(dict(zip(problems.tag, bdi_mm._dist_arrays)))\n",
    "    \n",
    "    fh = '05_tests/tests/rchina_vs_' + a + '.csv'\n",
    "\n",
    "    x.to_csv(fh)"
   ]
  },
  {
   "cell_type": "code",
   "execution_count": null,
   "id": "915293b2",
   "metadata": {},
   "outputs": [],
   "source": []
  }
 ],
 "metadata": {
  "kernelspec": {
   "display_name": "Python 3 (ipykernel)",
   "language": "python",
   "name": "python3"
  },
  "language_info": {
   "codemirror_mode": {
    "name": "ipython",
    "version": 3
   },
   "file_extension": ".py",
   "mimetype": "text/x-python",
   "name": "python",
   "nbconvert_exporter": "python",
   "pygments_lexer": "ipython3",
   "version": "3.9.16"
  }
 },
 "nbformat": 4,
 "nbformat_minor": 5
}
