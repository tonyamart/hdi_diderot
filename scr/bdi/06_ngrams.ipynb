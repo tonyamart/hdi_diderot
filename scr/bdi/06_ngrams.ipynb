{
 "cells": [
  {
   "cell_type": "markdown",
   "id": "161db44c",
   "metadata": {},
   "source": [
    "This notebook performs BDI analysis based on the frequencies of ngrams."
   ]
  },
  {
   "cell_type": "code",
   "execution_count": 1,
   "id": "3edb0974",
   "metadata": {},
   "outputs": [],
   "source": [
    "import pandas as pd\n",
    "import numpy as np\n",
    "\n",
    "import re\n",
    "\n",
    "from sklearn.preprocessing import StandardScaler\n",
    "\n",
    "import logging\n",
    "\n",
    "logging.basicConfig(level=\"INFO\")\n",
    "logger = logging.getLogger(\"ruzicka\")\n",
    "\n",
    "from ruzicka.BDIVerifier import BDIVerifier"
   ]
  },
  {
   "cell_type": "markdown",
   "id": "cf75ec47",
   "metadata": {},
   "source": [
    "## FP"
   ]
  },
  {
   "cell_type": "code",
   "execution_count": 14,
   "id": "9b25b22c",
   "metadata": {},
   "outputs": [
    {
     "data": {
      "text/html": [
       "<div>\n",
       "<style scoped>\n",
       "    .dataframe tbody tr th:only-of-type {\n",
       "        vertical-align: middle;\n",
       "    }\n",
       "\n",
       "    .dataframe tbody tr th {\n",
       "        vertical-align: top;\n",
       "    }\n",
       "\n",
       "    .dataframe thead th {\n",
       "        text-align: right;\n",
       "    }\n",
       "</style>\n",
       "<table border=\"1\" class=\"dataframe\">\n",
       "  <thead>\n",
       "    <tr style=\"text-align: right;\">\n",
       "      <th></th>\n",
       "      <th>work</th>\n",
       "      <th>author</th>\n",
       "      <th>chunk_num</th>\n",
       "      <th>tag</th>\n",
       "      <th>_de_</th>\n",
       "      <th>les_</th>\n",
       "      <th>des_</th>\n",
       "      <th>_des</th>\n",
       "      <th>oit_</th>\n",
       "      <th>_et_</th>\n",
       "      <th>...</th>\n",
       "      <th>i_le</th>\n",
       "      <th>nt_i</th>\n",
       "      <th>nt_c</th>\n",
       "      <th>ns_s</th>\n",
       "      <th>_à_c</th>\n",
       "      <th>nt_à</th>\n",
       "      <th>re_a</th>\n",
       "      <th>t_da</th>\n",
       "      <th>et_p</th>\n",
       "      <th>ne_l</th>\n",
       "    </tr>\n",
       "  </thead>\n",
       "  <tbody>\n",
       "    <tr>\n",
       "      <th>0</th>\n",
       "      <td>Avis</td>\n",
       "      <td>Baudeau</td>\n",
       "      <td>0</td>\n",
       "      <td>0__Baudeau_Avis</td>\n",
       "      <td>0.637944</td>\n",
       "      <td>0.554734</td>\n",
       "      <td>0.425296</td>\n",
       "      <td>0.425296</td>\n",
       "      <td>0.110947</td>\n",
       "      <td>0.462278</td>\n",
       "      <td>...</td>\n",
       "      <td>0.027737</td>\n",
       "      <td>0.036982</td>\n",
       "      <td>0.064719</td>\n",
       "      <td>0.018491</td>\n",
       "      <td>0.018491</td>\n",
       "      <td>0.046228</td>\n",
       "      <td>0.027737</td>\n",
       "      <td>0.027737</td>\n",
       "      <td>0.036982</td>\n",
       "      <td>0.009246</td>\n",
       "    </tr>\n",
       "    <tr>\n",
       "      <th>1</th>\n",
       "      <td>Eclaircissemens</td>\n",
       "      <td>Baudeau</td>\n",
       "      <td>0</td>\n",
       "      <td>0__Baudeau_Eclaircissemens</td>\n",
       "      <td>0.777385</td>\n",
       "      <td>0.609541</td>\n",
       "      <td>0.521201</td>\n",
       "      <td>0.521201</td>\n",
       "      <td>0.114841</td>\n",
       "      <td>0.494700</td>\n",
       "      <td>...</td>\n",
       "      <td>0.053004</td>\n",
       "      <td>0.026502</td>\n",
       "      <td>0.026502</td>\n",
       "      <td>0.008834</td>\n",
       "      <td>0.026502</td>\n",
       "      <td>0.000000</td>\n",
       "      <td>0.017668</td>\n",
       "      <td>0.035336</td>\n",
       "      <td>0.035336</td>\n",
       "      <td>0.070671</td>\n",
       "    </tr>\n",
       "    <tr>\n",
       "      <th>2</th>\n",
       "      <td>Explication</td>\n",
       "      <td>Baudeau</td>\n",
       "      <td>0</td>\n",
       "      <td>0__Baudeau_Explication</td>\n",
       "      <td>0.856419</td>\n",
       "      <td>1.127327</td>\n",
       "      <td>0.480643</td>\n",
       "      <td>0.480643</td>\n",
       "      <td>0.061173</td>\n",
       "      <td>0.664161</td>\n",
       "      <td>...</td>\n",
       "      <td>0.017478</td>\n",
       "      <td>0.026217</td>\n",
       "      <td>0.043695</td>\n",
       "      <td>0.026217</td>\n",
       "      <td>0.043695</td>\n",
       "      <td>0.026217</td>\n",
       "      <td>0.008739</td>\n",
       "      <td>0.026217</td>\n",
       "      <td>0.078651</td>\n",
       "      <td>0.000000</td>\n",
       "    </tr>\n",
       "    <tr>\n",
       "      <th>3</th>\n",
       "      <td>Idees sur l-administration</td>\n",
       "      <td>Baudeau</td>\n",
       "      <td>0</td>\n",
       "      <td>0__Baudeau_Idees sur l-administration</td>\n",
       "      <td>0.962696</td>\n",
       "      <td>0.386797</td>\n",
       "      <td>0.378202</td>\n",
       "      <td>0.395393</td>\n",
       "      <td>0.189101</td>\n",
       "      <td>0.378202</td>\n",
       "      <td>...</td>\n",
       "      <td>0.000000</td>\n",
       "      <td>0.042977</td>\n",
       "      <td>0.034382</td>\n",
       "      <td>0.060168</td>\n",
       "      <td>0.042977</td>\n",
       "      <td>0.051573</td>\n",
       "      <td>0.017191</td>\n",
       "      <td>0.060168</td>\n",
       "      <td>0.017191</td>\n",
       "      <td>0.008595</td>\n",
       "    </tr>\n",
       "    <tr>\n",
       "      <th>4</th>\n",
       "      <td>Idees sur la puissance</td>\n",
       "      <td>Baudeau</td>\n",
       "      <td>0</td>\n",
       "      <td>0__Baudeau_Idees sur la puissance</td>\n",
       "      <td>0.852470</td>\n",
       "      <td>0.748086</td>\n",
       "      <td>0.382742</td>\n",
       "      <td>0.356646</td>\n",
       "      <td>0.226166</td>\n",
       "      <td>0.434934</td>\n",
       "      <td>...</td>\n",
       "      <td>0.034795</td>\n",
       "      <td>0.043493</td>\n",
       "      <td>0.052192</td>\n",
       "      <td>0.017397</td>\n",
       "      <td>0.017397</td>\n",
       "      <td>0.043493</td>\n",
       "      <td>0.043493</td>\n",
       "      <td>0.026096</td>\n",
       "      <td>0.034795</td>\n",
       "      <td>0.052192</td>\n",
       "    </tr>\n",
       "    <tr>\n",
       "      <th>...</th>\n",
       "      <td>...</td>\n",
       "      <td>...</td>\n",
       "      <td>...</td>\n",
       "      <td>...</td>\n",
       "      <td>...</td>\n",
       "      <td>...</td>\n",
       "      <td>...</td>\n",
       "      <td>...</td>\n",
       "      <td>...</td>\n",
       "      <td>...</td>\n",
       "      <td>...</td>\n",
       "      <td>...</td>\n",
       "      <td>...</td>\n",
       "      <td>...</td>\n",
       "      <td>...</td>\n",
       "      <td>...</td>\n",
       "      <td>...</td>\n",
       "      <td>...</td>\n",
       "      <td>...</td>\n",
       "      <td>...</td>\n",
       "      <td>...</td>\n",
       "    </tr>\n",
       "    <tr>\n",
       "      <th>4463</th>\n",
       "      <td>elements T3</td>\n",
       "      <td>Marmontel</td>\n",
       "      <td>96</td>\n",
       "      <td>96__Marmontel_elements T3</td>\n",
       "      <td>0.772668</td>\n",
       "      <td>0.297896</td>\n",
       "      <td>0.223422</td>\n",
       "      <td>0.214113</td>\n",
       "      <td>0.074474</td>\n",
       "      <td>0.623720</td>\n",
       "      <td>...</td>\n",
       "      <td>0.027928</td>\n",
       "      <td>0.009309</td>\n",
       "      <td>0.037237</td>\n",
       "      <td>0.027928</td>\n",
       "      <td>0.018619</td>\n",
       "      <td>0.027928</td>\n",
       "      <td>0.055856</td>\n",
       "      <td>0.121020</td>\n",
       "      <td>0.065165</td>\n",
       "      <td>0.065165</td>\n",
       "    </tr>\n",
       "    <tr>\n",
       "      <th>4464</th>\n",
       "      <td>Histoire Generale T19</td>\n",
       "      <td>Deleyre</td>\n",
       "      <td>97</td>\n",
       "      <td>97__Deleyre_Histoire Generale T19</td>\n",
       "      <td>0.988514</td>\n",
       "      <td>0.913199</td>\n",
       "      <td>0.451892</td>\n",
       "      <td>0.348334</td>\n",
       "      <td>0.169460</td>\n",
       "      <td>0.141216</td>\n",
       "      <td>...</td>\n",
       "      <td>0.160045</td>\n",
       "      <td>0.028243</td>\n",
       "      <td>0.065901</td>\n",
       "      <td>0.028243</td>\n",
       "      <td>0.009414</td>\n",
       "      <td>0.000000</td>\n",
       "      <td>0.018829</td>\n",
       "      <td>0.037658</td>\n",
       "      <td>0.000000</td>\n",
       "      <td>0.018829</td>\n",
       "    </tr>\n",
       "    <tr>\n",
       "      <th>4465</th>\n",
       "      <td>elements T3</td>\n",
       "      <td>Marmontel</td>\n",
       "      <td>97</td>\n",
       "      <td>97__Marmontel_elements T3</td>\n",
       "      <td>0.827950</td>\n",
       "      <td>0.373032</td>\n",
       "      <td>0.191065</td>\n",
       "      <td>0.236557</td>\n",
       "      <td>0.136475</td>\n",
       "      <td>0.564098</td>\n",
       "      <td>...</td>\n",
       "      <td>0.009098</td>\n",
       "      <td>0.009098</td>\n",
       "      <td>0.045492</td>\n",
       "      <td>0.000000</td>\n",
       "      <td>0.009098</td>\n",
       "      <td>0.009098</td>\n",
       "      <td>0.027295</td>\n",
       "      <td>0.063688</td>\n",
       "      <td>0.036393</td>\n",
       "      <td>0.072787</td>\n",
       "    </tr>\n",
       "    <tr>\n",
       "      <th>4466</th>\n",
       "      <td>Histoire Generale T19</td>\n",
       "      <td>Deleyre</td>\n",
       "      <td>98</td>\n",
       "      <td>98__Deleyre_Histoire Generale T19</td>\n",
       "      <td>0.916573</td>\n",
       "      <td>1.038159</td>\n",
       "      <td>0.617284</td>\n",
       "      <td>0.561167</td>\n",
       "      <td>0.112233</td>\n",
       "      <td>0.140292</td>\n",
       "      <td>...</td>\n",
       "      <td>0.046764</td>\n",
       "      <td>0.065470</td>\n",
       "      <td>0.056117</td>\n",
       "      <td>0.037411</td>\n",
       "      <td>0.046764</td>\n",
       "      <td>0.009353</td>\n",
       "      <td>0.037411</td>\n",
       "      <td>0.028058</td>\n",
       "      <td>0.000000</td>\n",
       "      <td>0.056117</td>\n",
       "    </tr>\n",
       "    <tr>\n",
       "      <th>4467</th>\n",
       "      <td>Histoire Generale T19</td>\n",
       "      <td>Deleyre</td>\n",
       "      <td>99</td>\n",
       "      <td>99__Deleyre_Histoire Generale T19</td>\n",
       "      <td>1.051435</td>\n",
       "      <td>1.004073</td>\n",
       "      <td>0.530454</td>\n",
       "      <td>0.464147</td>\n",
       "      <td>0.094724</td>\n",
       "      <td>0.056834</td>\n",
       "      <td>...</td>\n",
       "      <td>0.094724</td>\n",
       "      <td>0.028417</td>\n",
       "      <td>0.037890</td>\n",
       "      <td>0.028417</td>\n",
       "      <td>0.066307</td>\n",
       "      <td>0.056834</td>\n",
       "      <td>0.037890</td>\n",
       "      <td>0.009472</td>\n",
       "      <td>0.000000</td>\n",
       "      <td>0.056834</td>\n",
       "    </tr>\n",
       "  </tbody>\n",
       "</table>\n",
       "<p>4468 rows × 504 columns</p>\n",
       "</div>"
      ],
      "text/plain": [
       "                            work     author  chunk_num  \\\n",
       "0                          Avis     Baudeau          0   \n",
       "1                Eclaircissemens    Baudeau          0   \n",
       "2                    Explication    Baudeau          0   \n",
       "3     Idees sur l-administration    Baudeau          0   \n",
       "4         Idees sur la puissance    Baudeau          0   \n",
       "...                          ...        ...        ...   \n",
       "4463                 elements T3  Marmontel         96   \n",
       "4464       Histoire Generale T19    Deleyre         97   \n",
       "4465                 elements T3  Marmontel         97   \n",
       "4466       Histoire Generale T19    Deleyre         98   \n",
       "4467       Histoire Generale T19    Deleyre         99   \n",
       "\n",
       "                                        tag      _de_      les_      des_  \\\n",
       "0                          0__Baudeau_Avis   0.637944  0.554734  0.425296   \n",
       "1                0__Baudeau_Eclaircissemens  0.777385  0.609541  0.521201   \n",
       "2                    0__Baudeau_Explication  0.856419  1.127327  0.480643   \n",
       "3     0__Baudeau_Idees sur l-administration  0.962696  0.386797  0.378202   \n",
       "4         0__Baudeau_Idees sur la puissance  0.852470  0.748086  0.382742   \n",
       "...                                     ...       ...       ...       ...   \n",
       "4463              96__Marmontel_elements T3  0.772668  0.297896  0.223422   \n",
       "4464      97__Deleyre_Histoire Generale T19  0.988514  0.913199  0.451892   \n",
       "4465              97__Marmontel_elements T3  0.827950  0.373032  0.191065   \n",
       "4466      98__Deleyre_Histoire Generale T19  0.916573  1.038159  0.617284   \n",
       "4467      99__Deleyre_Histoire Generale T19  1.051435  1.004073  0.530454   \n",
       "\n",
       "          _des      oit_      _et_  ...      i_le      nt_i      nt_c  \\\n",
       "0     0.425296  0.110947  0.462278  ...  0.027737  0.036982  0.064719   \n",
       "1     0.521201  0.114841  0.494700  ...  0.053004  0.026502  0.026502   \n",
       "2     0.480643  0.061173  0.664161  ...  0.017478  0.026217  0.043695   \n",
       "3     0.395393  0.189101  0.378202  ...  0.000000  0.042977  0.034382   \n",
       "4     0.356646  0.226166  0.434934  ...  0.034795  0.043493  0.052192   \n",
       "...        ...       ...       ...  ...       ...       ...       ...   \n",
       "4463  0.214113  0.074474  0.623720  ...  0.027928  0.009309  0.037237   \n",
       "4464  0.348334  0.169460  0.141216  ...  0.160045  0.028243  0.065901   \n",
       "4465  0.236557  0.136475  0.564098  ...  0.009098  0.009098  0.045492   \n",
       "4466  0.561167  0.112233  0.140292  ...  0.046764  0.065470  0.056117   \n",
       "4467  0.464147  0.094724  0.056834  ...  0.094724  0.028417  0.037890   \n",
       "\n",
       "          ns_s      _à_c      nt_à      re_a      t_da      et_p      ne_l  \n",
       "0     0.018491  0.018491  0.046228  0.027737  0.027737  0.036982  0.009246  \n",
       "1     0.008834  0.026502  0.000000  0.017668  0.035336  0.035336  0.070671  \n",
       "2     0.026217  0.043695  0.026217  0.008739  0.026217  0.078651  0.000000  \n",
       "3     0.060168  0.042977  0.051573  0.017191  0.060168  0.017191  0.008595  \n",
       "4     0.017397  0.017397  0.043493  0.043493  0.026096  0.034795  0.052192  \n",
       "...        ...       ...       ...       ...       ...       ...       ...  \n",
       "4463  0.027928  0.018619  0.027928  0.055856  0.121020  0.065165  0.065165  \n",
       "4464  0.028243  0.009414  0.000000  0.018829  0.037658  0.000000  0.018829  \n",
       "4465  0.000000  0.009098  0.009098  0.027295  0.063688  0.036393  0.072787  \n",
       "4466  0.037411  0.046764  0.009353  0.037411  0.028058  0.000000  0.056117  \n",
       "4467  0.028417  0.066307  0.056834  0.037890  0.009472  0.000000  0.056834  \n",
       "\n",
       "[4468 rows x 504 columns]"
      ]
     },
     "execution_count": 14,
     "metadata": {},
     "output_type": "execute_result"
    }
   ],
   "source": [
    "# load preprocessed data\n",
    "\n",
    "corpus = pd.read_csv('06_tests/fp1/FP1_2000_500mfn_rfreq.csv') # rel freq\n",
    "\n",
    "corpus"
   ]
  },
  {
   "cell_type": "code",
   "execution_count": 15,
   "id": "5d766e72",
   "metadata": {},
   "outputs": [
    {
     "data": {
      "text/html": [
       "<div>\n",
       "<style scoped>\n",
       "    .dataframe tbody tr th:only-of-type {\n",
       "        vertical-align: middle;\n",
       "    }\n",
       "\n",
       "    .dataframe tbody tr th {\n",
       "        vertical-align: top;\n",
       "    }\n",
       "\n",
       "    .dataframe thead th {\n",
       "        text-align: right;\n",
       "    }\n",
       "</style>\n",
       "<table border=\"1\" class=\"dataframe\">\n",
       "  <thead>\n",
       "    <tr style=\"text-align: right;\">\n",
       "      <th></th>\n",
       "      <th>work</th>\n",
       "      <th>author</th>\n",
       "      <th>chunk_num</th>\n",
       "      <th>tag</th>\n",
       "    </tr>\n",
       "  </thead>\n",
       "  <tbody>\n",
       "    <tr>\n",
       "      <th>0</th>\n",
       "      <td>Avis</td>\n",
       "      <td>Baudeau</td>\n",
       "      <td>0</td>\n",
       "      <td>0__Baudeau_Avis</td>\n",
       "    </tr>\n",
       "    <tr>\n",
       "      <th>1</th>\n",
       "      <td>Eclaircissemens</td>\n",
       "      <td>Baudeau</td>\n",
       "      <td>0</td>\n",
       "      <td>0__Baudeau_Eclaircissemens</td>\n",
       "    </tr>\n",
       "    <tr>\n",
       "      <th>2</th>\n",
       "      <td>Explication</td>\n",
       "      <td>Baudeau</td>\n",
       "      <td>0</td>\n",
       "      <td>0__Baudeau_Explication</td>\n",
       "    </tr>\n",
       "    <tr>\n",
       "      <th>3</th>\n",
       "      <td>Idees sur l-administration</td>\n",
       "      <td>Baudeau</td>\n",
       "      <td>0</td>\n",
       "      <td>0__Baudeau_Idees sur l-administration</td>\n",
       "    </tr>\n",
       "    <tr>\n",
       "      <th>4</th>\n",
       "      <td>Idees sur la puissance</td>\n",
       "      <td>Baudeau</td>\n",
       "      <td>0</td>\n",
       "      <td>0__Baudeau_Idees sur la puissance</td>\n",
       "    </tr>\n",
       "    <tr>\n",
       "      <th>...</th>\n",
       "      <td>...</td>\n",
       "      <td>...</td>\n",
       "      <td>...</td>\n",
       "      <td>...</td>\n",
       "    </tr>\n",
       "    <tr>\n",
       "      <th>4463</th>\n",
       "      <td>elements T3</td>\n",
       "      <td>Marmontel</td>\n",
       "      <td>96</td>\n",
       "      <td>96__Marmontel_elements T3</td>\n",
       "    </tr>\n",
       "    <tr>\n",
       "      <th>4464</th>\n",
       "      <td>Histoire Generale T19</td>\n",
       "      <td>Deleyre</td>\n",
       "      <td>97</td>\n",
       "      <td>97__Deleyre_Histoire Generale T19</td>\n",
       "    </tr>\n",
       "    <tr>\n",
       "      <th>4465</th>\n",
       "      <td>elements T3</td>\n",
       "      <td>Marmontel</td>\n",
       "      <td>97</td>\n",
       "      <td>97__Marmontel_elements T3</td>\n",
       "    </tr>\n",
       "    <tr>\n",
       "      <th>4466</th>\n",
       "      <td>Histoire Generale T19</td>\n",
       "      <td>Deleyre</td>\n",
       "      <td>98</td>\n",
       "      <td>98__Deleyre_Histoire Generale T19</td>\n",
       "    </tr>\n",
       "    <tr>\n",
       "      <th>4467</th>\n",
       "      <td>Histoire Generale T19</td>\n",
       "      <td>Deleyre</td>\n",
       "      <td>99</td>\n",
       "      <td>99__Deleyre_Histoire Generale T19</td>\n",
       "    </tr>\n",
       "  </tbody>\n",
       "</table>\n",
       "<p>4468 rows × 4 columns</p>\n",
       "</div>"
      ],
      "text/plain": [
       "                            work     author  chunk_num  \\\n",
       "0                          Avis     Baudeau          0   \n",
       "1                Eclaircissemens    Baudeau          0   \n",
       "2                    Explication    Baudeau          0   \n",
       "3     Idees sur l-administration    Baudeau          0   \n",
       "4         Idees sur la puissance    Baudeau          0   \n",
       "...                          ...        ...        ...   \n",
       "4463                 elements T3  Marmontel         96   \n",
       "4464       Histoire Generale T19    Deleyre         97   \n",
       "4465                 elements T3  Marmontel         97   \n",
       "4466       Histoire Generale T19    Deleyre         98   \n",
       "4467       Histoire Generale T19    Deleyre         99   \n",
       "\n",
       "                                        tag  \n",
       "0                          0__Baudeau_Avis   \n",
       "1                0__Baudeau_Eclaircissemens  \n",
       "2                    0__Baudeau_Explication  \n",
       "3     0__Baudeau_Idees sur l-administration  \n",
       "4         0__Baudeau_Idees sur la puissance  \n",
       "...                                     ...  \n",
       "4463              96__Marmontel_elements T3  \n",
       "4464      97__Deleyre_Histoire Generale T19  \n",
       "4465              97__Marmontel_elements T3  \n",
       "4466      98__Deleyre_Histoire Generale T19  \n",
       "4467      99__Deleyre_Histoire Generale T19  \n",
       "\n",
       "[4468 rows x 4 columns]"
      ]
     },
     "execution_count": 15,
     "metadata": {},
     "output_type": "execute_result"
    }
   ],
   "source": [
    "raw_df = corpus.iloc[:, :4] # leaves metadata\n",
    "X = corpus.iloc[:, 4:] # leaves only word columns\n",
    "\n",
    "raw_df"
   ]
  },
  {
   "cell_type": "code",
   "execution_count": 16,
   "id": "d05cf7e8",
   "metadata": {},
   "outputs": [
    {
     "data": {
      "text/plain": [
       "(4468, 500)"
      ]
     },
     "execution_count": 16,
     "metadata": {},
     "output_type": "execute_result"
    }
   ],
   "source": [
    "# numer of rows and columns in the X (word frequencies subset)\n",
    "X.shape"
   ]
  },
  {
   "cell_type": "code",
   "execution_count": 17,
   "id": "d5500c40",
   "metadata": {},
   "outputs": [
    {
     "data": {
      "text/html": [
       "<div>\n",
       "<style scoped>\n",
       "    .dataframe tbody tr th:only-of-type {\n",
       "        vertical-align: middle;\n",
       "    }\n",
       "\n",
       "    .dataframe tbody tr th {\n",
       "        vertical-align: top;\n",
       "    }\n",
       "\n",
       "    .dataframe thead th {\n",
       "        text-align: right;\n",
       "    }\n",
       "</style>\n",
       "<table border=\"1\" class=\"dataframe\">\n",
       "  <thead>\n",
       "    <tr style=\"text-align: right;\">\n",
       "      <th></th>\n",
       "      <th>work</th>\n",
       "      <th>author_label</th>\n",
       "      <th>author</th>\n",
       "      <th>chunk_num</th>\n",
       "      <th>tag</th>\n",
       "    </tr>\n",
       "  </thead>\n",
       "  <tbody>\n",
       "    <tr>\n",
       "      <th>0</th>\n",
       "      <td>Avis</td>\n",
       "      <td>0</td>\n",
       "      <td>Baudeau</td>\n",
       "      <td>0</td>\n",
       "      <td>0__Baudeau_Avis</td>\n",
       "    </tr>\n",
       "    <tr>\n",
       "      <th>1</th>\n",
       "      <td>Eclaircissemens</td>\n",
       "      <td>0</td>\n",
       "      <td>Baudeau</td>\n",
       "      <td>0</td>\n",
       "      <td>0__Baudeau_Eclaircissemens</td>\n",
       "    </tr>\n",
       "    <tr>\n",
       "      <th>2</th>\n",
       "      <td>Explication</td>\n",
       "      <td>0</td>\n",
       "      <td>Baudeau</td>\n",
       "      <td>0</td>\n",
       "      <td>0__Baudeau_Explication</td>\n",
       "    </tr>\n",
       "    <tr>\n",
       "      <th>3</th>\n",
       "      <td>Idees sur l-administration</td>\n",
       "      <td>0</td>\n",
       "      <td>Baudeau</td>\n",
       "      <td>0</td>\n",
       "      <td>0__Baudeau_Idees sur l-administration</td>\n",
       "    </tr>\n",
       "    <tr>\n",
       "      <th>4</th>\n",
       "      <td>Idees sur la puissance</td>\n",
       "      <td>0</td>\n",
       "      <td>Baudeau</td>\n",
       "      <td>0</td>\n",
       "      <td>0__Baudeau_Idees sur la puissance</td>\n",
       "    </tr>\n",
       "    <tr>\n",
       "      <th>...</th>\n",
       "      <td>...</td>\n",
       "      <td>...</td>\n",
       "      <td>...</td>\n",
       "      <td>...</td>\n",
       "      <td>...</td>\n",
       "    </tr>\n",
       "    <tr>\n",
       "      <th>4463</th>\n",
       "      <td>elements T3</td>\n",
       "      <td>11</td>\n",
       "      <td>Marmontel</td>\n",
       "      <td>96</td>\n",
       "      <td>96__Marmontel_elements T3</td>\n",
       "    </tr>\n",
       "    <tr>\n",
       "      <th>4464</th>\n",
       "      <td>Histoire Generale T19</td>\n",
       "      <td>3</td>\n",
       "      <td>Deleyre</td>\n",
       "      <td>97</td>\n",
       "      <td>97__Deleyre_Histoire Generale T19</td>\n",
       "    </tr>\n",
       "    <tr>\n",
       "      <th>4465</th>\n",
       "      <td>elements T3</td>\n",
       "      <td>11</td>\n",
       "      <td>Marmontel</td>\n",
       "      <td>97</td>\n",
       "      <td>97__Marmontel_elements T3</td>\n",
       "    </tr>\n",
       "    <tr>\n",
       "      <th>4466</th>\n",
       "      <td>Histoire Generale T19</td>\n",
       "      <td>3</td>\n",
       "      <td>Deleyre</td>\n",
       "      <td>98</td>\n",
       "      <td>98__Deleyre_Histoire Generale T19</td>\n",
       "    </tr>\n",
       "    <tr>\n",
       "      <th>4467</th>\n",
       "      <td>Histoire Generale T19</td>\n",
       "      <td>3</td>\n",
       "      <td>Deleyre</td>\n",
       "      <td>99</td>\n",
       "      <td>99__Deleyre_Histoire Generale T19</td>\n",
       "    </tr>\n",
       "  </tbody>\n",
       "</table>\n",
       "<p>4468 rows × 5 columns</p>\n",
       "</div>"
      ],
      "text/plain": [
       "                            work  author_label     author  chunk_num  \\\n",
       "0                          Avis              0    Baudeau          0   \n",
       "1                Eclaircissemens             0    Baudeau          0   \n",
       "2                    Explication             0    Baudeau          0   \n",
       "3     Idees sur l-administration             0    Baudeau          0   \n",
       "4         Idees sur la puissance             0    Baudeau          0   \n",
       "...                          ...           ...        ...        ...   \n",
       "4463                 elements T3            11  Marmontel         96   \n",
       "4464       Histoire Generale T19             3    Deleyre         97   \n",
       "4465                 elements T3            11  Marmontel         97   \n",
       "4466       Histoire Generale T19             3    Deleyre         98   \n",
       "4467       Histoire Generale T19             3    Deleyre         99   \n",
       "\n",
       "                                        tag  \n",
       "0                          0__Baudeau_Avis   \n",
       "1                0__Baudeau_Eclaircissemens  \n",
       "2                    0__Baudeau_Explication  \n",
       "3     0__Baudeau_Idees sur l-administration  \n",
       "4         0__Baudeau_Idees sur la puissance  \n",
       "...                                     ...  \n",
       "4463              96__Marmontel_elements T3  \n",
       "4464      97__Deleyre_Histoire Generale T19  \n",
       "4465              97__Marmontel_elements T3  \n",
       "4466      98__Deleyre_Histoire Generale T19  \n",
       "4467      99__Deleyre_Histoire Generale T19  \n",
       "\n",
       "[4468 rows x 5 columns]"
      ]
     },
     "execution_count": 17,
     "metadata": {},
     "output_type": "execute_result"
    }
   ],
   "source": [
    "# create numeric author labels\n",
    "labels, label_uniques = raw_df.author.factorize()\n",
    "raw_df.insert(1, \"author_label\", labels)\n",
    "raw_df"
   ]
  },
  {
   "cell_type": "code",
   "execution_count": 18,
   "id": "5bea05ab",
   "metadata": {},
   "outputs": [
    {
     "data": {
      "text/html": [
       "<div>\n",
       "<style scoped>\n",
       "    .dataframe tbody tr th:only-of-type {\n",
       "        vertical-align: middle;\n",
       "    }\n",
       "\n",
       "    .dataframe tbody tr th {\n",
       "        vertical-align: top;\n",
       "    }\n",
       "\n",
       "    .dataframe thead th {\n",
       "        text-align: right;\n",
       "    }\n",
       "</style>\n",
       "<table border=\"1\" class=\"dataframe\">\n",
       "  <thead>\n",
       "    <tr style=\"text-align: right;\">\n",
       "      <th></th>\n",
       "      <th>work</th>\n",
       "      <th>author_label</th>\n",
       "      <th>author</th>\n",
       "      <th>chunk_num</th>\n",
       "      <th>tag</th>\n",
       "    </tr>\n",
       "  </thead>\n",
       "  <tbody>\n",
       "    <tr>\n",
       "      <th>0</th>\n",
       "      <td>FP1</td>\n",
       "      <td>7</td>\n",
       "      <td>HDI</td>\n",
       "      <td>0</td>\n",
       "      <td>0__HDI_FP1</td>\n",
       "    </tr>\n",
       "    <tr>\n",
       "      <th>1</th>\n",
       "      <td>FP1</td>\n",
       "      <td>7</td>\n",
       "      <td>HDI</td>\n",
       "      <td>1</td>\n",
       "      <td>1__HDI_FP1</td>\n",
       "    </tr>\n",
       "    <tr>\n",
       "      <th>2</th>\n",
       "      <td>FP1</td>\n",
       "      <td>7</td>\n",
       "      <td>HDI</td>\n",
       "      <td>2</td>\n",
       "      <td>2__HDI_FP1</td>\n",
       "    </tr>\n",
       "  </tbody>\n",
       "</table>\n",
       "</div>"
      ],
      "text/plain": [
       "  work  author_label author  chunk_num         tag\n",
       "0  FP1             7    HDI          0  0__HDI_FP1\n",
       "1  FP1             7    HDI          1  1__HDI_FP1\n",
       "2  FP1             7    HDI          2  2__HDI_FP1"
      ]
     },
     "execution_count": 18,
     "metadata": {},
     "output_type": "execute_result"
    }
   ],
   "source": [
    "# select an \"unknown\" work\n",
    "\n",
    "problems = raw_df[raw_df.work == \"FP1\"].reset_index(drop=True).copy()\n",
    "problems_X = X[raw_df.work == \"FP1\"].reset_index(drop=True).copy()\n",
    "problems"
   ]
  },
  {
   "cell_type": "code",
   "execution_count": 19,
   "id": "5201963d",
   "metadata": {},
   "outputs": [
    {
     "data": {
      "text/html": [
       "<div>\n",
       "<style scoped>\n",
       "    .dataframe tbody tr th:only-of-type {\n",
       "        vertical-align: middle;\n",
       "    }\n",
       "\n",
       "    .dataframe tbody tr th {\n",
       "        vertical-align: top;\n",
       "    }\n",
       "\n",
       "    .dataframe thead th {\n",
       "        text-align: right;\n",
       "    }\n",
       "</style>\n",
       "<table border=\"1\" class=\"dataframe\">\n",
       "  <thead>\n",
       "    <tr style=\"text-align: right;\">\n",
       "      <th></th>\n",
       "      <th>work</th>\n",
       "      <th>author_label</th>\n",
       "      <th>author</th>\n",
       "      <th>chunk_num</th>\n",
       "      <th>tag</th>\n",
       "    </tr>\n",
       "  </thead>\n",
       "  <tbody>\n",
       "    <tr>\n",
       "      <th>0</th>\n",
       "      <td>Avis</td>\n",
       "      <td>0</td>\n",
       "      <td>Baudeau</td>\n",
       "      <td>0</td>\n",
       "      <td>0__Baudeau_Avis</td>\n",
       "    </tr>\n",
       "    <tr>\n",
       "      <th>1</th>\n",
       "      <td>Eclaircissemens</td>\n",
       "      <td>0</td>\n",
       "      <td>Baudeau</td>\n",
       "      <td>0</td>\n",
       "      <td>0__Baudeau_Eclaircissemens</td>\n",
       "    </tr>\n",
       "    <tr>\n",
       "      <th>2</th>\n",
       "      <td>Explication</td>\n",
       "      <td>0</td>\n",
       "      <td>Baudeau</td>\n",
       "      <td>0</td>\n",
       "      <td>0__Baudeau_Explication</td>\n",
       "    </tr>\n",
       "    <tr>\n",
       "      <th>3</th>\n",
       "      <td>Idees sur l-administration</td>\n",
       "      <td>0</td>\n",
       "      <td>Baudeau</td>\n",
       "      <td>0</td>\n",
       "      <td>0__Baudeau_Idees sur l-administration</td>\n",
       "    </tr>\n",
       "    <tr>\n",
       "      <th>4</th>\n",
       "      <td>Idees sur la puissance</td>\n",
       "      <td>0</td>\n",
       "      <td>Baudeau</td>\n",
       "      <td>0</td>\n",
       "      <td>0__Baudeau_Idees sur la puissance</td>\n",
       "    </tr>\n",
       "    <tr>\n",
       "      <th>...</th>\n",
       "      <td>...</td>\n",
       "      <td>...</td>\n",
       "      <td>...</td>\n",
       "      <td>...</td>\n",
       "      <td>...</td>\n",
       "    </tr>\n",
       "    <tr>\n",
       "      <th>4460</th>\n",
       "      <td>elements T3</td>\n",
       "      <td>11</td>\n",
       "      <td>Marmontel</td>\n",
       "      <td>96</td>\n",
       "      <td>96__Marmontel_elements T3</td>\n",
       "    </tr>\n",
       "    <tr>\n",
       "      <th>4461</th>\n",
       "      <td>Histoire Generale T19</td>\n",
       "      <td>3</td>\n",
       "      <td>Deleyre</td>\n",
       "      <td>97</td>\n",
       "      <td>97__Deleyre_Histoire Generale T19</td>\n",
       "    </tr>\n",
       "    <tr>\n",
       "      <th>4462</th>\n",
       "      <td>elements T3</td>\n",
       "      <td>11</td>\n",
       "      <td>Marmontel</td>\n",
       "      <td>97</td>\n",
       "      <td>97__Marmontel_elements T3</td>\n",
       "    </tr>\n",
       "    <tr>\n",
       "      <th>4463</th>\n",
       "      <td>Histoire Generale T19</td>\n",
       "      <td>3</td>\n",
       "      <td>Deleyre</td>\n",
       "      <td>98</td>\n",
       "      <td>98__Deleyre_Histoire Generale T19</td>\n",
       "    </tr>\n",
       "    <tr>\n",
       "      <th>4464</th>\n",
       "      <td>Histoire Generale T19</td>\n",
       "      <td>3</td>\n",
       "      <td>Deleyre</td>\n",
       "      <td>99</td>\n",
       "      <td>99__Deleyre_Histoire Generale T19</td>\n",
       "    </tr>\n",
       "  </tbody>\n",
       "</table>\n",
       "<p>4465 rows × 5 columns</p>\n",
       "</div>"
      ],
      "text/plain": [
       "                            work  author_label     author  chunk_num  \\\n",
       "0                          Avis              0    Baudeau          0   \n",
       "1                Eclaircissemens             0    Baudeau          0   \n",
       "2                    Explication             0    Baudeau          0   \n",
       "3     Idees sur l-administration             0    Baudeau          0   \n",
       "4         Idees sur la puissance             0    Baudeau          0   \n",
       "...                          ...           ...        ...        ...   \n",
       "4460                 elements T3            11  Marmontel         96   \n",
       "4461       Histoire Generale T19             3    Deleyre         97   \n",
       "4462                 elements T3            11  Marmontel         97   \n",
       "4463       Histoire Generale T19             3    Deleyre         98   \n",
       "4464       Histoire Generale T19             3    Deleyre         99   \n",
       "\n",
       "                                        tag  \n",
       "0                          0__Baudeau_Avis   \n",
       "1                0__Baudeau_Eclaircissemens  \n",
       "2                    0__Baudeau_Explication  \n",
       "3     0__Baudeau_Idees sur l-administration  \n",
       "4         0__Baudeau_Idees sur la puissance  \n",
       "...                                     ...  \n",
       "4460              96__Marmontel_elements T3  \n",
       "4461      97__Deleyre_Histoire Generale T19  \n",
       "4462              97__Marmontel_elements T3  \n",
       "4463      98__Deleyre_Histoire Generale T19  \n",
       "4464      99__Deleyre_Histoire Generale T19  \n",
       "\n",
       "[4465 rows x 5 columns]"
      ]
     },
     "execution_count": 19,
     "metadata": {},
     "output_type": "execute_result"
    }
   ],
   "source": [
    "# extract the rest of the corpus\n",
    "\n",
    "rest = raw_df[raw_df.work != \"FP1\"].reset_index(drop=True).copy()\n",
    "rest_X = X[raw_df.work != \"FP1\"].reset_index(drop = True).copy()\n",
    "rest"
   ]
  },
  {
   "cell_type": "code",
   "execution_count": 20,
   "id": "06d171f4",
   "metadata": {},
   "outputs": [],
   "source": [
    "# scaling\n",
    "ss = StandardScaler(with_mean=False).fit(rest_X)\n",
    "\n",
    "rest_scaled_X = ss.transform(rest_X)\n",
    "problems_scaled_X = ss.transform(problems_X)"
   ]
  },
  {
   "cell_type": "code",
   "execution_count": 21,
   "id": "62d374f6",
   "metadata": {},
   "outputs": [],
   "source": [
    "# set verifier\n",
    "rng = np.random.default_rng(42)\n",
    "\n",
    "bdi_mm = BDIVerifier(\n",
    "    metric='minmax', nb_bootstrap_iter=1000, rnd_prop=0.35, \n",
    "    random_state=rng\n",
    ")"
   ]
  },
  {
   "cell_type": "code",
   "execution_count": 22,
   "id": "36e33e50",
   "metadata": {},
   "outputs": [
    {
     "name": "stderr",
     "output_type": "stream",
     "text": [
      "04/02/2025 02:08:20 [ruzicka:INFO] Fitting on 4465 documents...\n"
     ]
    }
   ],
   "source": [
    "# fit \n",
    "bdi_mm.fit(rest_scaled_X, rest.author_label)"
   ]
  },
  {
   "cell_type": "code",
   "execution_count": 23,
   "id": "53138805",
   "metadata": {},
   "outputs": [
    {
     "data": {
      "text/plain": [
       "array(['Baudeau', 'Chastellux', 'Condorcet', 'Deleyre', 'dHolbach',\n",
       "       'Diderot', 'Guibert', 'HDI', 'Jaucourt', 'Jussieu', 'La Grange',\n",
       "       'Marmontel', 'Meister', 'Morellet', 'Naigeon', 'Pechmeja',\n",
       "       'Raynal', 'Rivière', 'Saint-Lambert'], dtype=object)"
      ]
     },
     "execution_count": 23,
     "metadata": {},
     "output_type": "execute_result"
    }
   ],
   "source": [
    "# check unique authors\n",
    "label_uniques.values"
   ]
  },
  {
   "cell_type": "code",
   "execution_count": 24,
   "id": "8d1a6633",
   "metadata": {},
   "outputs": [
    {
     "name": "stderr",
     "output_type": "stream",
     "text": [
      "04/02/2025 02:08:23 [ruzicka:INFO] Predicting on 3 documents\n"
     ]
    },
    {
     "name": "stdout",
     "output_type": "stream",
     "text": [
      "Testing against Baudeau\n"
     ]
    },
    {
     "name": "stderr",
     "output_type": "stream",
     "text": [
      "04/02/2025 02:08:24 [ruzicka:INFO] Predicting on 3 documents\n"
     ]
    },
    {
     "name": "stdout",
     "output_type": "stream",
     "text": [
      "Bootstrap Match Strength (one per chunk, 0-1.0): [0.181 0.195 0.517]\n",
      "Testing against Chastellux\n"
     ]
    },
    {
     "name": "stderr",
     "output_type": "stream",
     "text": [
      "04/02/2025 02:08:25 [ruzicka:INFO] Predicting on 3 documents\n"
     ]
    },
    {
     "name": "stdout",
     "output_type": "stream",
     "text": [
      "Bootstrap Match Strength (one per chunk, 0-1.0): [0.911 0.94  0.956]\n",
      "Testing against Condorcet\n"
     ]
    },
    {
     "name": "stderr",
     "output_type": "stream",
     "text": [
      "04/02/2025 02:08:29 [ruzicka:INFO] Predicting on 3 documents\n"
     ]
    },
    {
     "name": "stdout",
     "output_type": "stream",
     "text": [
      "Bootstrap Match Strength (one per chunk, 0-1.0): [0.988 0.994 0.99 ]\n",
      "Testing against Deleyre\n"
     ]
    },
    {
     "name": "stderr",
     "output_type": "stream",
     "text": [
      "04/02/2025 02:08:30 [ruzicka:INFO] Predicting on 3 documents\n"
     ]
    },
    {
     "name": "stdout",
     "output_type": "stream",
     "text": [
      "Bootstrap Match Strength (one per chunk, 0-1.0): [0.593 0.763 0.745]\n",
      "Testing against dHolbach\n"
     ]
    },
    {
     "name": "stderr",
     "output_type": "stream",
     "text": [
      "04/02/2025 02:08:33 [ruzicka:INFO] Predicting on 3 documents\n"
     ]
    },
    {
     "name": "stdout",
     "output_type": "stream",
     "text": [
      "Bootstrap Match Strength (one per chunk, 0-1.0): [0.64  0.946 0.923]\n",
      "Testing against Diderot\n"
     ]
    },
    {
     "name": "stderr",
     "output_type": "stream",
     "text": [
      "04/02/2025 02:08:36 [ruzicka:INFO] Predicting on 3 documents\n"
     ]
    },
    {
     "name": "stdout",
     "output_type": "stream",
     "text": [
      "Bootstrap Match Strength (one per chunk, 0-1.0): [1. 1. 1.]\n",
      "Testing against Guibert\n"
     ]
    },
    {
     "name": "stderr",
     "output_type": "stream",
     "text": [
      "04/02/2025 02:08:37 [ruzicka:INFO] Predicting on 3 documents\n"
     ]
    },
    {
     "name": "stdout",
     "output_type": "stream",
     "text": [
      "Bootstrap Match Strength (one per chunk, 0-1.0): [0.437 0.215 0.766]\n",
      "Testing against HDI\n"
     ]
    },
    {
     "name": "stderr",
     "output_type": "stream",
     "text": [
      "04/02/2025 02:08:38 [ruzicka:INFO] Predicting on 3 documents\n"
     ]
    },
    {
     "name": "stdout",
     "output_type": "stream",
     "text": [
      "Bootstrap Match Strength (one per chunk, 0-1.0): [0.743 0.852 0.939]\n",
      "Testing against Jaucourt\n"
     ]
    },
    {
     "name": "stderr",
     "output_type": "stream",
     "text": [
      "04/02/2025 02:08:39 [ruzicka:INFO] Predicting on 3 documents\n"
     ]
    },
    {
     "name": "stdout",
     "output_type": "stream",
     "text": [
      "Bootstrap Match Strength (one per chunk, 0-1.0): [0.565 0.668 0.451]\n",
      "Testing against Jussieu\n"
     ]
    },
    {
     "name": "stderr",
     "output_type": "stream",
     "text": [
      "04/02/2025 02:08:40 [ruzicka:INFO] Predicting on 3 documents\n"
     ]
    },
    {
     "name": "stdout",
     "output_type": "stream",
     "text": [
      "Bootstrap Match Strength (one per chunk, 0-1.0): [0.047 0.286 0.293]\n",
      "Testing against La Grange\n"
     ]
    },
    {
     "name": "stderr",
     "output_type": "stream",
     "text": [
      "04/02/2025 02:08:40 [ruzicka:INFO] Predicting on 3 documents\n"
     ]
    },
    {
     "name": "stdout",
     "output_type": "stream",
     "text": [
      "Bootstrap Match Strength (one per chunk, 0-1.0): [0.112 0.05  0.057]\n",
      "Testing against Marmontel\n"
     ]
    },
    {
     "name": "stderr",
     "output_type": "stream",
     "text": [
      "04/02/2025 02:08:42 [ruzicka:INFO] Predicting on 3 documents\n"
     ]
    },
    {
     "name": "stdout",
     "output_type": "stream",
     "text": [
      "Bootstrap Match Strength (one per chunk, 0-1.0): [0.969 0.931 0.877]\n",
      "Testing against Meister\n"
     ]
    },
    {
     "name": "stderr",
     "output_type": "stream",
     "text": [
      "04/02/2025 02:08:43 [ruzicka:INFO] Predicting on 3 documents\n"
     ]
    },
    {
     "name": "stdout",
     "output_type": "stream",
     "text": [
      "Bootstrap Match Strength (one per chunk, 0-1.0): [0.729 0.322 0.11 ]\n",
      "Testing against Morellet\n"
     ]
    },
    {
     "name": "stderr",
     "output_type": "stream",
     "text": [
      "04/02/2025 02:08:44 [ruzicka:INFO] Predicting on 3 documents\n"
     ]
    },
    {
     "name": "stdout",
     "output_type": "stream",
     "text": [
      "Bootstrap Match Strength (one per chunk, 0-1.0): [0.639 0.811 0.442]\n",
      "Testing against Naigeon\n"
     ]
    },
    {
     "name": "stderr",
     "output_type": "stream",
     "text": [
      "04/02/2025 02:08:44 [ruzicka:INFO] Predicting on 3 documents\n"
     ]
    },
    {
     "name": "stdout",
     "output_type": "stream",
     "text": [
      "Bootstrap Match Strength (one per chunk, 0-1.0): [0.859 0.498 0.491]\n",
      "Testing against Pechmeja\n"
     ]
    },
    {
     "name": "stderr",
     "output_type": "stream",
     "text": [
      "04/02/2025 02:08:45 [ruzicka:INFO] Predicting on 3 documents\n"
     ]
    },
    {
     "name": "stdout",
     "output_type": "stream",
     "text": [
      "Bootstrap Match Strength (one per chunk, 0-1.0): [0.02  0.289 0.181]\n",
      "Testing against Raynal\n"
     ]
    },
    {
     "name": "stderr",
     "output_type": "stream",
     "text": [
      "04/02/2025 02:08:46 [ruzicka:INFO] Predicting on 3 documents\n"
     ]
    },
    {
     "name": "stdout",
     "output_type": "stream",
     "text": [
      "Bootstrap Match Strength (one per chunk, 0-1.0): [0.137 0.41  0.26 ]\n",
      "Testing against Rivière\n"
     ]
    },
    {
     "name": "stderr",
     "output_type": "stream",
     "text": [
      "04/02/2025 02:08:47 [ruzicka:INFO] Predicting on 3 documents\n"
     ]
    },
    {
     "name": "stdout",
     "output_type": "stream",
     "text": [
      "Bootstrap Match Strength (one per chunk, 0-1.0): [0.388 0.181 0.076]\n",
      "Testing against Saint-Lambert\n",
      "Bootstrap Match Strength (one per chunk, 0-1.0): [0.329 0.845 0.923]\n"
     ]
    }
   ],
   "source": [
    "for label in label_uniques.values:\n",
    "    print(f\"Testing against {label}\")\n",
    "    code = label_uniques.get_loc(label)\n",
    "    print(\n",
    "        f\"Bootstrap Match Strength (one per chunk, 0-1.0): {bdi_mm.predict_proba(problems_scaled_X, [code] * problems_scaled_X.shape[0])}\"\n",
    "    )"
   ]
  },
  {
   "cell_type": "code",
   "execution_count": 25,
   "id": "7999cda3",
   "metadata": {},
   "outputs": [
    {
     "name": "stderr",
     "output_type": "stream",
     "text": [
      "04/02/2025 02:08:58 [ruzicka:INFO] Predicting on 3 documents\n"
     ]
    },
    {
     "name": "stdout",
     "output_type": "stream",
     "text": [
      "Baudeau\n"
     ]
    },
    {
     "name": "stderr",
     "output_type": "stream",
     "text": [
      "04/02/2025 02:08:59 [ruzicka:INFO] Predicting on 3 documents\n"
     ]
    },
    {
     "name": "stdout",
     "output_type": "stream",
     "text": [
      "Chastellux\n"
     ]
    },
    {
     "name": "stderr",
     "output_type": "stream",
     "text": [
      "04/02/2025 02:09:00 [ruzicka:INFO] Predicting on 3 documents\n"
     ]
    },
    {
     "name": "stdout",
     "output_type": "stream",
     "text": [
      "Condorcet\n"
     ]
    },
    {
     "name": "stderr",
     "output_type": "stream",
     "text": [
      "04/02/2025 02:09:04 [ruzicka:INFO] Predicting on 3 documents\n"
     ]
    },
    {
     "name": "stdout",
     "output_type": "stream",
     "text": [
      "Deleyre\n"
     ]
    },
    {
     "name": "stderr",
     "output_type": "stream",
     "text": [
      "04/02/2025 02:09:06 [ruzicka:INFO] Predicting on 3 documents\n"
     ]
    },
    {
     "name": "stdout",
     "output_type": "stream",
     "text": [
      "dHolbach\n"
     ]
    },
    {
     "name": "stderr",
     "output_type": "stream",
     "text": [
      "04/02/2025 02:09:09 [ruzicka:INFO] Predicting on 3 documents\n"
     ]
    },
    {
     "name": "stdout",
     "output_type": "stream",
     "text": [
      "Diderot\n"
     ]
    },
    {
     "name": "stderr",
     "output_type": "stream",
     "text": [
      "04/02/2025 02:09:11 [ruzicka:INFO] Predicting on 3 documents\n"
     ]
    },
    {
     "name": "stdout",
     "output_type": "stream",
     "text": [
      "Guibert\n"
     ]
    },
    {
     "name": "stderr",
     "output_type": "stream",
     "text": [
      "04/02/2025 02:09:13 [ruzicka:INFO] Predicting on 3 documents\n"
     ]
    },
    {
     "name": "stdout",
     "output_type": "stream",
     "text": [
      "HDI\n"
     ]
    },
    {
     "name": "stderr",
     "output_type": "stream",
     "text": [
      "04/02/2025 02:09:13 [ruzicka:INFO] Predicting on 3 documents\n"
     ]
    },
    {
     "name": "stdout",
     "output_type": "stream",
     "text": [
      "Jaucourt\n"
     ]
    },
    {
     "name": "stderr",
     "output_type": "stream",
     "text": [
      "04/02/2025 02:09:14 [ruzicka:INFO] Predicting on 3 documents\n"
     ]
    },
    {
     "name": "stdout",
     "output_type": "stream",
     "text": [
      "Jussieu\n"
     ]
    },
    {
     "name": "stderr",
     "output_type": "stream",
     "text": [
      "04/02/2025 02:09:15 [ruzicka:INFO] Predicting on 3 documents\n"
     ]
    },
    {
     "name": "stdout",
     "output_type": "stream",
     "text": [
      "La Grange\n"
     ]
    },
    {
     "name": "stderr",
     "output_type": "stream",
     "text": [
      "04/02/2025 02:09:16 [ruzicka:INFO] Predicting on 3 documents\n"
     ]
    },
    {
     "name": "stdout",
     "output_type": "stream",
     "text": [
      "Marmontel\n"
     ]
    },
    {
     "name": "stderr",
     "output_type": "stream",
     "text": [
      "04/02/2025 02:09:18 [ruzicka:INFO] Predicting on 3 documents\n"
     ]
    },
    {
     "name": "stdout",
     "output_type": "stream",
     "text": [
      "Meister\n"
     ]
    },
    {
     "name": "stderr",
     "output_type": "stream",
     "text": [
      "04/02/2025 02:09:19 [ruzicka:INFO] Predicting on 3 documents\n"
     ]
    },
    {
     "name": "stdout",
     "output_type": "stream",
     "text": [
      "Morellet\n"
     ]
    },
    {
     "name": "stderr",
     "output_type": "stream",
     "text": [
      "04/02/2025 02:09:20 [ruzicka:INFO] Predicting on 3 documents\n"
     ]
    },
    {
     "name": "stdout",
     "output_type": "stream",
     "text": [
      "Naigeon\n"
     ]
    },
    {
     "name": "stderr",
     "output_type": "stream",
     "text": [
      "04/02/2025 02:09:21 [ruzicka:INFO] Predicting on 3 documents\n"
     ]
    },
    {
     "name": "stdout",
     "output_type": "stream",
     "text": [
      "Pechmeja\n"
     ]
    },
    {
     "name": "stderr",
     "output_type": "stream",
     "text": [
      "04/02/2025 02:09:21 [ruzicka:INFO] Predicting on 3 documents\n"
     ]
    },
    {
     "name": "stdout",
     "output_type": "stream",
     "text": [
      "Raynal\n"
     ]
    },
    {
     "name": "stderr",
     "output_type": "stream",
     "text": [
      "04/02/2025 02:09:23 [ruzicka:INFO] Predicting on 3 documents\n"
     ]
    },
    {
     "name": "stdout",
     "output_type": "stream",
     "text": [
      "Rivière\n"
     ]
    },
    {
     "name": "stderr",
     "output_type": "stream",
     "text": [
      "04/02/2025 02:09:23 [ruzicka:INFO] Predicting on 3 documents\n"
     ]
    },
    {
     "name": "stdout",
     "output_type": "stream",
     "text": [
      "Saint-Lambert\n"
     ]
    }
   ],
   "source": [
    "# populate results & output distributions for each author\n",
    "\n",
    "authors = label_uniques.values\n",
    "\n",
    "fh = ''\n",
    "\n",
    "for a in authors:\n",
    "\n",
    "    print(a)\n",
    "    \n",
    "    bdi_mm.predict_proba(\n",
    "        problems_scaled_X, [label_uniques.get_loc(a)] * problems_scaled_X.shape[0]\n",
    "    )\n",
    "\n",
    "    \n",
    "    x = pd.DataFrame(dict(zip(problems.tag, bdi_mm._dist_arrays)))\n",
    "    \n",
    "    fh = '06_tests/fp1/mfn500/fp1_vs_' + a + '.csv'\n",
    "\n",
    "    x.to_csv(fh)"
   ]
  },
  {
   "cell_type": "markdown",
   "id": "9fe7b9e2",
   "metadata": {},
   "source": [
    "## Editions"
   ]
  },
  {
   "cell_type": "code",
   "execution_count": 99,
   "id": "8d317f39",
   "metadata": {},
   "outputs": [
    {
     "data": {
      "text/html": [
       "<div>\n",
       "<style scoped>\n",
       "    .dataframe tbody tr th:only-of-type {\n",
       "        vertical-align: middle;\n",
       "    }\n",
       "\n",
       "    .dataframe tbody tr th {\n",
       "        vertical-align: top;\n",
       "    }\n",
       "\n",
       "    .dataframe thead th {\n",
       "        text-align: right;\n",
       "    }\n",
       "</style>\n",
       "<table border=\"1\" class=\"dataframe\">\n",
       "  <thead>\n",
       "    <tr style=\"text-align: right;\">\n",
       "      <th></th>\n",
       "      <th>work</th>\n",
       "      <th>author</th>\n",
       "      <th>chunk_num</th>\n",
       "      <th>tag</th>\n",
       "      <th>_de_</th>\n",
       "      <th>les_</th>\n",
       "      <th>des_</th>\n",
       "      <th>_des</th>\n",
       "      <th>oit_</th>\n",
       "      <th>_et_</th>\n",
       "      <th>...</th>\n",
       "      <th>i_le</th>\n",
       "      <th>nt_i</th>\n",
       "      <th>nt_c</th>\n",
       "      <th>ns_s</th>\n",
       "      <th>_à_c</th>\n",
       "      <th>nt_à</th>\n",
       "      <th>re_a</th>\n",
       "      <th>t_da</th>\n",
       "      <th>et_p</th>\n",
       "      <th>ne_l</th>\n",
       "    </tr>\n",
       "  </thead>\n",
       "  <tbody>\n",
       "    <tr>\n",
       "      <th>0</th>\n",
       "      <td>Avis</td>\n",
       "      <td>Baudeau</td>\n",
       "      <td>0</td>\n",
       "      <td>0__Baudeau_Avis</td>\n",
       "      <td>0.637944</td>\n",
       "      <td>0.554734</td>\n",
       "      <td>0.425296</td>\n",
       "      <td>0.425296</td>\n",
       "      <td>0.110947</td>\n",
       "      <td>0.462278</td>\n",
       "      <td>...</td>\n",
       "      <td>0.027737</td>\n",
       "      <td>0.036982</td>\n",
       "      <td>0.064719</td>\n",
       "      <td>0.018491</td>\n",
       "      <td>0.018491</td>\n",
       "      <td>0.046228</td>\n",
       "      <td>0.027737</td>\n",
       "      <td>0.027737</td>\n",
       "      <td>0.036982</td>\n",
       "      <td>0.009246</td>\n",
       "    </tr>\n",
       "    <tr>\n",
       "      <th>1</th>\n",
       "      <td>Eclaircissemens</td>\n",
       "      <td>Baudeau</td>\n",
       "      <td>0</td>\n",
       "      <td>0__Baudeau_Eclaircissemens</td>\n",
       "      <td>0.777385</td>\n",
       "      <td>0.609541</td>\n",
       "      <td>0.521201</td>\n",
       "      <td>0.521201</td>\n",
       "      <td>0.114841</td>\n",
       "      <td>0.494700</td>\n",
       "      <td>...</td>\n",
       "      <td>0.053004</td>\n",
       "      <td>0.026502</td>\n",
       "      <td>0.026502</td>\n",
       "      <td>0.008834</td>\n",
       "      <td>0.026502</td>\n",
       "      <td>0.000000</td>\n",
       "      <td>0.017668</td>\n",
       "      <td>0.035336</td>\n",
       "      <td>0.035336</td>\n",
       "      <td>0.070671</td>\n",
       "    </tr>\n",
       "    <tr>\n",
       "      <th>2</th>\n",
       "      <td>Explication</td>\n",
       "      <td>Baudeau</td>\n",
       "      <td>0</td>\n",
       "      <td>0__Baudeau_Explication</td>\n",
       "      <td>0.856419</td>\n",
       "      <td>1.127327</td>\n",
       "      <td>0.480643</td>\n",
       "      <td>0.480643</td>\n",
       "      <td>0.061173</td>\n",
       "      <td>0.664161</td>\n",
       "      <td>...</td>\n",
       "      <td>0.017478</td>\n",
       "      <td>0.026217</td>\n",
       "      <td>0.043695</td>\n",
       "      <td>0.026217</td>\n",
       "      <td>0.043695</td>\n",
       "      <td>0.026217</td>\n",
       "      <td>0.008739</td>\n",
       "      <td>0.026217</td>\n",
       "      <td>0.078651</td>\n",
       "      <td>0.000000</td>\n",
       "    </tr>\n",
       "    <tr>\n",
       "      <th>3</th>\n",
       "      <td>Idees sur l-administration</td>\n",
       "      <td>Baudeau</td>\n",
       "      <td>0</td>\n",
       "      <td>0__Baudeau_Idees sur l-administration</td>\n",
       "      <td>0.962696</td>\n",
       "      <td>0.386797</td>\n",
       "      <td>0.378202</td>\n",
       "      <td>0.395393</td>\n",
       "      <td>0.189101</td>\n",
       "      <td>0.378202</td>\n",
       "      <td>...</td>\n",
       "      <td>0.000000</td>\n",
       "      <td>0.042977</td>\n",
       "      <td>0.034382</td>\n",
       "      <td>0.060168</td>\n",
       "      <td>0.042977</td>\n",
       "      <td>0.051573</td>\n",
       "      <td>0.017191</td>\n",
       "      <td>0.060168</td>\n",
       "      <td>0.017191</td>\n",
       "      <td>0.008595</td>\n",
       "    </tr>\n",
       "    <tr>\n",
       "      <th>4</th>\n",
       "      <td>Idees sur la puissance</td>\n",
       "      <td>Baudeau</td>\n",
       "      <td>0</td>\n",
       "      <td>0__Baudeau_Idees sur la puissance</td>\n",
       "      <td>0.852470</td>\n",
       "      <td>0.748086</td>\n",
       "      <td>0.382742</td>\n",
       "      <td>0.356646</td>\n",
       "      <td>0.226166</td>\n",
       "      <td>0.434934</td>\n",
       "      <td>...</td>\n",
       "      <td>0.034795</td>\n",
       "      <td>0.043493</td>\n",
       "      <td>0.052192</td>\n",
       "      <td>0.017397</td>\n",
       "      <td>0.017397</td>\n",
       "      <td>0.043493</td>\n",
       "      <td>0.043493</td>\n",
       "      <td>0.026096</td>\n",
       "      <td>0.034795</td>\n",
       "      <td>0.052192</td>\n",
       "    </tr>\n",
       "    <tr>\n",
       "      <th>...</th>\n",
       "      <td>...</td>\n",
       "      <td>...</td>\n",
       "      <td>...</td>\n",
       "      <td>...</td>\n",
       "      <td>...</td>\n",
       "      <td>...</td>\n",
       "      <td>...</td>\n",
       "      <td>...</td>\n",
       "      <td>...</td>\n",
       "      <td>...</td>\n",
       "      <td>...</td>\n",
       "      <td>...</td>\n",
       "      <td>...</td>\n",
       "      <td>...</td>\n",
       "      <td>...</td>\n",
       "      <td>...</td>\n",
       "      <td>...</td>\n",
       "      <td>...</td>\n",
       "      <td>...</td>\n",
       "      <td>...</td>\n",
       "      <td>...</td>\n",
       "    </tr>\n",
       "    <tr>\n",
       "      <th>4465</th>\n",
       "      <td>elements T3</td>\n",
       "      <td>Marmontel</td>\n",
       "      <td>96</td>\n",
       "      <td>96__Marmontel_elements T3</td>\n",
       "      <td>0.772668</td>\n",
       "      <td>0.297896</td>\n",
       "      <td>0.223422</td>\n",
       "      <td>0.214113</td>\n",
       "      <td>0.074474</td>\n",
       "      <td>0.623720</td>\n",
       "      <td>...</td>\n",
       "      <td>0.027928</td>\n",
       "      <td>0.009309</td>\n",
       "      <td>0.037237</td>\n",
       "      <td>0.027928</td>\n",
       "      <td>0.018619</td>\n",
       "      <td>0.027928</td>\n",
       "      <td>0.055856</td>\n",
       "      <td>0.121020</td>\n",
       "      <td>0.065165</td>\n",
       "      <td>0.065165</td>\n",
       "    </tr>\n",
       "    <tr>\n",
       "      <th>4466</th>\n",
       "      <td>Histoire Generale T19</td>\n",
       "      <td>Deleyre</td>\n",
       "      <td>97</td>\n",
       "      <td>97__Deleyre_Histoire Generale T19</td>\n",
       "      <td>0.988514</td>\n",
       "      <td>0.913199</td>\n",
       "      <td>0.451892</td>\n",
       "      <td>0.348334</td>\n",
       "      <td>0.169460</td>\n",
       "      <td>0.141216</td>\n",
       "      <td>...</td>\n",
       "      <td>0.160045</td>\n",
       "      <td>0.028243</td>\n",
       "      <td>0.065901</td>\n",
       "      <td>0.028243</td>\n",
       "      <td>0.009414</td>\n",
       "      <td>0.000000</td>\n",
       "      <td>0.018829</td>\n",
       "      <td>0.037658</td>\n",
       "      <td>0.000000</td>\n",
       "      <td>0.018829</td>\n",
       "    </tr>\n",
       "    <tr>\n",
       "      <th>4467</th>\n",
       "      <td>elements T3</td>\n",
       "      <td>Marmontel</td>\n",
       "      <td>97</td>\n",
       "      <td>97__Marmontel_elements T3</td>\n",
       "      <td>0.827950</td>\n",
       "      <td>0.373032</td>\n",
       "      <td>0.191065</td>\n",
       "      <td>0.236557</td>\n",
       "      <td>0.136475</td>\n",
       "      <td>0.564098</td>\n",
       "      <td>...</td>\n",
       "      <td>0.009098</td>\n",
       "      <td>0.009098</td>\n",
       "      <td>0.045492</td>\n",
       "      <td>0.000000</td>\n",
       "      <td>0.009098</td>\n",
       "      <td>0.009098</td>\n",
       "      <td>0.027295</td>\n",
       "      <td>0.063688</td>\n",
       "      <td>0.036393</td>\n",
       "      <td>0.072787</td>\n",
       "    </tr>\n",
       "    <tr>\n",
       "      <th>4468</th>\n",
       "      <td>Histoire Generale T19</td>\n",
       "      <td>Deleyre</td>\n",
       "      <td>98</td>\n",
       "      <td>98__Deleyre_Histoire Generale T19</td>\n",
       "      <td>0.916573</td>\n",
       "      <td>1.038159</td>\n",
       "      <td>0.617284</td>\n",
       "      <td>0.561167</td>\n",
       "      <td>0.112233</td>\n",
       "      <td>0.140292</td>\n",
       "      <td>...</td>\n",
       "      <td>0.046764</td>\n",
       "      <td>0.065470</td>\n",
       "      <td>0.056117</td>\n",
       "      <td>0.037411</td>\n",
       "      <td>0.046764</td>\n",
       "      <td>0.009353</td>\n",
       "      <td>0.037411</td>\n",
       "      <td>0.028058</td>\n",
       "      <td>0.000000</td>\n",
       "      <td>0.056117</td>\n",
       "    </tr>\n",
       "    <tr>\n",
       "      <th>4469</th>\n",
       "      <td>Histoire Generale T19</td>\n",
       "      <td>Deleyre</td>\n",
       "      <td>99</td>\n",
       "      <td>99__Deleyre_Histoire Generale T19</td>\n",
       "      <td>1.051435</td>\n",
       "      <td>1.004073</td>\n",
       "      <td>0.530454</td>\n",
       "      <td>0.464147</td>\n",
       "      <td>0.094724</td>\n",
       "      <td>0.056834</td>\n",
       "      <td>...</td>\n",
       "      <td>0.094724</td>\n",
       "      <td>0.028417</td>\n",
       "      <td>0.037890</td>\n",
       "      <td>0.028417</td>\n",
       "      <td>0.066307</td>\n",
       "      <td>0.056834</td>\n",
       "      <td>0.037890</td>\n",
       "      <td>0.009472</td>\n",
       "      <td>0.000000</td>\n",
       "      <td>0.056834</td>\n",
       "    </tr>\n",
       "  </tbody>\n",
       "</table>\n",
       "<p>4470 rows × 504 columns</p>\n",
       "</div>"
      ],
      "text/plain": [
       "                            work     author  chunk_num  \\\n",
       "0                          Avis     Baudeau          0   \n",
       "1                Eclaircissemens    Baudeau          0   \n",
       "2                    Explication    Baudeau          0   \n",
       "3     Idees sur l-administration    Baudeau          0   \n",
       "4         Idees sur la puissance    Baudeau          0   \n",
       "...                          ...        ...        ...   \n",
       "4465                 elements T3  Marmontel         96   \n",
       "4466       Histoire Generale T19    Deleyre         97   \n",
       "4467                 elements T3  Marmontel         97   \n",
       "4468       Histoire Generale T19    Deleyre         98   \n",
       "4469       Histoire Generale T19    Deleyre         99   \n",
       "\n",
       "                                        tag      _de_      les_      des_  \\\n",
       "0                          0__Baudeau_Avis   0.637944  0.554734  0.425296   \n",
       "1                0__Baudeau_Eclaircissemens  0.777385  0.609541  0.521201   \n",
       "2                    0__Baudeau_Explication  0.856419  1.127327  0.480643   \n",
       "3     0__Baudeau_Idees sur l-administration  0.962696  0.386797  0.378202   \n",
       "4         0__Baudeau_Idees sur la puissance  0.852470  0.748086  0.382742   \n",
       "...                                     ...       ...       ...       ...   \n",
       "4465              96__Marmontel_elements T3  0.772668  0.297896  0.223422   \n",
       "4466      97__Deleyre_Histoire Generale T19  0.988514  0.913199  0.451892   \n",
       "4467              97__Marmontel_elements T3  0.827950  0.373032  0.191065   \n",
       "4468      98__Deleyre_Histoire Generale T19  0.916573  1.038159  0.617284   \n",
       "4469      99__Deleyre_Histoire Generale T19  1.051435  1.004073  0.530454   \n",
       "\n",
       "          _des      oit_      _et_  ...      i_le      nt_i      nt_c  \\\n",
       "0     0.425296  0.110947  0.462278  ...  0.027737  0.036982  0.064719   \n",
       "1     0.521201  0.114841  0.494700  ...  0.053004  0.026502  0.026502   \n",
       "2     0.480643  0.061173  0.664161  ...  0.017478  0.026217  0.043695   \n",
       "3     0.395393  0.189101  0.378202  ...  0.000000  0.042977  0.034382   \n",
       "4     0.356646  0.226166  0.434934  ...  0.034795  0.043493  0.052192   \n",
       "...        ...       ...       ...  ...       ...       ...       ...   \n",
       "4465  0.214113  0.074474  0.623720  ...  0.027928  0.009309  0.037237   \n",
       "4466  0.348334  0.169460  0.141216  ...  0.160045  0.028243  0.065901   \n",
       "4467  0.236557  0.136475  0.564098  ...  0.009098  0.009098  0.045492   \n",
       "4468  0.561167  0.112233  0.140292  ...  0.046764  0.065470  0.056117   \n",
       "4469  0.464147  0.094724  0.056834  ...  0.094724  0.028417  0.037890   \n",
       "\n",
       "          ns_s      _à_c      nt_à      re_a      t_da      et_p      ne_l  \n",
       "0     0.018491  0.018491  0.046228  0.027737  0.027737  0.036982  0.009246  \n",
       "1     0.008834  0.026502  0.000000  0.017668  0.035336  0.035336  0.070671  \n",
       "2     0.026217  0.043695  0.026217  0.008739  0.026217  0.078651  0.000000  \n",
       "3     0.060168  0.042977  0.051573  0.017191  0.060168  0.017191  0.008595  \n",
       "4     0.017397  0.017397  0.043493  0.043493  0.026096  0.034795  0.052192  \n",
       "...        ...       ...       ...       ...       ...       ...       ...  \n",
       "4465  0.027928  0.018619  0.027928  0.055856  0.121020  0.065165  0.065165  \n",
       "4466  0.028243  0.009414  0.000000  0.018829  0.037658  0.000000  0.018829  \n",
       "4467  0.000000  0.009098  0.009098  0.027295  0.063688  0.036393  0.072787  \n",
       "4468  0.037411  0.046764  0.009353  0.037411  0.028058  0.000000  0.056117  \n",
       "4469  0.028417  0.066307  0.056834  0.037890  0.009472  0.000000  0.056834  \n",
       "\n",
       "[4470 rows x 504 columns]"
      ]
     },
     "execution_count": 99,
     "metadata": {},
     "output_type": "execute_result"
    }
   ],
   "source": [
    "# load preprocessed data\n",
    "\n",
    "corpus = pd.read_csv('06_tests/editions/ed1780_2k_500mfn_rfreq.csv') # rel freq\n",
    "\n",
    "corpus"
   ]
  },
  {
   "cell_type": "code",
   "execution_count": 100,
   "id": "7933db95",
   "metadata": {},
   "outputs": [
    {
     "data": {
      "text/html": [
       "<div>\n",
       "<style scoped>\n",
       "    .dataframe tbody tr th:only-of-type {\n",
       "        vertical-align: middle;\n",
       "    }\n",
       "\n",
       "    .dataframe tbody tr th {\n",
       "        vertical-align: top;\n",
       "    }\n",
       "\n",
       "    .dataframe thead th {\n",
       "        text-align: right;\n",
       "    }\n",
       "</style>\n",
       "<table border=\"1\" class=\"dataframe\">\n",
       "  <thead>\n",
       "    <tr style=\"text-align: right;\">\n",
       "      <th></th>\n",
       "      <th>work</th>\n",
       "      <th>author</th>\n",
       "      <th>chunk_num</th>\n",
       "      <th>tag</th>\n",
       "    </tr>\n",
       "  </thead>\n",
       "  <tbody>\n",
       "    <tr>\n",
       "      <th>0</th>\n",
       "      <td>Avis</td>\n",
       "      <td>Baudeau</td>\n",
       "      <td>0</td>\n",
       "      <td>0__Baudeau_Avis</td>\n",
       "    </tr>\n",
       "    <tr>\n",
       "      <th>1</th>\n",
       "      <td>Eclaircissemens</td>\n",
       "      <td>Baudeau</td>\n",
       "      <td>0</td>\n",
       "      <td>0__Baudeau_Eclaircissemens</td>\n",
       "    </tr>\n",
       "    <tr>\n",
       "      <th>2</th>\n",
       "      <td>Explication</td>\n",
       "      <td>Baudeau</td>\n",
       "      <td>0</td>\n",
       "      <td>0__Baudeau_Explication</td>\n",
       "    </tr>\n",
       "    <tr>\n",
       "      <th>3</th>\n",
       "      <td>Idees sur l-administration</td>\n",
       "      <td>Baudeau</td>\n",
       "      <td>0</td>\n",
       "      <td>0__Baudeau_Idees sur l-administration</td>\n",
       "    </tr>\n",
       "    <tr>\n",
       "      <th>4</th>\n",
       "      <td>Idees sur la puissance</td>\n",
       "      <td>Baudeau</td>\n",
       "      <td>0</td>\n",
       "      <td>0__Baudeau_Idees sur la puissance</td>\n",
       "    </tr>\n",
       "    <tr>\n",
       "      <th>...</th>\n",
       "      <td>...</td>\n",
       "      <td>...</td>\n",
       "      <td>...</td>\n",
       "      <td>...</td>\n",
       "    </tr>\n",
       "    <tr>\n",
       "      <th>4465</th>\n",
       "      <td>elements T3</td>\n",
       "      <td>Marmontel</td>\n",
       "      <td>96</td>\n",
       "      <td>96__Marmontel_elements T3</td>\n",
       "    </tr>\n",
       "    <tr>\n",
       "      <th>4466</th>\n",
       "      <td>Histoire Generale T19</td>\n",
       "      <td>Deleyre</td>\n",
       "      <td>97</td>\n",
       "      <td>97__Deleyre_Histoire Generale T19</td>\n",
       "    </tr>\n",
       "    <tr>\n",
       "      <th>4467</th>\n",
       "      <td>elements T3</td>\n",
       "      <td>Marmontel</td>\n",
       "      <td>97</td>\n",
       "      <td>97__Marmontel_elements T3</td>\n",
       "    </tr>\n",
       "    <tr>\n",
       "      <th>4468</th>\n",
       "      <td>Histoire Generale T19</td>\n",
       "      <td>Deleyre</td>\n",
       "      <td>98</td>\n",
       "      <td>98__Deleyre_Histoire Generale T19</td>\n",
       "    </tr>\n",
       "    <tr>\n",
       "      <th>4469</th>\n",
       "      <td>Histoire Generale T19</td>\n",
       "      <td>Deleyre</td>\n",
       "      <td>99</td>\n",
       "      <td>99__Deleyre_Histoire Generale T19</td>\n",
       "    </tr>\n",
       "  </tbody>\n",
       "</table>\n",
       "<p>4470 rows × 4 columns</p>\n",
       "</div>"
      ],
      "text/plain": [
       "                            work     author  chunk_num  \\\n",
       "0                          Avis     Baudeau          0   \n",
       "1                Eclaircissemens    Baudeau          0   \n",
       "2                    Explication    Baudeau          0   \n",
       "3     Idees sur l-administration    Baudeau          0   \n",
       "4         Idees sur la puissance    Baudeau          0   \n",
       "...                          ...        ...        ...   \n",
       "4465                 elements T3  Marmontel         96   \n",
       "4466       Histoire Generale T19    Deleyre         97   \n",
       "4467                 elements T3  Marmontel         97   \n",
       "4468       Histoire Generale T19    Deleyre         98   \n",
       "4469       Histoire Generale T19    Deleyre         99   \n",
       "\n",
       "                                        tag  \n",
       "0                          0__Baudeau_Avis   \n",
       "1                0__Baudeau_Eclaircissemens  \n",
       "2                    0__Baudeau_Explication  \n",
       "3     0__Baudeau_Idees sur l-administration  \n",
       "4         0__Baudeau_Idees sur la puissance  \n",
       "...                                     ...  \n",
       "4465              96__Marmontel_elements T3  \n",
       "4466      97__Deleyre_Histoire Generale T19  \n",
       "4467              97__Marmontel_elements T3  \n",
       "4468      98__Deleyre_Histoire Generale T19  \n",
       "4469      99__Deleyre_Histoire Generale T19  \n",
       "\n",
       "[4470 rows x 4 columns]"
      ]
     },
     "execution_count": 100,
     "metadata": {},
     "output_type": "execute_result"
    }
   ],
   "source": [
    "raw_df = corpus.iloc[:, :4] # leaves metadata\n",
    "X = corpus.iloc[:, 4:] # leaves only word columns\n",
    "\n",
    "raw_df"
   ]
  },
  {
   "cell_type": "code",
   "execution_count": 101,
   "id": "46160ac3",
   "metadata": {},
   "outputs": [
    {
     "data": {
      "text/plain": [
       "(4470, 500)"
      ]
     },
     "execution_count": 101,
     "metadata": {},
     "output_type": "execute_result"
    }
   ],
   "source": [
    "# numer of rows and columns in the X (word frequencies subset)\n",
    "X.shape"
   ]
  },
  {
   "cell_type": "code",
   "execution_count": 102,
   "id": "89adf84c",
   "metadata": {},
   "outputs": [
    {
     "data": {
      "text/html": [
       "<div>\n",
       "<style scoped>\n",
       "    .dataframe tbody tr th:only-of-type {\n",
       "        vertical-align: middle;\n",
       "    }\n",
       "\n",
       "    .dataframe tbody tr th {\n",
       "        vertical-align: top;\n",
       "    }\n",
       "\n",
       "    .dataframe thead th {\n",
       "        text-align: right;\n",
       "    }\n",
       "</style>\n",
       "<table border=\"1\" class=\"dataframe\">\n",
       "  <thead>\n",
       "    <tr style=\"text-align: right;\">\n",
       "      <th></th>\n",
       "      <th>work</th>\n",
       "      <th>author_label</th>\n",
       "      <th>author</th>\n",
       "      <th>chunk_num</th>\n",
       "      <th>tag</th>\n",
       "    </tr>\n",
       "  </thead>\n",
       "  <tbody>\n",
       "    <tr>\n",
       "      <th>0</th>\n",
       "      <td>Avis</td>\n",
       "      <td>0</td>\n",
       "      <td>Baudeau</td>\n",
       "      <td>0</td>\n",
       "      <td>0__Baudeau_Avis</td>\n",
       "    </tr>\n",
       "    <tr>\n",
       "      <th>1</th>\n",
       "      <td>Eclaircissemens</td>\n",
       "      <td>0</td>\n",
       "      <td>Baudeau</td>\n",
       "      <td>0</td>\n",
       "      <td>0__Baudeau_Eclaircissemens</td>\n",
       "    </tr>\n",
       "    <tr>\n",
       "      <th>2</th>\n",
       "      <td>Explication</td>\n",
       "      <td>0</td>\n",
       "      <td>Baudeau</td>\n",
       "      <td>0</td>\n",
       "      <td>0__Baudeau_Explication</td>\n",
       "    </tr>\n",
       "    <tr>\n",
       "      <th>3</th>\n",
       "      <td>Idees sur l-administration</td>\n",
       "      <td>0</td>\n",
       "      <td>Baudeau</td>\n",
       "      <td>0</td>\n",
       "      <td>0__Baudeau_Idees sur l-administration</td>\n",
       "    </tr>\n",
       "    <tr>\n",
       "      <th>4</th>\n",
       "      <td>Idees sur la puissance</td>\n",
       "      <td>0</td>\n",
       "      <td>Baudeau</td>\n",
       "      <td>0</td>\n",
       "      <td>0__Baudeau_Idees sur la puissance</td>\n",
       "    </tr>\n",
       "    <tr>\n",
       "      <th>...</th>\n",
       "      <td>...</td>\n",
       "      <td>...</td>\n",
       "      <td>...</td>\n",
       "      <td>...</td>\n",
       "      <td>...</td>\n",
       "    </tr>\n",
       "    <tr>\n",
       "      <th>4465</th>\n",
       "      <td>elements T3</td>\n",
       "      <td>11</td>\n",
       "      <td>Marmontel</td>\n",
       "      <td>96</td>\n",
       "      <td>96__Marmontel_elements T3</td>\n",
       "    </tr>\n",
       "    <tr>\n",
       "      <th>4466</th>\n",
       "      <td>Histoire Generale T19</td>\n",
       "      <td>3</td>\n",
       "      <td>Deleyre</td>\n",
       "      <td>97</td>\n",
       "      <td>97__Deleyre_Histoire Generale T19</td>\n",
       "    </tr>\n",
       "    <tr>\n",
       "      <th>4467</th>\n",
       "      <td>elements T3</td>\n",
       "      <td>11</td>\n",
       "      <td>Marmontel</td>\n",
       "      <td>97</td>\n",
       "      <td>97__Marmontel_elements T3</td>\n",
       "    </tr>\n",
       "    <tr>\n",
       "      <th>4468</th>\n",
       "      <td>Histoire Generale T19</td>\n",
       "      <td>3</td>\n",
       "      <td>Deleyre</td>\n",
       "      <td>98</td>\n",
       "      <td>98__Deleyre_Histoire Generale T19</td>\n",
       "    </tr>\n",
       "    <tr>\n",
       "      <th>4469</th>\n",
       "      <td>Histoire Generale T19</td>\n",
       "      <td>3</td>\n",
       "      <td>Deleyre</td>\n",
       "      <td>99</td>\n",
       "      <td>99__Deleyre_Histoire Generale T19</td>\n",
       "    </tr>\n",
       "  </tbody>\n",
       "</table>\n",
       "<p>4470 rows × 5 columns</p>\n",
       "</div>"
      ],
      "text/plain": [
       "                            work  author_label     author  chunk_num  \\\n",
       "0                          Avis              0    Baudeau          0   \n",
       "1                Eclaircissemens             0    Baudeau          0   \n",
       "2                    Explication             0    Baudeau          0   \n",
       "3     Idees sur l-administration             0    Baudeau          0   \n",
       "4         Idees sur la puissance             0    Baudeau          0   \n",
       "...                          ...           ...        ...        ...   \n",
       "4465                 elements T3            11  Marmontel         96   \n",
       "4466       Histoire Generale T19             3    Deleyre         97   \n",
       "4467                 elements T3            11  Marmontel         97   \n",
       "4468       Histoire Generale T19             3    Deleyre         98   \n",
       "4469       Histoire Generale T19             3    Deleyre         99   \n",
       "\n",
       "                                        tag  \n",
       "0                          0__Baudeau_Avis   \n",
       "1                0__Baudeau_Eclaircissemens  \n",
       "2                    0__Baudeau_Explication  \n",
       "3     0__Baudeau_Idees sur l-administration  \n",
       "4         0__Baudeau_Idees sur la puissance  \n",
       "...                                     ...  \n",
       "4465              96__Marmontel_elements T3  \n",
       "4466      97__Deleyre_Histoire Generale T19  \n",
       "4467              97__Marmontel_elements T3  \n",
       "4468      98__Deleyre_Histoire Generale T19  \n",
       "4469      99__Deleyre_Histoire Generale T19  \n",
       "\n",
       "[4470 rows x 5 columns]"
      ]
     },
     "execution_count": 102,
     "metadata": {},
     "output_type": "execute_result"
    }
   ],
   "source": [
    "# create numeric author labels\n",
    "labels, label_uniques = raw_df.author.factorize()\n",
    "raw_df.insert(1, \"author_label\", labels)\n",
    "raw_df"
   ]
  },
  {
   "cell_type": "code",
   "execution_count": 103,
   "id": "f7090c21",
   "metadata": {},
   "outputs": [
    {
     "data": {
      "text/html": [
       "<div>\n",
       "<style scoped>\n",
       "    .dataframe tbody tr th:only-of-type {\n",
       "        vertical-align: middle;\n",
       "    }\n",
       "\n",
       "    .dataframe tbody tr th {\n",
       "        vertical-align: top;\n",
       "    }\n",
       "\n",
       "    .dataframe thead th {\n",
       "        text-align: right;\n",
       "    }\n",
       "</style>\n",
       "<table border=\"1\" class=\"dataframe\">\n",
       "  <thead>\n",
       "    <tr style=\"text-align: right;\">\n",
       "      <th></th>\n",
       "      <th>work</th>\n",
       "      <th>author_label</th>\n",
       "      <th>author</th>\n",
       "      <th>chunk_num</th>\n",
       "      <th>tag</th>\n",
       "    </tr>\n",
       "  </thead>\n",
       "  <tbody>\n",
       "    <tr>\n",
       "      <th>0</th>\n",
       "      <td>ed1780</td>\n",
       "      <td>7</td>\n",
       "      <td>HDI</td>\n",
       "      <td>0</td>\n",
       "      <td>0__HDI_ed1780</td>\n",
       "    </tr>\n",
       "    <tr>\n",
       "      <th>1</th>\n",
       "      <td>ed1780</td>\n",
       "      <td>7</td>\n",
       "      <td>HDI</td>\n",
       "      <td>1</td>\n",
       "      <td>1__HDI_ed1780</td>\n",
       "    </tr>\n",
       "    <tr>\n",
       "      <th>2</th>\n",
       "      <td>ed1780</td>\n",
       "      <td>7</td>\n",
       "      <td>HDI</td>\n",
       "      <td>10</td>\n",
       "      <td>10__HDI_ed1780</td>\n",
       "    </tr>\n",
       "    <tr>\n",
       "      <th>3</th>\n",
       "      <td>ed1780</td>\n",
       "      <td>7</td>\n",
       "      <td>HDI</td>\n",
       "      <td>11</td>\n",
       "      <td>11__HDI_ed1780</td>\n",
       "    </tr>\n",
       "    <tr>\n",
       "      <th>4</th>\n",
       "      <td>ed1780</td>\n",
       "      <td>7</td>\n",
       "      <td>HDI</td>\n",
       "      <td>12</td>\n",
       "      <td>12__HDI_ed1780</td>\n",
       "    </tr>\n",
       "    <tr>\n",
       "      <th>5</th>\n",
       "      <td>ed1780</td>\n",
       "      <td>7</td>\n",
       "      <td>HDI</td>\n",
       "      <td>13</td>\n",
       "      <td>13__HDI_ed1780</td>\n",
       "    </tr>\n",
       "    <tr>\n",
       "      <th>6</th>\n",
       "      <td>ed1780</td>\n",
       "      <td>7</td>\n",
       "      <td>HDI</td>\n",
       "      <td>14</td>\n",
       "      <td>14__HDI_ed1780</td>\n",
       "    </tr>\n",
       "    <tr>\n",
       "      <th>7</th>\n",
       "      <td>ed1780</td>\n",
       "      <td>7</td>\n",
       "      <td>HDI</td>\n",
       "      <td>15</td>\n",
       "      <td>15__HDI_ed1780</td>\n",
       "    </tr>\n",
       "    <tr>\n",
       "      <th>8</th>\n",
       "      <td>ed1780</td>\n",
       "      <td>7</td>\n",
       "      <td>HDI</td>\n",
       "      <td>16</td>\n",
       "      <td>16__HDI_ed1780</td>\n",
       "    </tr>\n",
       "    <tr>\n",
       "      <th>9</th>\n",
       "      <td>ed1780</td>\n",
       "      <td>7</td>\n",
       "      <td>HDI</td>\n",
       "      <td>17</td>\n",
       "      <td>17__HDI_ed1780</td>\n",
       "    </tr>\n",
       "    <tr>\n",
       "      <th>10</th>\n",
       "      <td>ed1780</td>\n",
       "      <td>7</td>\n",
       "      <td>HDI</td>\n",
       "      <td>18</td>\n",
       "      <td>18__HDI_ed1780</td>\n",
       "    </tr>\n",
       "    <tr>\n",
       "      <th>11</th>\n",
       "      <td>ed1780</td>\n",
       "      <td>7</td>\n",
       "      <td>HDI</td>\n",
       "      <td>19</td>\n",
       "      <td>19__HDI_ed1780</td>\n",
       "    </tr>\n",
       "    <tr>\n",
       "      <th>12</th>\n",
       "      <td>ed1780</td>\n",
       "      <td>7</td>\n",
       "      <td>HDI</td>\n",
       "      <td>2</td>\n",
       "      <td>2__HDI_ed1780</td>\n",
       "    </tr>\n",
       "    <tr>\n",
       "      <th>13</th>\n",
       "      <td>ed1780</td>\n",
       "      <td>7</td>\n",
       "      <td>HDI</td>\n",
       "      <td>20</td>\n",
       "      <td>20__HDI_ed1780</td>\n",
       "    </tr>\n",
       "    <tr>\n",
       "      <th>14</th>\n",
       "      <td>ed1780</td>\n",
       "      <td>7</td>\n",
       "      <td>HDI</td>\n",
       "      <td>21</td>\n",
       "      <td>21__HDI_ed1780</td>\n",
       "    </tr>\n",
       "    <tr>\n",
       "      <th>15</th>\n",
       "      <td>ed1780</td>\n",
       "      <td>7</td>\n",
       "      <td>HDI</td>\n",
       "      <td>22</td>\n",
       "      <td>22__HDI_ed1780</td>\n",
       "    </tr>\n",
       "    <tr>\n",
       "      <th>16</th>\n",
       "      <td>ed1780</td>\n",
       "      <td>7</td>\n",
       "      <td>HDI</td>\n",
       "      <td>23</td>\n",
       "      <td>23__HDI_ed1780</td>\n",
       "    </tr>\n",
       "    <tr>\n",
       "      <th>17</th>\n",
       "      <td>ed1780</td>\n",
       "      <td>7</td>\n",
       "      <td>HDI</td>\n",
       "      <td>24</td>\n",
       "      <td>24__HDI_ed1780</td>\n",
       "    </tr>\n",
       "    <tr>\n",
       "      <th>18</th>\n",
       "      <td>ed1780</td>\n",
       "      <td>7</td>\n",
       "      <td>HDI</td>\n",
       "      <td>25</td>\n",
       "      <td>25__HDI_ed1780</td>\n",
       "    </tr>\n",
       "    <tr>\n",
       "      <th>19</th>\n",
       "      <td>ed1780</td>\n",
       "      <td>7</td>\n",
       "      <td>HDI</td>\n",
       "      <td>26</td>\n",
       "      <td>26__HDI_ed1780</td>\n",
       "    </tr>\n",
       "    <tr>\n",
       "      <th>20</th>\n",
       "      <td>ed1780</td>\n",
       "      <td>7</td>\n",
       "      <td>HDI</td>\n",
       "      <td>27</td>\n",
       "      <td>27__HDI_ed1780</td>\n",
       "    </tr>\n",
       "    <tr>\n",
       "      <th>21</th>\n",
       "      <td>ed1780</td>\n",
       "      <td>7</td>\n",
       "      <td>HDI</td>\n",
       "      <td>28</td>\n",
       "      <td>28__HDI_ed1780</td>\n",
       "    </tr>\n",
       "    <tr>\n",
       "      <th>22</th>\n",
       "      <td>ed1780</td>\n",
       "      <td>7</td>\n",
       "      <td>HDI</td>\n",
       "      <td>29</td>\n",
       "      <td>29__HDI_ed1780</td>\n",
       "    </tr>\n",
       "    <tr>\n",
       "      <th>23</th>\n",
       "      <td>ed1780</td>\n",
       "      <td>7</td>\n",
       "      <td>HDI</td>\n",
       "      <td>3</td>\n",
       "      <td>3__HDI_ed1780</td>\n",
       "    </tr>\n",
       "    <tr>\n",
       "      <th>24</th>\n",
       "      <td>ed1780</td>\n",
       "      <td>7</td>\n",
       "      <td>HDI</td>\n",
       "      <td>30</td>\n",
       "      <td>30__HDI_ed1780</td>\n",
       "    </tr>\n",
       "    <tr>\n",
       "      <th>25</th>\n",
       "      <td>ed1780</td>\n",
       "      <td>7</td>\n",
       "      <td>HDI</td>\n",
       "      <td>31</td>\n",
       "      <td>31__HDI_ed1780</td>\n",
       "    </tr>\n",
       "    <tr>\n",
       "      <th>26</th>\n",
       "      <td>ed1780</td>\n",
       "      <td>7</td>\n",
       "      <td>HDI</td>\n",
       "      <td>32</td>\n",
       "      <td>32__HDI_ed1780</td>\n",
       "    </tr>\n",
       "    <tr>\n",
       "      <th>27</th>\n",
       "      <td>ed1780</td>\n",
       "      <td>7</td>\n",
       "      <td>HDI</td>\n",
       "      <td>33</td>\n",
       "      <td>33__HDI_ed1780</td>\n",
       "    </tr>\n",
       "    <tr>\n",
       "      <th>28</th>\n",
       "      <td>ed1780</td>\n",
       "      <td>7</td>\n",
       "      <td>HDI</td>\n",
       "      <td>34</td>\n",
       "      <td>34__HDI_ed1780</td>\n",
       "    </tr>\n",
       "    <tr>\n",
       "      <th>29</th>\n",
       "      <td>ed1780</td>\n",
       "      <td>7</td>\n",
       "      <td>HDI</td>\n",
       "      <td>35</td>\n",
       "      <td>35__HDI_ed1780</td>\n",
       "    </tr>\n",
       "    <tr>\n",
       "      <th>30</th>\n",
       "      <td>ed1780</td>\n",
       "      <td>7</td>\n",
       "      <td>HDI</td>\n",
       "      <td>36</td>\n",
       "      <td>36__HDI_ed1780</td>\n",
       "    </tr>\n",
       "    <tr>\n",
       "      <th>31</th>\n",
       "      <td>ed1780</td>\n",
       "      <td>7</td>\n",
       "      <td>HDI</td>\n",
       "      <td>37</td>\n",
       "      <td>37__HDI_ed1780</td>\n",
       "    </tr>\n",
       "    <tr>\n",
       "      <th>32</th>\n",
       "      <td>ed1780</td>\n",
       "      <td>7</td>\n",
       "      <td>HDI</td>\n",
       "      <td>38</td>\n",
       "      <td>38__HDI_ed1780</td>\n",
       "    </tr>\n",
       "    <tr>\n",
       "      <th>33</th>\n",
       "      <td>ed1780</td>\n",
       "      <td>7</td>\n",
       "      <td>HDI</td>\n",
       "      <td>39</td>\n",
       "      <td>39__HDI_ed1780</td>\n",
       "    </tr>\n",
       "    <tr>\n",
       "      <th>34</th>\n",
       "      <td>ed1780</td>\n",
       "      <td>7</td>\n",
       "      <td>HDI</td>\n",
       "      <td>4</td>\n",
       "      <td>4__HDI_ed1780</td>\n",
       "    </tr>\n",
       "    <tr>\n",
       "      <th>35</th>\n",
       "      <td>ed1780</td>\n",
       "      <td>7</td>\n",
       "      <td>HDI</td>\n",
       "      <td>40</td>\n",
       "      <td>40__HDI_ed1780</td>\n",
       "    </tr>\n",
       "    <tr>\n",
       "      <th>36</th>\n",
       "      <td>ed1780</td>\n",
       "      <td>7</td>\n",
       "      <td>HDI</td>\n",
       "      <td>41</td>\n",
       "      <td>41__HDI_ed1780</td>\n",
       "    </tr>\n",
       "    <tr>\n",
       "      <th>37</th>\n",
       "      <td>ed1780</td>\n",
       "      <td>7</td>\n",
       "      <td>HDI</td>\n",
       "      <td>42</td>\n",
       "      <td>42__HDI_ed1780</td>\n",
       "    </tr>\n",
       "    <tr>\n",
       "      <th>38</th>\n",
       "      <td>ed1780</td>\n",
       "      <td>7</td>\n",
       "      <td>HDI</td>\n",
       "      <td>5</td>\n",
       "      <td>5__HDI_ed1780</td>\n",
       "    </tr>\n",
       "    <tr>\n",
       "      <th>39</th>\n",
       "      <td>ed1780</td>\n",
       "      <td>7</td>\n",
       "      <td>HDI</td>\n",
       "      <td>6</td>\n",
       "      <td>6__HDI_ed1780</td>\n",
       "    </tr>\n",
       "    <tr>\n",
       "      <th>40</th>\n",
       "      <td>ed1780</td>\n",
       "      <td>7</td>\n",
       "      <td>HDI</td>\n",
       "      <td>7</td>\n",
       "      <td>7__HDI_ed1780</td>\n",
       "    </tr>\n",
       "    <tr>\n",
       "      <th>41</th>\n",
       "      <td>ed1780</td>\n",
       "      <td>7</td>\n",
       "      <td>HDI</td>\n",
       "      <td>8</td>\n",
       "      <td>8__HDI_ed1780</td>\n",
       "    </tr>\n",
       "    <tr>\n",
       "      <th>42</th>\n",
       "      <td>ed1780</td>\n",
       "      <td>7</td>\n",
       "      <td>HDI</td>\n",
       "      <td>9</td>\n",
       "      <td>9__HDI_ed1780</td>\n",
       "    </tr>\n",
       "  </tbody>\n",
       "</table>\n",
       "</div>"
      ],
      "text/plain": [
       "      work  author_label author  chunk_num             tag\n",
       "0   ed1780             7    HDI          0   0__HDI_ed1780\n",
       "1   ed1780             7    HDI          1   1__HDI_ed1780\n",
       "2   ed1780             7    HDI         10  10__HDI_ed1780\n",
       "3   ed1780             7    HDI         11  11__HDI_ed1780\n",
       "4   ed1780             7    HDI         12  12__HDI_ed1780\n",
       "5   ed1780             7    HDI         13  13__HDI_ed1780\n",
       "6   ed1780             7    HDI         14  14__HDI_ed1780\n",
       "7   ed1780             7    HDI         15  15__HDI_ed1780\n",
       "8   ed1780             7    HDI         16  16__HDI_ed1780\n",
       "9   ed1780             7    HDI         17  17__HDI_ed1780\n",
       "10  ed1780             7    HDI         18  18__HDI_ed1780\n",
       "11  ed1780             7    HDI         19  19__HDI_ed1780\n",
       "12  ed1780             7    HDI          2   2__HDI_ed1780\n",
       "13  ed1780             7    HDI         20  20__HDI_ed1780\n",
       "14  ed1780             7    HDI         21  21__HDI_ed1780\n",
       "15  ed1780             7    HDI         22  22__HDI_ed1780\n",
       "16  ed1780             7    HDI         23  23__HDI_ed1780\n",
       "17  ed1780             7    HDI         24  24__HDI_ed1780\n",
       "18  ed1780             7    HDI         25  25__HDI_ed1780\n",
       "19  ed1780             7    HDI         26  26__HDI_ed1780\n",
       "20  ed1780             7    HDI         27  27__HDI_ed1780\n",
       "21  ed1780             7    HDI         28  28__HDI_ed1780\n",
       "22  ed1780             7    HDI         29  29__HDI_ed1780\n",
       "23  ed1780             7    HDI          3   3__HDI_ed1780\n",
       "24  ed1780             7    HDI         30  30__HDI_ed1780\n",
       "25  ed1780             7    HDI         31  31__HDI_ed1780\n",
       "26  ed1780             7    HDI         32  32__HDI_ed1780\n",
       "27  ed1780             7    HDI         33  33__HDI_ed1780\n",
       "28  ed1780             7    HDI         34  34__HDI_ed1780\n",
       "29  ed1780             7    HDI         35  35__HDI_ed1780\n",
       "30  ed1780             7    HDI         36  36__HDI_ed1780\n",
       "31  ed1780             7    HDI         37  37__HDI_ed1780\n",
       "32  ed1780             7    HDI         38  38__HDI_ed1780\n",
       "33  ed1780             7    HDI         39  39__HDI_ed1780\n",
       "34  ed1780             7    HDI          4   4__HDI_ed1780\n",
       "35  ed1780             7    HDI         40  40__HDI_ed1780\n",
       "36  ed1780             7    HDI         41  41__HDI_ed1780\n",
       "37  ed1780             7    HDI         42  42__HDI_ed1780\n",
       "38  ed1780             7    HDI          5   5__HDI_ed1780\n",
       "39  ed1780             7    HDI          6   6__HDI_ed1780\n",
       "40  ed1780             7    HDI          7   7__HDI_ed1780\n",
       "41  ed1780             7    HDI          8   8__HDI_ed1780\n",
       "42  ed1780             7    HDI          9   9__HDI_ed1780"
      ]
     },
     "execution_count": 103,
     "metadata": {},
     "output_type": "execute_result"
    }
   ],
   "source": [
    "# select an \"unknown\" work from the following:\n",
    "# ed1770-nch1774-nch1780\n",
    "# ed1770-CH1774-nch1780\n",
    "# ed1770-nch1774-CH1780\n",
    "# ed1770-CH1774-CH1780\n",
    "# ed1774-nch1780\n",
    "# ed1774-CH1780\n",
    "# ed1780\n",
    "\n",
    "problems = raw_df[raw_df.work == \"ed1780\"].reset_index(drop=True).copy()\n",
    "problems_X = X[raw_df.work == \"ed1780\"].reset_index(drop=True).copy()\n",
    "problems"
   ]
  },
  {
   "cell_type": "code",
   "execution_count": 104,
   "id": "f73a7a03",
   "metadata": {},
   "outputs": [
    {
     "data": {
      "text/html": [
       "<div>\n",
       "<style scoped>\n",
       "    .dataframe tbody tr th:only-of-type {\n",
       "        vertical-align: middle;\n",
       "    }\n",
       "\n",
       "    .dataframe tbody tr th {\n",
       "        vertical-align: top;\n",
       "    }\n",
       "\n",
       "    .dataframe thead th {\n",
       "        text-align: right;\n",
       "    }\n",
       "</style>\n",
       "<table border=\"1\" class=\"dataframe\">\n",
       "  <thead>\n",
       "    <tr style=\"text-align: right;\">\n",
       "      <th></th>\n",
       "      <th>work</th>\n",
       "      <th>author_label</th>\n",
       "      <th>author</th>\n",
       "      <th>chunk_num</th>\n",
       "      <th>tag</th>\n",
       "    </tr>\n",
       "  </thead>\n",
       "  <tbody>\n",
       "    <tr>\n",
       "      <th>0</th>\n",
       "      <td>Avis</td>\n",
       "      <td>0</td>\n",
       "      <td>Baudeau</td>\n",
       "      <td>0</td>\n",
       "      <td>0__Baudeau_Avis</td>\n",
       "    </tr>\n",
       "    <tr>\n",
       "      <th>1</th>\n",
       "      <td>Eclaircissemens</td>\n",
       "      <td>0</td>\n",
       "      <td>Baudeau</td>\n",
       "      <td>0</td>\n",
       "      <td>0__Baudeau_Eclaircissemens</td>\n",
       "    </tr>\n",
       "    <tr>\n",
       "      <th>2</th>\n",
       "      <td>Explication</td>\n",
       "      <td>0</td>\n",
       "      <td>Baudeau</td>\n",
       "      <td>0</td>\n",
       "      <td>0__Baudeau_Explication</td>\n",
       "    </tr>\n",
       "    <tr>\n",
       "      <th>3</th>\n",
       "      <td>Idees sur l-administration</td>\n",
       "      <td>0</td>\n",
       "      <td>Baudeau</td>\n",
       "      <td>0</td>\n",
       "      <td>0__Baudeau_Idees sur l-administration</td>\n",
       "    </tr>\n",
       "    <tr>\n",
       "      <th>4</th>\n",
       "      <td>Idees sur la puissance</td>\n",
       "      <td>0</td>\n",
       "      <td>Baudeau</td>\n",
       "      <td>0</td>\n",
       "      <td>0__Baudeau_Idees sur la puissance</td>\n",
       "    </tr>\n",
       "    <tr>\n",
       "      <th>...</th>\n",
       "      <td>...</td>\n",
       "      <td>...</td>\n",
       "      <td>...</td>\n",
       "      <td>...</td>\n",
       "      <td>...</td>\n",
       "    </tr>\n",
       "    <tr>\n",
       "      <th>4422</th>\n",
       "      <td>elements T3</td>\n",
       "      <td>11</td>\n",
       "      <td>Marmontel</td>\n",
       "      <td>96</td>\n",
       "      <td>96__Marmontel_elements T3</td>\n",
       "    </tr>\n",
       "    <tr>\n",
       "      <th>4423</th>\n",
       "      <td>Histoire Generale T19</td>\n",
       "      <td>3</td>\n",
       "      <td>Deleyre</td>\n",
       "      <td>97</td>\n",
       "      <td>97__Deleyre_Histoire Generale T19</td>\n",
       "    </tr>\n",
       "    <tr>\n",
       "      <th>4424</th>\n",
       "      <td>elements T3</td>\n",
       "      <td>11</td>\n",
       "      <td>Marmontel</td>\n",
       "      <td>97</td>\n",
       "      <td>97__Marmontel_elements T3</td>\n",
       "    </tr>\n",
       "    <tr>\n",
       "      <th>4425</th>\n",
       "      <td>Histoire Generale T19</td>\n",
       "      <td>3</td>\n",
       "      <td>Deleyre</td>\n",
       "      <td>98</td>\n",
       "      <td>98__Deleyre_Histoire Generale T19</td>\n",
       "    </tr>\n",
       "    <tr>\n",
       "      <th>4426</th>\n",
       "      <td>Histoire Generale T19</td>\n",
       "      <td>3</td>\n",
       "      <td>Deleyre</td>\n",
       "      <td>99</td>\n",
       "      <td>99__Deleyre_Histoire Generale T19</td>\n",
       "    </tr>\n",
       "  </tbody>\n",
       "</table>\n",
       "<p>4427 rows × 5 columns</p>\n",
       "</div>"
      ],
      "text/plain": [
       "                            work  author_label     author  chunk_num  \\\n",
       "0                          Avis              0    Baudeau          0   \n",
       "1                Eclaircissemens             0    Baudeau          0   \n",
       "2                    Explication             0    Baudeau          0   \n",
       "3     Idees sur l-administration             0    Baudeau          0   \n",
       "4         Idees sur la puissance             0    Baudeau          0   \n",
       "...                          ...           ...        ...        ...   \n",
       "4422                 elements T3            11  Marmontel         96   \n",
       "4423       Histoire Generale T19             3    Deleyre         97   \n",
       "4424                 elements T3            11  Marmontel         97   \n",
       "4425       Histoire Generale T19             3    Deleyre         98   \n",
       "4426       Histoire Generale T19             3    Deleyre         99   \n",
       "\n",
       "                                        tag  \n",
       "0                          0__Baudeau_Avis   \n",
       "1                0__Baudeau_Eclaircissemens  \n",
       "2                    0__Baudeau_Explication  \n",
       "3     0__Baudeau_Idees sur l-administration  \n",
       "4         0__Baudeau_Idees sur la puissance  \n",
       "...                                     ...  \n",
       "4422              96__Marmontel_elements T3  \n",
       "4423      97__Deleyre_Histoire Generale T19  \n",
       "4424              97__Marmontel_elements T3  \n",
       "4425      98__Deleyre_Histoire Generale T19  \n",
       "4426      99__Deleyre_Histoire Generale T19  \n",
       "\n",
       "[4427 rows x 5 columns]"
      ]
     },
     "execution_count": 104,
     "metadata": {},
     "output_type": "execute_result"
    }
   ],
   "source": [
    "# extract the rest of the corpus\n",
    "\n",
    "rest = raw_df[raw_df.work != \"ed1780\"].reset_index(drop=True).copy()\n",
    "rest_X = X[raw_df.work != \"ed1780\"].reset_index(drop = True).copy()\n",
    "rest"
   ]
  },
  {
   "cell_type": "code",
   "execution_count": 105,
   "id": "a2bb65a8",
   "metadata": {},
   "outputs": [],
   "source": [
    "# Scaling\n",
    "\n",
    "sts = StandardScaler(with_mean=False).fit(rest_X)\n",
    "rest_scaled_X = sts.transform(rest_X)\n",
    "problems_scaled_X = sts.transform(problems_X)"
   ]
  },
  {
   "cell_type": "code",
   "execution_count": 106,
   "id": "eeb0b728",
   "metadata": {},
   "outputs": [
    {
     "data": {
      "text/plain": [
       "array(['Baudeau', 'Chastellux', 'Condorcet', 'Deleyre', 'dHolbach',\n",
       "       'Diderot', 'Guibert', 'HDI', 'Jaucourt', 'Jussieu', 'La Grange',\n",
       "       'Marmontel', 'Meister', 'Morellet', 'Naigeon', 'Pechmeja',\n",
       "       'Raynal', 'Rivière', 'Saint-Lambert'], dtype=object)"
      ]
     },
     "execution_count": 106,
     "metadata": {},
     "output_type": "execute_result"
    }
   ],
   "source": [
    "# Verification\n",
    "label_uniques.values"
   ]
  },
  {
   "cell_type": "code",
   "execution_count": 107,
   "id": "98ef9602",
   "metadata": {},
   "outputs": [],
   "source": [
    "# set verifier\n",
    "rng = np.random.default_rng(42)\n",
    "\n",
    "bdi_mm = BDIVerifier(\n",
    "    metric='minmax', nb_bootstrap_iter=1000, rnd_prop=0.35, random_state=rng\n",
    ")"
   ]
  },
  {
   "cell_type": "code",
   "execution_count": 108,
   "id": "f7029e6b",
   "metadata": {},
   "outputs": [
    {
     "name": "stderr",
     "output_type": "stream",
     "text": [
      "04/02/2025 03:43:49 [ruzicka:INFO] Fitting on 4427 documents...\n"
     ]
    }
   ],
   "source": [
    "# fit \n",
    "bdi_mm.fit(rest_scaled_X, rest.author_label)"
   ]
  },
  {
   "cell_type": "code",
   "execution_count": 109,
   "id": "df3554d0",
   "metadata": {},
   "outputs": [
    {
     "name": "stderr",
     "output_type": "stream",
     "text": [
      "04/02/2025 03:43:50 [ruzicka:INFO] Predicting on 43 documents\n"
     ]
    },
    {
     "name": "stdout",
     "output_type": "stream",
     "text": [
      "Testing against Baudeau\n"
     ]
    },
    {
     "name": "stderr",
     "output_type": "stream",
     "text": [
      "04/02/2025 03:44:04 [ruzicka:INFO] Predicting on 43 documents\n"
     ]
    },
    {
     "name": "stdout",
     "output_type": "stream",
     "text": [
      "Bootstrap Match Strength (one per chunk, 0-1.0): [0.778 0.948 0.942 0.88  0.645 0.889 0.541 0.704 0.865 0.669 0.83  0.5\n",
      " 0.538 0.67  0.521 0.595 0.92  0.336 0.789 0.903 0.989 0.81  0.972 0.811\n",
      " 0.705 0.435 0.505 0.61  0.902 0.546 0.74  0.818 0.888 0.938 0.496 0.815\n",
      " 0.721 0.33  0.609 0.515 0.707 0.53  0.847]\n",
      "Testing against Chastellux\n"
     ]
    },
    {
     "name": "stderr",
     "output_type": "stream",
     "text": [
      "04/02/2025 03:44:21 [ruzicka:INFO] Predicting on 43 documents\n"
     ]
    },
    {
     "name": "stdout",
     "output_type": "stream",
     "text": [
      "Bootstrap Match Strength (one per chunk, 0-1.0): [0.954 0.99  0.991 0.949 0.989 0.993 0.984 0.993 0.966 0.982 0.992 0.97\n",
      " 0.991 0.992 0.879 0.883 0.958 0.945 0.949 0.994 0.997 0.985 0.999 0.994\n",
      " 0.972 0.955 0.912 0.929 0.927 0.884 0.87  0.881 0.945 0.992 0.955 0.85\n",
      " 0.837 0.945 0.981 0.925 0.957 0.975 0.955]\n",
      "Testing against Condorcet\n"
     ]
    },
    {
     "name": "stderr",
     "output_type": "stream",
     "text": [
      "04/02/2025 03:45:14 [ruzicka:INFO] Predicting on 43 documents\n"
     ]
    },
    {
     "name": "stdout",
     "output_type": "stream",
     "text": [
      "Bootstrap Match Strength (one per chunk, 0-1.0): [0.991 1.    0.991 0.995 0.984 0.995 0.985 0.994 0.998 0.985 0.995 0.997\n",
      " 0.981 0.985 1.    0.999 0.988 0.99  0.999 0.998 0.997 0.998 0.999 0.998\n",
      " 1.    0.998 1.    0.992 0.996 0.999 0.992 0.983 1.    0.984 0.998 0.999\n",
      " 1.    0.998 0.973 0.995 0.986 0.996 0.967]\n",
      "Testing against Deleyre\n"
     ]
    },
    {
     "name": "stderr",
     "output_type": "stream",
     "text": [
      "04/02/2025 03:45:36 [ruzicka:INFO] Predicting on 43 documents\n"
     ]
    },
    {
     "name": "stdout",
     "output_type": "stream",
     "text": [
      "Bootstrap Match Strength (one per chunk, 0-1.0): [0.98  0.758 0.975 0.975 0.845 0.952 0.956 0.885 0.953 0.933 0.634 0.861\n",
      " 0.936 0.957 0.89  0.749 0.953 0.872 0.889 0.944 0.941 0.807 0.937 0.913\n",
      " 0.972 0.895 0.851 0.803 0.98  0.936 0.936 0.953 0.908 0.879 0.817 0.971\n",
      " 0.642 0.814 0.959 0.942 0.971 0.953 0.988]\n",
      "Testing against dHolbach\n"
     ]
    },
    {
     "name": "stderr",
     "output_type": "stream",
     "text": [
      "04/02/2025 03:46:20 [ruzicka:INFO] Predicting on 43 documents\n"
     ]
    },
    {
     "name": "stdout",
     "output_type": "stream",
     "text": [
      "Bootstrap Match Strength (one per chunk, 0-1.0): [0.995 0.976 0.963 0.997 0.993 0.967 0.984 0.943 0.989 0.989 0.995 0.961\n",
      " 0.95  0.958 1.    1.    0.991 0.998 0.991 0.944 0.976 0.985 0.978 0.893\n",
      " 0.918 0.976 0.991 0.988 0.996 0.961 0.993 0.991 0.98  0.997 0.996 0.797\n",
      " 0.96  0.989 0.953 0.964 0.997 0.991 0.988]\n",
      "Testing against Diderot\n"
     ]
    },
    {
     "name": "stderr",
     "output_type": "stream",
     "text": [
      "04/02/2025 03:46:56 [ruzicka:INFO] Predicting on 43 documents\n"
     ]
    },
    {
     "name": "stdout",
     "output_type": "stream",
     "text": [
      "Bootstrap Match Strength (one per chunk, 0-1.0): [0.897 0.934 0.927 0.943 0.832 0.98  0.99  0.98  0.968 0.958 0.981 0.998\n",
      " 0.986 0.994 0.902 0.962 0.959 0.996 0.99  0.947 0.786 0.864 0.503 0.993\n",
      " 0.807 0.994 0.963 0.953 0.914 0.993 0.672 0.636 0.856 0.807 0.956 0.998\n",
      " 0.972 0.997 0.999 0.994 0.942 0.965 0.96 ]\n",
      "Testing against Guibert\n"
     ]
    },
    {
     "name": "stderr",
     "output_type": "stream",
     "text": [
      "04/02/2025 03:47:14 [ruzicka:INFO] Predicting on 43 documents\n"
     ]
    },
    {
     "name": "stdout",
     "output_type": "stream",
     "text": [
      "Bootstrap Match Strength (one per chunk, 0-1.0): [0.941 0.967 0.919 0.86  0.791 0.882 0.719 0.827 0.756 0.994 0.765 0.699\n",
      " 0.989 0.743 0.628 0.807 0.826 0.64  0.713 0.815 0.9   0.85  0.924 0.975\n",
      " 0.874 0.858 0.69  0.779 0.949 0.646 0.951 0.863 0.818 0.831 0.918 0.898\n",
      " 0.962 0.907 0.773 0.902 0.805 0.834 0.85 ]\n",
      "Testing against HDI\n"
     ]
    },
    {
     "name": "stderr",
     "output_type": "stream",
     "text": [
      "04/02/2025 03:47:18 [ruzicka:INFO] Predicting on 43 documents\n"
     ]
    },
    {
     "name": "stdout",
     "output_type": "stream",
     "text": [
      "Bootstrap Match Strength (one per chunk, 0-1.0): [0.993 0.956 0.985 0.985 0.991 0.966 0.998 1.    0.994 0.987 0.908 0.805\n",
      " 0.895 0.964 0.925 0.85  0.986 0.988 0.783 0.822 0.994 0.999 0.986 0.94\n",
      " 0.993 0.966 0.901 0.998 0.839 0.865 0.999 0.999 0.982 0.994 0.987 0.779\n",
      " 0.862 0.832 0.576 0.9   0.996 0.991 0.998]\n",
      "Testing against Jaucourt\n"
     ]
    },
    {
     "name": "stderr",
     "output_type": "stream",
     "text": [
      "04/02/2025 03:47:34 [ruzicka:INFO] Predicting on 43 documents\n"
     ]
    },
    {
     "name": "stdout",
     "output_type": "stream",
     "text": [
      "Bootstrap Match Strength (one per chunk, 0-1.0): [0.921 0.558 0.762 0.697 0.624 0.645 0.809 0.519 0.851 0.693 0.8   0.864\n",
      " 0.913 0.683 0.659 0.926 0.907 0.841 0.872 0.75  0.576 0.656 0.432 0.802\n",
      " 0.7   0.837 0.745 0.434 0.905 0.935 0.66  0.738 0.541 0.467 0.647 0.848\n",
      " 0.931 0.843 0.967 0.907 0.843 0.893 0.871]\n",
      "Testing against Jussieu\n"
     ]
    },
    {
     "name": "stderr",
     "output_type": "stream",
     "text": [
      "04/02/2025 03:47:46 [ruzicka:INFO] Predicting on 43 documents\n"
     ]
    },
    {
     "name": "stdout",
     "output_type": "stream",
     "text": [
      "Bootstrap Match Strength (one per chunk, 0-1.0): [0.728 0.51  0.54  0.332 0.329 0.231 0.276 0.445 0.126 0.499 0.262 0.275\n",
      " 0.389 0.371 0.123 0.418 0.369 0.12  0.038 0.044 0.282 0.222 0.066 0.474\n",
      " 0.657 0.192 0.135 0.09  0.735 0.163 0.396 0.383 0.398 0.16  0.056 0.409\n",
      " 0.322 0.55  0.533 0.732 0.807 0.791 0.955]\n",
      "Testing against La Grange\n"
     ]
    },
    {
     "name": "stderr",
     "output_type": "stream",
     "text": [
      "04/02/2025 03:47:56 [ruzicka:INFO] Predicting on 43 documents\n"
     ]
    },
    {
     "name": "stdout",
     "output_type": "stream",
     "text": [
      "Bootstrap Match Strength (one per chunk, 0-1.0): [0.039 0.138 0.013 0.02  0.035 0.013 0.03  0.047 0.091 0.004 0.017 0.033\n",
      " 0.01  0.048 0.012 0.003 0.001 0.038 0.008 0.065 0.014 0.021 0.003 0.129\n",
      " 0.068 0.018 0.017 0.001 0.012 0.058 0.005 0.012 0.002 0.002 0.003 0.028\n",
      " 0.015 0.016 0.274 0.038 0.002 0.054 0.059]\n",
      "Testing against Marmontel\n"
     ]
    },
    {
     "name": "stderr",
     "output_type": "stream",
     "text": [
      "04/02/2025 03:48:27 [ruzicka:INFO] Predicting on 43 documents\n"
     ]
    },
    {
     "name": "stdout",
     "output_type": "stream",
     "text": [
      "Bootstrap Match Strength (one per chunk, 0-1.0): [0.393 0.461 0.503 0.518 0.414 0.888 0.595 0.717 0.759 0.333 0.285 0.801\n",
      " 0.841 0.807 0.188 0.67  0.31  0.714 0.566 0.62  0.255 0.56  0.114 0.797\n",
      " 0.55  0.751 0.713 0.51  0.439 0.687 0.26  0.124 0.117 0.309 0.545 0.479\n",
      " 0.407 0.816 0.93  0.841 0.385 0.64  0.21 ]\n",
      "Testing against Meister\n"
     ]
    },
    {
     "name": "stderr",
     "output_type": "stream",
     "text": [
      "04/02/2025 03:48:32 [ruzicka:INFO] Predicting on 43 documents\n"
     ]
    },
    {
     "name": "stdout",
     "output_type": "stream",
     "text": [
      "Bootstrap Match Strength (one per chunk, 0-1.0): [0.009 0.061 0.021 0.    0.012 0.03  0.045 0.101 0.07  0.048 0.04  0.231\n",
      " 0.143 0.085 0.005 0.35  0.04  0.825 0.684 0.052 0.005 0.107 0.02  0.268\n",
      " 0.008 0.09  0.024 0.041 0.    0.023 0.    0.    0.018 0.002 0.061 0.06\n",
      " 0.234 0.724 0.277 0.156 0.01  0.054 0.011]\n",
      "Testing against Morellet\n"
     ]
    },
    {
     "name": "stderr",
     "output_type": "stream",
     "text": [
      "04/02/2025 03:48:43 [ruzicka:INFO] Predicting on 43 documents\n"
     ]
    },
    {
     "name": "stdout",
     "output_type": "stream",
     "text": [
      "Bootstrap Match Strength (one per chunk, 0-1.0): [0.452 0.808 0.684 0.449 0.639 0.677 0.632 0.281 0.934 0.764 0.885 0.88\n",
      " 0.626 0.773 0.553 0.486 0.499 0.74  0.923 0.88  0.752 0.797 0.559 0.894\n",
      " 0.879 0.435 0.872 0.788 0.374 0.712 0.763 0.462 0.798 0.737 0.763 0.964\n",
      " 0.952 0.742 0.804 0.634 0.382 0.537 0.182]\n",
      "Testing against Naigeon\n"
     ]
    },
    {
     "name": "stderr",
     "output_type": "stream",
     "text": [
      "04/02/2025 03:48:53 [ruzicka:INFO] Predicting on 43 documents\n"
     ]
    },
    {
     "name": "stdout",
     "output_type": "stream",
     "text": [
      "Bootstrap Match Strength (one per chunk, 0-1.0): [0.386 0.86  0.641 0.382 0.751 0.802 0.385 0.262 0.29  0.308 0.745 0.811\n",
      " 0.49  0.636 0.478 0.816 0.242 0.933 0.968 0.906 0.161 0.418 0.073 0.762\n",
      " 0.087 0.384 0.698 0.521 0.134 0.502 0.172 0.038 0.297 0.41  0.395 0.688\n",
      " 0.477 0.742 0.863 0.555 0.305 0.376 0.086]\n",
      "Testing against Pechmeja\n"
     ]
    },
    {
     "name": "stderr",
     "output_type": "stream",
     "text": [
      "04/02/2025 03:49:00 [ruzicka:INFO] Predicting on 43 documents\n"
     ]
    },
    {
     "name": "stdout",
     "output_type": "stream",
     "text": [
      "Bootstrap Match Strength (one per chunk, 0-1.0): [0.233 0.404 0.56  0.299 0.575 0.655 0.273 0.055 0.316 0.233 0.179 0.236\n",
      " 0.451 0.178 0.104 0.103 0.213 0.252 0.196 0.608 0.369 0.449 0.428 0.359\n",
      " 0.354 0.411 0.088 0.037 0.134 0.098 0.242 0.219 0.485 0.363 0.275 0.14\n",
      " 0.479 0.197 0.069 0.122 0.243 0.03  0.601]\n",
      "Testing against Raynal\n"
     ]
    },
    {
     "name": "stderr",
     "output_type": "stream",
     "text": [
      "04/02/2025 03:49:22 [ruzicka:INFO] Predicting on 43 documents\n"
     ]
    },
    {
     "name": "stdout",
     "output_type": "stream",
     "text": [
      "Bootstrap Match Strength (one per chunk, 0-1.0): [0.927 0.702 0.79  0.911 0.725 0.951 0.949 0.662 0.713 0.957 0.697 0.867\n",
      " 0.967 0.986 0.911 0.939 0.981 0.632 0.699 0.919 0.538 0.884 0.931 0.926\n",
      " 0.889 0.954 0.939 0.756 0.931 0.891 0.979 0.992 0.859 0.983 0.772 0.879\n",
      " 0.86  0.754 0.901 0.968 0.808 0.932 0.726]\n",
      "Testing against Rivière\n"
     ]
    },
    {
     "name": "stderr",
     "output_type": "stream",
     "text": [
      "04/02/2025 03:49:34 [ruzicka:INFO] Predicting on 43 documents\n"
     ]
    },
    {
     "name": "stdout",
     "output_type": "stream",
     "text": [
      "Bootstrap Match Strength (one per chunk, 0-1.0): [0.165 0.622 0.573 0.061 0.253 0.084 0.203 0.014 0.284 0.35  0.686 0.382\n",
      " 0.23  0.329 0.09  0.216 0.211 0.751 0.804 0.871 0.602 0.756 0.449 0.208\n",
      " 0.29  0.105 0.436 0.434 0.021 0.288 0.185 0.174 0.395 0.509 0.221 0.516\n",
      " 0.523 0.418 0.236 0.133 0.19  0.176 0.093]\n",
      "Testing against Saint-Lambert\n",
      "Bootstrap Match Strength (one per chunk, 0-1.0): [0.951 0.955 0.927 0.967 0.963 0.976 0.905 0.941 0.796 0.91  0.85  0.857\n",
      " 0.954 0.922 0.858 0.833 0.866 0.841 0.927 0.979 0.953 0.907 0.914 0.881\n",
      " 0.577 0.955 0.905 0.932 0.976 0.739 0.924 0.971 0.858 0.82  0.881 0.731\n",
      " 0.619 0.929 0.723 0.923 0.973 0.962 0.93 ]\n"
     ]
    }
   ],
   "source": [
    "for label in label_uniques.values:\n",
    "    print(f\"Testing against {label}\")\n",
    "    code = label_uniques.get_loc(label)\n",
    "    print(\n",
    "        f\"Bootstrap Match Strength (one per chunk, 0-1.0): {bdi_mm.predict_proba(problems_scaled_X, [code] * problems_scaled_X.shape[0])}\"\n",
    "    )"
   ]
  },
  {
   "cell_type": "markdown",
   "id": "142ab344",
   "metadata": {},
   "source": [
    "# nb change path"
   ]
  },
  {
   "cell_type": "code",
   "execution_count": 110,
   "id": "10039d94",
   "metadata": {},
   "outputs": [
    {
     "name": "stderr",
     "output_type": "stream",
     "text": [
      "04/02/2025 03:50:17 [ruzicka:INFO] Predicting on 43 documents\n"
     ]
    },
    {
     "name": "stdout",
     "output_type": "stream",
     "text": [
      "Baudeau\n"
     ]
    },
    {
     "name": "stderr",
     "output_type": "stream",
     "text": [
      "04/02/2025 03:50:31 [ruzicka:INFO] Predicting on 43 documents\n"
     ]
    },
    {
     "name": "stdout",
     "output_type": "stream",
     "text": [
      "Chastellux\n"
     ]
    },
    {
     "name": "stderr",
     "output_type": "stream",
     "text": [
      "04/02/2025 03:50:47 [ruzicka:INFO] Predicting on 43 documents\n"
     ]
    },
    {
     "name": "stdout",
     "output_type": "stream",
     "text": [
      "Condorcet\n"
     ]
    },
    {
     "name": "stderr",
     "output_type": "stream",
     "text": [
      "04/02/2025 03:51:39 [ruzicka:INFO] Predicting on 43 documents\n"
     ]
    },
    {
     "name": "stdout",
     "output_type": "stream",
     "text": [
      "Deleyre\n"
     ]
    },
    {
     "name": "stderr",
     "output_type": "stream",
     "text": [
      "04/02/2025 03:52:01 [ruzicka:INFO] Predicting on 43 documents\n"
     ]
    },
    {
     "name": "stdout",
     "output_type": "stream",
     "text": [
      "dHolbach\n"
     ]
    },
    {
     "name": "stderr",
     "output_type": "stream",
     "text": [
      "04/02/2025 03:52:46 [ruzicka:INFO] Predicting on 43 documents\n"
     ]
    },
    {
     "name": "stdout",
     "output_type": "stream",
     "text": [
      "Diderot\n"
     ]
    },
    {
     "name": "stderr",
     "output_type": "stream",
     "text": [
      "04/02/2025 03:53:21 [ruzicka:INFO] Predicting on 43 documents\n"
     ]
    },
    {
     "name": "stdout",
     "output_type": "stream",
     "text": [
      "Guibert\n"
     ]
    },
    {
     "name": "stderr",
     "output_type": "stream",
     "text": [
      "04/02/2025 03:53:42 [ruzicka:INFO] Predicting on 43 documents\n"
     ]
    },
    {
     "name": "stdout",
     "output_type": "stream",
     "text": [
      "HDI\n"
     ]
    },
    {
     "name": "stderr",
     "output_type": "stream",
     "text": [
      "04/02/2025 03:53:46 [ruzicka:INFO] Predicting on 43 documents\n"
     ]
    },
    {
     "name": "stdout",
     "output_type": "stream",
     "text": [
      "Jaucourt\n"
     ]
    },
    {
     "name": "stderr",
     "output_type": "stream",
     "text": [
      "04/02/2025 03:54:02 [ruzicka:INFO] Predicting on 43 documents\n"
     ]
    },
    {
     "name": "stdout",
     "output_type": "stream",
     "text": [
      "Jussieu\n"
     ]
    },
    {
     "name": "stderr",
     "output_type": "stream",
     "text": [
      "04/02/2025 03:54:14 [ruzicka:INFO] Predicting on 43 documents\n"
     ]
    },
    {
     "name": "stdout",
     "output_type": "stream",
     "text": [
      "La Grange\n"
     ]
    },
    {
     "name": "stderr",
     "output_type": "stream",
     "text": [
      "04/02/2025 03:54:24 [ruzicka:INFO] Predicting on 43 documents\n"
     ]
    },
    {
     "name": "stdout",
     "output_type": "stream",
     "text": [
      "Marmontel\n"
     ]
    },
    {
     "name": "stderr",
     "output_type": "stream",
     "text": [
      "04/02/2025 03:54:55 [ruzicka:INFO] Predicting on 43 documents\n"
     ]
    },
    {
     "name": "stdout",
     "output_type": "stream",
     "text": [
      "Meister\n"
     ]
    },
    {
     "name": "stderr",
     "output_type": "stream",
     "text": [
      "04/02/2025 03:55:00 [ruzicka:INFO] Predicting on 43 documents\n"
     ]
    },
    {
     "name": "stdout",
     "output_type": "stream",
     "text": [
      "Morellet\n"
     ]
    },
    {
     "name": "stderr",
     "output_type": "stream",
     "text": [
      "04/02/2025 03:55:12 [ruzicka:INFO] Predicting on 43 documents\n"
     ]
    },
    {
     "name": "stdout",
     "output_type": "stream",
     "text": [
      "Naigeon\n"
     ]
    },
    {
     "name": "stderr",
     "output_type": "stream",
     "text": [
      "04/02/2025 03:55:22 [ruzicka:INFO] Predicting on 43 documents\n"
     ]
    },
    {
     "name": "stdout",
     "output_type": "stream",
     "text": [
      "Pechmeja\n"
     ]
    },
    {
     "name": "stderr",
     "output_type": "stream",
     "text": [
      "04/02/2025 03:55:29 [ruzicka:INFO] Predicting on 43 documents\n"
     ]
    },
    {
     "name": "stdout",
     "output_type": "stream",
     "text": [
      "Raynal\n"
     ]
    },
    {
     "name": "stderr",
     "output_type": "stream",
     "text": [
      "04/02/2025 03:55:50 [ruzicka:INFO] Predicting on 43 documents\n"
     ]
    },
    {
     "name": "stdout",
     "output_type": "stream",
     "text": [
      "Rivière\n"
     ]
    },
    {
     "name": "stderr",
     "output_type": "stream",
     "text": [
      "04/02/2025 03:56:03 [ruzicka:INFO] Predicting on 43 documents\n"
     ]
    },
    {
     "name": "stdout",
     "output_type": "stream",
     "text": [
      "Saint-Lambert\n"
     ]
    }
   ],
   "source": [
    "authors = label_uniques.values\n",
    "\n",
    "fh = ''\n",
    "\n",
    "for a in authors:\n",
    "\n",
    "    print(a)\n",
    "    \n",
    "    bdi_mm.predict_proba(\n",
    "        problems_scaled_X, [label_uniques.get_loc(a)] * problems_scaled_X.shape[0]\n",
    "    )\n",
    "\n",
    "    \n",
    "    x = pd.DataFrame(dict(zip(problems.tag, bdi_mm._dist_arrays)))\n",
    "    \n",
    "    fh = '06_tests/editions/mfn500/ed1780_vs_' + a + '.csv'\n",
    "\n",
    "    x.to_csv(fh)"
   ]
  },
  {
   "cell_type": "markdown",
   "id": "f9111275",
   "metadata": {},
   "source": [
    "## Other groups of fragments\n",
    "(The very same code, just for paths simplicity)"
   ]
  },
  {
   "cell_type": "code",
   "execution_count": 26,
   "id": "749d1d79",
   "metadata": {},
   "outputs": [
    {
     "data": {
      "text/html": [
       "<div>\n",
       "<style scoped>\n",
       "    .dataframe tbody tr th:only-of-type {\n",
       "        vertical-align: middle;\n",
       "    }\n",
       "\n",
       "    .dataframe tbody tr th {\n",
       "        vertical-align: top;\n",
       "    }\n",
       "\n",
       "    .dataframe thead th {\n",
       "        text-align: right;\n",
       "    }\n",
       "</style>\n",
       "<table border=\"1\" class=\"dataframe\">\n",
       "  <thead>\n",
       "    <tr style=\"text-align: right;\">\n",
       "      <th></th>\n",
       "      <th>work</th>\n",
       "      <th>author</th>\n",
       "      <th>chunk_num</th>\n",
       "      <th>tag</th>\n",
       "      <th>_de_</th>\n",
       "      <th>les_</th>\n",
       "      <th>des_</th>\n",
       "      <th>_des</th>\n",
       "      <th>oit_</th>\n",
       "      <th>_et_</th>\n",
       "      <th>...</th>\n",
       "      <th>se_d</th>\n",
       "      <th>i_le</th>\n",
       "      <th>nt_c</th>\n",
       "      <th>ns_s</th>\n",
       "      <th>_à_c</th>\n",
       "      <th>nt_à</th>\n",
       "      <th>re_a</th>\n",
       "      <th>t_da</th>\n",
       "      <th>et_p</th>\n",
       "      <th>ne_l</th>\n",
       "    </tr>\n",
       "  </thead>\n",
       "  <tbody>\n",
       "    <tr>\n",
       "      <th>0</th>\n",
       "      <td>Avis</td>\n",
       "      <td>Baudeau</td>\n",
       "      <td>0</td>\n",
       "      <td>0__Baudeau_Avis</td>\n",
       "      <td>0.637944</td>\n",
       "      <td>0.554734</td>\n",
       "      <td>0.425296</td>\n",
       "      <td>0.425296</td>\n",
       "      <td>0.110947</td>\n",
       "      <td>0.462278</td>\n",
       "      <td>...</td>\n",
       "      <td>0.064719</td>\n",
       "      <td>0.027737</td>\n",
       "      <td>0.064719</td>\n",
       "      <td>0.018491</td>\n",
       "      <td>0.018491</td>\n",
       "      <td>0.046228</td>\n",
       "      <td>0.027737</td>\n",
       "      <td>0.027737</td>\n",
       "      <td>0.036982</td>\n",
       "      <td>0.009246</td>\n",
       "    </tr>\n",
       "    <tr>\n",
       "      <th>1</th>\n",
       "      <td>Eclaircissemens</td>\n",
       "      <td>Baudeau</td>\n",
       "      <td>0</td>\n",
       "      <td>0__Baudeau_Eclaircissemens</td>\n",
       "      <td>0.777385</td>\n",
       "      <td>0.609541</td>\n",
       "      <td>0.521201</td>\n",
       "      <td>0.521201</td>\n",
       "      <td>0.114841</td>\n",
       "      <td>0.494700</td>\n",
       "      <td>...</td>\n",
       "      <td>0.017668</td>\n",
       "      <td>0.053004</td>\n",
       "      <td>0.026502</td>\n",
       "      <td>0.008834</td>\n",
       "      <td>0.026502</td>\n",
       "      <td>0.000000</td>\n",
       "      <td>0.017668</td>\n",
       "      <td>0.035336</td>\n",
       "      <td>0.035336</td>\n",
       "      <td>0.070671</td>\n",
       "    </tr>\n",
       "    <tr>\n",
       "      <th>2</th>\n",
       "      <td>Explication</td>\n",
       "      <td>Baudeau</td>\n",
       "      <td>0</td>\n",
       "      <td>0__Baudeau_Explication</td>\n",
       "      <td>0.856419</td>\n",
       "      <td>1.127327</td>\n",
       "      <td>0.480643</td>\n",
       "      <td>0.480643</td>\n",
       "      <td>0.061173</td>\n",
       "      <td>0.664161</td>\n",
       "      <td>...</td>\n",
       "      <td>0.026217</td>\n",
       "      <td>0.017478</td>\n",
       "      <td>0.043695</td>\n",
       "      <td>0.026217</td>\n",
       "      <td>0.043695</td>\n",
       "      <td>0.026217</td>\n",
       "      <td>0.008739</td>\n",
       "      <td>0.026217</td>\n",
       "      <td>0.078651</td>\n",
       "      <td>0.000000</td>\n",
       "    </tr>\n",
       "    <tr>\n",
       "      <th>3</th>\n",
       "      <td>Idees sur l-administration</td>\n",
       "      <td>Baudeau</td>\n",
       "      <td>0</td>\n",
       "      <td>0__Baudeau_Idees sur l-administration</td>\n",
       "      <td>0.962696</td>\n",
       "      <td>0.386797</td>\n",
       "      <td>0.378202</td>\n",
       "      <td>0.395393</td>\n",
       "      <td>0.189101</td>\n",
       "      <td>0.378202</td>\n",
       "      <td>...</td>\n",
       "      <td>0.068764</td>\n",
       "      <td>0.000000</td>\n",
       "      <td>0.034382</td>\n",
       "      <td>0.060168</td>\n",
       "      <td>0.042977</td>\n",
       "      <td>0.051573</td>\n",
       "      <td>0.017191</td>\n",
       "      <td>0.060168</td>\n",
       "      <td>0.017191</td>\n",
       "      <td>0.008595</td>\n",
       "    </tr>\n",
       "    <tr>\n",
       "      <th>4</th>\n",
       "      <td>Idees sur la puissance</td>\n",
       "      <td>Baudeau</td>\n",
       "      <td>0</td>\n",
       "      <td>0__Baudeau_Idees sur la puissance</td>\n",
       "      <td>0.852470</td>\n",
       "      <td>0.748086</td>\n",
       "      <td>0.382742</td>\n",
       "      <td>0.356646</td>\n",
       "      <td>0.226166</td>\n",
       "      <td>0.434934</td>\n",
       "      <td>...</td>\n",
       "      <td>0.008699</td>\n",
       "      <td>0.034795</td>\n",
       "      <td>0.052192</td>\n",
       "      <td>0.017397</td>\n",
       "      <td>0.017397</td>\n",
       "      <td>0.043493</td>\n",
       "      <td>0.043493</td>\n",
       "      <td>0.026096</td>\n",
       "      <td>0.034795</td>\n",
       "      <td>0.052192</td>\n",
       "    </tr>\n",
       "    <tr>\n",
       "      <th>...</th>\n",
       "      <td>...</td>\n",
       "      <td>...</td>\n",
       "      <td>...</td>\n",
       "      <td>...</td>\n",
       "      <td>...</td>\n",
       "      <td>...</td>\n",
       "      <td>...</td>\n",
       "      <td>...</td>\n",
       "      <td>...</td>\n",
       "      <td>...</td>\n",
       "      <td>...</td>\n",
       "      <td>...</td>\n",
       "      <td>...</td>\n",
       "      <td>...</td>\n",
       "      <td>...</td>\n",
       "      <td>...</td>\n",
       "      <td>...</td>\n",
       "      <td>...</td>\n",
       "      <td>...</td>\n",
       "      <td>...</td>\n",
       "      <td>...</td>\n",
       "    </tr>\n",
       "    <tr>\n",
       "      <th>4466</th>\n",
       "      <td>elements T3</td>\n",
       "      <td>Marmontel</td>\n",
       "      <td>96</td>\n",
       "      <td>96__Marmontel_elements T3</td>\n",
       "      <td>0.772668</td>\n",
       "      <td>0.297896</td>\n",
       "      <td>0.223422</td>\n",
       "      <td>0.214113</td>\n",
       "      <td>0.074474</td>\n",
       "      <td>0.623720</td>\n",
       "      <td>...</td>\n",
       "      <td>0.037237</td>\n",
       "      <td>0.027928</td>\n",
       "      <td>0.037237</td>\n",
       "      <td>0.027928</td>\n",
       "      <td>0.018619</td>\n",
       "      <td>0.027928</td>\n",
       "      <td>0.055856</td>\n",
       "      <td>0.121020</td>\n",
       "      <td>0.065165</td>\n",
       "      <td>0.065165</td>\n",
       "    </tr>\n",
       "    <tr>\n",
       "      <th>4467</th>\n",
       "      <td>Histoire Generale T19</td>\n",
       "      <td>Deleyre</td>\n",
       "      <td>97</td>\n",
       "      <td>97__Deleyre_Histoire Generale T19</td>\n",
       "      <td>0.988514</td>\n",
       "      <td>0.913199</td>\n",
       "      <td>0.451892</td>\n",
       "      <td>0.348334</td>\n",
       "      <td>0.169460</td>\n",
       "      <td>0.141216</td>\n",
       "      <td>...</td>\n",
       "      <td>0.000000</td>\n",
       "      <td>0.160045</td>\n",
       "      <td>0.065901</td>\n",
       "      <td>0.028243</td>\n",
       "      <td>0.009414</td>\n",
       "      <td>0.000000</td>\n",
       "      <td>0.018829</td>\n",
       "      <td>0.037658</td>\n",
       "      <td>0.000000</td>\n",
       "      <td>0.018829</td>\n",
       "    </tr>\n",
       "    <tr>\n",
       "      <th>4468</th>\n",
       "      <td>elements T3</td>\n",
       "      <td>Marmontel</td>\n",
       "      <td>97</td>\n",
       "      <td>97__Marmontel_elements T3</td>\n",
       "      <td>0.827950</td>\n",
       "      <td>0.373032</td>\n",
       "      <td>0.191065</td>\n",
       "      <td>0.236557</td>\n",
       "      <td>0.136475</td>\n",
       "      <td>0.564098</td>\n",
       "      <td>...</td>\n",
       "      <td>0.027295</td>\n",
       "      <td>0.009098</td>\n",
       "      <td>0.045492</td>\n",
       "      <td>0.000000</td>\n",
       "      <td>0.009098</td>\n",
       "      <td>0.009098</td>\n",
       "      <td>0.027295</td>\n",
       "      <td>0.063688</td>\n",
       "      <td>0.036393</td>\n",
       "      <td>0.072787</td>\n",
       "    </tr>\n",
       "    <tr>\n",
       "      <th>4469</th>\n",
       "      <td>Histoire Generale T19</td>\n",
       "      <td>Deleyre</td>\n",
       "      <td>98</td>\n",
       "      <td>98__Deleyre_Histoire Generale T19</td>\n",
       "      <td>0.916573</td>\n",
       "      <td>1.038159</td>\n",
       "      <td>0.617284</td>\n",
       "      <td>0.561167</td>\n",
       "      <td>0.112233</td>\n",
       "      <td>0.140292</td>\n",
       "      <td>...</td>\n",
       "      <td>0.018706</td>\n",
       "      <td>0.046764</td>\n",
       "      <td>0.056117</td>\n",
       "      <td>0.037411</td>\n",
       "      <td>0.046764</td>\n",
       "      <td>0.009353</td>\n",
       "      <td>0.037411</td>\n",
       "      <td>0.028058</td>\n",
       "      <td>0.000000</td>\n",
       "      <td>0.056117</td>\n",
       "    </tr>\n",
       "    <tr>\n",
       "      <th>4470</th>\n",
       "      <td>Histoire Generale T19</td>\n",
       "      <td>Deleyre</td>\n",
       "      <td>99</td>\n",
       "      <td>99__Deleyre_Histoire Generale T19</td>\n",
       "      <td>1.051435</td>\n",
       "      <td>1.004073</td>\n",
       "      <td>0.530454</td>\n",
       "      <td>0.464147</td>\n",
       "      <td>0.094724</td>\n",
       "      <td>0.056834</td>\n",
       "      <td>...</td>\n",
       "      <td>0.018945</td>\n",
       "      <td>0.094724</td>\n",
       "      <td>0.037890</td>\n",
       "      <td>0.028417</td>\n",
       "      <td>0.066307</td>\n",
       "      <td>0.056834</td>\n",
       "      <td>0.037890</td>\n",
       "      <td>0.009472</td>\n",
       "      <td>0.000000</td>\n",
       "      <td>0.056834</td>\n",
       "    </tr>\n",
       "  </tbody>\n",
       "</table>\n",
       "<p>4471 rows × 504 columns</p>\n",
       "</div>"
      ],
      "text/plain": [
       "                            work     author  chunk_num  \\\n",
       "0                          Avis     Baudeau          0   \n",
       "1                Eclaircissemens    Baudeau          0   \n",
       "2                    Explication    Baudeau          0   \n",
       "3     Idees sur l-administration    Baudeau          0   \n",
       "4         Idees sur la puissance    Baudeau          0   \n",
       "...                          ...        ...        ...   \n",
       "4466                 elements T3  Marmontel         96   \n",
       "4467       Histoire Generale T19    Deleyre         97   \n",
       "4468                 elements T3  Marmontel         97   \n",
       "4469       Histoire Generale T19    Deleyre         98   \n",
       "4470       Histoire Generale T19    Deleyre         99   \n",
       "\n",
       "                                        tag      _de_      les_      des_  \\\n",
       "0                          0__Baudeau_Avis   0.637944  0.554734  0.425296   \n",
       "1                0__Baudeau_Eclaircissemens  0.777385  0.609541  0.521201   \n",
       "2                    0__Baudeau_Explication  0.856419  1.127327  0.480643   \n",
       "3     0__Baudeau_Idees sur l-administration  0.962696  0.386797  0.378202   \n",
       "4         0__Baudeau_Idees sur la puissance  0.852470  0.748086  0.382742   \n",
       "...                                     ...       ...       ...       ...   \n",
       "4466              96__Marmontel_elements T3  0.772668  0.297896  0.223422   \n",
       "4467      97__Deleyre_Histoire Generale T19  0.988514  0.913199  0.451892   \n",
       "4468              97__Marmontel_elements T3  0.827950  0.373032  0.191065   \n",
       "4469      98__Deleyre_Histoire Generale T19  0.916573  1.038159  0.617284   \n",
       "4470      99__Deleyre_Histoire Generale T19  1.051435  1.004073  0.530454   \n",
       "\n",
       "          _des      oit_      _et_  ...      se_d      i_le      nt_c  \\\n",
       "0     0.425296  0.110947  0.462278  ...  0.064719  0.027737  0.064719   \n",
       "1     0.521201  0.114841  0.494700  ...  0.017668  0.053004  0.026502   \n",
       "2     0.480643  0.061173  0.664161  ...  0.026217  0.017478  0.043695   \n",
       "3     0.395393  0.189101  0.378202  ...  0.068764  0.000000  0.034382   \n",
       "4     0.356646  0.226166  0.434934  ...  0.008699  0.034795  0.052192   \n",
       "...        ...       ...       ...  ...       ...       ...       ...   \n",
       "4466  0.214113  0.074474  0.623720  ...  0.037237  0.027928  0.037237   \n",
       "4467  0.348334  0.169460  0.141216  ...  0.000000  0.160045  0.065901   \n",
       "4468  0.236557  0.136475  0.564098  ...  0.027295  0.009098  0.045492   \n",
       "4469  0.561167  0.112233  0.140292  ...  0.018706  0.046764  0.056117   \n",
       "4470  0.464147  0.094724  0.056834  ...  0.018945  0.094724  0.037890   \n",
       "\n",
       "          ns_s      _à_c      nt_à      re_a      t_da      et_p      ne_l  \n",
       "0     0.018491  0.018491  0.046228  0.027737  0.027737  0.036982  0.009246  \n",
       "1     0.008834  0.026502  0.000000  0.017668  0.035336  0.035336  0.070671  \n",
       "2     0.026217  0.043695  0.026217  0.008739  0.026217  0.078651  0.000000  \n",
       "3     0.060168  0.042977  0.051573  0.017191  0.060168  0.017191  0.008595  \n",
       "4     0.017397  0.017397  0.043493  0.043493  0.026096  0.034795  0.052192  \n",
       "...        ...       ...       ...       ...       ...       ...       ...  \n",
       "4466  0.027928  0.018619  0.027928  0.055856  0.121020  0.065165  0.065165  \n",
       "4467  0.028243  0.009414  0.000000  0.018829  0.037658  0.000000  0.018829  \n",
       "4468  0.000000  0.009098  0.009098  0.027295  0.063688  0.036393  0.072787  \n",
       "4469  0.037411  0.046764  0.009353  0.037411  0.028058  0.000000  0.056117  \n",
       "4470  0.028417  0.066307  0.056834  0.037890  0.009472  0.000000  0.056834  \n",
       "\n",
       "[4471 rows x 504 columns]"
      ]
     },
     "execution_count": 26,
     "metadata": {},
     "output_type": "execute_result"
    }
   ],
   "source": [
    "# load preprocessed data\n",
    "\n",
    "corpus = pd.read_csv('06_tests/other_tests/sauvage_2k_500mfn_rfreq.csv') # rel freq\n",
    "\n",
    "corpus"
   ]
  },
  {
   "cell_type": "code",
   "execution_count": 27,
   "id": "1cd49760",
   "metadata": {},
   "outputs": [
    {
     "data": {
      "text/html": [
       "<div>\n",
       "<style scoped>\n",
       "    .dataframe tbody tr th:only-of-type {\n",
       "        vertical-align: middle;\n",
       "    }\n",
       "\n",
       "    .dataframe tbody tr th {\n",
       "        vertical-align: top;\n",
       "    }\n",
       "\n",
       "    .dataframe thead th {\n",
       "        text-align: right;\n",
       "    }\n",
       "</style>\n",
       "<table border=\"1\" class=\"dataframe\">\n",
       "  <thead>\n",
       "    <tr style=\"text-align: right;\">\n",
       "      <th></th>\n",
       "      <th>work</th>\n",
       "      <th>author</th>\n",
       "      <th>chunk_num</th>\n",
       "      <th>tag</th>\n",
       "    </tr>\n",
       "  </thead>\n",
       "  <tbody>\n",
       "    <tr>\n",
       "      <th>0</th>\n",
       "      <td>Avis</td>\n",
       "      <td>Baudeau</td>\n",
       "      <td>0</td>\n",
       "      <td>0__Baudeau_Avis</td>\n",
       "    </tr>\n",
       "    <tr>\n",
       "      <th>1</th>\n",
       "      <td>Eclaircissemens</td>\n",
       "      <td>Baudeau</td>\n",
       "      <td>0</td>\n",
       "      <td>0__Baudeau_Eclaircissemens</td>\n",
       "    </tr>\n",
       "    <tr>\n",
       "      <th>2</th>\n",
       "      <td>Explication</td>\n",
       "      <td>Baudeau</td>\n",
       "      <td>0</td>\n",
       "      <td>0__Baudeau_Explication</td>\n",
       "    </tr>\n",
       "    <tr>\n",
       "      <th>3</th>\n",
       "      <td>Idees sur l-administration</td>\n",
       "      <td>Baudeau</td>\n",
       "      <td>0</td>\n",
       "      <td>0__Baudeau_Idees sur l-administration</td>\n",
       "    </tr>\n",
       "    <tr>\n",
       "      <th>4</th>\n",
       "      <td>Idees sur la puissance</td>\n",
       "      <td>Baudeau</td>\n",
       "      <td>0</td>\n",
       "      <td>0__Baudeau_Idees sur la puissance</td>\n",
       "    </tr>\n",
       "    <tr>\n",
       "      <th>...</th>\n",
       "      <td>...</td>\n",
       "      <td>...</td>\n",
       "      <td>...</td>\n",
       "      <td>...</td>\n",
       "    </tr>\n",
       "    <tr>\n",
       "      <th>4466</th>\n",
       "      <td>elements T3</td>\n",
       "      <td>Marmontel</td>\n",
       "      <td>96</td>\n",
       "      <td>96__Marmontel_elements T3</td>\n",
       "    </tr>\n",
       "    <tr>\n",
       "      <th>4467</th>\n",
       "      <td>Histoire Generale T19</td>\n",
       "      <td>Deleyre</td>\n",
       "      <td>97</td>\n",
       "      <td>97__Deleyre_Histoire Generale T19</td>\n",
       "    </tr>\n",
       "    <tr>\n",
       "      <th>4468</th>\n",
       "      <td>elements T3</td>\n",
       "      <td>Marmontel</td>\n",
       "      <td>97</td>\n",
       "      <td>97__Marmontel_elements T3</td>\n",
       "    </tr>\n",
       "    <tr>\n",
       "      <th>4469</th>\n",
       "      <td>Histoire Generale T19</td>\n",
       "      <td>Deleyre</td>\n",
       "      <td>98</td>\n",
       "      <td>98__Deleyre_Histoire Generale T19</td>\n",
       "    </tr>\n",
       "    <tr>\n",
       "      <th>4470</th>\n",
       "      <td>Histoire Generale T19</td>\n",
       "      <td>Deleyre</td>\n",
       "      <td>99</td>\n",
       "      <td>99__Deleyre_Histoire Generale T19</td>\n",
       "    </tr>\n",
       "  </tbody>\n",
       "</table>\n",
       "<p>4471 rows × 4 columns</p>\n",
       "</div>"
      ],
      "text/plain": [
       "                            work     author  chunk_num  \\\n",
       "0                          Avis     Baudeau          0   \n",
       "1                Eclaircissemens    Baudeau          0   \n",
       "2                    Explication    Baudeau          0   \n",
       "3     Idees sur l-administration    Baudeau          0   \n",
       "4         Idees sur la puissance    Baudeau          0   \n",
       "...                          ...        ...        ...   \n",
       "4466                 elements T3  Marmontel         96   \n",
       "4467       Histoire Generale T19    Deleyre         97   \n",
       "4468                 elements T3  Marmontel         97   \n",
       "4469       Histoire Generale T19    Deleyre         98   \n",
       "4470       Histoire Generale T19    Deleyre         99   \n",
       "\n",
       "                                        tag  \n",
       "0                          0__Baudeau_Avis   \n",
       "1                0__Baudeau_Eclaircissemens  \n",
       "2                    0__Baudeau_Explication  \n",
       "3     0__Baudeau_Idees sur l-administration  \n",
       "4         0__Baudeau_Idees sur la puissance  \n",
       "...                                     ...  \n",
       "4466              96__Marmontel_elements T3  \n",
       "4467      97__Deleyre_Histoire Generale T19  \n",
       "4468              97__Marmontel_elements T3  \n",
       "4469      98__Deleyre_Histoire Generale T19  \n",
       "4470      99__Deleyre_Histoire Generale T19  \n",
       "\n",
       "[4471 rows x 4 columns]"
      ]
     },
     "execution_count": 27,
     "metadata": {},
     "output_type": "execute_result"
    }
   ],
   "source": [
    "raw_df = corpus.iloc[:, :4] # leaves metadata\n",
    "X = corpus.iloc[:, 4:] # leaves only word columns\n",
    "\n",
    "raw_df"
   ]
  },
  {
   "cell_type": "code",
   "execution_count": 28,
   "id": "b4bffd8d",
   "metadata": {},
   "outputs": [
    {
     "data": {
      "text/plain": [
       "(4471, 500)"
      ]
     },
     "execution_count": 28,
     "metadata": {},
     "output_type": "execute_result"
    }
   ],
   "source": [
    "# numer of rows and columns in the X (word frequencies subset)\n",
    "X.shape"
   ]
  },
  {
   "cell_type": "code",
   "execution_count": 29,
   "id": "55950d4a",
   "metadata": {},
   "outputs": [
    {
     "data": {
      "text/html": [
       "<div>\n",
       "<style scoped>\n",
       "    .dataframe tbody tr th:only-of-type {\n",
       "        vertical-align: middle;\n",
       "    }\n",
       "\n",
       "    .dataframe tbody tr th {\n",
       "        vertical-align: top;\n",
       "    }\n",
       "\n",
       "    .dataframe thead th {\n",
       "        text-align: right;\n",
       "    }\n",
       "</style>\n",
       "<table border=\"1\" class=\"dataframe\">\n",
       "  <thead>\n",
       "    <tr style=\"text-align: right;\">\n",
       "      <th></th>\n",
       "      <th>work</th>\n",
       "      <th>author_label</th>\n",
       "      <th>author</th>\n",
       "      <th>chunk_num</th>\n",
       "      <th>tag</th>\n",
       "    </tr>\n",
       "  </thead>\n",
       "  <tbody>\n",
       "    <tr>\n",
       "      <th>0</th>\n",
       "      <td>Avis</td>\n",
       "      <td>0</td>\n",
       "      <td>Baudeau</td>\n",
       "      <td>0</td>\n",
       "      <td>0__Baudeau_Avis</td>\n",
       "    </tr>\n",
       "    <tr>\n",
       "      <th>1</th>\n",
       "      <td>Eclaircissemens</td>\n",
       "      <td>0</td>\n",
       "      <td>Baudeau</td>\n",
       "      <td>0</td>\n",
       "      <td>0__Baudeau_Eclaircissemens</td>\n",
       "    </tr>\n",
       "    <tr>\n",
       "      <th>2</th>\n",
       "      <td>Explication</td>\n",
       "      <td>0</td>\n",
       "      <td>Baudeau</td>\n",
       "      <td>0</td>\n",
       "      <td>0__Baudeau_Explication</td>\n",
       "    </tr>\n",
       "    <tr>\n",
       "      <th>3</th>\n",
       "      <td>Idees sur l-administration</td>\n",
       "      <td>0</td>\n",
       "      <td>Baudeau</td>\n",
       "      <td>0</td>\n",
       "      <td>0__Baudeau_Idees sur l-administration</td>\n",
       "    </tr>\n",
       "    <tr>\n",
       "      <th>4</th>\n",
       "      <td>Idees sur la puissance</td>\n",
       "      <td>0</td>\n",
       "      <td>Baudeau</td>\n",
       "      <td>0</td>\n",
       "      <td>0__Baudeau_Idees sur la puissance</td>\n",
       "    </tr>\n",
       "    <tr>\n",
       "      <th>...</th>\n",
       "      <td>...</td>\n",
       "      <td>...</td>\n",
       "      <td>...</td>\n",
       "      <td>...</td>\n",
       "      <td>...</td>\n",
       "    </tr>\n",
       "    <tr>\n",
       "      <th>4466</th>\n",
       "      <td>elements T3</td>\n",
       "      <td>11</td>\n",
       "      <td>Marmontel</td>\n",
       "      <td>96</td>\n",
       "      <td>96__Marmontel_elements T3</td>\n",
       "    </tr>\n",
       "    <tr>\n",
       "      <th>4467</th>\n",
       "      <td>Histoire Generale T19</td>\n",
       "      <td>3</td>\n",
       "      <td>Deleyre</td>\n",
       "      <td>97</td>\n",
       "      <td>97__Deleyre_Histoire Generale T19</td>\n",
       "    </tr>\n",
       "    <tr>\n",
       "      <th>4468</th>\n",
       "      <td>elements T3</td>\n",
       "      <td>11</td>\n",
       "      <td>Marmontel</td>\n",
       "      <td>97</td>\n",
       "      <td>97__Marmontel_elements T3</td>\n",
       "    </tr>\n",
       "    <tr>\n",
       "      <th>4469</th>\n",
       "      <td>Histoire Generale T19</td>\n",
       "      <td>3</td>\n",
       "      <td>Deleyre</td>\n",
       "      <td>98</td>\n",
       "      <td>98__Deleyre_Histoire Generale T19</td>\n",
       "    </tr>\n",
       "    <tr>\n",
       "      <th>4470</th>\n",
       "      <td>Histoire Generale T19</td>\n",
       "      <td>3</td>\n",
       "      <td>Deleyre</td>\n",
       "      <td>99</td>\n",
       "      <td>99__Deleyre_Histoire Generale T19</td>\n",
       "    </tr>\n",
       "  </tbody>\n",
       "</table>\n",
       "<p>4471 rows × 5 columns</p>\n",
       "</div>"
      ],
      "text/plain": [
       "                            work  author_label     author  chunk_num  \\\n",
       "0                          Avis              0    Baudeau          0   \n",
       "1                Eclaircissemens             0    Baudeau          0   \n",
       "2                    Explication             0    Baudeau          0   \n",
       "3     Idees sur l-administration             0    Baudeau          0   \n",
       "4         Idees sur la puissance             0    Baudeau          0   \n",
       "...                          ...           ...        ...        ...   \n",
       "4466                 elements T3            11  Marmontel         96   \n",
       "4467       Histoire Generale T19             3    Deleyre         97   \n",
       "4468                 elements T3            11  Marmontel         97   \n",
       "4469       Histoire Generale T19             3    Deleyre         98   \n",
       "4470       Histoire Generale T19             3    Deleyre         99   \n",
       "\n",
       "                                        tag  \n",
       "0                          0__Baudeau_Avis   \n",
       "1                0__Baudeau_Eclaircissemens  \n",
       "2                    0__Baudeau_Explication  \n",
       "3     0__Baudeau_Idees sur l-administration  \n",
       "4         0__Baudeau_Idees sur la puissance  \n",
       "...                                     ...  \n",
       "4466              96__Marmontel_elements T3  \n",
       "4467      97__Deleyre_Histoire Generale T19  \n",
       "4468              97__Marmontel_elements T3  \n",
       "4469      98__Deleyre_Histoire Generale T19  \n",
       "4470      99__Deleyre_Histoire Generale T19  \n",
       "\n",
       "[4471 rows x 5 columns]"
      ]
     },
     "execution_count": 29,
     "metadata": {},
     "output_type": "execute_result"
    }
   ],
   "source": [
    "# create numeric author labels\n",
    "labels, label_uniques = raw_df.author.factorize()\n",
    "raw_df.insert(1, \"author_label\", labels)\n",
    "raw_df"
   ]
  },
  {
   "cell_type": "code",
   "execution_count": 30,
   "id": "ea78235e",
   "metadata": {},
   "outputs": [
    {
     "data": {
      "text/html": [
       "<div>\n",
       "<style scoped>\n",
       "    .dataframe tbody tr th:only-of-type {\n",
       "        vertical-align: middle;\n",
       "    }\n",
       "\n",
       "    .dataframe tbody tr th {\n",
       "        vertical-align: top;\n",
       "    }\n",
       "\n",
       "    .dataframe thead th {\n",
       "        text-align: right;\n",
       "    }\n",
       "</style>\n",
       "<table border=\"1\" class=\"dataframe\">\n",
       "  <thead>\n",
       "    <tr style=\"text-align: right;\">\n",
       "      <th></th>\n",
       "      <th>work</th>\n",
       "      <th>author_label</th>\n",
       "      <th>author</th>\n",
       "      <th>chunk_num</th>\n",
       "      <th>tag</th>\n",
       "    </tr>\n",
       "  </thead>\n",
       "  <tbody>\n",
       "    <tr>\n",
       "      <th>0</th>\n",
       "      <td>fr-sauvage</td>\n",
       "      <td>7</td>\n",
       "      <td>HDI</td>\n",
       "      <td>0</td>\n",
       "      <td>0__HDI_fr-sauvage</td>\n",
       "    </tr>\n",
       "    <tr>\n",
       "      <th>1</th>\n",
       "      <td>fr-sauvage</td>\n",
       "      <td>7</td>\n",
       "      <td>HDI</td>\n",
       "      <td>1</td>\n",
       "      <td>1__HDI_fr-sauvage</td>\n",
       "    </tr>\n",
       "    <tr>\n",
       "      <th>2</th>\n",
       "      <td>fr-sauvage</td>\n",
       "      <td>7</td>\n",
       "      <td>HDI</td>\n",
       "      <td>2</td>\n",
       "      <td>2__HDI_fr-sauvage</td>\n",
       "    </tr>\n",
       "    <tr>\n",
       "      <th>3</th>\n",
       "      <td>fr-sauvage</td>\n",
       "      <td>7</td>\n",
       "      <td>HDI</td>\n",
       "      <td>3</td>\n",
       "      <td>3__HDI_fr-sauvage</td>\n",
       "    </tr>\n",
       "  </tbody>\n",
       "</table>\n",
       "</div>"
      ],
      "text/plain": [
       "         work  author_label author  chunk_num                tag\n",
       "0  fr-sauvage             7    HDI          0  0__HDI_fr-sauvage\n",
       "1  fr-sauvage             7    HDI          1  1__HDI_fr-sauvage\n",
       "2  fr-sauvage             7    HDI          2  2__HDI_fr-sauvage\n",
       "3  fr-sauvage             7    HDI          3  3__HDI_fr-sauvage"
      ]
     },
     "execution_count": 30,
     "metadata": {},
     "output_type": "execute_result"
    }
   ],
   "source": [
    "# select an \"unknown\" work from the following:\n",
    "# pencil-pensees-detachees\n",
    "# ink-melanges\n",
    "# fr-sauvage\n",
    "\n",
    "problems = raw_df[raw_df.work == \"fr-sauvage\"].reset_index(drop=True).copy()\n",
    "problems_X = X[raw_df.work == \"fr-sauvage\"].reset_index(drop=True).copy()\n",
    "problems"
   ]
  },
  {
   "cell_type": "code",
   "execution_count": 31,
   "id": "87343724",
   "metadata": {},
   "outputs": [
    {
     "data": {
      "text/html": [
       "<div>\n",
       "<style scoped>\n",
       "    .dataframe tbody tr th:only-of-type {\n",
       "        vertical-align: middle;\n",
       "    }\n",
       "\n",
       "    .dataframe tbody tr th {\n",
       "        vertical-align: top;\n",
       "    }\n",
       "\n",
       "    .dataframe thead th {\n",
       "        text-align: right;\n",
       "    }\n",
       "</style>\n",
       "<table border=\"1\" class=\"dataframe\">\n",
       "  <thead>\n",
       "    <tr style=\"text-align: right;\">\n",
       "      <th></th>\n",
       "      <th>work</th>\n",
       "      <th>author_label</th>\n",
       "      <th>author</th>\n",
       "      <th>chunk_num</th>\n",
       "      <th>tag</th>\n",
       "    </tr>\n",
       "  </thead>\n",
       "  <tbody>\n",
       "    <tr>\n",
       "      <th>0</th>\n",
       "      <td>Avis</td>\n",
       "      <td>0</td>\n",
       "      <td>Baudeau</td>\n",
       "      <td>0</td>\n",
       "      <td>0__Baudeau_Avis</td>\n",
       "    </tr>\n",
       "    <tr>\n",
       "      <th>1</th>\n",
       "      <td>Eclaircissemens</td>\n",
       "      <td>0</td>\n",
       "      <td>Baudeau</td>\n",
       "      <td>0</td>\n",
       "      <td>0__Baudeau_Eclaircissemens</td>\n",
       "    </tr>\n",
       "    <tr>\n",
       "      <th>2</th>\n",
       "      <td>Explication</td>\n",
       "      <td>0</td>\n",
       "      <td>Baudeau</td>\n",
       "      <td>0</td>\n",
       "      <td>0__Baudeau_Explication</td>\n",
       "    </tr>\n",
       "    <tr>\n",
       "      <th>3</th>\n",
       "      <td>Idees sur l-administration</td>\n",
       "      <td>0</td>\n",
       "      <td>Baudeau</td>\n",
       "      <td>0</td>\n",
       "      <td>0__Baudeau_Idees sur l-administration</td>\n",
       "    </tr>\n",
       "    <tr>\n",
       "      <th>4</th>\n",
       "      <td>Idees sur la puissance</td>\n",
       "      <td>0</td>\n",
       "      <td>Baudeau</td>\n",
       "      <td>0</td>\n",
       "      <td>0__Baudeau_Idees sur la puissance</td>\n",
       "    </tr>\n",
       "    <tr>\n",
       "      <th>...</th>\n",
       "      <td>...</td>\n",
       "      <td>...</td>\n",
       "      <td>...</td>\n",
       "      <td>...</td>\n",
       "      <td>...</td>\n",
       "    </tr>\n",
       "    <tr>\n",
       "      <th>4462</th>\n",
       "      <td>elements T3</td>\n",
       "      <td>11</td>\n",
       "      <td>Marmontel</td>\n",
       "      <td>96</td>\n",
       "      <td>96__Marmontel_elements T3</td>\n",
       "    </tr>\n",
       "    <tr>\n",
       "      <th>4463</th>\n",
       "      <td>Histoire Generale T19</td>\n",
       "      <td>3</td>\n",
       "      <td>Deleyre</td>\n",
       "      <td>97</td>\n",
       "      <td>97__Deleyre_Histoire Generale T19</td>\n",
       "    </tr>\n",
       "    <tr>\n",
       "      <th>4464</th>\n",
       "      <td>elements T3</td>\n",
       "      <td>11</td>\n",
       "      <td>Marmontel</td>\n",
       "      <td>97</td>\n",
       "      <td>97__Marmontel_elements T3</td>\n",
       "    </tr>\n",
       "    <tr>\n",
       "      <th>4465</th>\n",
       "      <td>Histoire Generale T19</td>\n",
       "      <td>3</td>\n",
       "      <td>Deleyre</td>\n",
       "      <td>98</td>\n",
       "      <td>98__Deleyre_Histoire Generale T19</td>\n",
       "    </tr>\n",
       "    <tr>\n",
       "      <th>4466</th>\n",
       "      <td>Histoire Generale T19</td>\n",
       "      <td>3</td>\n",
       "      <td>Deleyre</td>\n",
       "      <td>99</td>\n",
       "      <td>99__Deleyre_Histoire Generale T19</td>\n",
       "    </tr>\n",
       "  </tbody>\n",
       "</table>\n",
       "<p>4467 rows × 5 columns</p>\n",
       "</div>"
      ],
      "text/plain": [
       "                            work  author_label     author  chunk_num  \\\n",
       "0                          Avis              0    Baudeau          0   \n",
       "1                Eclaircissemens             0    Baudeau          0   \n",
       "2                    Explication             0    Baudeau          0   \n",
       "3     Idees sur l-administration             0    Baudeau          0   \n",
       "4         Idees sur la puissance             0    Baudeau          0   \n",
       "...                          ...           ...        ...        ...   \n",
       "4462                 elements T3            11  Marmontel         96   \n",
       "4463       Histoire Generale T19             3    Deleyre         97   \n",
       "4464                 elements T3            11  Marmontel         97   \n",
       "4465       Histoire Generale T19             3    Deleyre         98   \n",
       "4466       Histoire Generale T19             3    Deleyre         99   \n",
       "\n",
       "                                        tag  \n",
       "0                          0__Baudeau_Avis   \n",
       "1                0__Baudeau_Eclaircissemens  \n",
       "2                    0__Baudeau_Explication  \n",
       "3     0__Baudeau_Idees sur l-administration  \n",
       "4         0__Baudeau_Idees sur la puissance  \n",
       "...                                     ...  \n",
       "4462              96__Marmontel_elements T3  \n",
       "4463      97__Deleyre_Histoire Generale T19  \n",
       "4464              97__Marmontel_elements T3  \n",
       "4465      98__Deleyre_Histoire Generale T19  \n",
       "4466      99__Deleyre_Histoire Generale T19  \n",
       "\n",
       "[4467 rows x 5 columns]"
      ]
     },
     "execution_count": 31,
     "metadata": {},
     "output_type": "execute_result"
    }
   ],
   "source": [
    "# extract the rest of the corpus\n",
    "\n",
    "rest = raw_df[raw_df.work != \"fr-sauvage\"].reset_index(drop=True).copy()\n",
    "rest_X = X[raw_df.work != \"fr-sauvage\"].reset_index(drop = True).copy()\n",
    "rest"
   ]
  },
  {
   "cell_type": "code",
   "execution_count": 32,
   "id": "9f69f072",
   "metadata": {},
   "outputs": [],
   "source": [
    "# Scaling\n",
    "\n",
    "sts = StandardScaler(with_mean=False).fit(rest_X)\n",
    "rest_scaled_X = sts.transform(rest_X)\n",
    "problems_scaled_X = sts.transform(problems_X)"
   ]
  },
  {
   "cell_type": "code",
   "execution_count": 33,
   "id": "03d7c516",
   "metadata": {},
   "outputs": [
    {
     "data": {
      "text/plain": [
       "array(['Baudeau', 'Chastellux', 'Condorcet', 'Deleyre', 'dHolbach',\n",
       "       'Diderot', 'Guibert', 'HDI', 'Jaucourt', 'Jussieu', 'La Grange',\n",
       "       'Marmontel', 'Meister', 'Morellet', 'Naigeon', 'Pechmeja',\n",
       "       'Raynal', 'Rivière', 'Saint-Lambert'], dtype=object)"
      ]
     },
     "execution_count": 33,
     "metadata": {},
     "output_type": "execute_result"
    }
   ],
   "source": [
    "# Verification\n",
    "label_uniques.values"
   ]
  },
  {
   "cell_type": "code",
   "execution_count": 34,
   "id": "a73d8690",
   "metadata": {},
   "outputs": [],
   "source": [
    "# set verifier\n",
    "rng = np.random.default_rng(42)\n",
    "\n",
    "bdi_mm = BDIVerifier(\n",
    "    metric='minmax', nb_bootstrap_iter=1000, rnd_prop=0.35, random_state=rng\n",
    ")"
   ]
  },
  {
   "cell_type": "code",
   "execution_count": 35,
   "id": "e79f01f2",
   "metadata": {},
   "outputs": [
    {
     "name": "stderr",
     "output_type": "stream",
     "text": [
      "04/03/2025 09:12:34 [ruzicka:INFO] Fitting on 4467 documents...\n"
     ]
    }
   ],
   "source": [
    "# fit \n",
    "bdi_mm.fit(rest_scaled_X, rest.author_label)"
   ]
  },
  {
   "cell_type": "code",
   "execution_count": 36,
   "id": "dbc2deb9",
   "metadata": {},
   "outputs": [
    {
     "name": "stderr",
     "output_type": "stream",
     "text": [
      "04/03/2025 09:12:39 [ruzicka:INFO] Predicting on 4 documents\n"
     ]
    },
    {
     "name": "stdout",
     "output_type": "stream",
     "text": [
      "Testing against Baudeau\n"
     ]
    },
    {
     "name": "stderr",
     "output_type": "stream",
     "text": [
      "04/03/2025 09:12:40 [ruzicka:INFO] Predicting on 4 documents\n"
     ]
    },
    {
     "name": "stdout",
     "output_type": "stream",
     "text": [
      "Bootstrap Match Strength (one per chunk, 0-1.0): [0.719 0.914 0.902 0.752]\n",
      "Testing against Chastellux\n"
     ]
    },
    {
     "name": "stderr",
     "output_type": "stream",
     "text": [
      "04/03/2025 09:12:41 [ruzicka:INFO] Predicting on 4 documents\n"
     ]
    },
    {
     "name": "stdout",
     "output_type": "stream",
     "text": [
      "Bootstrap Match Strength (one per chunk, 0-1.0): [0.895 0.953 0.809 0.865]\n",
      "Testing against Condorcet\n"
     ]
    },
    {
     "name": "stderr",
     "output_type": "stream",
     "text": [
      "04/03/2025 09:12:46 [ruzicka:INFO] Predicting on 4 documents\n"
     ]
    },
    {
     "name": "stdout",
     "output_type": "stream",
     "text": [
      "Bootstrap Match Strength (one per chunk, 0-1.0): [0.997 0.923 0.99  1.   ]\n",
      "Testing against Deleyre\n"
     ]
    },
    {
     "name": "stderr",
     "output_type": "stream",
     "text": [
      "04/03/2025 09:12:48 [ruzicka:INFO] Predicting on 4 documents\n"
     ]
    },
    {
     "name": "stdout",
     "output_type": "stream",
     "text": [
      "Bootstrap Match Strength (one per chunk, 0-1.0): [0.877 0.767 0.915 0.808]\n",
      "Testing against dHolbach\n"
     ]
    },
    {
     "name": "stderr",
     "output_type": "stream",
     "text": [
      "04/03/2025 09:12:52 [ruzicka:INFO] Predicting on 4 documents\n"
     ]
    },
    {
     "name": "stdout",
     "output_type": "stream",
     "text": [
      "Bootstrap Match Strength (one per chunk, 0-1.0): [0.947 0.913 0.824 0.782]\n",
      "Testing against Diderot\n"
     ]
    },
    {
     "name": "stderr",
     "output_type": "stream",
     "text": [
      "04/03/2025 09:12:56 [ruzicka:INFO] Predicting on 4 documents\n"
     ]
    },
    {
     "name": "stdout",
     "output_type": "stream",
     "text": [
      "Bootstrap Match Strength (one per chunk, 0-1.0): [0.724 0.668 0.978 0.962]\n",
      "Testing against Guibert\n"
     ]
    },
    {
     "name": "stderr",
     "output_type": "stream",
     "text": [
      "04/03/2025 09:12:57 [ruzicka:INFO] Predicting on 4 documents\n"
     ]
    },
    {
     "name": "stdout",
     "output_type": "stream",
     "text": [
      "Bootstrap Match Strength (one per chunk, 0-1.0): [0.645 0.75  0.834 0.883]\n",
      "Testing against HDI\n"
     ]
    },
    {
     "name": "stderr",
     "output_type": "stream",
     "text": [
      "04/03/2025 09:12:58 [ruzicka:INFO] Predicting on 4 documents\n"
     ]
    },
    {
     "name": "stdout",
     "output_type": "stream",
     "text": [
      "Bootstrap Match Strength (one per chunk, 0-1.0): [1. 1. 1. 1.]\n",
      "Testing against Jaucourt\n"
     ]
    },
    {
     "name": "stderr",
     "output_type": "stream",
     "text": [
      "04/03/2025 09:12:59 [ruzicka:INFO] Predicting on 4 documents\n"
     ]
    },
    {
     "name": "stdout",
     "output_type": "stream",
     "text": [
      "Bootstrap Match Strength (one per chunk, 0-1.0): [0.466 0.472 0.802 0.833]\n",
      "Testing against Jussieu\n"
     ]
    },
    {
     "name": "stderr",
     "output_type": "stream",
     "text": [
      "04/03/2025 09:13:00 [ruzicka:INFO] Predicting on 4 documents\n"
     ]
    },
    {
     "name": "stdout",
     "output_type": "stream",
     "text": [
      "Bootstrap Match Strength (one per chunk, 0-1.0): [0.293 0.191 0.214 0.259]\n",
      "Testing against La Grange\n"
     ]
    },
    {
     "name": "stderr",
     "output_type": "stream",
     "text": [
      "04/03/2025 09:13:01 [ruzicka:INFO] Predicting on 4 documents\n"
     ]
    },
    {
     "name": "stdout",
     "output_type": "stream",
     "text": [
      "Bootstrap Match Strength (one per chunk, 0-1.0): [0.005 0.003 0.005 0.034]\n",
      "Testing against Marmontel\n"
     ]
    },
    {
     "name": "stderr",
     "output_type": "stream",
     "text": [
      "04/03/2025 09:13:04 [ruzicka:INFO] Predicting on 4 documents\n"
     ]
    },
    {
     "name": "stdout",
     "output_type": "stream",
     "text": [
      "Bootstrap Match Strength (one per chunk, 0-1.0): [0.131 0.29  0.348 0.427]\n",
      "Testing against Meister\n"
     ]
    },
    {
     "name": "stderr",
     "output_type": "stream",
     "text": [
      "04/03/2025 09:13:05 [ruzicka:INFO] Predicting on 4 documents\n"
     ]
    },
    {
     "name": "stdout",
     "output_type": "stream",
     "text": [
      "Bootstrap Match Strength (one per chunk, 0-1.0): [0.018 0.007 0.071 0.173]\n",
      "Testing against Morellet\n"
     ]
    },
    {
     "name": "stderr",
     "output_type": "stream",
     "text": [
      "04/03/2025 09:13:06 [ruzicka:INFO] Predicting on 4 documents\n"
     ]
    },
    {
     "name": "stdout",
     "output_type": "stream",
     "text": [
      "Bootstrap Match Strength (one per chunk, 0-1.0): [0.783 0.779 0.916 0.955]\n",
      "Testing against Naigeon\n"
     ]
    },
    {
     "name": "stderr",
     "output_type": "stream",
     "text": [
      "04/03/2025 09:13:07 [ruzicka:INFO] Predicting on 4 documents\n"
     ]
    },
    {
     "name": "stdout",
     "output_type": "stream",
     "text": [
      "Bootstrap Match Strength (one per chunk, 0-1.0): [0.233 0.488 0.522 0.549]\n",
      "Testing against Pechmeja\n"
     ]
    },
    {
     "name": "stderr",
     "output_type": "stream",
     "text": [
      "04/03/2025 09:13:07 [ruzicka:INFO] Predicting on 4 documents\n"
     ]
    },
    {
     "name": "stdout",
     "output_type": "stream",
     "text": [
      "Bootstrap Match Strength (one per chunk, 0-1.0): [0.59  0.328 0.075 0.472]\n",
      "Testing against Raynal\n"
     ]
    },
    {
     "name": "stderr",
     "output_type": "stream",
     "text": [
      "04/03/2025 09:13:09 [ruzicka:INFO] Predicting on 4 documents\n"
     ]
    },
    {
     "name": "stdout",
     "output_type": "stream",
     "text": [
      "Bootstrap Match Strength (one per chunk, 0-1.0): [0.742 0.941 0.928 0.63 ]\n",
      "Testing against Rivière\n"
     ]
    },
    {
     "name": "stderr",
     "output_type": "stream",
     "text": [
      "04/03/2025 09:13:10 [ruzicka:INFO] Predicting on 4 documents\n"
     ]
    },
    {
     "name": "stdout",
     "output_type": "stream",
     "text": [
      "Bootstrap Match Strength (one per chunk, 0-1.0): [0.398 0.39  0.513 0.566]\n",
      "Testing against Saint-Lambert\n",
      "Bootstrap Match Strength (one per chunk, 0-1.0): [0.681 0.766 0.763 0.483]\n"
     ]
    }
   ],
   "source": [
    "for label in label_uniques.values:\n",
    "    print(f\"Testing against {label}\")\n",
    "    code = label_uniques.get_loc(label)\n",
    "    print(\n",
    "        f\"Bootstrap Match Strength (one per chunk, 0-1.0): {bdi_mm.predict_proba(problems_scaled_X, [code] * problems_scaled_X.shape[0])}\"\n",
    "    )"
   ]
  },
  {
   "cell_type": "code",
   "execution_count": 37,
   "id": "be8d984f",
   "metadata": {},
   "outputs": [
    {
     "name": "stderr",
     "output_type": "stream",
     "text": [
      "04/03/2025 09:13:25 [ruzicka:INFO] Predicting on 4 documents\n"
     ]
    },
    {
     "name": "stdout",
     "output_type": "stream",
     "text": [
      "Baudeau\n"
     ]
    },
    {
     "name": "stderr",
     "output_type": "stream",
     "text": [
      "04/03/2025 09:13:26 [ruzicka:INFO] Predicting on 4 documents\n"
     ]
    },
    {
     "name": "stdout",
     "output_type": "stream",
     "text": [
      "Chastellux\n"
     ]
    },
    {
     "name": "stderr",
     "output_type": "stream",
     "text": [
      "04/03/2025 09:13:28 [ruzicka:INFO] Predicting on 4 documents\n"
     ]
    },
    {
     "name": "stdout",
     "output_type": "stream",
     "text": [
      "Condorcet\n"
     ]
    },
    {
     "name": "stderr",
     "output_type": "stream",
     "text": [
      "04/03/2025 09:13:33 [ruzicka:INFO] Predicting on 4 documents\n"
     ]
    },
    {
     "name": "stdout",
     "output_type": "stream",
     "text": [
      "Deleyre\n"
     ]
    },
    {
     "name": "stderr",
     "output_type": "stream",
     "text": [
      "04/03/2025 09:13:35 [ruzicka:INFO] Predicting on 4 documents\n"
     ]
    },
    {
     "name": "stdout",
     "output_type": "stream",
     "text": [
      "dHolbach\n"
     ]
    },
    {
     "name": "stderr",
     "output_type": "stream",
     "text": [
      "04/03/2025 09:13:39 [ruzicka:INFO] Predicting on 4 documents\n"
     ]
    },
    {
     "name": "stdout",
     "output_type": "stream",
     "text": [
      "Diderot\n"
     ]
    },
    {
     "name": "stderr",
     "output_type": "stream",
     "text": [
      "04/03/2025 09:13:42 [ruzicka:INFO] Predicting on 4 documents\n"
     ]
    },
    {
     "name": "stdout",
     "output_type": "stream",
     "text": [
      "Guibert\n"
     ]
    },
    {
     "name": "stderr",
     "output_type": "stream",
     "text": [
      "04/03/2025 09:13:44 [ruzicka:INFO] Predicting on 4 documents\n"
     ]
    },
    {
     "name": "stdout",
     "output_type": "stream",
     "text": [
      "HDI\n"
     ]
    },
    {
     "name": "stderr",
     "output_type": "stream",
     "text": [
      "04/03/2025 09:13:44 [ruzicka:INFO] Predicting on 4 documents\n"
     ]
    },
    {
     "name": "stdout",
     "output_type": "stream",
     "text": [
      "Jaucourt\n"
     ]
    },
    {
     "name": "stderr",
     "output_type": "stream",
     "text": [
      "04/03/2025 09:13:46 [ruzicka:INFO] Predicting on 4 documents\n"
     ]
    },
    {
     "name": "stdout",
     "output_type": "stream",
     "text": [
      "Jussieu\n"
     ]
    },
    {
     "name": "stderr",
     "output_type": "stream",
     "text": [
      "04/03/2025 09:13:47 [ruzicka:INFO] Predicting on 4 documents\n"
     ]
    },
    {
     "name": "stdout",
     "output_type": "stream",
     "text": [
      "La Grange\n"
     ]
    },
    {
     "name": "stderr",
     "output_type": "stream",
     "text": [
      "04/03/2025 09:13:48 [ruzicka:INFO] Predicting on 4 documents\n"
     ]
    },
    {
     "name": "stdout",
     "output_type": "stream",
     "text": [
      "Marmontel\n"
     ]
    },
    {
     "name": "stderr",
     "output_type": "stream",
     "text": [
      "04/03/2025 09:13:51 [ruzicka:INFO] Predicting on 4 documents\n"
     ]
    },
    {
     "name": "stdout",
     "output_type": "stream",
     "text": [
      "Meister\n"
     ]
    },
    {
     "name": "stderr",
     "output_type": "stream",
     "text": [
      "04/03/2025 09:13:51 [ruzicka:INFO] Predicting on 4 documents\n"
     ]
    },
    {
     "name": "stdout",
     "output_type": "stream",
     "text": [
      "Morellet\n"
     ]
    },
    {
     "name": "stderr",
     "output_type": "stream",
     "text": [
      "04/03/2025 09:13:52 [ruzicka:INFO] Predicting on 4 documents\n"
     ]
    },
    {
     "name": "stdout",
     "output_type": "stream",
     "text": [
      "Naigeon\n"
     ]
    },
    {
     "name": "stderr",
     "output_type": "stream",
     "text": [
      "04/03/2025 09:13:53 [ruzicka:INFO] Predicting on 4 documents\n"
     ]
    },
    {
     "name": "stdout",
     "output_type": "stream",
     "text": [
      "Pechmeja\n"
     ]
    },
    {
     "name": "stderr",
     "output_type": "stream",
     "text": [
      "04/03/2025 09:13:54 [ruzicka:INFO] Predicting on 4 documents\n"
     ]
    },
    {
     "name": "stdout",
     "output_type": "stream",
     "text": [
      "Raynal\n"
     ]
    },
    {
     "name": "stderr",
     "output_type": "stream",
     "text": [
      "04/03/2025 09:13:56 [ruzicka:INFO] Predicting on 4 documents\n"
     ]
    },
    {
     "name": "stdout",
     "output_type": "stream",
     "text": [
      "Rivière\n"
     ]
    },
    {
     "name": "stderr",
     "output_type": "stream",
     "text": [
      "04/03/2025 09:13:57 [ruzicka:INFO] Predicting on 4 documents\n"
     ]
    },
    {
     "name": "stdout",
     "output_type": "stream",
     "text": [
      "Saint-Lambert\n"
     ]
    }
   ],
   "source": [
    "authors = label_uniques.values\n",
    "\n",
    "fh = ''\n",
    "\n",
    "for a in authors:\n",
    "\n",
    "    print(a)\n",
    "    \n",
    "    bdi_mm.predict_proba(\n",
    "        problems_scaled_X, [label_uniques.get_loc(a)] * problems_scaled_X.shape[0]\n",
    "    )\n",
    "\n",
    "    \n",
    "    x = pd.DataFrame(dict(zip(problems.tag, bdi_mm._dist_arrays)))\n",
    "    \n",
    "    fh = '06_tests/other_tests/mfn500/sauvage_vs_' + a + '.csv'\n",
    "\n",
    "    x.to_csv(fh)"
   ]
  },
  {
   "cell_type": "code",
   "execution_count": null,
   "id": "fd385aa2",
   "metadata": {},
   "outputs": [],
   "source": []
  }
 ],
 "metadata": {
  "kernelspec": {
   "display_name": "Python 3 (ipykernel)",
   "language": "python",
   "name": "python3"
  },
  "language_info": {
   "codemirror_mode": {
    "name": "ipython",
    "version": 3
   },
   "file_extension": ".py",
   "mimetype": "text/x-python",
   "name": "python",
   "nbconvert_exporter": "python",
   "pygments_lexer": "ipython3",
   "version": "3.9.16"
  }
 },
 "nbformat": 4,
 "nbformat_minor": 5
}
